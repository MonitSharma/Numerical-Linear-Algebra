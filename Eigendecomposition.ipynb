{
  "nbformat": 4,
  "nbformat_minor": 0,
  "metadata": {
    "colab": {
      "provenance": [],
      "authorship_tag": "ABX9TyMSnzus8wAH9613iqZyVf2O",
      "include_colab_link": true
    },
    "kernelspec": {
      "name": "python3",
      "display_name": "Python 3"
    },
    "language_info": {
      "name": "python"
    }
  },
  "cells": [
    {
      "cell_type": "markdown",
      "metadata": {
        "id": "view-in-github",
        "colab_type": "text"
      },
      "source": [
        "<a href=\"https://colab.research.google.com/github/MonitSharma/Numerical-Linear-Algebra/blob/main/Eigendecomposition.ipynb\" target=\"_parent\"><img src=\"https://colab.research.google.com/assets/colab-badge.svg\" alt=\"Open In Colab\"/></a>"
      ]
    },
    {
      "cell_type": "code",
      "execution_count": 1,
      "metadata": {
        "id": "7gn5g3Zk3V-r"
      },
      "outputs": [],
      "source": [
        "import numpy as np\n",
        "import matplotlib.pyplot as plt\n",
        "import seaborn as sns"
      ]
    },
    {
      "cell_type": "code",
      "source": [
        "# Plot style\n",
        "sns.set()\n",
        "%pylab inline\n",
        "pylab.rcParams['figure.figsize'] = (4, 4)\n",
        "# Avoid inaccurate floating values (for inverse matrices in dot product for instance)\n",
        "# See https://stackoverflow.com/questions/24537791/numpy-matrix-inversion-rounding-errors\n",
        "np.set_printoptions(suppress=True)"
      ],
      "metadata": {
        "colab": {
          "base_uri": "https://localhost:8080/"
        },
        "id": "shGaN5oU3iMz",
        "outputId": "d9b8d1dc-48e6-4813-f85a-377d04f6bdd0"
      },
      "execution_count": 2,
      "outputs": [
        {
          "output_type": "stream",
          "name": "stdout",
          "text": [
            "Populating the interactive namespace from numpy and matplotlib\n"
          ]
        }
      ]
    },
    {
      "cell_type": "code",
      "source": [
        "def plotVectors(vecs, cols, alpha=1):\n",
        "    \"\"\"\n",
        "    Plot set of vectors.\n",
        "\n",
        "    Parameters\n",
        "    ----------\n",
        "    vecs : array-like\n",
        "        Coordinates of the vectors to plot. Each vectors is in an array. For\n",
        "        instance: [[1, 3], [2, 2]] can be used to plot 2 vectors.\n",
        "    cols : array-like\n",
        "        Colors of the vectors. For instance: ['red', 'blue'] will display the\n",
        "        first vector in red and the second in blue.\n",
        "    alpha : float\n",
        "        Opacity of vectors\n",
        "\n",
        "    Returns:\n",
        "\n",
        "    fig : instance of matplotlib.figure.Figure\n",
        "        The figure of the vectors\n",
        "    \"\"\"\n",
        "    plt.axvline(x=0, color='#A9A9A9', zorder=0)\n",
        "    plt.axhline(y=0, color='#A9A9A9', zorder=0)\n",
        "\n",
        "    for i in range(len(vecs)):\n",
        "        if (isinstance(alpha, list)):\n",
        "            alpha_i = alpha[i]\n",
        "        else:\n",
        "            alpha_i = alpha\n",
        "        x = np.concatenate([[0,0],vecs[i]])\n",
        "        plt.quiver([x[0]],\n",
        "                   [x[1]],\n",
        "                   [x[2]],\n",
        "                   [x[3]],\n",
        "                   angles='xy', scale_units='xy', scale=1, color=cols[i],\n",
        "                  alpha=alpha_i)"
      ],
      "metadata": {
        "id": "HegQPi923kC_"
      },
      "execution_count": 3,
      "outputs": []
    },
    {
      "cell_type": "markdown",
      "source": [
        "# Introduction\n",
        "\n",
        "We will see some major concepts of linear algebra in this chapter. It is also quite heavy so hang on! We will start with getting some ideas on eigenvectors and eigenvalues. We will develop on the idea that a matrix can be seen as a linear transformation and that applying a matrix on its eigenvectors gives new vectors with the same direction.\n",
        "\n",
        "------\n",
        "\n",
        " Then we will see how to express quadratic equations into the matrix form. We will see that the eigendecomposition of the matrix corresponding to a quadratic equation can be used to find the minimum and maximum of this function. As a bonus, we will also see how to visualize linear transformations in Python!"
      ],
      "metadata": {
        "id": "WT_-ygT_3oon"
      }
    },
    {
      "cell_type": "markdown",
      "source": [
        "# Eigendecomposition\n",
        "\n",
        "The eigendecomposition is one form of matrix decomposition. Decomposing a matrix means that we want to find a product of matrices that is equal to the initial matrix.\n",
        "\n",
        "------\n",
        "\n",
        "In the case of the eigendecomposition, we decompose the initial matrix into the product of its eigenvectors and eigenvalues. Before all, let's see what are eigenvectors and eigenvalues."
      ],
      "metadata": {
        "id": "hKnWlF4l3uBc"
      }
    },
    {
      "cell_type": "markdown",
      "source": [
        "# Matrices as linear transformations\n",
        "As we have seen previously with the example of the identity matrix, you can think of matrices as linear transformations. Some matrices will rotate your space, others will rescale it etc.\n",
        "\n",
        "-------\n",
        "\n",
        " So when we apply a matrix to a vector, we end up with a transformed version of the vector. When we say that we 'apply' the matrix to the vector it means that we calculate the dot product of the matrix with the vector. We will start with a basic example of this kind of transformation."
      ],
      "metadata": {
        "id": "FQy6BLMK3-IS"
      }
    },
    {
      "cell_type": "markdown",
      "source": [
        "### Example 1"
      ],
      "metadata": {
        "id": "vI1FJjgr4EK_"
      }
    },
    {
      "cell_type": "code",
      "source": [
        "A = np.array([[-1, 3], [2, -2]])\n",
        "A"
      ],
      "metadata": {
        "colab": {
          "base_uri": "https://localhost:8080/"
        },
        "id": "xEB3ANRF3mIQ",
        "outputId": "31206b5e-bb43-4ddf-e367-d8985597395c"
      },
      "execution_count": 4,
      "outputs": [
        {
          "output_type": "execute_result",
          "data": {
            "text/plain": [
              "array([[-1,  3],\n",
              "       [ 2, -2]])"
            ]
          },
          "metadata": {},
          "execution_count": 4
        }
      ]
    },
    {
      "cell_type": "code",
      "source": [
        "v = np.array([[2], [1]])\n",
        "v"
      ],
      "metadata": {
        "colab": {
          "base_uri": "https://localhost:8080/"
        },
        "id": "CEAzVKxS4Xfa",
        "outputId": "dfc86a24-ea1d-426b-c228-e9846ee6ef32"
      },
      "execution_count": 5,
      "outputs": [
        {
          "output_type": "execute_result",
          "data": {
            "text/plain": [
              "array([[2],\n",
              "       [1]])"
            ]
          },
          "metadata": {},
          "execution_count": 5
        }
      ]
    },
    {
      "cell_type": "markdown",
      "source": [
        "Let's Plot this vector"
      ],
      "metadata": {
        "id": "imt_eFzZ4Z7X"
      }
    },
    {
      "cell_type": "code",
      "source": [
        "plotVectors([v.flatten()], cols=['#1190FF'])\n",
        "plt.ylim(-1, 4)\n",
        "plt.xlim(-1, 4)"
      ],
      "metadata": {
        "colab": {
          "base_uri": "https://localhost:8080/",
          "height": 289
        },
        "id": "j8B5pt7y4ZC1",
        "outputId": "962d098e-0020-4aa0-f610-17d9c7199a26"
      },
      "execution_count": 6,
      "outputs": [
        {
          "output_type": "execute_result",
          "data": {
            "text/plain": [
              "(-1.0, 4.0)"
            ]
          },
          "metadata": {},
          "execution_count": 6
        },
        {
          "output_type": "display_data",
          "data": {
            "text/plain": [
              "<Figure size 288x288 with 1 Axes>"
            ],
            "image/png": "[encoded data removed]"
          },
          "metadata": {
            "needs_background": "light"
          }
        }
      ]
    },
    {
      "cell_type": "markdown",
      "source": [
        "Now, we will apply the matrix $A$\n",
        " to this vector and plot the old vector (light blue) and the new one (orange):"
      ],
      "metadata": {
        "id": "paXPe8uL4e4g"
      }
    },
    {
      "cell_type": "code",
      "source": [
        "Av = A.dot(v)\n",
        "print(Av)\n",
        "plotVectors([v.flatten(), Av.flatten()], cols=['#1190FF', '#FF9A13'])\n",
        "plt.ylim(-1, 4)\n",
        "plt.xlim(-1, 4)"
      ],
      "metadata": {
        "colab": {
          "base_uri": "https://localhost:8080/",
          "height": 324
        },
        "id": "_EXjekqf4dNd",
        "outputId": "ca63e56c-fc98-4fa1-ba5b-d5a5bceb7ae2"
      },
      "execution_count": 7,
      "outputs": [
        {
          "output_type": "stream",
          "name": "stdout",
          "text": [
            "[[1]\n",
            " [2]]\n"
          ]
        },
        {
          "output_type": "execute_result",
          "data": {
            "text/plain": [
              "(-1.0, 4.0)"
            ]
          },
          "metadata": {},
          "execution_count": 7
        },
        {
          "output_type": "display_data",
          "data": {
            "text/plain": [
              "<Figure size 288x288 with 1 Axes>"
            ],
            "image/png": "[encoded data removed]"
          },
          "metadata": {
            "needs_background": "light"
          }
        }
      ]
    },
    {
      "cell_type": "markdown",
      "source": [
        "We can see that applying the matrix $A$\n",
        " has the effect of modifying the vector.\n",
        "\n",
        "\n",
        "------\n",
        "\n",
        "Now that you can think of matrices as linear transformation recipes, let's see the case of a very special type of vector: the eigenvector."
      ],
      "metadata": {
        "id": "zSsGCtgI4mZ3"
      }
    },
    {
      "cell_type": "markdown",
      "source": [
        "# Eigenvectors and eigenvalues\n",
        "\n",
        "We have seen an example of a vector transformed by a matrix. Now imagine that the transformation of the initial vector gives us a new vector that has the exact same direction. The scale can be different but the direction is the same. Applying the matrix didn't change the direction of the vector. This special vector is called an eigenvector of the matrix. We will see that finding the eigenvectors of a matrix can be very useful.\n",
        "\n",
        "\n",
        "------\n",
        "\n",
        "Imagine that the transformation of the initial vector by the matrix gives a new vector with the exact same direction. This vector is called an eigenvector of $A$\n",
        ".\n",
        "This means that $v$\n",
        " is a eigenvector of  $A$\n",
        " if $v$\n",
        " and $Av$\n",
        " are in the same direction or to rephrase it if the vectors \n",
        "$v$ and $Av$\n",
        " are parallel. The output vector is just a scaled version of the input vector. This scalling factor is $\\lambda$\n",
        " which is called the **eigenvalue** of $A$\n",
        "\n",
        " $$ Av = \\lambda v $$ \n",
        "."
      ],
      "metadata": {
        "id": "cuzRSKSH4rsc"
      }
    },
    {
      "cell_type": "markdown",
      "source": [
        "### Example 2\n",
        "\n",
        "Let's $A$ be the following matrix\n",
        "\n",
        "$$ {A}=\n",
        "\\begin{bmatrix}\n",
        "    5 & 1\\\\\\\\\n",
        "    3 & 3\n",
        "\\end{bmatrix}$$\n",
        "\n",
        "\n",
        "We know that one eignevector of $A$ is \n",
        "\n",
        "$$ {v}=\n",
        "\\begin{bmatrix}\n",
        "    1\\\\\\\\\n",
        "    1\n",
        "\\end{bmatrix}$$\n",
        "\n",
        "------\n",
        "\n",
        " We can check that $Av = \\lambda v $$\n",
        "\n",
        " $$ \\begin{bmatrix}\n",
        "    5 & 1\\\\\\\\\n",
        "    3 & 3\n",
        "\\end{bmatrix}\n",
        "\\begin{bmatrix}\n",
        "    1\\\\\\\\\n",
        "    1\n",
        "\\end{bmatrix}=\\begin{bmatrix}\n",
        "    6\\\\\\\\\n",
        "    6\n",
        "\\end{bmatrix} $$\n",
        "\n",
        "which means that $v$ \n",
        " is well an eigenvector of $A$ \n",
        ". Also, the corresponding eigenvalue is $\\lambda = 6$\n",
        ".\n",
        "\n",
        "We can represent \n",
        "$v$ and $Av$\n",
        " to check if their directions are the same:"
      ],
      "metadata": {
        "id": "ANZrS7_D5Q4M"
      }
    },
    {
      "cell_type": "code",
      "source": [
        "A = np.array([[5, 1], [3, 3]])\n",
        "A"
      ],
      "metadata": {
        "colab": {
          "base_uri": "https://localhost:8080/"
        },
        "id": "U_DmFnS-4koR",
        "outputId": "4065aa39-046c-4dd2-eedd-42901e1e69a2"
      },
      "execution_count": 8,
      "outputs": [
        {
          "output_type": "execute_result",
          "data": {
            "text/plain": [
              "array([[5, 1],\n",
              "       [3, 3]])"
            ]
          },
          "metadata": {},
          "execution_count": 8
        }
      ]
    },
    {
      "cell_type": "code",
      "source": [
        "v = np.array([[1], [1]])\n",
        "v"
      ],
      "metadata": {
        "colab": {
          "base_uri": "https://localhost:8080/"
        },
        "id": "3RF7biCD5yWs",
        "outputId": "a99c4868-98fc-46e8-d71a-156dbd9f5bf3"
      },
      "execution_count": 9,
      "outputs": [
        {
          "output_type": "execute_result",
          "data": {
            "text/plain": [
              "array([[1],\n",
              "       [1]])"
            ]
          },
          "metadata": {},
          "execution_count": 9
        }
      ]
    },
    {
      "cell_type": "code",
      "source": [
        "Av = A.dot(v)\n",
        "\n",
        "orange = '#FF9A13'\n",
        "blue = '#1190FF'\n",
        "\n",
        "plotVectors([Av.flatten(), v.flatten()], cols=[blue, orange])\n",
        "plt.ylim(-1, 7)\n",
        "plt.xlim(-1, 7)"
      ],
      "metadata": {
        "colab": {
          "base_uri": "https://localhost:8080/",
          "height": 289
        },
        "id": "8u-vclCK5z3w",
        "outputId": "36cfc450-5443-4cb8-a5f7-3e2b76b967c5"
      },
      "execution_count": 10,
      "outputs": [
        {
          "output_type": "execute_result",
          "data": {
            "text/plain": [
              "(-1.0, 7.0)"
            ]
          },
          "metadata": {},
          "execution_count": 10
        },
        {
          "output_type": "display_data",
          "data": {
            "text/plain": [
              "<Figure size 288x288 with 1 Axes>"
            ],
            "image/png": "[encoded data removed]"
          },
          "metadata": {
            "needs_background": "light"
          }
        }
      ]
    },
    {
      "cell_type": "markdown",
      "source": [
        "We can see that their directions are the same!\n",
        "\n",
        "Another eigenvector of $A$\n",
        " is\n",
        "\n",
        " $$ {v}=\n",
        "\\begin{bmatrix}\n",
        "    1\\\\\\\\\n",
        "    -3\n",
        "\\end{bmatrix} $$\n",
        "\n",
        "because\n",
        "\n",
        "$$ \\begin{bmatrix}\n",
        "    5 & 1\\\\\\\\\n",
        "    3 & 3\n",
        "\\end{bmatrix}\\begin{bmatrix}\n",
        "    1\\\\\\\\\n",
        "    -3\n",
        "\\end{bmatrix} = \\begin{bmatrix}\n",
        "    2\\\\\\\\\n",
        "    -6\n",
        "\\end{bmatrix}$$\n",
        "\n",
        "\n",
        "and \n",
        "$$ 2 \\times \\begin{bmatrix}\n",
        "    1\\\\\\\\\n",
        "    -3\n",
        "\\end{bmatrix} =\n",
        "\\begin{bmatrix}\n",
        "    2\\\\\\\\\n",
        "    -6\n",
        "\\end{bmatrix} $$\n",
        "\n",
        "\n",
        "\n",
        "So the corresponding eigenvalue is $\\lambda=2$"
      ],
      "metadata": {
        "id": "H6g9GMVm53x3"
      }
    },
    {
      "cell_type": "code",
      "source": [
        "\n",
        "v = np.array([[1], [-3]])\n",
        "v"
      ],
      "metadata": {
        "colab": {
          "base_uri": "https://localhost:8080/"
        },
        "id": "dZ4kdKon512v",
        "outputId": "fc1b7152-7dbb-4677-9850-b28533f4d7ed"
      },
      "execution_count": 11,
      "outputs": [
        {
          "output_type": "execute_result",
          "data": {
            "text/plain": [
              "array([[ 1],\n",
              "       [-3]])"
            ]
          },
          "metadata": {},
          "execution_count": 11
        }
      ]
    },
    {
      "cell_type": "code",
      "source": [
        "Av = A.dot(v)\n",
        "\n",
        "plotVectors([Av.flatten(), v.flatten()], cols=[blue, orange])\n",
        "plt.ylim(-7, 1)\n",
        "plt.xlim(-1, 3)"
      ],
      "metadata": {
        "colab": {
          "base_uri": "https://localhost:8080/",
          "height": 289
        },
        "id": "BwPIRtEv6UBC",
        "outputId": "b994b676-123d-450b-c73e-eed223a5861e"
      },
      "execution_count": 12,
      "outputs": [
        {
          "output_type": "execute_result",
          "data": {
            "text/plain": [
              "(-1.0, 3.0)"
            ]
          },
          "metadata": {},
          "execution_count": 12
        },
        {
          "output_type": "display_data",
          "data": {
            "text/plain": [
              "<Figure size 288x288 with 1 Axes>"
            ],
            "image/png": "[encoded data removed]"
          },
          "metadata": {
            "needs_background": "light"
          }
        }
      ]
    },
    {
      "cell_type": "markdown",
      "source": [
        "This example shows that the eigenvectors $v$\n",
        " are vectors that change only in scale when we apply the matrix $A$\n",
        " to them. Here the scales were 6 for the first eigenvector and 2 to the second but $λ$\n",
        " can take any real or even complex value."
      ],
      "metadata": {
        "id": "5RLPWtsP6XzP"
      }
    },
    {
      "cell_type": "markdown",
      "source": [
        "# Find eigenvalues and eigenvectors in Python\n",
        "\n",
        "Numpy provides a function returning eigenvectors and eigenvalues (the first array corresponds to the eigenvalues and the second to the eigenvectors concatenated in columns):"
      ],
      "metadata": {
        "id": "uhOkqQvy6mPg"
      }
    },
    {
      "cell_type": "code",
      "source": [
        "A = np.array([[5, 1], [3, 3]])\n",
        "A"
      ],
      "metadata": {
        "colab": {
          "base_uri": "https://localhost:8080/"
        },
        "id": "xGfXrvO86Vtu",
        "outputId": "8cc8ee7d-039d-42eb-c1d6-10438ecfebbf"
      },
      "execution_count": 13,
      "outputs": [
        {
          "output_type": "execute_result",
          "data": {
            "text/plain": [
              "array([[5, 1],\n",
              "       [3, 3]])"
            ]
          },
          "metadata": {},
          "execution_count": 13
        }
      ]
    },
    {
      "cell_type": "code",
      "source": [
        "np.linalg.eig(A)"
      ],
      "metadata": {
        "colab": {
          "base_uri": "https://localhost:8080/"
        },
        "id": "PdaeWN946q3O",
        "outputId": "065125ea-fa58-436b-8f14-4bd9b996a615"
      },
      "execution_count": 14,
      "outputs": [
        {
          "output_type": "execute_result",
          "data": {
            "text/plain": [
              "(array([6., 2.]), array([[ 0.70710678, -0.31622777],\n",
              "        [ 0.70710678,  0.9486833 ]]))"
            ]
          },
          "metadata": {},
          "execution_count": 14
        }
      ]
    },
    {
      "cell_type": "markdown",
      "source": [
        "We can see that the eigenvalues are the same than the ones we used before: 6 and 2 (first array).\n",
        "\n",
        "The eigenvectors correspond to the columns of the second array. This means that the eigenvector corresponding to $\\lambda=6$\n",
        " is:\n",
        "\n",
        " $$ \\begin{bmatrix}\n",
        "    0.70710678\\\\\\\\\n",
        "    0.70710678\n",
        "\\end{bmatrix}$$\n",
        "\n",
        "------\n",
        "\n",
        "\n",
        "The eigenvector corresponding to $\\lambda=2$ is:\n",
        "\n",
        "$$ \\begin{bmatrix}\n",
        "    -0.31622777\\\\\\\\\n",
        "    0.9486833\n",
        "\\end{bmatrix}$$\n",
        "\n",
        "\n",
        "------\n",
        "\n",
        "The eigenvectors look different because they have not necessarly the same scaling than the ones we gave in the example. We can easily see that the first corresponds to a scaled version of our $\\begin{bmatrix}\n",
        "    1\\\\\\\\\n",
        "    1\n",
        "\\end{bmatrix}$. But the same property stands. We have still $Av = \\lambda v$:\n",
        "\n",
        "$$ \\begin{bmatrix}\n",
        "    5 & 1\\\\\\\\\n",
        "    3 & 3\n",
        "\\end{bmatrix}\n",
        "\\begin{bmatrix}\n",
        "    0.70710678\\\\\\\\\n",
        "    0.70710678\n",
        "\\end{bmatrix}=\n",
        "\\begin{bmatrix}\n",
        "    4.24264069\\\\\\\\\n",
        "    4.24264069\n",
        "\\end{bmatrix}$$\n",
        "\n",
        "With $0.70710678 \\times 6 = 4.24264069$. So there are an infinite number of eigenvectors corresponding to the eigenvalue \n",
        ". They are equivalent because we are interested by their directions.\n",
        "\n",
        "-------\n",
        "\n",
        "For the second eigenvector we can check that it corresponds to a scaled version of $ \\begin{bmatrix}\n",
        "    1\\\\\\\\\n",
        "    -3\n",
        "\\end{bmatrix}$\n",
        "\n",
        "------\n",
        "\n",
        "We can draw these vectors and see if they are paraller."
      ],
      "metadata": {
        "id": "erhaYR_s6wNA"
      }
    },
    {
      "cell_type": "code",
      "source": [
        "v = np.array([[1], [-3]])\n",
        "Av = A.dot(v)\n",
        "v_np = [-0.31622777, 0.9486833]\n",
        "\n",
        "plotVectors([Av.flatten(), v.flatten(), v_np], cols=[blue, orange, 'blue'])\n",
        "plt.ylim(-7, 1)\n",
        "plt.xlim(-1, 3)"
      ],
      "metadata": {
        "colab": {
          "base_uri": "https://localhost:8080/",
          "height": 289
        },
        "id": "UP5yKzYB6s9K",
        "outputId": "3b5d732c-0450-474f-ac2a-826125ed061e"
      },
      "execution_count": 15,
      "outputs": [
        {
          "output_type": "execute_result",
          "data": {
            "text/plain": [
              "(-1.0, 3.0)"
            ]
          },
          "metadata": {},
          "execution_count": 15
        },
        {
          "output_type": "display_data",
          "data": {
            "text/plain": [
              "<Figure size 288x288 with 1 Axes>"
            ],
            "image/png": "[encoded data removed]"
          },
          "metadata": {
            "needs_background": "light"
          }
        }
      ]
    },
    {
      "cell_type": "markdown",
      "source": [
        "We can see that the vector found with Numpy (in dark blue) is a scaled version of our preceding $\\begin{bmatrix}\n",
        "    1\\\\\\\\\n",
        "    -3\n",
        "\\end{bmatrix}$\n",
        "\n",
        "\n"
      ],
      "metadata": {
        "id": "McldHt097tH1"
      }
    },
    {
      "cell_type": "markdown",
      "source": [
        "## Rescaled vectors\n",
        "\n",
        "As we saw it with numpy, if $v$\n",
        " is an eigenvector of $A$\n",
        ", then any rescaled vector $sv$ \n",
        " is also an eigenvector of $A$\n",
        ". The eigenvalue of the rescaled vector is the same.\n",
        "\n",
        "\n",
        "------\n",
        "\n",
        "Let's try to rescale\n",
        "\n",
        "$$ {v}=\n",
        "\\begin{bmatrix}\n",
        "    1\\\\\\\\\n",
        "    -3\n",
        "\\end{bmatrix}$$\n",
        "\n",
        "from our preeceding example.\n",
        "\n",
        "For instance\n",
        "\n",
        "$$ {3v}=\n",
        "\\begin{bmatrix}\n",
        "    3\\\\\\\\\n",
        "    -9\n",
        "\\end{bmatrix}$$\n",
        "\n",
        "$$ \\begin{bmatrix}\n",
        "    5 & 1\\\\\\\\\n",
        "    3 & 3\n",
        "\\end{bmatrix}\n",
        "\\begin{bmatrix}\n",
        "    3\\\\\\\\\n",
        "    -9\n",
        "\\end{bmatrix} =\n",
        "\\begin{bmatrix}\n",
        "    6\\\\\\\\\n",
        "    18\n",
        "\\end{bmatrix} = 2 \\times\n",
        "\\begin{bmatrix}\n",
        "    3\\\\\\\\\n",
        "    -9\n",
        "\\end{bmatrix}$$\n",
        "\n",
        "\n",
        "We have all $ {A}\\times 3{v} = \\lambda{v}$ and the eigenvalue is still $\\lambda=2$."
      ],
      "metadata": {
        "id": "nUA0NMET7x8K"
      }
    },
    {
      "cell_type": "markdown",
      "source": [
        "# Concatenating eigenvalues and eigenvectors\n",
        "\n",
        "Now that we have an idea of what eigenvectors and eigenvalues are we can see how it can be used to decompose a matrix. All eigenvectors of a matrix $A$\n",
        " can be concatenated in a matrix with each column corresponding to each eigenvector (like in the second array return by `np.linalg.eig(A))`:\n",
        "\n",
        " $$ {V}=\n",
        "\\begin{bmatrix}\n",
        "    1 & 1\\\\\\\\\n",
        "    1 & -3\n",
        "\\end{bmatrix}$$\n",
        "\n",
        "The first column $\\begin{bmatrix}\n",
        "    1\\\\\\\\\n",
        "    1\n",
        "\\end{bmatrix}$ corresponds to $\\lambda=6$ and the second $ \\begin{bmatrix}\n",
        "    1\\\\\\\\\n",
        "    -3\n",
        "\\end{bmatrix}$ to $\\lambda = 2$\n",
        "\n",
        "------\n",
        "\n",
        "The vector $\\lambda$ can be created from all eigenvalues:\n",
        "\n",
        "$$ {\\lambda}=\n",
        "\\begin{bmatrix}\n",
        "    6\\\\\\\\\n",
        "    2\n",
        "\\end{bmatrix}$$\n",
        "\n",
        "Then the eigendecomposition is given by\n",
        "\n",
        "$$ {A}={V}\\cdot diag({\\lambda}) \\cdot {V}^{-1}$$\n",
        "\n",
        "\n",
        "We can decompose the matrix $A$ with eigenvectors and eigenvalues. It is done with $A=V \\cdot \\text{diag}(\\lambda) \\cdot V^{-1}$\n",
        "\n",
        "\n",
        "-------\n",
        "\n",
        "$\\text{diag}(v)$ is a diagonal matrix containing all the eigenvalues. Continuing with our example we have\n",
        "\n",
        "$$ {V}=\\begin{bmatrix}\n",
        "    1 & 1\\\\\\\\\n",
        "    1 & -3\n",
        "\\end{bmatrix}$$\n",
        "\n",
        "\n",
        "The diagnol matrix is all zeros except the diagonal that is our vector $\\lambda$\n",
        "\n",
        "\n",
        "$$ diag({v})=\n",
        "\\begin{bmatrix}\n",
        "    6 & 0\\\\\\\\\n",
        "    0 & 2\n",
        "\\end{bmatrix}$$\n",
        "\n",
        "\n",
        "The inverse matrix of $V$ can be calculated with `numpy`"
      ],
      "metadata": {
        "id": "UGodeyhD9c5N"
      }
    },
    {
      "cell_type": "code",
      "source": [
        "V = np.array([[1, 1], [1, -3]])\n",
        "V"
      ],
      "metadata": {
        "colab": {
          "base_uri": "https://localhost:8080/"
        },
        "id": "zQXt0Xh-7pbs",
        "outputId": "582426bb-aee5-476f-8174-3b7b52b76a7f"
      },
      "execution_count": 16,
      "outputs": [
        {
          "output_type": "execute_result",
          "data": {
            "text/plain": [
              "array([[ 1,  1],\n",
              "       [ 1, -3]])"
            ]
          },
          "metadata": {},
          "execution_count": 16
        }
      ]
    },
    {
      "cell_type": "code",
      "source": [
        "V_inv = np.linalg.inv(V)\n",
        "V_inv"
      ],
      "metadata": {
        "colab": {
          "base_uri": "https://localhost:8080/"
        },
        "id": "qqINqIZA-rlO",
        "outputId": "7d8b06a3-7889-42c9-b2b9-7201992becaf"
      },
      "execution_count": 17,
      "outputs": [
        {
          "output_type": "execute_result",
          "data": {
            "text/plain": [
              "array([[ 0.75,  0.25],\n",
              "       [ 0.25, -0.25]])"
            ]
          },
          "metadata": {},
          "execution_count": 17
        }
      ]
    },
    {
      "cell_type": "markdown",
      "source": [
        "So, let's plug\n",
        "\n",
        "$$ {V}^{-1}=\\begin{bmatrix}\n",
        "    0.75 & 0.25\\\\\\\\\n",
        "    0.25 & -0.25\n",
        "\\end{bmatrix}$$\n",
        "\n",
        "\n",
        "into our equation:\n",
        "\n",
        "$$ \\begin{align*}\n",
        "&{V}\\cdot diag({\\lambda}) \\cdot {V}^{-1}\\\\\\\\\n",
        "&=\n",
        "\\begin{bmatrix}\n",
        "    1 & 1\\\\\\\\\n",
        "    1 & -3\n",
        "\\end{bmatrix}\n",
        "\\begin{bmatrix}\n",
        "    6 & 0\\\\\\\\\n",
        "    0 & 2\n",
        "\\end{bmatrix}\n",
        "\\begin{bmatrix}\n",
        "    0.75 & 0.25\\\\\\\\\n",
        "    0.25 & -0.25\n",
        "\\end{bmatrix}\n",
        "\\end{align*}$$\n",
        "\n",
        "\n",
        "-----\n",
        "\n",
        "If we do the dot product of the first two matrices we have:\n",
        "\n",
        "$$ \\begin{bmatrix}\n",
        "    1 & 1\\\\\\\\\n",
        "    1 & -3\n",
        "\\end{bmatrix}\n",
        "\\begin{bmatrix}\n",
        "    6 & 0\\\\\\\\\n",
        "    0 & 2\n",
        "\\end{bmatrix} =\n",
        "\\begin{bmatrix}\n",
        "    6 & 2\\\\\\\\\n",
        "    6 & -6\n",
        "\\end{bmatrix}$$\n",
        "\n",
        "-----\n",
        "\n",
        "So with replacing into the equation \n",
        "\n",
        "$$ \\begin{align*}\n",
        "&\\begin{bmatrix}\n",
        "    6 & 2\\\\\\\\\n",
        "    6 & -6\n",
        "\\end{bmatrix}\n",
        "\\begin{bmatrix}\n",
        "    0.75 & 0.25\\\\\\\\\n",
        "    0.25 & -0.25\n",
        "\\end{bmatrix}\\\\\\\\\n",
        "&=\n",
        "\\begin{bmatrix}\n",
        "    6\\times0.75 + (2\\times0.25) & 6\\times0.25 + (2\\times-0.25)\\\\\\\\\n",
        "    6\\times0.75 + (-6\\times0.25) & 6\\times0.25 + (-6\\times-0.25)\n",
        "\\end{bmatrix}\\\\\\\\\n",
        "&=\n",
        "\\begin{bmatrix}\n",
        "    5 & 1\\\\\\\\\n",
        "    3 & 3\n",
        "\\end{bmatrix}=\n",
        "{A}\n",
        "\\end{align*}$$\n",
        "\n",
        "\n",
        "-------\n",
        "\n",
        "Check the result with Python"
      ],
      "metadata": {
        "id": "DVenkMRP-wmu"
      }
    },
    {
      "cell_type": "code",
      "source": [
        "lambdas = np.diag([6,2])\n",
        "lambdas"
      ],
      "metadata": {
        "colab": {
          "base_uri": "https://localhost:8080/"
        },
        "id": "wR-APVAl-vhl",
        "outputId": "3a6d7e38-f032-4316-f237-321a402500c4"
      },
      "execution_count": 18,
      "outputs": [
        {
          "output_type": "execute_result",
          "data": {
            "text/plain": [
              "array([[6, 0],\n",
              "       [0, 2]])"
            ]
          },
          "metadata": {},
          "execution_count": 18
        }
      ]
    },
    {
      "cell_type": "code",
      "source": [
        "V.dot(lambdas).dot(V_inv)"
      ],
      "metadata": {
        "colab": {
          "base_uri": "https://localhost:8080/"
        },
        "id": "uEmErC6C_S7l",
        "outputId": "49682268-90fb-4d7d-8ea1-d41777e93a7f"
      },
      "execution_count": 19,
      "outputs": [
        {
          "output_type": "execute_result",
          "data": {
            "text/plain": [
              "array([[5., 1.],\n",
              "       [3., 3.]])"
            ]
          },
          "metadata": {},
          "execution_count": 19
        }
      ]
    },
    {
      "cell_type": "markdown",
      "source": [
        "That confirms our previous calculation."
      ],
      "metadata": {
        "id": "GX1u8Qlx_V0f"
      }
    },
    {
      "cell_type": "markdown",
      "source": [
        "# Real Symmetric Matrix\n",
        "\n",
        "In the case of real symmetric matrices (more details about symmetric matrices in 2.6), the eigendecomposition can be expressed as\n",
        "\n",
        "$$ {A} = {Q}\\Lambda {Q}^\\text{T}$$\n",
        "\n",
        "where $Q$ is the matrix with eigenvectors as columns and $Λ$ is $\\text{diag}(\\lambda)$\n",
        "\n"
      ],
      "metadata": {
        "id": "7hnOpOD8_Xys"
      }
    },
    {
      "cell_type": "markdown",
      "source": [
        "### Example 3\n",
        "\n",
        "$$ {A}=\\begin{bmatrix}\n",
        "    6 & 2\\\\\\\\\n",
        "    2 & 3\n",
        "\\end{bmatrix}$$\n",
        "\n",
        "\n",
        "\n",
        "This matrix is symmetric because $A = A^{T}$. Its eigenvectors are:\n",
        "\n",
        "$$ {Q}=\n",
        "\\begin{bmatrix}\n",
        "    0.89442719 & -0.4472136\\\\\\\\\n",
        "    0.4472136 & 0.89442719\n",
        "\\end{bmatrix}$$\n",
        "\n",
        "\n",
        "and its eigenvalues put in a diagnol matrix gives:\n",
        "\n",
        "$$ {\\Lambda}=\n",
        "\\begin{bmatrix}\n",
        "    7 & 0\\\\\\\\\n",
        "    0 & 2\n",
        "\\end{bmatrix}$$\n",
        "\n",
        "\n",
        "------\n",
        "\n",
        "So let's begin to calculate $QΛ$\n",
        "\n",
        "$$\\begin{align*}\n",
        "{Q\\Lambda}&=\n",
        "\\begin{bmatrix}\n",
        "    0.89442719 & -0.4472136\\\\\\\\\n",
        "    0.4472136 & 0.89442719\n",
        "\\end{bmatrix}\n",
        "\\begin{bmatrix}\n",
        "    7 & 0\\\\\\\\\n",
        "    0 & 2\n",
        "\\end{bmatrix}\\\\\\\\\n",
        "&=\n",
        "\\begin{bmatrix}\n",
        "    0.89442719 \\times 7 & -0.4472136\\times 2\\\\\\\\\n",
        "    0.4472136 \\times 7 & 0.89442719\\times 2\n",
        "\\end{bmatrix}\\\\\\\\\n",
        "&=\n",
        "\\begin{bmatrix}\n",
        "    6.26099033 & -0.8944272\\\\\\\\\n",
        "    3.1304952 & 1.78885438\n",
        "\\end{bmatrix}\n",
        "\\end{align*}$$\n",
        "\n",
        "with \n",
        "\n",
        "$$ {Q}^\\text{T}=\n",
        "\\begin{bmatrix}\n",
        "    0.89442719 & 0.4472136\\\\\\\\\n",
        "    -0.4472136 & 0.89442719\n",
        "\\end{bmatrix}$$\n",
        "\n",
        "\n",
        "So we have\n",
        "\n",
        "$$ \\begin{align*}\n",
        "{Q\\Lambda} {Q}^\\text{T}&=\n",
        "\\begin{bmatrix}\n",
        "    6.26099033 & -0.8944272\\\\\\\\\n",
        "    3.1304952 & 1.78885438\n",
        "\\end{bmatrix}\n",
        "\\begin{bmatrix}\n",
        "    0.89442719 & 0.4472136\\\\\\\\\n",
        "    -0.4472136 & 0.89442719\n",
        "\\end{bmatrix}\\\\\\\\\n",
        "&=\n",
        "\\begin{bmatrix}\n",
        "    6 & 2\\\\\\\\\n",
        "    2 & 3\n",
        "\\end{bmatrix}\n",
        "\\end{align*}$$\n",
        "\n",
        "\n",
        "It works! For that reason, it can useful to use symmetric matrices! Let's do the same things easily with `linalg` from numpy:"
      ],
      "metadata": {
        "id": "9V0G-K5S_-VG"
      }
    },
    {
      "cell_type": "code",
      "source": [
        "A = np.array([[6, 2], [2, 3]])\n",
        "A"
      ],
      "metadata": {
        "colab": {
          "base_uri": "https://localhost:8080/"
        },
        "id": "anco8Syt_UfN",
        "outputId": "c09d2cd8-e423-4942-e515-6ceb485a0855"
      },
      "execution_count": 20,
      "outputs": [
        {
          "output_type": "execute_result",
          "data": {
            "text/plain": [
              "array([[6, 2],\n",
              "       [2, 3]])"
            ]
          },
          "metadata": {},
          "execution_count": 20
        }
      ]
    },
    {
      "cell_type": "code",
      "source": [
        "eigVals, eigVecs = np.linalg.eig(A)\n",
        "eigVecs"
      ],
      "metadata": {
        "colab": {
          "base_uri": "https://localhost:8080/"
        },
        "id": "tRT7GTIaA650",
        "outputId": "93da67bb-f082-4b6a-d7a1-839b741d1755"
      },
      "execution_count": 21,
      "outputs": [
        {
          "output_type": "execute_result",
          "data": {
            "text/plain": [
              "array([[ 0.89442719, -0.4472136 ],\n",
              "       [ 0.4472136 ,  0.89442719]])"
            ]
          },
          "metadata": {},
          "execution_count": 21
        }
      ]
    },
    {
      "cell_type": "code",
      "source": [
        "eigVals = np.diag(eigVals)\n",
        "eigVals"
      ],
      "metadata": {
        "colab": {
          "base_uri": "https://localhost:8080/"
        },
        "id": "3zV2MR5oA8h5",
        "outputId": "6bea7ab8-161b-480b-ca0d-6c4b81fc67a2"
      },
      "execution_count": 22,
      "outputs": [
        {
          "output_type": "execute_result",
          "data": {
            "text/plain": [
              "array([[7., 0.],\n",
              "       [0., 2.]])"
            ]
          },
          "metadata": {},
          "execution_count": 22
        }
      ]
    },
    {
      "cell_type": "code",
      "source": [
        "eigVecs.dot(eigVals).dot(eigVecs.T)"
      ],
      "metadata": {
        "colab": {
          "base_uri": "https://localhost:8080/"
        },
        "id": "My4_WlPHBD6K",
        "outputId": "06eaf9b8-e848-41e6-f887-b08a0e8ae53b"
      },
      "execution_count": 23,
      "outputs": [
        {
          "output_type": "execute_result",
          "data": {
            "text/plain": [
              "array([[6., 2.],\n",
              "       [2., 3.]])"
            ]
          },
          "metadata": {},
          "execution_count": 23
        }
      ]
    },
    {
      "cell_type": "markdown",
      "source": [
        "We can see that the result corresponds to our initial matrix."
      ],
      "metadata": {
        "id": "CWpDLbdcBI4_"
      }
    },
    {
      "cell_type": "markdown",
      "source": [
        "# Quadratic form to matrix form\n",
        "\n",
        "Eigendecomposition can be used to optimize quadratic functions. We will see that when $x$\n",
        " takes the values of an eigenvector, \n",
        " takes the value of its corresponding eigenvalue.\n",
        "\n",
        "-------\n",
        "\n",
        "\n",
        "When $x$\n",
        " takes the values of an eigenvector,$f(x)$ \n",
        " takes the value of its corresponding eigenvalue.\n",
        "We will see in the following points how we can show that with different methods.\n",
        "\n",
        "-----\n",
        "\n",
        "\n",
        "Let's have the following quadratic equation:\n",
        "\n",
        "\n",
        "$$f({x}) = ax_1^2 +(b+c)x_1x_2 + dx_2^2$$\n",
        "\n",
        "\n",
        "\n",
        "------\n",
        "\n",
        "\n",
        "These quadratic forms can be generated by matrices:\n",
        "\n",
        "$$ f({x})= \\begin{bmatrix}\n",
        "    x_1 & x_2\n",
        "\\end{bmatrix}\\begin{bmatrix}\n",
        "    a & b\\\\\\\\\n",
        "    c & d\n",
        "\\end{bmatrix}\\begin{bmatrix}\n",
        "    x_1\\\\\\\\\n",
        "    x_2\n",
        "\\end{bmatrix} = {x^\\text{T}Ax}$$\n",
        "\n",
        "\n",
        "with\n",
        "\n",
        "$${x} = \\begin{bmatrix}\n",
        "    x_1\\\\\\\\\n",
        "    x_2\n",
        "\\end{bmatrix}$$\n",
        "\n",
        "and \n",
        "\n",
        "$${A}=\\begin{bmatrix}\n",
        "    a & b\\\\\\\\\n",
        "    c & d\n",
        "\\end{bmatrix}$$\n",
        "\n",
        "\n",
        "We call them matrix forms. This form is useful to do various things on the quadratic equation like constrained optimization (see below).\n",
        "\n",
        "Quadratic equations can be expressed under the matrix form\n",
        "If you look at the relation between these forms you can see that $a$\n",
        " gives you the number of $x_1^2$\n",
        ",$(b+c)$ \n",
        " the number of $x_1x_2$\n",
        " and $d$\n",
        " the number of $x_2^2$\n",
        ". This means that the same quadratic form can be obtained from infinite number of matrices $A$\n",
        " by changing $b$\n",
        " and $c$\n",
        " while preserving their sum."
      ],
      "metadata": {
        "id": "SDmUqIq4BK3l"
      }
    },
    {
      "cell_type": "markdown",
      "source": [
        "### Example 4\n",
        "\n",
        "$${x} = \\begin{bmatrix}\n",
        "    x_1\\\\\\\\\n",
        "    x_2\n",
        "\\end{bmatrix}$$\n",
        "\n",
        "and \n",
        "\n",
        "$$ {A}=\\begin{bmatrix}\n",
        "    2 & 4\\\\\\\\\n",
        "    2 & 5\n",
        "\\end{bmatrix}$$\n",
        "\n",
        "\n",
        "gives the following quadratic form:\n",
        "\n",
        "$$ 2x_1^2 + (4+2)x_1x_2 + 5x_2^2\\\\\\\\=2x_1^2 + 6x_1x_2 + 5x_2^2 $$\n",
        "\n",
        "but if:\n",
        "\n",
        "$$ {A}=\\begin{bmatrix}\n",
        "    2 & -3\\\\\\\\\n",
        "    9 & 5\n",
        "\\end{bmatrix}$$\n",
        "\n",
        "we still have the quadratic same form:\n",
        "\n",
        "$$2x_1^2 + (-3+9)x_1x_2 + 5x_2^2\\\\\\\\=2x_1^2 + 6x_1x_2 + 5x_2^2$$\n",
        "\n"
      ],
      "metadata": {
        "id": "56SwcNTRCTs9"
      }
    },
    {
      "cell_type": "markdown",
      "source": [
        "### Example 5\n",
        "\n",
        "For this example, we will go from the matrix form to the quadratic form using a symmetric matrix $A$\n",
        ". Let's use the matrix of the example 3.\n",
        "\n",
        "\n",
        "$$ {x} = \\begin{bmatrix}\n",
        "    x_1\\\\\\\\\n",
        "    x_2\n",
        "\\end{bmatrix}$$\n",
        "\n",
        "and \n",
        "\n",
        "$$ {A}=\\begin{bmatrix}\n",
        "    6 & 2\\\\\\\\\n",
        "    2 & 3\n",
        "\\end{bmatrix}$$\n",
        "\n",
        "$$\\begin{align*}\n",
        "{x^\\text{T}Ax}&=\n",
        "\\begin{bmatrix}\n",
        "    x_1 & x_2\n",
        "\\end{bmatrix}\n",
        "\\begin{bmatrix}\n",
        "    6 & 2\\\\\\\\\n",
        "    2 & 3\n",
        "\\end{bmatrix}\n",
        "\\begin{bmatrix}\n",
        "    x_1\\\\\\\\\n",
        "    x_2\n",
        "\\end{bmatrix}\\\\\\\\\n",
        "&=\n",
        "\\begin{bmatrix}\n",
        "    x_1 & x_2\n",
        "\\end{bmatrix}\n",
        "\\begin{bmatrix}\n",
        "    6 x_1 + 2 x_2\\\\\\\\\n",
        "    2 x_1 + 3 x_2\n",
        "\\end{bmatrix}\\\\\\\\\n",
        "&=\n",
        "x_1(6 x_1 + 2 x_2) + x_2(2 x_1 + 3 x_2)\\\\\\\\\n",
        "&=\n",
        "6 x_1^2 + 4 x_1x_2 + 3 x_2^2\n",
        "\\end{align*}$$\n",
        "\n",
        "**Note**\n",
        "\n",
        "If $A$\n",
        " is a diagonal matrix (all 0 except the diagonal), the quadratic form of ${x^\\text{T}Ax}$ \n",
        " will have no cross term. Take the following matrix form:\n",
        "\n",
        " $$ {A}=\\begin{bmatrix}\n",
        "    a & b\\\\\\\\\n",
        "    c & d\n",
        "\\end{bmatrix}$$\n",
        "\n",
        "\n",
        "\n",
        "If $A$ is diagonal, then $b$ and $c$ are $0$ and since $f({x}) = ax_1^2 +(b+c)x_1x_2 + dx_2^2$ , there is no cross term. A quadratic form without cross term is called diagonal form since it comes from a diagonal matrix.\n"
      ],
      "metadata": {
        "id": "D4nI6yFaDBi7"
      }
    },
    {
      "cell_type": "markdown",
      "source": [
        "# Change of Variable\n",
        "\n",
        "A change of variable (or linear substitution) simply means that we replace a variable by another one. We will see that it can be used to remove the cross terms in our quadratic equation. Without the cross term, it will then be easier to characterize the function and eventually optimize it (i.e finding its maximum or minimum)."
      ],
      "metadata": {
        "id": "_9ZsMNtmEJJM"
      }
    },
    {
      "cell_type": "markdown",
      "source": [
        "# With the quadratic form\n",
        "\n",
        "### Example 6\n",
        "\n",
        "Let's take again our previous quadratic form:\n",
        "\n",
        "$$ {x^\\text{T}Ax} = 6 x_1^2 + 4 x_1x_2 + 3 x_2^2$$\n",
        "\n",
        "\n",
        "The change of variable will concern $x_1$\n",
        " and $x_2$\n",
        ". We can replace $x_1$ \n",
        " with any combination of $y_1$\n",
        " and $y_2$\n",
        " and $x_2$\n",
        " with any combination \n",
        " $y_1$ and $y_2$ \n",
        ". We will of course end up with a new equation. The nice thing is that we can find a specific substitution that will lead to a simplification of our statement. Specifically, it can be used to get rid of the cross term (in our example: $4x_1 x_2$\n",
        "). We will see later why it is interesting.\n",
        "\n",
        "\n",
        "------\n",
        "\n",
        "\n",
        "Actually, the right substitution is given by the eigenvectors of the matrix used to generate the quadratic form. Let's recall that the matrix form of our equation is:\n",
        "\n",
        "$$ {x} = \\begin{bmatrix}\n",
        "    x_1\\\\\\\\\n",
        "    x_2\n",
        "\\end{bmatrix}$$\n",
        "\n",
        "and\n",
        "\n",
        "$$ {A}=\\begin{bmatrix}\n",
        "    6 & 2\\\\\\\\\n",
        "    2 & 3\n",
        "\\end{bmatrix}$$\n",
        "\n",
        "and that the eigenvectors of $A$ are:\n",
        "\n",
        "$$ \\begin{bmatrix}\n",
        "    0.89442719 & -0.4472136\\\\\\\\\n",
        "    0.4472136 & 0.89442719\n",
        "\\end{bmatrix}$$\n",
        "\n",
        "With the purpose of simplification, we can replace these values with:\n",
        "\n",
        "$$\\begin{bmatrix}\n",
        "    \\frac{2}{\\sqrt{5}} & -\\frac{1}{\\sqrt{5}}\\\\\\\\\n",
        "    \\frac{1}{\\sqrt{5}} & \\frac{2}{\\sqrt{5}}\n",
        "\\end{bmatrix} =\n",
        "\\frac{1}{\\sqrt{5}}\n",
        "\\begin{bmatrix}\n",
        "    2 & -1\\\\\\\\\n",
        "    1 & 2\n",
        "\\end{bmatrix}$$\n",
        "\n",
        "\n",
        "So, our first eigenvector is \n",
        "\n",
        "$$ \\frac{1}{\\sqrt{5}}\n",
        "\\begin{bmatrix}\n",
        "    2\\\\\\\\\n",
        "    1\n",
        "\\end{bmatrix}$$\n",
        "\n",
        "\n",
        "and our second eigenvector is:\n",
        "\n",
        "$$ \\frac{1}{\\sqrt{5}}\n",
        "\\begin{bmatrix}\n",
        "    -1\\\\\\\\\n",
        "    2\n",
        "\\end{bmatrix}$$\n",
        "\n",
        "-------\n",
        "\n",
        "The change of variable will lead to:\n",
        "\n",
        "$$\\begin{bmatrix}\n",
        "    x_1\\\\\\\\\n",
        "    x_2\n",
        "\\end{bmatrix} =\n",
        "\\frac{1}{\\sqrt{5}}\n",
        "\\begin{bmatrix}\n",
        "    2 & -1\\\\\\\\\n",
        "    1 & 2\n",
        "\\end{bmatrix}\n",
        "\\begin{bmatrix}\n",
        "    y_1\\\\\\\\\n",
        "    y_2\n",
        "\\end{bmatrix} =\n",
        "\\frac{1}{\\sqrt{5}}\n",
        "\\begin{bmatrix}\n",
        "    2y_1 - y_2\\\\\\\\\n",
        "    y_1 + 2y_2\n",
        "\\end{bmatrix}$$\n",
        "\n",
        "so we have\n",
        "\n",
        "$$ \\begin{cases}\n",
        "x_1 = \\frac{1}{\\sqrt{5}}(2y_1 - y_2)\\\\\\\\\n",
        "x_2 = \\frac{1}{\\sqrt{5}}(y_1 + 2y_2)\n",
        "\\end{cases}$$\n",
        "\n",
        "\n",
        "\n",
        "-------\n",
        "\n",
        "So far so good! Let's replace that in our example:\n",
        "\n",
        "$$ \\begin{align*}\n",
        "{x^\\text{T}Ax}\n",
        "&=\n",
        "6 x_1^2 + 4 x_1x_2 + 3 x_2^2\\\\\\\\\n",
        "&=\n",
        "6 [\\frac{1}{\\sqrt{5}}(2y_1 - y_2)]^2 + 4 [\\frac{1}{\\sqrt{5}}(2y_1 - y_2)\\frac{1}{\\sqrt{5}}(y_1 + 2y_2)] + 3 [\\frac{1}{\\sqrt{5}}(y_1 + 2y_2)]^2\\\\\\\\\n",
        "&=\n",
        "\\frac{1}{5}[6 (2y_1 - y_2)^2 + 4 (2y_1 - y_2)(y_1 + 2y_2) + 3 (y_1 + 2y_2)^2]\\\\\\\\\n",
        "&=\n",
        "\\frac{1}{5}[6 (4y_1^2 - 4y_1y_2 + y_2^2) + 4 (2y_1^2 + 4y_1y_2 - y_1y_2 - 2y_2^2) + 3 (y_1^2 + 4y_1y_2 + 4y_2^2)]\\\\\\\\\n",
        "&=\n",
        "\\frac{1}{5}(24y_1^2 - 24y_1y_2 + 6y_2^2 + 8y_1^2 + 16y_1y_2 - 4y_1y_2 - 8y_2^2 + 3y_1^2 + 12y_1y_2 + 12y_2^2)\\\\\\\\\n",
        "&=\n",
        "\\frac{1}{5}(35y_1^2 + 10y_2^2)\\\\\\\\\n",
        "&=\n",
        "7y_1^2 + 2y_2^2\n",
        "\\end{align*}$$\n",
        "\n",
        "\n",
        "That's great! Our new equation doesn't have any cross terms!"
      ],
      "metadata": {
        "id": "5-aHBxnBEIq-"
      }
    },
    {
      "cell_type": "markdown",
      "source": [
        "# With the Principal Axes Theorem\n",
        "Actually there is a simpler way to do the change of variable. We can stay in the matrix form. Recall that we start with the form\n",
        "\n",
        "$$ f({x})={x^\\text{T}Ax}$$\n",
        "\n",
        "The linear stitution can be wrote in these terms. We want replace the variables $x$\n",
        " by $y$\n",
        " that relates by:\n",
        "\n",
        " $$ x = Py$$\n",
        "\n",
        " -------\n",
        "\n",
        " We want to find $P$\n",
        " such as our new equation (after the change of variable) doesn't contain the cross terms. The first step is to replace that in the first equation:\n",
        "\n",
        " $$ \\begin{align*}\n",
        "{x^\\text{T}Ax}\n",
        "&=\n",
        "({Py})^\\text{T}{A}({Py})\\\\\\\\\n",
        "&=\n",
        "{y}^\\text{T}({P}^\\text{T}{AP}){y}\n",
        "\\end{align*}$$\n",
        "\n",
        "\n",
        "------\n",
        "\n",
        "Can you see the how to transform the left hand side ($x$\n",
        ") into the right hand side ($y$\n",
        ")? The stitution is done by replacing $A$\n",
        " with ${P^\\text{T}AP}$\n",
        ". We also know that $A$\n",
        " is symmetric and thus that there is a diagonal matrix $D$\n",
        " containing the eigenvectors of $A$\n",
        " and such as ${D}={P}^\\text{T}{AP}$\n",
        ". We thus end up with:\n",
        "\n",
        "$$ {x^\\text{T}Ax}={y^\\text{T}{D} y} $$\n",
        "\n",
        "------\n",
        "\n",
        "We can use $D$\n",
        " to simplify our quadratic equation and remove the cross terms\n",
        "All of this implies that we can use $D$\n",
        " to simplify our quadratic equation and remove the cross terms. If you remember from example 2 we know that the eigenvalues of $A$\n",
        " are:\n",
        "\n",
        " $$ {D}=\n",
        "\\begin{bmatrix}\n",
        "    7 & 0\\\\\\\\\n",
        "    0 & 2\n",
        "\\end{bmatrix}$$\n",
        "\n",
        "$$ \\begin{align*}\n",
        "{x^\\text{T}Ax}\n",
        "&=\n",
        "{y^\\text{T}{D} y}\\\\\\\\\n",
        "&=\n",
        "{y}^\\text{T}\n",
        "\\begin{bmatrix}\n",
        "    7 & 0\\\\\\\\\n",
        "    0 & 2\n",
        "\\end{bmatrix}\n",
        "{y}\\\\\\\\\n",
        "&=\n",
        "\\begin{bmatrix}\n",
        "    y_1 & y_2\n",
        "\\end{bmatrix}\n",
        "\\begin{bmatrix}\n",
        "    7 & 0\\\\\\\\\n",
        "    0 & 2\n",
        "\\end{bmatrix}\n",
        "\\begin{bmatrix}\n",
        "    y_1\\\\\\\\\n",
        "    y_2\n",
        "\\end{bmatrix}\\\\\\\\\n",
        "&=\n",
        "\\begin{bmatrix}\n",
        "    7y_1 +0y_2 & 0y_1 + 2y_2\n",
        "\\end{bmatrix}\n",
        "\\begin{bmatrix}\n",
        "    y_1\\\\\\\\\n",
        "    y_2\n",
        "\\end{bmatrix}\\\\\\\\\n",
        "&=\n",
        "7y_1^2 + 2y_2^2\n",
        "\\end{align*}$$\n",
        "\n",
        "That's nice! If you look back to the change of variable that we have done in the quadratic form, you will see that we have found the same values!\n",
        "\n",
        "This form (without cross-term) is called the **principal axes form**.\n",
        "\n",
        "\n",
        "### Summary\n",
        "\n",
        "To summarise, the principal axes form can be found with\n",
        "$${x^\\text{T}Ax} = \\lambda_1y_1^2 + \\lambda_2y_2^2$$\n",
        "\n",
        "where $λ_1$\n",
        " is the eigenvalue corresponding to the first eigenvector and $λ_2$\n",
        " the eigenvalue corresponding to the second eigenvector (second column of \n",
        "$x$)."
      ],
      "metadata": {
        "id": "GoiozMz0GGbV"
      }
    },
    {
      "cell_type": "markdown",
      "source": [
        "# Finding $f(x)$ with eigendecomposition\n",
        "\n",
        "We will see that there is a way to find $f(x)$\n",
        " with eigenvectors and eigenvalues when $x$\n",
        " is a unit vector.\n",
        "\n",
        "Let's start from:\n",
        "\n",
        "$$ f({x}) ={x^\\text{T}Ax}$$\n",
        "\n",
        "We know that if $x$ is an eigenvector of $A$ and $\\lambda$ the corresponding eigenvalue, then $Ax =\\lambda x$. By replacing the term in the last equation we have:\n",
        "\n",
        "$$ f({x}) ={x^\\text{T}\\lambda x} = {x^\\text{T}x}\\lambda$$\n",
        "\n",
        "------\n",
        "\n",
        "Since $x$ is a unit vector $||x||_2 = 1$ and $x^T x = 1$. We end up with\n",
        "$$ f({x}) = \\lambda$$\n",
        "\n",
        "\n",
        "This is a usefull property. If \n",
        "$x$ is an eigenvector of \n",
        "$A$,$ f({x}) ={x^\\text{T}Ax}$\n",
        " will take the value of the corresponding eigenvalue. We can see that this is working only if the euclidean norm of $x$\n",
        " is 1 (i.e \n",
        " is a unit vector)."
      ],
      "metadata": {
        "id": "6ju4_GRlHqWn"
      }
    },
    {
      "cell_type": "markdown",
      "source": [
        "### Example 7\n",
        "\n",
        "This example will show that $f(x) = \\lambda$\n",
        ". Let's take again the last example, the eigenvectors of $A$\n",
        " were\n",
        "\n",
        " $$ {Q}=\n",
        "\\begin{bmatrix}\n",
        "    0.89442719 & -0.4472136\\\\\\\\\n",
        "    0.4472136 & 0.89442719\n",
        "\\end{bmatrix}$$\n",
        "\n",
        "\n",
        "and the eigenvalues\n",
        "\n",
        "$$ {\\Lambda}=\n",
        "\\begin{bmatrix}\n",
        "    7 & 0\\\\\\\\\n",
        "    0 & 2\n",
        "\\end{bmatrix}$$\n",
        "\n",
        "So if:\n",
        "\n",
        "$$ {x}=\\begin{bmatrix}\n",
        "    0.89442719 & 0.4472136\n",
        "\\end{bmatrix}$$\n",
        "\n",
        "\n",
        "$f(x)$ should be equal to $7$. let's check that's true\n",
        "\n",
        "$$ \\begin{align*}\n",
        "f({x}) &= 6 x_1^2 + 4 x_1x_2 + 3 x_2^2\\\\\\\\\n",
        "&= 6\\times 0.89442719^2 + 4\\times 0.89442719\\times 0.4472136 + 3 \\times 0.4472136^2\\\\\\\\\n",
        "&= 7\n",
        "\\end{align*}$$\n",
        "\n",
        "------\n",
        "\n",
        "In the same way, if ${x}=\\begin{bmatrix}\n",
        "    -0.4472136 & 0.89442719\n",
        "\\end{bmatrix}$, $f(x)$ should be equal to $2$\n",
        "\n",
        "$$ \\begin{align*}\n",
        "f({x}) &= 6 x_1^2 + 4 x_1x_2 + 3 x_2^2\\\\\\\\\n",
        "&= 6\\times -0.4472136^2 + 4\\times -0.4472136\\times 0.89442719 + 3 \\times 0.89442719^2\\\\\\\\\n",
        "&= 2\n",
        "\\end{align*}$$"
      ],
      "metadata": {
        "id": "E4eLB9mNI71N"
      }
    },
    {
      "cell_type": "markdown",
      "source": [
        "# Quadratic form optimization\n",
        "\n",
        "Depending to the context, optimizing a function means finding its maximum or its minimum. It is for instance widely used to minimize the error of cost functions in machine learning.\n",
        "\n",
        "Here we will see how eigendecomposition can be used to optimize quadratic functions and why this can be done easily without cross terms. The difficulty is that we want a constrained optimization, that is to find the minimum or the maximum of the function for $f(x)$\n",
        " being a unit vector"
      ],
      "metadata": {
        "id": "QC6sES7zJ6jh"
      }
    },
    {
      "cell_type": "markdown",
      "source": [
        "### Example 7\n",
        "\n",
        "We want to optimize\n",
        "\n",
        "$$ f({x}) ={x^\\text{T}Ax} \\textrm{ subject to }||{x}||_2= 1$$\n",
        "\n",
        "\n",
        "In our last example we ended up with \n",
        "\n",
        "$$f({x}) = 7y_1^2 + 2y_2^2$$\n",
        "\n",
        "And the constraint of $x$ being a unit vector imply:\n",
        "\n",
        "$$ ||{x}||_2 = 1 \\Leftrightarrow x_1^2 + x_2^2 = 1$$\n",
        "\n",
        "\n",
        "-------\n",
        "\n",
        "We can also show that $y$ has to be a unit vector if it is the case of $x$. Recall first that $x=Py$\n",
        "\n",
        "$$ \\begin{align*}\n",
        "||{x}||^2 &= {x^\\text{T}x}\\\\\\\\\n",
        "&= ({Py})^\\text{T}({Py})\\\\\\\\\n",
        "&= {P^\\text{T}y^\\text{T}Py}\\\\\\\\\n",
        "&= {PP^\\text{T}y^\\text{T}y}\\\\\\\\\n",
        "&= {y^\\text{T}y} = ||{y}||^2\n",
        "\\end{align*}$$\n",
        "\n",
        "\n",
        "\n",
        "So $||x||^2 = ||y||^2 = 1$ and thus $y_1^2 + y_2^2 = 1$\n",
        "\n",
        "\n",
        "-------\n",
        "\n",
        "Since $y_1^2$ and $y_2^2$ cannot be negative because they are squared values, we can be sure that $2y_2^2\\leq7y_2^2$  Hence:\n",
        "\n",
        "$$ \\begin{align*}\n",
        "f({x}) &= 7y_1^2 + 2y_2^2\\\\\\\\\n",
        "&\\leq\n",
        "7y_1^2 + 7y_2^2\\\\\\\\\n",
        "&=\n",
        "7(y_1^2+y_2^2)\\\\\\\\\n",
        "&=\n",
        "7\n",
        "\\end{align*}$$\n",
        "\n",
        "\n",
        "------\n",
        "\n",
        "This means that the maximum value of $f(x)$\n",
        " is $7$.\n",
        "\n",
        "The same way can lead to find the minimum of $f(x)$\n",
        ". $7y_1^2\\geq2y_1^2$\n",
        " and:\n",
        "$$ \\begin{align*}\n",
        "f({x}) &= 7y_1^2 + 2y_2^2\\\\\\\\\n",
        "&\\geq\n",
        "2y_1^2 + 2y_2^2\\\\\\\\\n",
        "&=\n",
        "2(y_1^2+y_2^2)\\\\\\\\\n",
        "&=\n",
        "2\n",
        "\\end{align*}$$\n",
        " \n",
        "And the minimum of \n",
        " is 2.\n",
        "\n",
        "\n",
        " ### Summary\n",
        "We can note that the minimum of $f(x)$\n",
        " is the minimum eigenvalue of the corresponding matrix $A$\n",
        ". Another useful fact is that this value is obtained when $x$\n",
        " takes the value of the corresponding eigenvector (check back the preceding paragraph). In that way, $f({x})=7$\n",
        " when  ${x}=\\begin{bmatrix}0.89442719 & 0.4472136\\end{bmatrix}$\n",
        " \n",
        ". This shows how useful are the eigenvalues and eigenvector in this kind of constrained optimization.\n"
      ],
      "metadata": {
        "id": "A4kRwgTKKAGd"
      }
    },
    {
      "cell_type": "markdown",
      "source": [
        "## Conclusion\n",
        "We have seen a lot of things in this chapter. We saw that linear algebra can be used to solve a variety of mathematical problems and more specifically that eigendecomposition is a powerful tool! However, it cannot be used for non square matrices. In the next chapter, we will see the Singular Value Decomposition (SVD) which is another way of decomposing matrices. The advantage of the SVD is that you can use it also with non-square matrices."
      ],
      "metadata": {
        "id": "fT6-F2weLi2t"
      }
    },
    {
      "cell_type": "markdown",
      "source": [
        "## Visualizing linear transformations\n",
        "\n",
        "We can see the effect of eigenvectors and eigenvalues in linear transformation. We will see first how linear transformation works. Linear transformation is a mapping between an input vector and an output vector. Different operations like projection or rotation are linear transformations.\n",
        "\n",
        "-------\n",
        "\n",
        " Every linear transformations can be though as applying a matrix on the input vector. We will see the meaning of this graphically. For that purpose, let's start by drawing the set of unit vectors (they are all vectors with a norm of 1)."
      ],
      "metadata": {
        "id": "cTmtvix_LnIO"
      }
    },
    {
      "cell_type": "code",
      "source": [
        "t = np.linspace(0, 2*np.pi, 100)\n",
        "x = np.cos(t)\n",
        "y = np.sin(t)\n",
        "\n",
        "plt.figure()\n",
        "plt.plot(x, y)\n",
        "plt.xlim(-1.5, 1.5)\n",
        "plt.ylim(-1.5, 1.5)\n",
        "plt.show()"
      ],
      "metadata": {
        "colab": {
          "base_uri": "https://localhost:8080/",
          "height": 272
        },
        "id": "pTKk9CQuBGdx",
        "outputId": "fe1c4327-05fb-454d-b170-9b18c23794a1"
      },
      "execution_count": 24,
      "outputs": [
        {
          "output_type": "display_data",
          "data": {
            "text/plain": [
              "<Figure size 288x288 with 1 Axes>"
            ],
            "image/png": "[encoded data removed]"
          },
          "metadata": {
            "needs_background": "light"
          }
        }
      ]
    },
    {
      "cell_type": "markdown",
      "source": [
        "Then, we will transform each of these points by applying a matrix \n",
        ". This is the goal of the function bellow that takes a matrix as input and will draw\n",
        "\n",
        "1. the origin set of unit vectors\n",
        "2. the transformed set of unit vectors\n",
        "3. the eigenvectors\n",
        "4. the eigenvectors scalled by their eigenvalues"
      ],
      "metadata": {
        "id": "FKw1D6NuLwRl"
      }
    },
    {
      "cell_type": "code",
      "source": [
        "def linearTransformation(transformMatrix):\n",
        "    orange = '#FF9A13'\n",
        "    blue = '#1190FF'\n",
        "    # Create original set of unit vectors\n",
        "    t = np.linspace(0, 2*np.pi, 100)\n",
        "    x = np.cos(t)\n",
        "    y = np.sin(t)\n",
        "\n",
        "    # Calculate eigenvectors and eigenvalues\n",
        "    eigVecs = np.linalg.eig(transformMatrix)[1]\n",
        "    eigVals = np.diag(np.linalg.eig(transformMatrix)[0])\n",
        "    \n",
        "    # Create vectors of 0 to store new transformed values\n",
        "    newX = np.zeros(len(x))\n",
        "    newY = np.zeros(len(x))\n",
        "    for i in range(len(x)):\n",
        "        unitVector_i = np.array([x[i], y[i]])\n",
        "        # Apply the matrix to the vector\n",
        "        newXY = transformMatrix.dot(unitVector_i)\n",
        "        newX[i] = newXY[0]\n",
        "        newY[i] = newXY[1]\n",
        "    \n",
        "    plotVectors([eigVecs[:,0], eigVecs[:,1]],\n",
        "                cols=[blue, blue])\n",
        "    plt.plot(x, y)\n",
        "\n",
        "    plotVectors([eigVals[0,0]*eigVecs[:,0], eigVals[1,1]*eigVecs[:,1]],\n",
        "                cols=[orange, orange])\n",
        "    plt.plot(newX, newY)\n",
        "    plt.xlim(-5, 5)\n",
        "    plt.ylim(-5, 5)\n",
        "    plt.show()"
      ],
      "metadata": {
        "id": "P_D3tQR9LuZP"
      },
      "execution_count": 25,
      "outputs": []
    },
    {
      "cell_type": "code",
      "source": [
        "A = np.array([[1,-1], [-1, 4]])\n",
        "linearTransformation(A)"
      ],
      "metadata": {
        "colab": {
          "base_uri": "https://localhost:8080/",
          "height": 268
        },
        "id": "-nnjlHZPL353",
        "outputId": "81549837-d6ef-4849-8f82-57e6380aaca7"
      },
      "execution_count": 26,
      "outputs": [
        {
          "output_type": "display_data",
          "data": {
            "text/plain": [
              "<Figure size 288x288 with 1 Axes>"
            ],
            "image/png": "[encoded data removed]"
          },
          "metadata": {
            "needs_background": "light"
          }
        }
      ]
    },
    {
      "cell_type": "markdown",
      "source": [
        "We can see the unit circle in dark blue, the non scaled eigenvectors in light blue, the transformed unit circle in green and the scaled eigenvectors in yellow.\n",
        "\n",
        "It is worth noting that the eigenvectors are orthogonal here because the matrix is symmetric. Let's try with a non-symmetric matrix:"
      ],
      "metadata": {
        "id": "DwhzzUbCL81x"
      }
    },
    {
      "cell_type": "code",
      "source": [
        "A = np.array([[1,1], [-1, 4]])\n",
        "linearTransformation(A)"
      ],
      "metadata": {
        "colab": {
          "base_uri": "https://localhost:8080/",
          "height": 268
        },
        "id": "2PmKBA4SL5zP",
        "outputId": "bb68bf31-1277-4042-c12f-f90a49a2d245"
      },
      "execution_count": 27,
      "outputs": [
        {
          "output_type": "display_data",
          "data": {
            "text/plain": [
              "<Figure size 288x288 with 1 Axes>"
            ],
            "image/png": "[encoded data removed]"
          },
          "metadata": {
            "needs_background": "light"
          }
        }
      ]
    },
    {
      "cell_type": "markdown",
      "source": [
        "In this case, the eigenvectors are not orthogonal!"
      ],
      "metadata": {
        "id": "ukM6lBshMByk"
      }
    }
  ]
}