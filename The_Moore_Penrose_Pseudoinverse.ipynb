{
  "nbformat": 4,
  "nbformat_minor": 0,
  "metadata": {
    "colab": {
      "provenance": [],
      "authorship_tag": "ABX9TyOzcSLaVUZvUkktsXgt8CiB",
      "include_colab_link": true
    },
    "kernelspec": {
      "name": "python3",
      "display_name": "Python 3"
    },
    "language_info": {
      "name": "python"
    }
  },
  "cells": [
    {
      "cell_type": "markdown",
      "metadata": {
        "id": "view-in-github",
        "colab_type": "text"
      },
      "source": [
        "<a href=\"https://colab.research.google.com/github/MonitSharma/Numerical-Linear-Algebra/blob/main/The_Moore_Penrose_Pseudoinverse.ipynb\" target=\"_parent\"><img src=\"https://colab.research.google.com/assets/colab-badge.svg\" alt=\"Open In Colab\"/></a>"
      ]
    },
    {
      "cell_type": "code",
      "execution_count": 1,
      "metadata": {
        "id": "I7gjT2sFy-CB"
      },
      "outputs": [],
      "source": [
        "import numpy as np\n",
        "import matplotlib.pyplot as plt\n",
        "import seaborn as sns"
      ]
    },
    {
      "cell_type": "code",
      "source": [
        "# Plot style\n",
        "sns.set()\n",
        "%pylab inline\n",
        "pylab.rcParams['figure.figsize'] = (4, 4)"
      ],
      "metadata": {
        "colab": {
          "base_uri": "https://localhost:8080/"
        },
        "id": "eLjwKHcNzOtq",
        "outputId": "c58eeb7e-aad0-4817-9757-f9019fb06a0a"
      },
      "execution_count": 2,
      "outputs": [
        {
          "output_type": "stream",
          "name": "stdout",
          "text": [
            "Populating the interactive namespace from numpy and matplotlib\n"
          ]
        }
      ]
    },
    {
      "cell_type": "markdown",
      "source": [
        "# Introduction\n",
        "We saw that not all matrices have an inverse. It is unfortunate because the inverse is used to solve system of equations. In some cases, a system of equation has no solution, and thus the inverse doesn't exist. However it can be useful to find a value that is almost a solution (in term of minimizing the error). We will see for instance how we can find the best-fit line of a set of data points with the pseudoinverse."
      ],
      "metadata": {
        "id": "2IHxPI-xzUyp"
      }
    },
    {
      "cell_type": "markdown",
      "source": [
        "# The Moore-Penrose Pseudoinverse\n",
        "The Moore-Penrose pseudoinverse is a direct application of the SVD But before all, we have to remind that systems of equations can be expressed under the matrix form.\n",
        "\n",
        "--- \n",
        "\n",
        "The inverse of a marix $A$ can be used to solve the equation $Ax=b$\n",
        "\n",
        "\n",
        "$$ {A}^{-1}{Ax}={A}^{-1}{b}$$\n",
        "\n",
        "$$ {I}_n{x}={A}^{-1}{b}$$\n",
        "\n",
        "$$ {x}={A}^{-1}{b}$$\n",
        "\n",
        "\n",
        "-------\n",
        "\n",
        "\n",
        "But in the case where the set of equations have 0 or many solutions the inverse cannot be found and the equation cannot be solved. The pseudoinverse is ${A}^+$\n",
        " such as:\n",
        "\n",
        "\n",
        " $$ {A}{A}^+\\approx{I_n}$$\n",
        "\n",
        "\n",
        " minimizing \n",
        " $$ ||{{A}{A}^+-{I_n}}||_2$$\n",
        "\n",
        "\n",
        "------\n",
        "\n",
        "The following formula can be used to find the pseudoinverse\n",
        "\n",
        "$$ {A}^+= {VD}^+{U}^T$$\n",
        "\n",
        "\n",
        "with $U$\n",
        ", $D$\n",
        " and $V$\n",
        " respectively the left singular vectors, the singular values and the right singular vectors of $A$\n",
        " ${A}^+$\n",
        " is the pseudoinverse of $A$\n",
        " and $D^+$\n",
        " the pseudoinverse of $D$\n",
        ". We saw that $D$\n",
        " is a diagonal matrix and thus $D^+$\n",
        " can be calculated by taking the reciprocal of the non zero values of $D$ \n",
        ".\n",
        "\n",
        "------\n",
        "\n",
        "\n",
        "This is a bit crude but we will see some examples to clarify all of this."
      ],
      "metadata": {
        "id": "KPv5OJXpzYdU"
      }
    },
    {
      "cell_type": "markdown",
      "source": [
        "### Example 1.\n",
        "Let's see how to implement that. We will create a non square matrix \n",
        ", calculate its singular value decomposition and its pseudoinverse.\n",
        "\n",
        "$${A}=\\begin{bmatrix}\n",
        "    7 & 2\\\\\\\\\n",
        "    3 & 4\\\\\\\\\n",
        "    5 & 3\n",
        "\\end{bmatrix}$$"
      ],
      "metadata": {
        "id": "fRSzgfIh0pVv"
      }
    },
    {
      "cell_type": "code",
      "source": [
        "A = np.array([[7, 2], [3, 4], [5, 3]])\n",
        "U, D, V = np.linalg.svd(A)\n",
        "\n",
        "D_plus = np.zeros((A.shape[0], A.shape[1])).T\n",
        "D_plus[:D.shape[0], :D.shape[0]] = np.linalg.inv(np.diag(D))\n",
        "\n",
        "A_plus = V.T.dot(D_plus).dot(U.T)\n",
        "A_plus"
      ],
      "metadata": {
        "colab": {
          "base_uri": "https://localhost:8080/"
        },
        "id": "nFEOqtIrzSP9",
        "outputId": "b949b08a-8946-4972-ccbe-1797e921a6d8"
      },
      "execution_count": 3,
      "outputs": [
        {
          "output_type": "execute_result",
          "data": {
            "text/plain": [
              "array([[ 0.16666667, -0.10606061,  0.03030303],\n",
              "       [-0.16666667,  0.28787879,  0.06060606]])"
            ]
          },
          "metadata": {},
          "execution_count": 3
        }
      ]
    },
    {
      "cell_type": "markdown",
      "source": [
        "We can now check with the `pinv()` function from Numpy that the pseudoinverse is correct:\n",
        "\n"
      ],
      "metadata": {
        "id": "Ie41KWml002q"
      }
    },
    {
      "cell_type": "code",
      "source": [
        "np.linalg.pinv(A)"
      ],
      "metadata": {
        "colab": {
          "base_uri": "https://localhost:8080/"
        },
        "id": "NGVdACih0yQ0",
        "outputId": "4bcb24b9-bf98-432a-9b7f-189ffb2c5244"
      },
      "execution_count": 4,
      "outputs": [
        {
          "output_type": "execute_result",
          "data": {
            "text/plain": [
              "array([[ 0.16666667, -0.10606061,  0.03030303],\n",
              "       [-0.16666667,  0.28787879,  0.06060606]])"
            ]
          },
          "metadata": {},
          "execution_count": 4
        }
      ]
    },
    {
      "cell_type": "markdown",
      "source": [
        "It looks good! We can now check that it is really the near inverse of $A$ \n",
        ". Since we know that"
      ],
      "metadata": {
        "id": "74h5PrCt08l7"
      }
    },
    {
      "cell_type": "markdown",
      "source": [
        "$${A}^{-1}{A}={I_n}$$\n",
        "\n",
        "with \n",
        "$${I_2}=\\begin{bmatrix}\n",
        "    1 & 0 \\\\\\\\\n",
        "    0 & 1\n",
        "\\end{bmatrix}$$"
      ],
      "metadata": {
        "id": "ih31fwEr1PG1"
      }
    },
    {
      "cell_type": "code",
      "source": [
        "A_plus.dot(A)"
      ],
      "metadata": {
        "colab": {
          "base_uri": "https://localhost:8080/"
        },
        "id": "Tw4oq-aF04l6",
        "outputId": "e921a1ed-16ad-48d1-a558-f65b8180958d"
      },
      "execution_count": 5,
      "outputs": [
        {
          "output_type": "execute_result",
          "data": {
            "text/plain": [
              "array([[1.00000000e+00, 2.70616862e-16],\n",
              "       [2.28983499e-16, 1.00000000e+00]])"
            ]
          },
          "metadata": {},
          "execution_count": 5
        }
      ]
    },
    {
      "cell_type": "markdown",
      "source": [
        "This is not bad! This is almost the identity matrix!"
      ],
      "metadata": {
        "id": "NV-eVxHG1Zz8"
      }
    },
    {
      "cell_type": "markdown",
      "source": [
        "Another way of computing the pseudoinverse is to use this formula:\n",
        "\n",
        "$$ ({A}^T{A})^{-1}{A}^T$$\n",
        "\n",
        "The result is less acurate than the SVD method and Numpy `pinv()` uses the SVD. Here is an example from the same matrix $A$ \n",
        ":\n",
        "\n"
      ],
      "metadata": {
        "id": "1Olupxc71day"
      }
    },
    {
      "cell_type": "code",
      "source": [
        "A_plus_1 = np.linalg.inv(A.T.dot(A)).dot(A.T)\n",
        "A_plus_1"
      ],
      "metadata": {
        "colab": {
          "base_uri": "https://localhost:8080/"
        },
        "id": "Cnu8e1Zt1X_Q",
        "outputId": "7abab35a-5913-43c0-baa4-a6f70aad7a81"
      },
      "execution_count": 6,
      "outputs": [
        {
          "output_type": "execute_result",
          "data": {
            "text/plain": [
              "array([[ 0.16666667, -0.10606061,  0.03030303],\n",
              "       [-0.16666667,  0.28787879,  0.06060606]])"
            ]
          },
          "metadata": {},
          "execution_count": 6
        }
      ]
    },
    {
      "cell_type": "markdown",
      "source": [
        "In this case the result is the same as with the SVD way."
      ],
      "metadata": {
        "id": "3eQF0esH1pj4"
      }
    },
    {
      "cell_type": "markdown",
      "source": [
        "## Using the pseudoinverse to solve a overdetermined system of linear equations\n",
        "\n",
        "The pseudoinverse solve the system in the least square error perspective: it finds the solution that minimize the error. We will see this more explicitly with an example.\n",
        "\n",
        "The pseudoinverse solve the system in the least square error perspective\n",
        "\n",
        "\n",
        "\n",
        "#### Example 2\n",
        "\n",
        "We will consider the following\n",
        "\n",
        "$$ \\begin{cases}\n",
        "-2x_1 + 2 = x_2 \\\\\\\\\n",
        "4x_1 + 8 = x_2 \\\\\\\\\n",
        "-1x_1 + 2 = x_2\n",
        "\\end{cases}\n",
        "\\Leftrightarrow\n",
        "\\begin{cases}\n",
        "-2x_1 - x_2 = -2 \\\\\\\\\n",
        "4x_1 - x_2 = -8 \\\\\\\\\n",
        "-1x_1 - x_2 = -2\n",
        "\\end{cases}$$\n",
        "\n",
        "\n",
        "Let's see the graph"
      ],
      "metadata": {
        "id": "kKvOsWsv1tJM"
      }
    },
    {
      "cell_type": "code",
      "source": [
        "x1 = np.linspace(-5, 5, 1000)\n",
        "x2_1 = -2*x1 + 2\n",
        "x2_2 = 4*x1 + 8\n",
        "x2_3 = -1*x1 + 2\n",
        "\n",
        "plt.plot(x1, x2_1)\n",
        "plt.plot(x1, x2_2)\n",
        "plt.plot(x1, x2_3)\n",
        "plt.xlim(-2., 1)\n",
        "plt.ylim(1, 5)\n",
        "plt.show()"
      ],
      "metadata": {
        "colab": {
          "base_uri": "https://localhost:8080/",
          "height": 272
        },
        "id": "dZLy5dbs1oIo",
        "outputId": "c1cc65ec-5329-4aa3-8703-9be096bf6ab4"
      },
      "execution_count": 7,
      "outputs": [
        {
          "output_type": "display_data",
          "data": {
            "text/plain": [
              "<Figure size 288x288 with 1 Axes>"
            ],
            "image/png": "[encoded data removed]"
          },
          "metadata": {
            "needs_background": "light"
          }
        }
      ]
    },
    {
      "cell_type": "markdown",
      "source": [
        "We actually see that there is no solution.\n",
        "\n",
        "Putting this into the matrix form we have:\n",
        "\n",
        "$${A}=\n",
        "\\begin{bmatrix}\n",
        "    -2 & -1 \\\\\\\\\n",
        "    4 & -1 \\\\\\\\\n",
        "    -1 & -1\n",
        "\\end{bmatrix}$$\n",
        "\n",
        "$$ {x}=\n",
        "\\begin{bmatrix}\n",
        "    x_1 \\\\\\\\\n",
        "    x_2\n",
        "\\end{bmatrix}$$\n",
        "\n",
        "and\n",
        "\n",
        "$$ {b}=\n",
        "\\begin{bmatrix}\n",
        "    -2 \\\\\\\\\n",
        "    -8 \\\\\\\\\n",
        "    -2\n",
        "\\end{bmatrix}$$\n",
        "\n",
        "So we have\n",
        "\n",
        "$$ {Ax} = {b}\n",
        "\\Leftrightarrow\n",
        "\\begin{bmatrix}\n",
        "    -2 & -1 \\\\\\\\\n",
        "    4 & -1 \\\\\\\\\n",
        "    -1 & -1\n",
        "\\end{bmatrix}\n",
        "\\begin{bmatrix}\n",
        "    x_1 \\\\\\\\\n",
        "    x_2\n",
        "\\end{bmatrix}\n",
        "=\n",
        "\\begin{bmatrix}\n",
        "    -2 \\\\\\\\\n",
        "    -8 \\\\\\\\\n",
        "    -2\n",
        "\\end{bmatrix}$$\n",
        "\n",
        "\n",
        "We will now calculate the pseudoinverse of $A$"
      ],
      "metadata": {
        "id": "VEWvnea817dZ"
      }
    },
    {
      "cell_type": "code",
      "source": [
        "A = np.array([[-2, -1], [4, -1], [-1, -1]])\n",
        "A_plus = np.linalg.pinv(A)\n",
        "A_plus"
      ],
      "metadata": {
        "colab": {
          "base_uri": "https://localhost:8080/"
        },
        "id": "yPZNWuiy15pJ",
        "outputId": "4481c046-3779-4f8b-b05c-b3bfcdb488fc"
      },
      "execution_count": 8,
      "outputs": [
        {
          "output_type": "execute_result",
          "data": {
            "text/plain": [
              "array([[-0.11290323,  0.17741935, -0.06451613],\n",
              "       [-0.37096774, -0.27419355, -0.35483871]])"
            ]
          },
          "metadata": {},
          "execution_count": 8
        }
      ]
    },
    {
      "cell_type": "markdown",
      "source": [
        "Now that we have calculated the pseudoinverse of $A$\n",
        ":\n",
        "\n",
        "$$ {A}^+=\n",
        "\\begin{bmatrix}\n",
        "    -0.11290323 &  0.17741935 & -0.06451613 \\\\\\\\\n",
        "    -0.37096774 & -0.27419355 & -0.35483871\n",
        "\\end{bmatrix}$$\n",
        "\n",
        "we can use it to find $x$ knowing that\n",
        "\n",
        "$$ x = A^+ b$$\n",
        "\n",
        "with\n",
        "\n",
        "$$ {x}\n",
        "=\n",
        "\\begin{bmatrix}\n",
        "    x1 \\\\\\\\\n",
        "    x2\n",
        "\\end{bmatrix}$$"
      ],
      "metadata": {
        "id": "aUpAJBDf2NRw"
      }
    },
    {
      "cell_type": "code",
      "source": [
        "b = np.array([[-2], [-8], [-2]])\n",
        "res = A_plus.dot(b)\n",
        "res"
      ],
      "metadata": {
        "colab": {
          "base_uri": "https://localhost:8080/"
        },
        "id": "M90xzaaf2L9m",
        "outputId": "fcf48a46-a1ee-4e65-de13-dc0be9eaaebe"
      },
      "execution_count": 9,
      "outputs": [
        {
          "output_type": "execute_result",
          "data": {
            "text/plain": [
              "array([[-1.06451613],\n",
              "       [ 3.64516129]])"
            ]
          },
          "metadata": {},
          "execution_count": 9
        }
      ]
    },
    {
      "cell_type": "markdown",
      "source": [
        "So we have\n",
        "\n",
        "$$\\begin{align*}\n",
        "{A}^+{b}&=\n",
        "\\begin{bmatrix}\n",
        "    -0.11290323 &  0.17741935 & -0.06451613 \\\\\\\\\n",
        "    -0.37096774 & -0.27419355 & -0.35483871\n",
        "\\end{bmatrix}\n",
        "\\begin{bmatrix}\n",
        "    -2 \\\\\\\\\n",
        "    -8 \\\\\\\\\n",
        "    -2\n",
        "\\end{bmatrix}\\\\\\\\\n",
        "&=\n",
        "\\begin{bmatrix}\n",
        "    -1.06451613 \\\\\\\\\n",
        "    3.64516129\n",
        "\\end{bmatrix}\n",
        "\\end{align*}$$\n",
        "\n",
        "\n",
        "In our two dimensions, the coordinates of $x$ are \n",
        "\n",
        "$$ \\begin{bmatrix}\n",
        "    -1.06451613 \\\\\\\\\n",
        "    3.64516129\n",
        "\\end{bmatrix}$$\n",
        "\n",
        "Let's plot this point along with the equation lines\n"
      ],
      "metadata": {
        "id": "ljSxmyEY2fE7"
      }
    },
    {
      "cell_type": "code",
      "source": [
        "plt.plot(x1, x2_1)\n",
        "plt.plot(x1, x2_2)\n",
        "plt.plot(x1, x2_3)\n",
        "plt.xlim(-2., 1)\n",
        "plt.ylim(1, 5)\n",
        "\n",
        "plt.scatter(res[0], res[1])\n",
        "\n",
        "plt.show()"
      ],
      "metadata": {
        "colab": {
          "base_uri": "https://localhost:8080/",
          "height": 272
        },
        "id": "_E-JU6ST2dpE",
        "outputId": "27cf8a8b-f26f-47de-d253-ff7b583de4d0"
      },
      "execution_count": 10,
      "outputs": [
        {
          "output_type": "display_data",
          "data": {
            "text/plain": [
              "<Figure size 288x288 with 1 Axes>"
            ],
            "image/png": "[encoded data removed]"
          },
          "metadata": {
            "needs_background": "light"
          }
        }
      ]
    },
    {
      "cell_type": "markdown",
      "source": [
        "Maybe you would have expected the point being at the barycenter of the triangle . This is not the case becase the equations are not scaled the same way. Actually the point is at the intersection of the three symmedians of the triangle."
      ],
      "metadata": {
        "id": "PdT6qJXm2teX"
      }
    },
    {
      "cell_type": "markdown",
      "source": [
        "#### Example 3.\n",
        "This method can also be used to fit a line to a set of points.\n",
        "\n",
        "----\n",
        "\n",
        "We have this set of \n",
        "$x$ and $y$\n",
        " and we are looking for the line $y = mx+b$\n",
        " that minimizes the error. The error can be evaluated as the sum of the differences between the fit and the actual data points. We can represent the data points with a matrix equations:\n",
        "\n",
        "\n",
        "\n",
        " $$ {Ax} = {b}\n",
        "\\Leftrightarrow\n",
        "\\begin{bmatrix}\n",
        "    0 & 1 \\\\\\\\\n",
        "    1 & 1 \\\\\\\\\n",
        "    2 & 1 \\\\\\\\\n",
        "    3 & 1 \\\\\\\\\n",
        "    3 & 1 \\\\\\\\\n",
        "    4 & 1\n",
        "\\end{bmatrix}\n",
        "\\begin{bmatrix}\n",
        "    m \\\\\\\\\n",
        "    b\n",
        "\\end{bmatrix}\n",
        "=\n",
        "\\begin{bmatrix}\n",
        "    2 \\\\\\\\\n",
        "    4 \\\\\\\\\n",
        "    0 \\\\\\\\\n",
        "    2 \\\\\\\\\n",
        "    5 \\\\\\\\\n",
        "    3\n",
        "\\end{bmatrix}$$\n",
        "\n",
        "\n",
        "Note that here the matrix $A$\n",
        " represents the values of the coefficients. The column of 1 correspond to the intercepts (without it the fit would have the constraint to cross the origin). It gives the following set of equations:\n",
        "\n",
        " $$ \\begin{cases}\n",
        "    0m + 1b = 2 \\\\\\\\\n",
        "    1m + 1b = 4 \\\\\\\\\n",
        "    2m + 1b = 0 \\\\\\\\\n",
        "    3m + 1b = 2 \\\\\\\\\n",
        "    3m + 1b = 5 \\\\\\\\\n",
        "    4m + 1b = 3\n",
        "\\end{cases}$$\n",
        "\n",
        "\n",
        "-----\n",
        "\n",
        "We have the set of equations $mx+b=y$\n",
        ". The ones are used to give back the intercept parameter. For instance, in the first equation corresponding to the first point we have well $x=0$\n",
        " and $y=2$\n",
        ". This can be confusing because here the vector \n",
        " corresponds to the coefficients. This is because the problem is different from the other examples: we are looking for the coefficients of a line and not for \n",
        "$x$ and $y$\n",
        " unknowns. We kept this notation to indicate the similarity with the last examples.\n",
        "\n",
        "------\n",
        "\n",
        "\n",
        "So we will construct these matrices and try to use the pseudoinverse to find the equation of the line minimizing the error (difference between the line and the actual data points).\n",
        "\n",
        "Let's start with the creation of the matrix of $A$\n",
        " and $b$\n",
        ":"
      ],
      "metadata": {
        "id": "axzgOcKm2xly"
      }
    },
    {
      "cell_type": "code",
      "source": [
        "A = np.array([[0, 1], [1, 1], [2, 1], [3, 1], [3, 1], [4, 1]])\n",
        "A"
      ],
      "metadata": {
        "colab": {
          "base_uri": "https://localhost:8080/"
        },
        "id": "Q7OOHPyH2rcX",
        "outputId": "0b4e5fe4-d4d0-4172-ecb3-9cf289ddd54e"
      },
      "execution_count": 11,
      "outputs": [
        {
          "output_type": "execute_result",
          "data": {
            "text/plain": [
              "array([[0, 1],\n",
              "       [1, 1],\n",
              "       [2, 1],\n",
              "       [3, 1],\n",
              "       [3, 1],\n",
              "       [4, 1]])"
            ]
          },
          "metadata": {},
          "execution_count": 11
        }
      ]
    },
    {
      "cell_type": "code",
      "source": [
        "b = np.array([[2], [4], [0], [2], [5], [3]])\n",
        "b"
      ],
      "metadata": {
        "colab": {
          "base_uri": "https://localhost:8080/"
        },
        "id": "c7nwuv9A3Zau",
        "outputId": "06db9836-5efc-4ab8-8a2e-85ba1433d56c"
      },
      "execution_count": 12,
      "outputs": [
        {
          "output_type": "execute_result",
          "data": {
            "text/plain": [
              "array([[2],\n",
              "       [4],\n",
              "       [0],\n",
              "       [2],\n",
              "       [5],\n",
              "       [3]])"
            ]
          },
          "metadata": {},
          "execution_count": 12
        }
      ]
    },
    {
      "cell_type": "markdown",
      "source": [
        "We can now calculate the pseudoinverse of $A$\n",
        "\n",
        ":"
      ],
      "metadata": {
        "id": "wQ8sub_m3dDE"
      }
    },
    {
      "cell_type": "code",
      "source": [
        "A_plus = np.linalg.pinv(A)\n",
        "A_plus"
      ],
      "metadata": {
        "colab": {
          "base_uri": "https://localhost:8080/"
        },
        "id": "N7QByAzN3bK0",
        "outputId": "da57fcee-2a3a-4102-d990-f1d6fa890497"
      },
      "execution_count": 13,
      "outputs": [
        {
          "output_type": "execute_result",
          "data": {
            "text/plain": [
              "array([[-2.00000000e-01, -1.07692308e-01, -1.53846154e-02,\n",
              "         7.69230769e-02,  7.69230769e-02,  1.69230769e-01],\n",
              "       [ 6.00000000e-01,  4.00000000e-01,  2.00000000e-01,\n",
              "         4.00160154e-17,  4.00160154e-17, -2.00000000e-01]])"
            ]
          },
          "metadata": {},
          "execution_count": 13
        }
      ]
    },
    {
      "cell_type": "markdown",
      "source": [
        "and apply it to the result to find the coefficients with the formula:\n",
        "$$ x = A^+b$$"
      ],
      "metadata": {
        "id": "t6Lw1oCV3jZA"
      }
    },
    {
      "cell_type": "code",
      "source": [
        "coefs = A_plus.dot(b)\n",
        "coefs"
      ],
      "metadata": {
        "colab": {
          "base_uri": "https://localhost:8080/"
        },
        "id": "YEvYDlqP3hcU",
        "outputId": "5ac0ffff-9a61-452a-d224-e146bc056243"
      },
      "execution_count": 14,
      "outputs": [
        {
          "output_type": "execute_result",
          "data": {
            "text/plain": [
              "array([[0.21538462],\n",
              "       [2.2       ]])"
            ]
          },
          "metadata": {},
          "execution_count": 14
        }
      ]
    },
    {
      "cell_type": "markdown",
      "source": [
        "These are the parameters of the fit. The slope is $m=0.21538462$\n",
        " and the intercept is $b=2.2$\n",
        ". We will plot the data points and the regression line:"
      ],
      "metadata": {
        "id": "gv4ZwW5s3qR7"
      }
    },
    {
      "cell_type": "code",
      "source": [
        "x = np.linspace(-1, 5, 1000)\n",
        "y = coefs[0]*x + coefs[1]\n",
        "\n",
        "plt.plot(A[:, 0], b, '*')\n",
        "plt.plot(x, y)\n",
        "plt.xlim(-1., 6)\n",
        "plt.ylim(-0.5, 5.5)\n",
        "\n",
        "plt.show()"
      ],
      "metadata": {
        "colab": {
          "base_uri": "https://localhost:8080/",
          "height": 268
        },
        "id": "34sNlMGP3oXb",
        "outputId": "7623a669-ab8d-4c95-fd98-c766a578ab5a"
      },
      "execution_count": 15,
      "outputs": [
        {
          "output_type": "display_data",
          "data": {
            "text/plain": [
              "<Figure size 288x288 with 1 Axes>"
            ],
            "image/png": "[encoded data removed]"
          },
          "metadata": {
            "needs_background": "light"
          }
        }
      ]
    },
    {
      "cell_type": "markdown",
      "source": [
        "You can also do the fit with the Numpy `polyfit()` to check the parameters:"
      ],
      "metadata": {
        "id": "cBBZI1-x3zZ1"
      }
    },
    {
      "cell_type": "code",
      "source": [
        "np.polyfit(A[:, 0], b, 1)"
      ],
      "metadata": {
        "colab": {
          "base_uri": "https://localhost:8080/"
        },
        "id": "0QQDMNgw3w5Q",
        "outputId": "90cedafb-7fa5-4b43-85e5-6ed8e289e8c3"
      },
      "execution_count": 16,
      "outputs": [
        {
          "output_type": "execute_result",
          "data": {
            "text/plain": [
              "array([[0.21538462],\n",
              "       [2.2       ]])"
            ]
          },
          "metadata": {},
          "execution_count": 16
        }
      ]
    },
    {
      "cell_type": "markdown",
      "source": [
        "That's good! We have seen how to use the pseudoinverse in order to solve a simple regression problem. Let's see with a more realistic case."
      ],
      "metadata": {
        "id": "CYuHNMHh345j"
      }
    },
    {
      "cell_type": "markdown",
      "source": [
        "#### Example 4.\n",
        "To see the process with more data points we can generate data\n",
        "\n",
        "We will generate a column vector (see `reshape()` below) containing 100 points with random \n",
        " values and pseudo-random \n",
        " values. The function `seed()` from the Numpy.random package is used to freeze the randomisation and be able to reproduce the results:"
      ],
      "metadata": {
        "id": "woY2Xej337-x"
      }
    },
    {
      "cell_type": "code",
      "source": [
        "np.random.seed(123)\n",
        "x = 5*np.random.rand(100)\n",
        "y = 2*x + 1 + np.random.randn(100)\n",
        "\n",
        "x = x.reshape(100, 1)\n",
        "y = y.reshape(100, 1)"
      ],
      "metadata": {
        "id": "BOFdavAI33Fh"
      },
      "execution_count": 17,
      "outputs": []
    },
    {
      "cell_type": "markdown",
      "source": [
        "We will create the matrix $A$\n",
        " from $x$\n",
        " by adding a column of ones exactly like we did in the example 3."
      ],
      "metadata": {
        "id": "Lf-6TkCP4IBG"
      }
    },
    {
      "cell_type": "code",
      "source": [
        "A = np.hstack((x, np.ones(np.shape(x))))\n",
        "A[:10]"
      ],
      "metadata": {
        "colab": {
          "base_uri": "https://localhost:8080/"
        },
        "id": "DXEtIcJB4GCw",
        "outputId": "64690265-bae1-4f5f-becf-95454db274d4"
      },
      "execution_count": 18,
      "outputs": [
        {
          "output_type": "execute_result",
          "data": {
            "text/plain": [
              "array([[3.48234593, 1.        ],\n",
              "       [1.43069667, 1.        ],\n",
              "       [1.13425727, 1.        ],\n",
              "       [2.75657385, 1.        ],\n",
              "       [3.59734485, 1.        ],\n",
              "       [2.1155323 , 1.        ],\n",
              "       [4.90382099, 1.        ],\n",
              "       [3.42414869, 1.        ],\n",
              "       [2.40465951, 1.        ],\n",
              "       [1.96058759, 1.        ]])"
            ]
          },
          "metadata": {},
          "execution_count": 18
        }
      ]
    },
    {
      "cell_type": "markdown",
      "source": [
        "We can now find the pseudoinverse of $A$ \n",
        " and calculate the coefficients of the regression line:"
      ],
      "metadata": {
        "id": "r800cLbT4Pku"
      }
    },
    {
      "cell_type": "code",
      "source": [
        "A_plus = np.linalg.pinv(A)\n",
        "coefs = A_plus.dot(y)\n",
        "coefs"
      ],
      "metadata": {
        "colab": {
          "base_uri": "https://localhost:8080/"
        },
        "id": "BGYYDUxp4NTn",
        "outputId": "d0135ac3-6213-4b2c-8f65-829c4f07578e"
      },
      "execution_count": 19,
      "outputs": [
        {
          "output_type": "execute_result",
          "data": {
            "text/plain": [
              "array([[1.9461907 ],\n",
              "       [1.16994745]])"
            ]
          },
          "metadata": {},
          "execution_count": 19
        }
      ]
    },
    {
      "cell_type": "markdown",
      "source": [
        "We can finally draw the point and the regression line:"
      ],
      "metadata": {
        "id": "q_6dfl1L4Uz9"
      }
    },
    {
      "cell_type": "code",
      "source": [
        "x_line = np.linspace(0, 5, 1000)\n",
        "y_line = coefs[0]*x_line + coefs[1]\n",
        "\n",
        "plt.plot(x, y, '*')\n",
        "plt.plot(x_line, y_line)\n",
        "plt.show()"
      ],
      "metadata": {
        "colab": {
          "base_uri": "https://localhost:8080/",
          "height": 268
        },
        "id": "vvTUzywV4TNq",
        "outputId": "69a89926-1eb6-449f-9f38-d3a35e08963b"
      },
      "execution_count": 20,
      "outputs": [
        {
          "output_type": "display_data",
          "data": {
            "text/plain": [
              "<Figure size 288x288 with 1 Axes>"
            ],
            "image/png": "[encoded data removed]"
          },
          "metadata": {
            "needs_background": "light"
          }
        }
      ]
    },
    {
      "cell_type": "markdown",
      "source": [
        "## Conclusion\n",
        "You can see that the pseudoinverse can be very useful for this kind of problems! The series is not completely finished since we still have 3 chapters to cover. However, we have done the hardest part! We will now see two very light chapters before going to a nice example using all the linear algebra we have learn: the PCA."
      ],
      "metadata": {
        "id": "PNXeCQXa4aJC"
      }
    },
    {
      "cell_type": "code",
      "source": [],
      "metadata": {
        "id": "NkdByAr04XNs"
      },
      "execution_count": null,
      "outputs": []
    }
  ]
}