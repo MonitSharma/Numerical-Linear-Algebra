{
 "cells": [
  {
   "cell_type": "markdown",
   "metadata": {},
   "source": [
    "# 7. PageRank with Eigen Decompositions"
   ]
  },
  {
   "cell_type": "markdown",
   "metadata": {},
   "source": [
    "### Two Handy Tricks"
   ]
  },
  {
   "cell_type": "markdown",
   "metadata": {},
   "source": [
    "Here are two tools that we'll be using today, which are useful in general."
   ]
  },
  {
   "cell_type": "markdown",
   "metadata": {},
   "source": [
    "1\\. [Psutil](https://github.com/giampaolo/psutil) is a great way to check on your memory usage.  This will be useful here since we are using a larger data set."
   ]
  },
  {
   "cell_type": "code",
   "execution_count": 462,
   "metadata": {
    "collapsed": true
   },
   "outputs": [],
   "source": [
    "import psutil"
   ]
  },
  {
   "cell_type": "code",
   "execution_count": 447,
   "metadata": {
    "collapsed": true
   },
   "outputs": [],
   "source": [
    "process = psutil.Process(os.getpid())\n",
    "t = process.memory_info()"
   ]
  },
  {
   "cell_type": "code",
   "execution_count": 449,
   "metadata": {},
   "outputs": [
    {
     "data": {
      "text/plain": [
       "(19475513344, 17856520192)"
      ]
     },
     "execution_count": 449,
     "metadata": {},
     "output_type": "execute_result"
    }
   ],
   "source": [
    "t.vms, t.rss"
   ]
  },
  {
   "cell_type": "code",
   "execution_count": 450,
   "metadata": {
    "collapsed": true
   },
   "outputs": [],
   "source": [
    "def mem_usage():\n",
    "    process = psutil.Process(os.getpid())\n",
    "    return process.memory_info().rss / psutil.virtual_memory().total"
   ]
  },
  {
   "cell_type": "code",
   "execution_count": 451,
   "metadata": {},
   "outputs": [
    {
     "data": {
      "text/plain": [
       "0.13217061955758594"
      ]
     },
     "execution_count": 451,
     "metadata": {},
     "output_type": "execute_result"
    }
   ],
   "source": [
    "mem_usage()"
   ]
  },
  {
   "cell_type": "markdown",
   "metadata": {},
   "source": [
    "2\\. [TQDM](https://github.com/tqdm/tqdm) gives you progress bars."
   ]
  },
  {
   "cell_type": "code",
   "execution_count": 364,
   "metadata": {
    "collapsed": true
   },
   "outputs": [],
   "source": [
    "from time import sleep"
   ]
  },
  {
   "cell_type": "code",
   "execution_count": 463,
   "metadata": {},
   "outputs": [
    {
     "name": "stdout",
     "output_type": "stream",
     "text": [
      "45\n"
     ]
    }
   ],
   "source": [
    "# Without TQDM\n",
    "s = 0\n",
    "for i in range(10):\n",
    "    s += i\n",
    "    sleep(0.2)\n",
    "print(s)"
   ]
  },
  {
   "cell_type": "code",
   "execution_count": 465,
   "metadata": {},
   "outputs": [
    {
     "name": "stderr",
     "output_type": "stream",
     "text": [
      "100%|██████████| 10/10 [00:02<00:00,  4.96it/s]"
     ]
    },
    {
     "name": "stdout",
     "output_type": "stream",
     "text": [
      "45\n"
     ]
    },
    {
     "name": "stderr",
     "output_type": "stream",
     "text": [
      "\n"
     ]
    }
   ],
   "source": [
    "# With TQDM\n",
    "from tqdm import tqdm\n",
    "\n",
    "s = 0\n",
    "for i in tqdm(range(10)):\n",
    "    s += i\n",
    "    sleep(0.2)\n",
    "print(s)"
   ]
  },
  {
   "cell_type": "markdown",
   "metadata": {},
   "source": [
    "## Motivation"
   ]
  },
  {
   "cell_type": "markdown",
   "metadata": {},
   "source": [
    "**Review**\n",
    "- What is SVD?\n",
    "- What are some applications of SVD?"
   ]
  },
  {
   "cell_type": "markdown",
   "metadata": {},
   "source": [
    "#### Additional SVD Application"
   ]
  },
  {
   "cell_type": "markdown",
   "metadata": {},
   "source": [
    "An interesting use of SVD that I recently came across was as a step in the de-biasing of Word2Vec word embeddings, from [Quantifying and Reducing Stereotypes in Word Embeddings](https://arxiv.org/pdf/1606.06121.pdf)(Bolukbasi, et al).\n",
    "\n",
    "Word2Vec is a useful library released by Google that represents words as vectors.  The similarity of vectors captures semantic meaning, and analogies can be found, such as *Paris:France :: Tokyo: Japan*.  \n",
    "\n",
    "<img src=\"images/word2vec_analogies.png\" alt=\"\" style=\"width: 80%\"/>\n",
    "(source: [Vector Representations of Words](https://www.tensorflow.org/versions/r0.10/tutorials/word2vec/))\n",
    "\n",
    "However, these embeddings can implicitly encode bias, such as *father:doctor :: mother:nurse* and *man:computer programmer :: woman:homemaker*.\n",
    "\n",
    "One approach for de-biasing the space involves using SVD to reduce the dimensionality ([Bolukbasi paper](https://arxiv.org/pdf/1606.06121.pdf)).\n",
    "\n",
    "You can read more about bias in word embeddings:\n",
    "- [How Vector Space Mathematics Reveals the Hidden Sexism in Language](https://www.technologyreview.com/s/602025/how-vector-space-mathematics-reveals-the-hidden-sexism-in-language/)(MIT Tech Review)\n",
    "- [ConceptNet: better, less-stereotyped word vectors](https://blog.conceptnet.io/2017/04/24/conceptnet-numberbatch-17-04-better-less-stereotyped-word-vectors/)\n",
    "- [Semantics derived automatically from language corpora necessarily contain human biases](https://www.princeton.edu/~aylinc/papers/caliskan-islam_semantics.pdf) (excellent and very interesting paper!)"
   ]
  },
  {
   "cell_type": "markdown",
   "metadata": {},
   "source": [
    "#### Ways to think about SVD"
   ]
  },
  {
   "cell_type": "markdown",
   "metadata": {},
   "source": [
    "- Data compression\n",
    "- SVD trades a large number of features for a smaller set of better features\n",
    "- All matrices are diagonal (if you use change of bases on the domain and range)"
   ]
  },
  {
   "cell_type": "markdown",
   "metadata": {},
   "source": [
    "### Perspectives on SVD"
   ]
  },
  {
   "cell_type": "markdown",
   "metadata": {},
   "source": [
    "We usually talk about SVD in terms of matrices, $$A = U \\Sigma V^T$$ but we can also think about it in terms of vectors.  SVD gives us sets of orthonormal vectors ${v_j}$ and ${u_j}$ such that $$ A v_j = \\sigma_j u_j $$\n",
    "\n",
    "$\\sigma_j$ are scalars, called singular values\n",
    "\n",
    "**Q**: Does this remind you of anything?"
   ]
  },
  {
   "cell_type": "markdown",
   "metadata": {},
   "source": [
    "#### Answer"
   ]
  },
  {
   "cell_type": "markdown",
   "metadata": {},
   "source": [
    "**Relationship between SVD and Eigen Decomposition**: the left-singular vectors of A are the eigenvectors of $AA^T$. The right-singular vectors of A are the eigenvectors of $A^T A$. The non-zero singular values of A are the square roots of the eigenvalues of $A^T A$ (and $A A^T$).\n",
    "\n",
    "SVD is a generalization of eigen decomposition. Not all matrices have eigen values, but ALL matrices have singular values.\n",
    "\n",
    "Let's forget SVD for a bit and talk about how to find the eigenvalues of a symmetric positive definite matrix..."
   ]
  },
  {
   "cell_type": "markdown",
   "metadata": {},
   "source": [
    "### Further resources on SVD"
   ]
  },
  {
   "cell_type": "markdown",
   "metadata": {},
   "source": [
    "- [SVD: image compression and least squares](http://andrew.gibiansky.com/blog/mathematics/cool-linear-algebra-singular-value-decomposition/)\n",
    "\n",
    "- [Image Compression with SVD](http://nbviewer.jupyter.org/gist/frankcleary/4d2bd178708503b556b0)\n",
    "\n",
    "- [The Extraordinary SVD](https://sites.math.washington.edu/~morrow/498_13/svd_applied.pdf)\n",
    "\n",
    "- [A Singularly Valuable Decomposition: The SVD of a Matrix](https://sites.math.washington.edu/~morrow/498_13/svd.pdf)"
   ]
  },
  {
   "cell_type": "markdown",
   "metadata": {},
   "source": [
    "## Today: Eigen Decomposition"
   ]
  },
  {
   "cell_type": "markdown",
   "metadata": {},
   "source": [
    "The best classical methods for computing the SVD are variants on methods for computing eigenvalues.  In addition to their links to SVD, Eigen decompositions are useful on their own as well.  Here are a few practical applications of eigen decomposition:\n",
    "- [rapid matrix powers](http://www.onmyphd.com/?p=eigen.decomposition#h2_why)\n",
    "- [nth Fibonacci number](http://mathproofs.blogspot.com/2005/04/nth-term-of-fibonacci-sequence.html)\n",
    "- Behavior of ODEs\n",
    "- Markov Chains (health care economics, Page Rank)\n",
    "- [Linear Discriminant Analysis on Iris dataset](http://sebastianraschka.com/Articles/2014_python_lda.html)"
   ]
  },
  {
   "cell_type": "markdown",
   "metadata": {},
   "source": [
    "Check out the 3 Blue 1 Brown videos on [Change of basis](https://www.youtube.com/watch?v=P2LTAUO1TdA) and [Eigenvalues and eigenvectors](https://www.youtube.com/watch?v=PFDu9oVAE-g)"
   ]
  },
  {
   "cell_type": "markdown",
   "metadata": {},
   "source": [
    "\"Eigenvalues are a way to see into the heart of a matrix... All the difficulties of matrices are swept away\" -Strang "
   ]
  },
  {
   "cell_type": "markdown",
   "metadata": {},
   "source": [
    "**Vocab**: A **Hermitian** matrix is one that is equal to it's own conjugate transpose.  In the case of real-valued matrices (which is all we are considering in this course), **Hermitian** means the same as **Symmetric**.\n",
    "\n",
    "**Relevant Theorems:**\n",
    "- If A is symmetric, then eigenvalues of A are real and $A = Q \\Lambda Q^T$\n",
    "- If A is triangular, then its eigenvalues are equal to its diagonal entries"
   ]
  },
  {
   "cell_type": "markdown",
   "metadata": {},
   "source": [
    "## DBpedia Dataset"
   ]
  },
  {
   "cell_type": "markdown",
   "metadata": {},
   "source": [
    "Let's start with the **Power Method**, which finds one eigenvector.  *What good is just one eigenvector?* you may be wondering.  This is actually the basis for PageRank (read [The $25,000,000,000 Eigenvector: the Linear Algebra Behind Google](http://www.rose-hulman.edu/~bryan/googleFinalVersionFixed.pdf) for more info)\n",
    "\n",
    "Instead of trying to rank the importance of all websites on the internet, we are going to use a dataset of Wikipedia links from [DBpedia](http://wiki.dbpedia.org/).  DBpedia provides structured Wikipedia data available in 125 languages.  \n",
    "\n",
    "\"*The full DBpedia data set features 38 million labels and abstracts in 125 different languages, 25.2 million links to images and 29.8 million links to external web pages; 80.9 million links to Wikipedia categories, and 41.2 million links to [YAGO](http://www.mpi-inf.mpg.de/departments/databases-and-information-systems/research/yago-naga/yago/) categories*\" --[about DBpedia](http://wiki.dbpedia.org/about)\n",
    "\n",
    "Today's lesson is inspired by this [SciKit Learn Example](http://scikit-learn.org/stable/auto_examples/applications/wikipedia_principal_eigenvector.html#sphx-glr-auto-examples-applications-wikipedia-principal-eigenvector-py)"
   ]
  },
  {
   "cell_type": "markdown",
   "metadata": {},
   "source": [
    "### Imports"
   ]
  },
  {
   "cell_type": "code",
   "execution_count": 361,
   "metadata": {
    "collapsed": true
   },
   "outputs": [],
   "source": [
    "import os, numpy as np, pickle\n",
    "from bz2 import BZ2File\n",
    "from datetime import datetime\n",
    "from pprint import pprint\n",
    "from time import time\n",
    "from tqdm import tqdm_notebook\n",
    "from scipy import sparse\n",
    "\n",
    "from sklearn.decomposition import randomized_svd\n",
    "from sklearn.externals.joblib import Memory\n",
    "from urllib.request import urlopen"
   ]
  },
  {
   "cell_type": "markdown",
   "metadata": {},
   "source": [
    "### Downloading the data"
   ]
  },
  {
   "cell_type": "markdown",
   "metadata": {},
   "source": [
    "The data we have are:\n",
    "- **redirects**: URLs that redirect to other URLs\n",
    "- **links**: which pages link to which other pages"
   ]
  },
  {
   "cell_type": "markdown",
   "metadata": {},
   "source": [
    "Note: this takes a while"
   ]
  },
  {
   "cell_type": "code",
   "execution_count": 367,
   "metadata": {
    "collapsed": true
   },
   "outputs": [],
   "source": [
    "PATH = 'data/dbpedia/'\n",
    "URL_BASE = 'http://downloads.dbpedia.org/3.5.1/en/'\n",
    "filenames = [\"redirects_en.nt.bz2\", \"page_links_en.nt.bz2\"]\n",
    "\n",
    "for filename in filenames:\n",
    "    if not os.path.exists(PATH+filename):\n",
    "        print(\"Downloading '%s', please wait...\" % filename)\n",
    "        open(PATH+filename, 'wb').write(urlopen(URL_BASE+filename).read())"
   ]
  },
  {
   "cell_type": "code",
   "execution_count": 368,
   "metadata": {
    "collapsed": true
   },
   "outputs": [],
   "source": [
    "redirects_filename = PATH+filenames[0]\n",
    "page_links_filename = PATH+filenames[1]"
   ]
  },
  {
   "cell_type": "markdown",
   "metadata": {},
   "source": [
    "### Graph Adjacency Matrix"
   ]
  },
  {
   "cell_type": "markdown",
   "metadata": {},
   "source": [
    "We will construct a graph **adjacency matrix**, of which pages point to which.\n",
    "\n",
    "<img src=\"images/graph.png\" alt=\"\" style=\"width: 25%\"/>\n",
    "(source: [PageRank and HyperLink Induced Topic Search](https://www.slideshare.net/priyabrata232/page-rank-and-hyperlink))\n",
    "\n",
    "<img src=\"images/adjaceny_matrix.png\" alt=\"\" style=\"width: 80%\"/>\n",
    "(source: [PageRank and HyperLink Induced Topic Search](https://www.slideshare.net/priyabrata232/page-rank-and-hyperlink))\n",
    "\n",
    "The power $A^2$ will give you how many ways there are to get from one page to another in 2 steps.  You can see a more detailed example, as applied to airline travel, [worked out in these notes](http://www.utdallas.edu/~jwz120030/Teaching/PastCoursesUMBC/M221HS06/ProjectFiles/Adjacency.pdf)."
   ]
  },
  {
   "cell_type": "markdown",
   "metadata": {},
   "source": [
    "We want to keep track of which pages point to which pages.  We will store this in a  square matrix, with a $1$ in position $(r, c)$ indicating that the topic in row $r$ points to the topic in column $c$\n",
    "\n",
    "You can read [more about graphs here](http://www.geeksforgeeks.org/graph-and-its-representations/)."
   ]
  },
  {
   "cell_type": "markdown",
   "metadata": {},
   "source": [
    "### Data Format"
   ]
  },
  {
   "cell_type": "markdown",
   "metadata": {},
   "source": [
    "One line of the file looks like:\n",
    "- `<http://dbpedia.org/resource/AfghanistanHistory> <http://dbpedia.org/property/redirect> <http://dbpedia.org/resource/History_of_Afghanistan> .`\n",
    "\n",
    "In the below slice, the plus 1, -1 are to remove the <>"
   ]
  },
  {
   "cell_type": "code",
   "execution_count": 369,
   "metadata": {
    "collapsed": true
   },
   "outputs": [],
   "source": [
    "DBPEDIA_RESOURCE_PREFIX_LEN = len(\"http://dbpedia.org/resource/\")\n",
    "SLICE = slice(DBPEDIA_RESOURCE_PREFIX_LEN + 1, -1)"
   ]
  },
  {
   "cell_type": "code",
   "execution_count": 370,
   "metadata": {
    "collapsed": true
   },
   "outputs": [],
   "source": [
    "def get_lines(filename): return (line.split() for line in BZ2File(filename))"
   ]
  },
  {
   "cell_type": "markdown",
   "metadata": {},
   "source": [
    "Loop through redirections and create dictionary of source to final destination"
   ]
  },
  {
   "cell_type": "code",
   "execution_count": 371,
   "metadata": {
    "collapsed": true
   },
   "outputs": [],
   "source": [
    "def get_redirect(targ, redirects):\n",
    "    seen = set()\n",
    "    while True:\n",
    "        transitive_targ = targ\n",
    "        targ = redirects.get(targ)\n",
    "        if targ is None or targ in seen: break\n",
    "        seen.add(targ)\n",
    "    return transitive_targ"
   ]
  },
  {
   "cell_type": "code",
   "execution_count": 372,
   "metadata": {
    "collapsed": true
   },
   "outputs": [],
   "source": [
    "def get_redirects(redirects_filename):\n",
    "    redirects={}\n",
    "    lines = get_lines(redirects_filename)\n",
    "    return {src[SLICE]:get_redirect(targ[SLICE], redirects) \n",
    "                for src,_,targ,_ in tqdm_notebook(lines, leave=False)}"
   ]
  },
  {
   "cell_type": "code",
   "execution_count": 373,
   "metadata": {},
   "outputs": [
    {
     "data": {
      "application/vnd.jupyter.widget-view+json": {
       "model_id": "4e6fbe6a61b84503ba29df3be06a9c77"
      }
     },
     "metadata": {},
     "output_type": "display_data"
    },
    {
     "name": "stdout",
     "output_type": "stream",
     "text": [
      "\r"
     ]
    }
   ],
   "source": [
    "redirects = get_redirects(redirects_filename)"
   ]
  },
  {
   "cell_type": "code",
   "execution_count": 374,
   "metadata": {},
   "outputs": [
    {
     "data": {
      "text/plain": [
       "13.766303744"
      ]
     },
     "execution_count": 374,
     "metadata": {},
     "output_type": "execute_result"
    }
   ],
   "source": [
    "mem_usage()"
   ]
  },
  {
   "cell_type": "code",
   "execution_count": 375,
   "metadata": {
    "collapsed": true
   },
   "outputs": [],
   "source": [
    "def add_item(lst, redirects, index_map, item):\n",
    "    k = item[SLICE]\n",
    "    lst.append(index_map.setdefault(redirects.get(k, k), len(index_map)))"
   ]
  },
  {
   "cell_type": "code",
   "execution_count": 376,
   "metadata": {
    "collapsed": true
   },
   "outputs": [],
   "source": [
    "limit=119077682 #5000000"
   ]
  },
  {
   "cell_type": "code",
   "execution_count": 377,
   "metadata": {},
   "outputs": [
    {
     "data": {
      "application/vnd.jupyter.widget-view+json": {
       "model_id": "912599a04ead440ba016131b73398e1b"
      }
     },
     "metadata": {},
     "output_type": "display_data"
    },
    {
     "name": "stdout",
     "output_type": "stream",
     "text": [
      "\n"
     ]
    }
   ],
   "source": [
    "# Computing the integer index map\n",
    "index_map = dict() # links->IDs\n",
    "lines = get_lines(page_links_filename)\n",
    "source, destination, data = [],[],[]\n",
    "for l, split in tqdm_notebook(enumerate(lines), total=limit):\n",
    "    if l >= limit: break\n",
    "    add_item(source, redirects, index_map, split[0])\n",
    "    add_item(destination, redirects, index_map, split[2])\n",
    "    data.append(1)"
   ]
  },
  {
   "cell_type": "code",
   "execution_count": 379,
   "metadata": {},
   "outputs": [
    {
     "data": {
      "text/plain": [
       "119077682"
      ]
     },
     "execution_count": 379,
     "metadata": {},
     "output_type": "execute_result"
    }
   ],
   "source": [
    "n=len(data); n"
   ]
  },
  {
   "cell_type": "markdown",
   "metadata": {},
   "source": [
    "### Looking at our data"
   ]
  },
  {
   "cell_type": "markdown",
   "metadata": {},
   "source": [
    "The below steps are just to illustrate what info is in our data and how it is structured.  They are not efficient."
   ]
  },
  {
   "cell_type": "markdown",
   "metadata": {},
   "source": [
    "Let's see what type of items are in index_map:"
   ]
  },
  {
   "cell_type": "code",
   "execution_count": 425,
   "metadata": {},
   "outputs": [
    {
     "data": {
      "text/plain": [
       "(b'1940_Cincinnati_Reds_Team_Issue', 9991173)"
      ]
     },
     "execution_count": 425,
     "metadata": {},
     "output_type": "execute_result"
    }
   ],
   "source": [
    "index_map.popitem()"
   ]
  },
  {
   "cell_type": "markdown",
   "metadata": {},
   "source": [
    "Let's look at one item in our index map:"
   ]
  },
  {
   "cell_type": "markdown",
   "metadata": {},
   "source": [
    "1940_Cincinnati_Reds_Team_Issue has index $9991173$.  This only shows up once in the destination list:"
   ]
  },
  {
   "cell_type": "code",
   "execution_count": 427,
   "metadata": {},
   "outputs": [
    {
     "data": {
      "text/plain": [
       "[119077649]"
      ]
     },
     "execution_count": 427,
     "metadata": {},
     "output_type": "execute_result"
    }
   ],
   "source": [
    "[i for i,x in enumerate(source) if x == 9991173]"
   ]
  },
  {
   "cell_type": "code",
   "execution_count": 428,
   "metadata": {},
   "outputs": [
    {
     "data": {
      "text/plain": [
       "(9991173, 9991050)"
      ]
     },
     "execution_count": 428,
     "metadata": {},
     "output_type": "execute_result"
    }
   ],
   "source": [
    "source[119077649], destination[119077649]"
   ]
  },
  {
   "cell_type": "markdown",
   "metadata": {},
   "source": [
    "Now, we want to check which page is the source (has index $9991050$).  Note: usually you should not access a dictionary by searching for its values.  This is inefficient and not how dictionaries are intended to be used."
   ]
  },
  {
   "cell_type": "code",
   "execution_count": 429,
   "metadata": {},
   "outputs": [
    {
     "name": "stdout",
     "output_type": "stream",
     "text": [
      "b'W711-2'\n"
     ]
    }
   ],
   "source": [
    "for page_name, index in index_map.items():\n",
    "    if index == 9991050:\n",
    "        print(page_name)"
   ]
  },
  {
   "cell_type": "markdown",
   "metadata": {},
   "source": [
    "We can see on Wikipedia that the Cincinati Red Teams Issue has [redirected to W711-2](https://en.wikipedia.org/wiki/W711-2):\n",
    "\n",
    "<img src=\"images/cincinnati_reds.png\" alt=\"\" style=\"width: 70%\"/>"
   ]
  },
  {
   "cell_type": "code",
   "execution_count": 431,
   "metadata": {
    "collapsed": true
   },
   "outputs": [],
   "source": [
    "test_inds = [i for i,x in enumerate(source) if x == 9991050]"
   ]
  },
  {
   "cell_type": "code",
   "execution_count": 466,
   "metadata": {},
   "outputs": [
    {
     "data": {
      "text/plain": [
       "47"
      ]
     },
     "execution_count": 466,
     "metadata": {},
     "output_type": "execute_result"
    }
   ],
   "source": [
    "len(test_inds)"
   ]
  },
  {
   "cell_type": "code",
   "execution_count": 433,
   "metadata": {},
   "outputs": [
    {
     "data": {
      "text/plain": [
       "[119076756, 119076757, 119076758, 119076759, 119076760]"
      ]
     },
     "execution_count": 433,
     "metadata": {},
     "output_type": "execute_result"
    }
   ],
   "source": [
    "test_inds[:5]"
   ]
  },
  {
   "cell_type": "code",
   "execution_count": 434,
   "metadata": {
    "collapsed": true
   },
   "outputs": [],
   "source": [
    "test_dests = [destination[i] for i in test_inds]"
   ]
  },
  {
   "cell_type": "markdown",
   "metadata": {},
   "source": [
    "Now, we want to check which page is the source (has index 9991174):"
   ]
  },
  {
   "cell_type": "code",
   "execution_count": 435,
   "metadata": {},
   "outputs": [
    {
     "name": "stdout",
     "output_type": "stream",
     "text": [
      "b'Baseball'\n",
      "b'Ohio'\n",
      "b'Cincinnati'\n",
      "b'Flash_Thompson'\n",
      "b'1940'\n",
      "b'1938'\n",
      "b'Lonny_Frey'\n",
      "b'Cincinnati_Reds'\n",
      "b'Ernie_Lombardi'\n",
      "b'Baseball_card'\n",
      "b'James_Wilson'\n",
      "b'Trading_card'\n",
      "b'Detroit_Tigers'\n",
      "b'Baseball_culture'\n",
      "b'Frank_McCormick'\n",
      "b'Bucky_Walters'\n",
      "b'1940_World_Series'\n",
      "b'Billy_Werber'\n",
      "b'Ival_Goodman'\n",
      "b'Harry_Craft'\n",
      "b'Paul_Derringer'\n",
      "b'Johnny_Vander_Meer'\n",
      "b'Cigarette_card'\n",
      "b'Eddie_Joost'\n",
      "b'Myron_McCormick'\n",
      "b'Beckett_Media'\n",
      "b'Icarus_affair'\n",
      "b'Ephemera'\n",
      "b'Sports_card'\n",
      "b'James_Turner'\n",
      "b'Jimmy_Ripple'\n",
      "b'Lewis_Riggs'\n",
      "b'The_American_Card_Catalog'\n",
      "b'Rookie_card'\n",
      "b'Willard_Hershberger'\n",
      "b'Elmer_Riddle'\n",
      "b'Joseph_Beggs'\n",
      "b'Witt_Guise'\n",
      "b'Milburn_Shoffner'\n"
     ]
    }
   ],
   "source": [
    "for page_name, index in index_map.items():\n",
    "    if index in test_dests:\n",
    "        print(page_name)"
   ]
  },
  {
   "cell_type": "markdown",
   "metadata": {},
   "source": [
    "We can see that the items in the list appear in the wikipedia page:\n",
    "\n",
    "<img src=\"images/cincinnati_reds2.png\" alt=\"\" style=\"width: 100%\"/>\n",
    "(Source: [Wikipedia](https://en.wikipedia.org/wiki/W711-2))\n"
   ]
  },
  {
   "cell_type": "markdown",
   "metadata": {},
   "source": [
    "### Create Matrix"
   ]
  },
  {
   "cell_type": "markdown",
   "metadata": {},
   "source": [
    "Below we create a sparse matrix using Scipy's COO format, and that convert it to CSR.\n",
    "\n",
    "**Questions**: What are COO and CSR?  Why would we create it with COO and then convert it right away?"
   ]
  },
  {
   "cell_type": "code",
   "execution_count": 341,
   "metadata": {
    "collapsed": true
   },
   "outputs": [],
   "source": [
    "X = sparse.coo_matrix((data, (destination,source)), shape=(n,n), dtype=np.float32)\n",
    "X = X.tocsr()"
   ]
  },
  {
   "cell_type": "code",
   "execution_count": 347,
   "metadata": {
    "collapsed": true
   },
   "outputs": [],
   "source": [
    "del(data,destination, source)"
   ]
  },
  {
   "cell_type": "code",
   "execution_count": 342,
   "metadata": {},
   "outputs": [
    {
     "data": {
      "text/plain": [
       "<119077682x119077682 sparse matrix of type '<class 'numpy.float32'>'\n",
       "\twith 93985520 stored elements in Compressed Sparse Row format>"
      ]
     },
     "execution_count": 342,
     "metadata": {},
     "output_type": "execute_result"
    }
   ],
   "source": [
    "X"
   ]
  },
  {
   "cell_type": "code",
   "execution_count": 343,
   "metadata": {
    "collapsed": true
   },
   "outputs": [],
   "source": [
    "names = {i: name for name, i in index_map.items()}"
   ]
  },
  {
   "cell_type": "code",
   "execution_count": 349,
   "metadata": {},
   "outputs": [
    {
     "data": {
      "text/plain": [
       "12.903882752"
      ]
     },
     "execution_count": 349,
     "metadata": {},
     "output_type": "execute_result"
    }
   ],
   "source": [
    "mem_usage()"
   ]
  },
  {
   "cell_type": "markdown",
   "metadata": {},
   "source": [
    "### Save matrix so we don't have to recompute"
   ]
  },
  {
   "cell_type": "code",
   "execution_count": 350,
   "metadata": {
    "collapsed": true
   },
   "outputs": [],
   "source": [
    "pickle.dump(X, open(PATH+'X.pkl', 'wb'))\n",
    "pickle.dump(index_map, open(PATH+'index_map.pkl', 'wb'))"
   ]
  },
  {
   "cell_type": "code",
   "execution_count": 316,
   "metadata": {
    "collapsed": true
   },
   "outputs": [],
   "source": [
    "X = pickle.load(open(PATH+'X.pkl', 'rb'))\n",
    "index_map = pickle.load(open(PATH+'index_map.pkl', 'rb'))"
   ]
  },
  {
   "cell_type": "code",
   "execution_count": 317,
   "metadata": {
    "collapsed": true
   },
   "outputs": [],
   "source": [
    "names = {i: name for name, i in index_map.items()}"
   ]
  },
  {
   "cell_type": "code",
   "execution_count": 351,
   "metadata": {},
   "outputs": [
    {
     "data": {
      "text/plain": [
       "<119077682x119077682 sparse matrix of type '<class 'numpy.float32'>'\n",
       "\twith 93985520 stored elements in Compressed Sparse Row format>"
      ]
     },
     "execution_count": 351,
     "metadata": {},
     "output_type": "execute_result"
    }
   ],
   "source": [
    "X"
   ]
  },
  {
   "cell_type": "markdown",
   "metadata": {},
   "source": [
    "## Power method"
   ]
  },
  {
   "cell_type": "markdown",
   "metadata": {},
   "source": [
    "### Motivation"
   ]
  },
  {
   "cell_type": "markdown",
   "metadata": {},
   "source": [
    "An $n \\times n$ matrix $A$ is **diagonalizable** if it has $n$ linearly independent eigenvectors $v_1,\\, \\ldots v_n$.\n",
    "\n",
    "Then any $w$ can be expressed $w = \\sum_{j=1}^n c_j v_j $, for some scalars $c_j$.\n",
    "\n",
    "**Exercise:** Show that $$ A^k w = \\sum_{j=1}^n c_j \\lambda_j^k v_j$$\n",
    "\n",
    "**Question**: How will this behave for large $k$?"
   ]
  },
  {
   "cell_type": "markdown",
   "metadata": {},
   "source": [
    "This is inspiration for the **power method**."
   ]
  },
  {
   "cell_type": "markdown",
   "metadata": {},
   "source": [
    "### Code"
   ]
  },
  {
   "cell_type": "code",
   "execution_count": 281,
   "metadata": {
    "collapsed": true
   },
   "outputs": [],
   "source": [
    "def show_ex(v):\n",
    "    print(', '.join(names[i].decode() for i in np.abs(v.squeeze()).argsort()[-1:-10:-1]))"
   ]
  },
  {
   "cell_type": "code",
   "execution_count": 453,
   "metadata": {
    "collapsed": true
   },
   "outputs": [],
   "source": [
    "?np.squeeze"
   ]
  },
  {
   "cell_type": "markdown",
   "metadata": {},
   "source": [
    "How to normalize a sparse matrix:"
   ]
  },
  {
   "cell_type": "code",
   "execution_count": 336,
   "metadata": {},
   "outputs": [
    {
     "data": {
      "text/plain": [
       "array([4, 6], dtype=int64)"
      ]
     },
     "execution_count": 336,
     "metadata": {},
     "output_type": "execute_result"
    }
   ],
   "source": [
    "S = sparse.csr_matrix(np.array([[1,2],[3,4]]))\n",
    "Sr = S.sum(axis=0).A1; Sr"
   ]
  },
  {
   "cell_type": "markdown",
   "metadata": {},
   "source": [
    "[numpy.matrix.A1](https://docs.scipy.org/doc/numpy/reference/generated/numpy.matrix.A1.html#numpy.matrix.A1)"
   ]
  },
  {
   "cell_type": "code",
   "execution_count": 337,
   "metadata": {},
   "outputs": [
    {
     "data": {
      "text/plain": [
       "array([0, 1, 0, 1], dtype=int32)"
      ]
     },
     "execution_count": 337,
     "metadata": {},
     "output_type": "execute_result"
    }
   ],
   "source": [
    "S.indices"
   ]
  },
  {
   "cell_type": "code",
   "execution_count": 338,
   "metadata": {},
   "outputs": [
    {
     "data": {
      "text/plain": [
       "array([1, 2, 3, 4], dtype=int64)"
      ]
     },
     "execution_count": 338,
     "metadata": {},
     "output_type": "execute_result"
    }
   ],
   "source": [
    "S.data"
   ]
  },
  {
   "cell_type": "code",
   "execution_count": 339,
   "metadata": {},
   "outputs": [
    {
     "data": {
      "text/plain": [
       "array([ 0.25   ,  0.33333,  0.75   ,  0.66667])"
      ]
     },
     "execution_count": 339,
     "metadata": {},
     "output_type": "execute_result"
    }
   ],
   "source": [
    "S.data / np.take(Sr, S.indices)"
   ]
  },
  {
   "cell_type": "code",
   "execution_count": 328,
   "metadata": {
    "collapsed": true
   },
   "outputs": [],
   "source": [
    "def power_method(A, max_iter=100):\n",
    "    n = A.shape[1]\n",
    "    A = np.copy(A)\n",
    "    A.data /= np.take(A.sum(axis=0).A1, A.indices)\n",
    "\n",
    "    scores = np.ones(n, dtype=np.float32) * np.sqrt(A.sum()/(n*n)) # initial guess\n",
    "    for i in range(max_iter):\n",
    "        scores = A @ scores\n",
    "        nrm = np.linalg.norm(scores)\n",
    "        scores /= nrm\n",
    "        print(nrm)\n",
    "\n",
    "    return scores"
   ]
  },
  {
   "cell_type": "markdown",
   "metadata": {},
   "source": [
    "**Question**: Why normalize the scores on each iteration?"
   ]
  },
  {
   "cell_type": "code",
   "execution_count": 345,
   "metadata": {},
   "outputs": [
    {
     "name": "stdout",
     "output_type": "stream",
     "text": [
      "0.621209\n",
      "0.856139\n",
      "1.02793\n",
      "1.02029\n",
      "1.02645\n",
      "1.02504\n",
      "1.02364\n",
      "1.02126\n",
      "1.019\n",
      "1.01679\n"
     ]
    }
   ],
   "source": [
    "scores = power_method(X, max_iter=10)"
   ]
  },
  {
   "cell_type": "code",
   "execution_count": 346,
   "metadata": {
    "scrolled": false
   },
   "outputs": [
    {
     "name": "stdout",
     "output_type": "stream",
     "text": [
      "Living_people, Year_of_birth_missing_%28living_people%29, United_States, United_Kingdom, Race_and_ethnicity_in_the_United_States_Census, France, Year_of_birth_missing, World_War_II, Germany\n"
     ]
    }
   ],
   "source": [
    "show_ex(scores)"
   ]
  },
  {
   "cell_type": "code",
   "execution_count": null,
   "metadata": {
    "collapsed": true
   },
   "outputs": [],
   "source": []
  },
  {
   "cell_type": "code",
   "execution_count": 327,
   "metadata": {},
   "outputs": [
    {
     "data": {
      "text/plain": [
       "11.692331008"
      ]
     },
     "execution_count": 327,
     "metadata": {},
     "output_type": "execute_result"
    }
   ],
   "source": [
    "mem_usage()"
   ]
  },
  {
   "cell_type": "markdown",
   "metadata": {},
   "source": [
    "### Comments"
   ]
  },
  {
   "cell_type": "markdown",
   "metadata": {},
   "source": [
    "Many advanced eigenvalue algorithms that are used in practice are variations on the power method.\n",
    "\n",
    "In Lesson 3: Background Removal, we used Facebook's [fast randomized pca/svd library, fbpca](https://github.com/facebook/fbpca).  Check out [the source code](https://github.com/facebook/fbpca/blob/master/fbpca.py#L1549) for the pca method we used. It uses the power method!"
   ]
  },
  {
   "cell_type": "markdown",
   "metadata": {},
   "source": [
    "**Further Study**\n",
    "\n",
    "- Check out [Google Page Rank, Power Iteration and the Second EigenValue of the Google Matrix](http://rstudio-pubs-static.s3.amazonaws.com/239261_8a607707294341c4b7e26acf728c28bd.html) for animations of the distribution as it converges.\n",
    "\n",
    "- The convergence rate of the power method is the ratio of the largest eigenvalue to the 2nd largest eigenvalue.  It can be speeded up by adding *shifts*.  To find eigenvalues other than the largest, a method called *deflation* can be used.  See Chapter 12.1 of Greenbaum & Chartier for more details.\n",
    "\n",
    "- *Krylov Subspaces*: In the Power Iteration, notice that we multiply by our matrix A each time, effectively calculating $$Ab,\\,A^2b,\\,A^3b,\\,A^4b\\, \\ldots$$\n",
    "  \n",
    "  The matrix with those vectors as columns is called the *Krylov matrix*, and the space spanned by those vectors is the *Krylov subspace*.  Keep this in mind for later."
   ]
  },
  {
   "cell_type": "markdown",
   "metadata": {
    "heading_collapsed": true
   },
   "source": [
    "### Compare to SVD"
   ]
  },
  {
   "cell_type": "code",
   "execution_count": 27,
   "metadata": {
    "hidden": true
   },
   "outputs": [
    {
     "name": "stdout",
     "output_type": "stream",
     "text": [
      "CPU times: user 8min 40s, sys: 1min 20s, total: 10min 1s\n",
      "Wall time: 5min 56s\n"
     ]
    }
   ],
   "source": [
    "%time U, s, V = randomized_svd(X, 3, n_iter=3)"
   ]
  },
  {
   "cell_type": "code",
   "execution_count": 28,
   "metadata": {
    "hidden": true
   },
   "outputs": [
    {
     "data": {
      "text/plain": [
       "28.353073152"
      ]
     },
     "execution_count": 28,
     "metadata": {},
     "output_type": "execute_result"
    }
   ],
   "source": [
    "mem_usage()"
   ]
  },
  {
   "cell_type": "code",
   "execution_count": 30,
   "metadata": {
    "hidden": true
   },
   "outputs": [
    {
     "name": "stdout",
     "output_type": "stream",
     "text": [
      "List_of_World_War_II_air_aces, List_of_animated_feature-length_films, List_of_animated_feature_films:2000s, International_Swimming_Hall_of_Fame, List_of_museum_ships, List_of_linguists, List_of_television_programs_by_episode_count, List_of_game_show_hosts, List_of_astronomers\n"
     ]
    }
   ],
   "source": [
    "# Top wikipedia pages according to principal singular vectors\n",
    "show_ex(U.T[0])"
   ]
  },
  {
   "cell_type": "code",
   "execution_count": 31,
   "metadata": {
    "hidden": true
   },
   "outputs": [
    {
     "name": "stdout",
     "output_type": "stream",
     "text": [
      "List_of_former_United_States_senators, List_of_United_States_Representatives_from_New_York, List_of_United_States_Representatives_from_Pennsylvania, Members_of_the_110th_United_States_Congress, List_of_Justices_of_the_Ohio_Supreme_Court, Congressional_endorsements_for_the_2008_United_States_presidential_election, List_of_United_States_Representatives_in_the_110th_Congress_by_seniority, List_of_Members_of_the_United_States_House_of_Representatives_in_the_103rd_Congress_by_seniority, List_of_United_States_Representatives_in_the_111th_Congress_by_seniority\n"
     ]
    }
   ],
   "source": [
    "show_ex(U.T[1])"
   ]
  },
  {
   "cell_type": "code",
   "execution_count": 32,
   "metadata": {
    "hidden": true,
    "scrolled": true
   },
   "outputs": [
    {
     "name": "stdout",
     "output_type": "stream",
     "text": [
      "United_States, Japan, United_Kingdom, Germany, Race_and_ethnicity_in_the_United_States_Census, France, United_States_Army_Air_Forces, Australia, Canada\n"
     ]
    }
   ],
   "source": [
    "show_ex(V[0])"
   ]
  },
  {
   "cell_type": "code",
   "execution_count": 33,
   "metadata": {
    "hidden": true,
    "scrolled": true
   },
   "outputs": [
    {
     "name": "stdout",
     "output_type": "stream",
     "text": [
      "Democratic_Party_%28United_States%29, Republican_Party_%28United_States%29, Democratic-Republican_Party, United_States, Whig_Party_%28United_States%29, Federalist_Party, National_Republican_Party, Catholic_Church, Jacksonian_democracy\n"
     ]
    }
   ],
   "source": [
    "show_ex(V[1])"
   ]
  },
  {
   "cell_type": "markdown",
   "metadata": {
    "hidden": true
   },
   "source": [
    "**Exercise:** Normalize the data in various ways.  Don't overwrite the adjacency matrix, but instead create a new one.  See how your results differ."
   ]
  },
  {
   "cell_type": "markdown",
   "metadata": {
    "hidden": true
   },
   "source": [
    "**Eigen Decomposition vs SVD:**\n",
    "- SVD involves 2 bases, eigen decomposition involves 1 basis\n",
    "- SVD bases are orthonormal, eigen basis generally not orthogonal\n",
    "- All matrices have an SVD, not all matrices (not even all square) have an eigen decomposition"
   ]
  },
  {
   "cell_type": "markdown",
   "metadata": {},
   "source": [
    "## QR Algorithm"
   ]
  },
  {
   "cell_type": "markdown",
   "metadata": {},
   "source": [
    "We used the power method to find the eigenvector corresponding to the largest eigenvalue of our matrix of Wikipedia links.  This eigenvector gave us the relative importance of each Wikipedia page (like a simplified PageRank).\n",
    "\n",
    "Next, let's look at a method for finding all eigenvalues of a symmetric, positive definite matrix.  This method includes 2 fundamental algorithms in numerical linear algebra, and is a basis for many more complex methods.\n",
    "\n",
    "[The Second Eigenvalue of the Google Matrix](https://nlp.stanford.edu/pubs/secondeigenvalue.pdf): has \"implications for the convergence rate of the standard PageRank algorithm as the web scales, for the stability of PageRank to perturbations to the link structure of the web, for the detection of Google spammers, and for the design of algorithms to speed up PageRank\".\n"
   ]
  },
  {
   "cell_type": "markdown",
   "metadata": {},
   "source": [
    "### Avoiding Confusion: QR Algorithm vs QR Decomposition"
   ]
  },
  {
   "cell_type": "markdown",
   "metadata": {},
   "source": [
    "The **QR algorithm** uses something called the **QR decomposition**.  Both are important, so don't get them confused.  The **QR decomposition** decomposes a matrix $A = QR$ into a set of orthonormal columns $Q$ and a triangular matrix $R$.  We will look at several ways to calculate the QR decomposition in a future lesson.  For now, just know that it is giving us an orthogonal matrix and a triangular matrix."
   ]
  },
  {
   "cell_type": "markdown",
   "metadata": {},
   "source": [
    "### Linear Algebra"
   ]
  },
  {
   "cell_type": "markdown",
   "metadata": {},
   "source": [
    "Two matrices $A$ and $B$ are **similar** if there exists a non-singular matrix $X$ such that $$B = X^{-1}AX$$\n",
    "\n",
    "Watch this: [Change of Basis](https://www.youtube.com/watch?v=P2LTAUO1TdA&index=13&list=PLZHQObOWTQDPD3MizzM2xVFitgF8hE_ab)\n",
    "\n",
    "**Theorem**: If $X$ is non-singular, then $A$ and $X^{-1}AX$ have the same eigenvalues."
   ]
  },
  {
   "cell_type": "markdown",
   "metadata": {},
   "source": [
    "#### More Linear Algebra"
   ]
  },
  {
   "cell_type": "markdown",
   "metadata": {},
   "source": [
    "A **Schur factorization** of a matrix $A$ is a factorization:\n",
    "$$ A = Q T Q^*$$\n",
    "where $Q$ is unitary and $T$ is upper-triangular.\n",
    "\n",
    "**Question**: What can you say about the eigenvalues of $A$?\n",
    "\n",
    "**Theorem:** Every square matrix has a Schur factorization."
   ]
  },
  {
   "cell_type": "markdown",
   "metadata": {
    "heading_collapsed": true
   },
   "source": [
    "#### Other resources"
   ]
  },
  {
   "cell_type": "markdown",
   "metadata": {
    "hidden": true
   },
   "source": [
    "Review: [Linear combinations, span, and basis vectors](https://www.youtube.com/watch?v=k7RM-ot2NWY&index=3&list=PLZHQObOWTQDPD3MizzM2xVFitgF8hE_ab)\n",
    "\n",
    "See Lecture 24 for proofs of above theorems (and more!)"
   ]
  },
  {
   "cell_type": "markdown",
   "metadata": {},
   "source": [
    "### Algorithm"
   ]
  },
  {
   "cell_type": "markdown",
   "metadata": {},
   "source": [
    "The most basic version of the QR algorithm:\n",
    "\n",
    "    for k=1,2,...\n",
    "        Q, R = A\n",
    "        A = R @ Q\n",
    "        \n",
    "Under suitable assumptions, this algorithm converges to the Schur form of A!"
   ]
  },
  {
   "cell_type": "markdown",
   "metadata": {},
   "source": [
    "#### Why it works"
   ]
  },
  {
   "cell_type": "markdown",
   "metadata": {},
   "source": [
    "Written again, only with subscripts:\n",
    "\n",
    "$A_0 = A$\n",
    "\n",
    "for $k=1,2,\\ldots$\n",
    "\n",
    "   $\\quad Q_k$, $R_k$ = $A_{k-1}$\n",
    "    \n",
    "   $\\quad A_k$ = $R_k Q_k$\n",
    "        \n",
    "We can think of this as constructing sequences of $A_k$, $Q_k$, and $R_k$.\n",
    "\n",
    "$$ A_k = Q_k \\, R_k $$\n",
    "\n",
    "$$ Q_k^{-1} \\, A_k = R_k$$\n",
    "\n",
    "Thus, \n",
    "\n",
    "$$ R_k Q_k = Q_k^{-1} \\, A_k \\, Q_k $$\n",
    "\n",
    "$$A_k = Q_k^{-1} Q_2^{-1} Q_1^{-1} A Q_1 Q_2 \\dots Q_k$$\n",
    "\n",
    "Trefethen proves the following on page 216-217:\n",
    "\n",
    "$$A^k = Q_1 Q_2 \\dots Q_k R_k R_{k-1}\\dots R_1$$\n",
    "\n",
    "**Key**: The QR algorithm constructs orthonormal bases for successive powers $A^k$.  And remember the close relationship between powers of A and the eigen decomposition.\n",
    "\n",
    "To learn more, read up on *Rayleigh quotients*."
   ]
  },
  {
   "cell_type": "markdown",
   "metadata": {},
   "source": [
    "#### Pure QR"
   ]
  },
  {
   "cell_type": "code",
   "execution_count": 467,
   "metadata": {
    "collapsed": true
   },
   "outputs": [],
   "source": [
    "n = 6\n",
    "A = np.random.rand(n,n)\n",
    "AT = A @ A.T"
   ]
  },
  {
   "cell_type": "code",
   "execution_count": 474,
   "metadata": {
    "collapsed": true
   },
   "outputs": [],
   "source": [
    "def pure_qr(A, max_iter=50000):\n",
    "    Ak = np.copy(A)\n",
    "    n = A.shape[0]\n",
    "    QQ = np.eye(n)\n",
    "    for k in range(max_iter):\n",
    "        Q, R = np.linalg.qr(Ak)\n",
    "        Ak = R @ Q\n",
    "        QQ = QQ @ Q\n",
    "        if k % 100 == 0:\n",
    "            print(Ak)\n",
    "            print(\"\\n\")\n",
    "    return Ak, QQ"
   ]
  },
  {
   "cell_type": "markdown",
   "metadata": {},
   "source": [
    "#### Pure QR"
   ]
  },
  {
   "cell_type": "code",
   "execution_count": 475,
   "metadata": {
    "scrolled": true
   },
   "outputs": [
    {
     "name": "stdout",
     "output_type": "stream",
     "text": [
      "[[ 2.65646  0.21386  0.16765  0.75256  0.61251  0.93518]\n",
      " [ 0.52744  0.47579  0.17052 -0.41086 -0.21182 -0.01876]\n",
      " [ 0.29923  0.06964  0.11173  0.1879  -0.29101  0.60032]\n",
      " [ 0.2274   0.46162 -0.26654  0.08899  0.24631  0.26447]\n",
      " [-0.06093  0.02892  0.34162  0.07533  0.02393 -0.05456]\n",
      " [-0.06025  0.02694 -0.11675 -0.00927 -0.11939 -0.00767]]\n",
      "\n",
      "\n",
      "[[ 2.78023  0.52642  0.0395  -0.11135  0.1569   1.15184]\n",
      " [ 0.       0.18624 -0.297   -0.07256 -0.04537  0.27907]\n",
      " [ 0.       0.69328  0.34105 -0.12198  0.11029  0.0992 ]\n",
      " [-0.      -0.0494  -0.02057  0.09461  0.59466  0.09115]\n",
      " [-0.       0.00008 -0.02659 -0.40372  0.06542  0.38612]\n",
      " [-0.       0.       0.       0.      -0.      -0.11832]]\n",
      "\n",
      "\n",
      "[[ 2.78023 -0.12185 -0.51401  0.17625 -0.07467  1.15184]\n",
      " [ 0.       0.2117  -0.70351  0.09974 -0.02986  0.00172]\n",
      " [ 0.       0.28284  0.32635 -0.0847  -0.08488 -0.29104]\n",
      " [-0.      -0.00068 -0.00088 -0.01282  0.54836  0.13447]\n",
      " [-0.       0.      -0.00102 -0.45718  0.16208 -0.37726]\n",
      " [-0.       0.       0.       0.      -0.      -0.11832]]\n",
      "\n",
      "\n",
      "[[ 2.78023 -0.33997  0.4049   0.17949  0.06291  1.15184]\n",
      " [ 0.       0.48719 -0.48788 -0.05831 -0.12286 -0.23486]\n",
      " [ 0.       0.49874  0.05104 -0.07191  0.03638  0.17261]\n",
      " [ 0.       0.00002  0.       0.02128  0.41958  0.3531 ]\n",
      " [ 0.      -0.       0.00002 -0.58571  0.1278  -0.18838]\n",
      " [ 0.       0.       0.      -0.       0.      -0.11832]]\n",
      "\n",
      "\n",
      "[[ 2.78023  0.35761  0.38941  0.07462  0.17493  1.15184]\n",
      " [ 0.       0.0597  -0.55441 -0.0681  -0.04456  0.14084]\n",
      " [ 0.       0.43221  0.47853 -0.06068  0.12117  0.25519]\n",
      " [-0.      -0.      -0.       0.16206  0.45708  0.37724]\n",
      " [-0.       0.      -0.      -0.54821 -0.01298  0.1336 ]\n",
      " [ 0.       0.       0.       0.      -0.      -0.11832]]\n",
      "\n",
      "\n",
      "[[ 2.78023  0.06853 -0.52424  0.05224 -0.18287  1.15184]\n",
      " [ 0.       0.36572 -0.6889   0.07864 -0.09263  0.105  ]\n",
      " [ 0.       0.29772  0.17251 -0.09836 -0.02347 -0.27191]\n",
      " [ 0.      -0.      -0.       0.13719  0.57888 -0.20884]\n",
      " [ 0.       0.      -0.      -0.42642  0.01189 -0.34139]\n",
      " [ 0.       0.       0.       0.      -0.      -0.11832]]\n",
      "\n",
      "\n",
      "[[ 2.78023 -0.52782  0.03045 -0.14389 -0.12436  1.15184]\n",
      " [ 0.       0.25091 -0.27593  0.08994 -0.06581 -0.28672]\n",
      " [ 0.       0.7107   0.28732  0.10154  0.04751 -0.05245]\n",
      " [ 0.      -0.      -0.       0.0297  -0.59054 -0.01234]\n",
      " [ 0.      -0.       0.       0.41475  0.11938 -0.40001]\n",
      " [ 0.       0.       0.       0.       0.      -0.11832]]\n",
      "\n",
      "\n",
      "[[ 2.78023  0.1533   0.50599  0.18983  0.01158  1.15184]\n",
      " [ 0.       0.18627 -0.69511 -0.0991  -0.00189  0.01621]\n",
      " [ 0.       0.29151  0.35196  0.05638 -0.10949  0.29102]\n",
      " [ 0.      -0.      -0.      -0.02207 -0.48261  0.25246]\n",
      " [ 0.      -0.       0.       0.52268  0.17116  0.31053]\n",
      " [ 0.       0.       0.       0.       0.      -0.11832]]\n",
      "\n",
      "\n",
      "[[ 2.78023  0.29683 -0.43751 -0.13852  0.13032  1.15184]\n",
      " [ 0.       0.48375 -0.53231 -0.01164  0.13482  0.216  ]\n",
      " [ 0.       0.45431  0.05448 -0.07972 -0.01795 -0.19571]\n",
      " [ 0.      -0.       0.       0.10042 -0.40743 -0.39915]\n",
      " [ 0.      -0.       0.       0.59786  0.04867 -0.02893]\n",
      " [ 0.       0.       0.       0.       0.      -0.11832]]\n",
      "\n",
      "\n",
      "[[ 2.78023 -0.39373 -0.35284  0.00838 -0.19     1.15184]\n",
      " [ 0.       0.05184 -0.51278  0.05752 -0.0564  -0.16496]\n",
      " [ 0.       0.47384  0.48639  0.09426  0.09806 -0.24031]\n",
      " [ 0.      -0.      -0.       0.17043 -0.52593  0.30622]\n",
      " [ 0.      -0.       0.       0.47936 -0.02134 -0.25766]\n",
      " [ 0.       0.       0.       0.       0.      -0.11832]]\n",
      "\n",
      "\n",
      "[[ 2.78023 -0.0355   0.52751  0.10215  0.16042  1.15184]\n",
      " [ 0.       0.34047 -0.69946 -0.09606 -0.06944 -0.08773]\n",
      " [ 0.       0.28717  0.19776  0.09382 -0.04624  0.27796]\n",
      " [ 0.      -0.      -0.       0.08542 -0.60072 -0.10298]\n",
      " [ 0.      -0.       0.       0.40458  0.06367  0.38672]\n",
      " [ 0.       0.       0.       0.       0.      -0.11832]]\n",
      "\n",
      "\n",
      "[[ 2.78023  0.51706 -0.11032 -0.17442 -0.07581  1.15184]\n",
      " [ 0.       0.31706 -0.2805  -0.08235  0.0863   0.29136]\n",
      " [ 0.       0.70612  0.22117 -0.09973 -0.02853  0.00826]\n",
      " [ 0.      -0.      -0.      -0.01235 -0.5494  -0.13103]\n",
      " [ 0.      -0.       0.       0.45589  0.16144 -0.37814]\n",
      " [ 0.       0.       0.       0.       0.      -0.11832]]\n",
      "\n",
      "\n",
      "[[ 2.78023 -0.18529 -0.49517 -0.18006  0.06123  1.15184]\n",
      " [ 0.       0.16123 -0.68291 -0.09155  0.0279  -0.03476]\n",
      " [ 0.       0.30371  0.377    0.01655 -0.12472 -0.2894 ]\n",
      " [ 0.       0.       0.       0.01974 -0.42059 -0.35131]\n",
      " [ 0.       0.      -0.       0.5847   0.12935 -0.19168]\n",
      " [ 0.       0.       0.       0.       0.      -0.11832]]\n",
      "\n",
      "\n",
      "[[ 2.78023 -0.25477  0.46327 -0.07615  0.17427  1.15184]\n",
      " [ 0.       0.47278 -0.57146 -0.03461 -0.12937 -0.19683]\n",
      " [ 0.       0.41516  0.06545  0.08395 -0.00278  0.21498]\n",
      " [ 0.      -0.       0.       0.16125 -0.45555 -0.3784 ]\n",
      " [ 0.      -0.       0.       0.54974 -0.01216  0.13028]\n",
      " [ 0.       0.       0.       0.       0.      -0.11832]]\n",
      "\n",
      "\n",
      "[[ 2.78023  0.42908  0.30889  0.05099  0.18322  1.15184]\n",
      " [ 0.       0.05265 -0.46631  0.04976 -0.06424  0.18962]\n",
      " [ 0.       0.52032  0.48558  0.11539  0.07122  0.22136]\n",
      " [ 0.       0.       0.       0.13823 -0.57801 -0.21116]\n",
      " [ 0.       0.      -0.       0.42728  0.01086  0.33995]\n",
      " [ 0.       0.       0.       0.       0.      -0.11832]]\n",
      "\n",
      "\n",
      "[[ 2.78023  0.00334 -0.52869 -0.14306 -0.12531  1.15184]\n",
      " [ 0.       0.3149  -0.7066  -0.10679 -0.04392  0.07066]\n",
      " [ 0.       0.28002  0.22333  0.08372 -0.06816 -0.28278]\n",
      " [ 0.       0.       0.       0.03087 -0.59113 -0.00969]\n",
      " [ 0.       0.      -0.       0.41416  0.11821 -0.40008]\n",
      " [ 0.       0.       0.       0.       0.      -0.11832]]\n",
      "\n",
      "\n",
      "[[ 2.78023 -0.49486  0.18611  0.18973  0.01317  1.15184]\n",
      " [ 0.       0.37763 -0.30407 -0.06365  0.1086  -0.28934]\n",
      " [ 0.       0.68255  0.1606  -0.09511 -0.00985  0.03524]\n",
      " [ 0.       0.       0.      -0.02239 -0.48423  0.24985]\n",
      " [ 0.       0.      -0.       0.52107  0.17148  0.31262]\n",
      " [ 0.       0.       0.       0.       0.      -0.11832]]\n",
      "\n",
      "\n",
      "[[ 2.78023  0.21799  0.48167 -0.13976  0.12898  1.15184]\n",
      " [ 0.       0.13689 -0.66682  0.07458 -0.05442  0.05403]\n",
      " [ 0.       0.31981  0.40134  0.03053  0.12464  0.28642]\n",
      " [ 0.       0.       0.       0.09859 -0.40695 -0.39886]\n",
      " [ 0.       0.      -0.       0.59834  0.0505  -0.03275]\n",
      " [ 0.       0.       0.       0.       0.      -0.11832]]\n",
      "\n",
      "\n",
      "[[ 2.78023  0.21427 -0.48333 -0.00984  0.18993  1.15184]\n",
      " [ 0.       0.45651 -0.60498  0.07108  0.11122  0.17774]\n",
      " [ 0.       0.38164  0.08172 -0.08395  0.02278 -0.23101]\n",
      " [ 0.      -0.       0.       0.17077 -0.52445 -0.30819]\n",
      " [ 0.      -0.       0.       0.48084 -0.02169  0.2553 ]\n",
      " [ 0.       0.       0.       0.       0.      -0.11832]]\n",
      "\n",
      "\n",
      "[[ 2.78023 -0.46223 -0.25664  0.10111  0.16108  1.15184]\n",
      " [ 0.       0.06482 -0.41681 -0.04447  0.07111 -0.21419]\n",
      " [ 0.       0.56981  0.47341 -0.12657 -0.04398 -0.19769]\n",
      " [ 0.       0.       0.       0.08669 -0.60057 -0.10548]\n",
      " [ 0.       0.      -0.       0.40472  0.0624   0.38605]\n",
      " [ 0.       0.       0.       0.       0.      -0.11832]]\n",
      "\n",
      "\n",
      "[[ 2.78023  0.02821  0.52795  0.17386  0.07707  1.15184]\n",
      " [ 0.       0.28917 -0.71053 -0.11126 -0.01551 -0.05366]\n",
      " [ 0.       0.27609  0.24906  0.06641 -0.08922  0.28649]\n",
      " [ 0.      -0.      -0.      -0.01166 -0.55066  0.12827]\n",
      " [ 0.      -0.       0.       0.45463  0.16075  0.37909]\n",
      " [ 0.       0.       0.       0.       0.      -0.11832]]\n",
      "\n",
      "\n",
      "[[ 2.78023  0.46334 -0.25463  0.18062 -0.05954  1.15184]\n",
      " [ 0.       0.42654 -0.3423   0.03075 -0.12716  0.28138]\n",
      " [ 0.       0.64432  0.11169  0.0883  -0.00883 -0.07605]\n",
      " [ 0.       0.       0.       0.01821 -0.42163  0.3495 ]\n",
      " [ 0.       0.      -0.       0.58366  0.13087  0.19495]\n",
      " [ 0.       0.       0.       0.       0.      -0.11832]]\n",
      "\n",
      "\n",
      "[[ 2.78023 -0.25153 -0.46503  0.07768 -0.17359  1.15184]\n",
      " [ 0.       0.11372 -0.64641  0.05247 -0.07193 -0.07417]\n",
      " [ 0.       0.34021  0.42451  0.0736   0.10791 -0.28188]\n",
      " [ 0.      -0.      -0.       0.16041 -0.45403  0.37953]\n",
      " [ 0.      -0.       0.       0.55126 -0.01132 -0.12694]\n",
      " [ 0.       0.       0.       0.       0.      -0.11832]]\n",
      "\n",
      "\n",
      "[[ 2.78023 -0.17551  0.49872 -0.04973 -0.18356  1.15184]\n",
      " [ 0.       0.43663 -0.63305  0.0961   0.08709 -0.15898]\n",
      " [ 0.       0.35358  0.1016  -0.08053  0.04103  0.2443 ]\n",
      " [ 0.       0.      -0.       0.13926 -0.57713  0.21349]\n",
      " [ 0.       0.      -0.       0.42816  0.00983 -0.3385 ]\n",
      " [ 0.       0.       0.       0.       0.      -0.11832]]\n",
      "\n",
      "\n",
      "[[ 2.78023  0.49117  0.19565 -0.14223 -0.12625  1.15184]\n",
      " [ 0.       0.0908  -0.36765 -0.03961  0.07922  0.23763]\n",
      " [ 0.       0.61897  0.44743 -0.12984 -0.01694  0.16879]\n",
      " [ 0.      -0.      -0.       0.03205 -0.5917  -0.00704]\n",
      " [ 0.      -0.       0.       0.41359  0.11704 -0.40014]\n",
      " [ 0.       0.       0.       0.       0.      -0.11832]]\n",
      "\n",
      "\n",
      "[[ 2.78023 -0.05938 -0.52535 -0.18961 -0.01475  1.15184]\n",
      " [ 0.       0.26338 -0.71138 -0.10793  0.01612  0.03662]\n",
      " [ 0.       0.27524  0.27485  0.03935 -0.10739 -0.28917]\n",
      " [ 0.       0.       0.      -0.02269 -0.48584 -0.24724]\n",
      " [ 0.       0.      -0.       0.51945  0.17177 -0.31469]\n",
      " [ 0.       0.       0.       0.       0.      -0.11832]]\n",
      "\n",
      "\n",
      "[[ 2.78023 -0.42532  0.31405 -0.14099  0.12764  1.15184]\n",
      " [ 0.       0.46081 -0.3892  -0.01295 -0.1334  -0.26875]\n",
      " [ 0.       0.59743  0.07742  0.07957 -0.02634  0.11283]\n",
      " [ 0.      -0.      -0.       0.09675 -0.40651 -0.39852]\n",
      " [ 0.      -0.       0.       0.59879  0.05233 -0.03657]\n",
      " [ 0.       0.       0.       0.       0.      -0.11832]]\n",
      "\n",
      "\n",
      "[[ 2.78023  0.28599  0.44467  0.0113  -0.18985  1.15184]\n",
      " [ 0.       0.0924  -0.62121 -0.03168  0.07992  0.09528]\n",
      " [ 0.       0.36541  0.44583 -0.1049  -0.0812   0.27546]\n",
      " [ 0.      -0.      -0.       0.1711  -0.52297  0.31015]\n",
      " [ 0.      -0.       0.       0.48232 -0.02201 -0.25291]\n",
      " [ 0.       0.       0.       0.       0.      -0.11832]]\n",
      "\n",
      "\n",
      "[[ 2.78023  0.13845 -0.51025 -0.10006 -0.16173  1.15184]\n",
      " [ 0.       0.41438 -0.65605 -0.11185 -0.06046  0.14063]\n",
      " [ 0.       0.33057  0.12385  0.07387 -0.05803 -0.2553 ]\n",
      " [ 0.       0.       0.       0.08796 -0.6004   0.10798]\n",
      " [ 0.       0.      -0.       0.40489  0.06113 -0.38536]\n",
      " [ 0.       0.       0.       0.       0.      -0.11832]]\n",
      "\n",
      "\n",
      "[[ 2.78023 -0.5134  -0.12629 -0.1733  -0.07834  1.15184]\n",
      " [ 0.       0.13174 -0.32385  0.0319  -0.08965 -0.25857]\n",
      " [ 0.       0.66277  0.40649  0.12582 -0.01014 -0.13453]\n",
      " [ 0.      -0.      -0.      -0.01095 -0.55191 -0.12551]\n",
      " [ 0.      -0.       0.       0.45338  0.16004 -0.38001]\n",
      " [ 0.       0.       0.       0.       0.      -0.11832]]\n",
      "\n",
      "\n",
      "[[ 2.78023  0.09043  0.52091 -0.18117  0.05785  1.15184]\n",
      " [ 0.       0.2376  -0.70917  0.09396 -0.04876 -0.01941]\n",
      " [ 0.       0.27745  0.30063 -0.00151  0.11739  0.29083]\n",
      " [ 0.       0.       0.       0.01671 -0.4227  -0.34767]\n",
      " [ 0.       0.      -0.       0.58259  0.13238 -0.19821]\n",
      " [ 0.       0.       0.       0.       0.      -0.11832]]\n",
      "\n",
      "\n",
      "[[ 2.78023  0.38356 -0.36387  0.07921 -0.1729   1.15184]\n",
      " [ 0.       0.4804  -0.43903 -0.05633 -0.12341  0.25287]\n",
      " [ 0.       0.54759  0.05783  0.07018 -0.04075 -0.14496]\n",
      " [ 0.       0.      -0.       0.15953 -0.45252  0.38064]\n",
      " [ 0.       0.      -0.       0.55277 -0.01045 -0.12358]\n",
      " [ 0.       0.       0.       0.       0.      -0.11832]]\n",
      "\n",
      "\n",
      "[[ 2.78023 -0.32133 -0.41985  0.04847  0.1839   1.15184]\n",
      " [ 0.       0.07395 -0.59076 -0.01536  0.0819  -0.11744]\n",
      " [ 0.       0.39586  0.46428 -0.12416 -0.05129 -0.26677]\n",
      " [ 0.       0.       0.       0.14027 -0.57624 -0.21581]\n",
      " [ 0.       0.      -0.       0.42905  0.00881  0.33703]\n",
      " [ 0.       0.       0.       0.       0.      -0.11832]]\n",
      "\n",
      "\n",
      "[[ 2.78023 -0.10295  0.51858 -0.14139 -0.12719  1.15184]\n",
      " [ 0.       0.39062 -0.67448  0.12025  0.03188 -0.1227 ]\n",
      " [ 0.       0.31214  0.14761 -0.06308  0.07439  0.26439]\n",
      " [ 0.       0.       0.       0.03323 -0.59225 -0.00439]\n",
      " [ 0.       0.      -0.       0.41304  0.11586 -0.40018]\n",
      " [ 0.       0.       0.       0.       0.      -0.11832]]\n",
      "\n",
      "\n",
      "[[ 2.78023  0.52631  0.05017 -0.18948 -0.01632  1.15184]\n",
      " [ 0.       0.18641 -0.29145 -0.0171   0.10162  0.27541]\n",
      " [ 0.       0.69517  0.35182 -0.11404  0.03696  0.09543]\n",
      " [ 0.      -0.      -0.      -0.02295 -0.48746 -0.24462]\n",
      " [ 0.      -0.       0.       0.51783  0.17204 -0.31674]\n",
      " [ 0.       0.       0.       0.       0.      -0.11832]]\n",
      "\n",
      "\n",
      "[[ 2.78023 -0.12158 -0.51453 -0.14221  0.12628  1.15184]\n",
      " [ 0.       0.21193 -0.70383 -0.06881  0.076    0.0019 ]\n",
      " [ 0.       0.2828   0.3263  -0.04211 -0.11272 -0.29147]\n",
      " [ 0.       0.       0.       0.09491 -0.4061  -0.39816]\n",
      " [ 0.       0.      -0.       0.59919  0.05418 -0.04039]\n",
      " [ 0.       0.       0.       0.       0.      -0.11832]]\n",
      "\n",
      "\n",
      "[[ 2.78023 -0.34032  0.4046   0.01277 -0.18975  1.15184]\n",
      " [ 0.       0.48718 -0.4875   0.09008  0.10189 -0.23501]\n",
      " [ 0.       0.49912  0.05105 -0.06166  0.05188  0.17241]\n",
      " [ 0.       0.      -0.       0.1714  -0.52147  0.3121 ]\n",
      " [ 0.       0.      -0.       0.48382 -0.02232 -0.25051]\n",
      " [ 0.       0.       0.       0.       0.      -0.11832]]\n",
      "\n",
      "\n",
      "[[ 2.78023  0.35731  0.38968  0.09901  0.16238  1.15184]\n",
      " [ 0.       0.0598  -0.55473  0.0032  -0.08133  0.14065]\n",
      " [ 0.       0.43189  0.47843  0.13388  0.02096  0.2553 ]\n",
      " [ 0.       0.       0.       0.08922 -0.60022 -0.11048]\n",
      " [ 0.       0.      -0.       0.40507  0.05986  0.38465]\n",
      " [ 0.       0.       0.       0.       0.      -0.11832]]\n",
      "\n",
      "\n",
      "[[ 2.78023  0.06881 -0.5242  -0.17273 -0.07959  1.15184]\n",
      " [ 0.       0.36593 -0.6888  -0.12153 -0.0007   0.10514]\n",
      " [ 0.       0.29783  0.1723   0.04626 -0.08989 -0.27185]\n",
      " [ 0.       0.       0.      -0.01023 -0.55314 -0.12275]\n",
      " [ 0.       0.      -0.       0.45215  0.15932 -0.38091]\n",
      " [ 0.       0.       0.       0.       0.      -0.11832]]\n",
      "\n",
      "\n"
     ]
    },
    {
     "name": "stdout",
     "output_type": "stream",
     "text": [
      "[[ 2.78023 -0.52786  0.02978  0.1817  -0.05616  1.15184]\n",
      " [ 0.       0.25036 -0.27597  0.00829  0.11107 -0.28665]\n",
      " [ 0.       0.71065  0.28787 -0.09408  0.06109 -0.05281]\n",
      " [ 0.       0.       0.       0.01523 -0.42379  0.34581]\n",
      " [ 0.       0.      -0.       0.5815   0.13386  0.20144]\n",
      " [ 0.       0.       0.       0.       0.      -0.11832]]\n",
      "\n",
      "\n",
      "[[ 2.78023  0.15304  0.50607 -0.08074  0.17219  1.15184]\n",
      " [ 0.       0.18648 -0.6952   0.03825 -0.09147  0.01606]\n",
      " [ 0.       0.29142  0.35175  0.08101  0.09272  0.29103]\n",
      " [ 0.       0.       0.       0.15863 -0.45102 -0.38172]\n",
      " [ 0.       0.      -0.       0.55427 -0.00955  0.1202 ]\n",
      " [ 0.       0.       0.       0.       0.      -0.11832]]\n",
      "\n",
      "\n",
      "[[ 2.78023  0.29718 -0.43727 -0.04721 -0.18423  1.15184]\n",
      " [ 0.       0.48381 -0.53197 -0.11247 -0.07526  0.21616]\n",
      " [ 0.       0.45466  0.05442  0.05413 -0.06119 -0.19553]\n",
      " [ 0.       0.      -0.       0.14128 -0.57533  0.21812]\n",
      " [ 0.       0.      -0.       0.42996  0.00781 -0.33554]\n",
      " [ 0.       0.       0.       0.       0.      -0.11832]]\n",
      "\n",
      "\n",
      "[[ 2.78023 -0.39344 -0.35318  0.14055  0.12812  1.15184]\n",
      " [ 0.       0.05187 -0.51315  0.00659  0.08029 -0.16476]\n",
      " [ 0.       0.47347  0.48636 -0.13567  0.00965 -0.24044]\n",
      " [ 0.       0.       0.       0.03442 -0.59279  0.00175]\n",
      " [ 0.       0.      -0.       0.4125   0.11467  0.4002 ]\n",
      " [ 0.       0.       0.       0.       0.      -0.11832]]\n",
      "\n",
      "\n",
      "[[ 2.78023 -0.03577  0.52749  0.18934  0.01789  1.15184]\n",
      " [ 0.       0.34068 -0.69939 -0.1138   0.03323 -0.08788]\n",
      " [ 0.       0.28724  0.19755  0.02106 -0.10242  0.27791]\n",
      " [ 0.      -0.      -0.      -0.02319 -0.48908  0.24199]\n",
      " [ 0.      -0.       0.       0.51622  0.17228  0.31875]\n",
      " [ 0.       0.       0.       0.       0.      -0.11832]]\n",
      "\n",
      "\n",
      "[[ 2.78023  0.5172  -0.10967 -0.14341  0.12491  1.15184]\n",
      " [ 0.       0.31653 -0.28038  0.04262  0.11135  0.29135]\n",
      " [ 0.       0.70624  0.2217  -0.06857  0.07793  0.00862]\n",
      " [ 0.      -0.      -0.       0.09305 -0.40572 -0.39775]\n",
      " [ 0.      -0.       0.       0.59957  0.05604 -0.04421]\n",
      " [ 0.       0.       0.       0.       0.      -0.11832]]\n",
      "\n",
      "\n",
      "[[ 2.78023 -0.18503 -0.49527 -0.01424  0.18965  1.15184]\n",
      " [ 0.       0.16143 -0.68303 -0.01015  0.09519 -0.0346 ]\n",
      " [ 0.       0.3036   0.3768  -0.10826 -0.06406 -0.28941]\n",
      " [ 0.       0.       0.       0.17168 -0.51997 -0.31403]\n",
      " [ 0.       0.      -0.       0.48532 -0.0226   0.24808]\n",
      " [ 0.       0.       0.       0.       0.      -0.11832]]\n",
      "\n",
      "\n",
      "[[ 2.78023 -0.25511  0.46308  0.09796  0.16302  1.15184]\n",
      " [ 0.       0.4729  -0.57116 -0.12554 -0.04666 -0.19698]\n",
      " [ 0.       0.41546  0.06533  0.04626 -0.07008  0.21484]\n",
      " [ 0.      -0.      -0.       0.09049 -0.60002 -0.11297]\n",
      " [ 0.      -0.       0.       0.40527  0.0586   0.38392]\n",
      " [ 0.       0.       0.       0.       0.      -0.11832]]\n",
      "\n",
      "\n",
      "[[ 2.78023  0.4288   0.30928 -0.17215 -0.08084  1.15184]\n",
      " [ 0.       0.0526  -0.46671  0.01637  0.07958  0.18942]\n",
      " [ 0.       0.51992  0.48563 -0.12923  0.0411   0.22154]\n",
      " [ 0.      -0.      -0.      -0.00949 -0.55436 -0.12   ]\n",
      " [ 0.      -0.       0.       0.45093  0.15858 -0.38179]\n",
      " [ 0.       0.       0.       0.       0.      -0.11832]]\n",
      "\n",
      "\n",
      "[[ 2.78023  0.0036  -0.52869  0.18221 -0.05447  1.15184]\n",
      " [ 0.       0.31511 -0.70655  0.094   -0.06711  0.0708 ]\n",
      " [ 0.       0.28007  0.22312  0.01322  0.10712 -0.28275]\n",
      " [ 0.      -0.      -0.       0.01378 -0.42491  0.34392]\n",
      " [ 0.      -0.       0.       0.58038  0.13531  0.20465]\n",
      " [ 0.       0.       0.       0.       0.      -0.11832]]\n",
      "\n",
      "\n",
      "[[ 2.78023 -0.49508  0.18551 -0.08227  0.17147  1.15184]\n",
      " [ 0.       0.37717 -0.30381 -0.07749 -0.09914 -0.28938]\n",
      " [ 0.       0.68281  0.16106  0.04417 -0.08488  0.03489]\n",
      " [ 0.      -0.      -0.       0.1577  -0.44953 -0.38277]\n",
      " [ 0.      -0.       0.       0.55576 -0.00862  0.11681]\n",
      " [ 0.       0.       0.       0.       0.      -0.11832]]\n",
      "\n",
      "\n",
      "[[ 2.78023  0.21772  0.48179  0.04594  0.18455  1.15184]\n",
      " [ 0.       0.13709 -0.66697 -0.01194 -0.09157  0.05387]\n",
      " [ 0.       0.31966  0.40114  0.12396  0.03308  0.28645]\n",
      " [ 0.       0.       0.       0.14227 -0.5744  -0.22042]\n",
      " [ 0.       0.      -0.       0.43089  0.00681  0.33402]\n",
      " [ 0.       0.       0.       0.       0.      -0.11832]]\n",
      "\n",
      "\n",
      "[[ 2.78023  0.2146  -0.48319 -0.1397  -0.12905  1.15184]\n",
      " [ 0.       0.45666 -0.60473 -0.13098 -0.01645  0.1779 ]\n",
      " [ 0.       0.38189  0.08157  0.0361  -0.07911 -0.23089]\n",
      " [ 0.       0.       0.       0.03561 -0.59331  0.0009 ]\n",
      " [ 0.       0.      -0.       0.41198  0.11347 -0.4002 ]\n",
      " [ 0.       0.       0.       0.       0.      -0.11832]]\n",
      "\n",
      "\n",
      "[[ 2.78023 -0.46197 -0.25711 -0.18919 -0.01945  1.15184]\n",
      " [ 0.       0.06467 -0.41722 -0.02879 -0.07874 -0.21399]\n",
      " [ 0.       0.5694   0.47356  0.11253 -0.07277 -0.19791]\n",
      " [ 0.      -0.      -0.      -0.0234  -0.49069 -0.23935]\n",
      " [ 0.      -0.       0.       0.5146   0.17249 -0.32073]\n",
      " [ 0.       0.       0.       0.       0.      -0.11832]]\n",
      "\n",
      "\n",
      "[[ 2.78023  0.02795  0.52796  0.1446  -0.12353  1.15184]\n",
      " [ 0.       0.28938 -0.71051 -0.06202  0.0937  -0.0538 ]\n",
      " [ 0.       0.27611  0.24885 -0.05182 -0.09838  0.28647]\n",
      " [ 0.      -0.      -0.       0.09118 -0.40539  0.39731]\n",
      " [ 0.      -0.       0.       0.5999   0.0579   0.04803]\n",
      " [ 0.       0.       0.       0.       0.      -0.11832]]\n",
      "\n",
      "\n",
      "[[ 2.78023  0.46363 -0.25411  0.01571 -0.18953  1.15184]\n",
      " [ 0.       0.4262  -0.34194 -0.10508 -0.07786  0.28147]\n",
      " [ 0.       0.64468  0.11203  0.02623 -0.08483 -0.07573]\n",
      " [ 0.       0.      -0.       0.17194 -0.51845  0.31595]\n",
      " [ 0.       0.      -0.       0.48684 -0.02285 -0.24563]\n",
      " [ 0.       0.       0.       0.       0.      -0.11832]]\n",
      "\n",
      "\n",
      "[[ 2.78023 -0.25125 -0.46518 -0.0969  -0.16365  1.15184]\n",
      " [ 0.       0.1139  -0.6466  -0.02852 -0.08437 -0.074  ]\n",
      " [ 0.       0.34003  0.42433  0.13059  0.00215 -0.28193]\n",
      " [ 0.      -0.      -0.       0.09175 -0.59981  0.11546]\n",
      " [ 0.      -0.       0.       0.40549  0.05734 -0.38318]\n",
      " [ 0.       0.       0.       0.       0.      -0.11832]]\n",
      "\n",
      "\n",
      "[[ 2.78023 -0.17582  0.49861 -0.17156 -0.08208  1.15184]\n",
      " [ 0.       0.43681 -0.63284  0.12872 -0.01606 -0.15914]\n",
      " [ 0.       0.35379  0.10142 -0.02137  0.08779  0.2442 ]\n",
      " [ 0.       0.       0.      -0.00874 -0.55557 -0.11724]\n",
      " [ 0.       0.      -0.       0.44972  0.15782 -0.38264]\n",
      " [ 0.       0.       0.       0.       0.      -0.11832]]\n",
      "\n",
      "\n",
      "[[ 2.78023  0.49095  0.19619  0.18271 -0.05278  1.15184]\n",
      " [ 0.       0.09052 -0.36805 -0.04589 -0.07569  0.23745]\n",
      " [ 0.       0.61858  0.44771  0.08364 -0.10079  0.16905]\n",
      " [ 0.       0.       0.       0.01234 -0.42605  0.342  ]\n",
      " [ 0.       0.      -0.       0.57924  0.13674  0.20783]\n",
      " [ 0.       0.       0.       0.       0.      -0.11832]]\n",
      "\n",
      "\n",
      "[[ 2.78023 -0.05913 -0.52538 -0.08379  0.17073  1.15184]\n",
      " [ 0.       0.26359 -0.71139 -0.02488  0.10628  0.03676]\n",
      " [ 0.       0.27524  0.27464 -0.08525 -0.0762  -0.28915]\n",
      " [ 0.       0.       0.       0.15674 -0.44806 -0.3838 ]\n",
      " [ 0.       0.      -0.       0.55723 -0.00766  0.11339]\n",
      " [ 0.       0.       0.       0.       0.      -0.11832]]\n",
      "\n",
      "\n",
      "[[ 2.78023 -0.42565  0.3136   0.04466  0.18486  1.15184]\n",
      " [ 0.       0.46059 -0.38879 -0.12336 -0.05234 -0.26887]\n",
      " [ 0.       0.59783  0.07764  0.0148  -0.08254  0.11255]\n",
      " [ 0.      -0.       0.       0.14326 -0.57346 -0.22273]\n",
      " [ 0.      -0.       0.       0.43183  0.00583  0.33249]\n",
      " [ 0.       0.       0.       0.       0.      -0.11832]]\n",
      "\n",
      "\n",
      "[[ 2.78023  0.28571  0.44486  0.13885  0.12997  1.15184]\n",
      " [ 0.       0.09256 -0.62144 -0.04133 -0.07541  0.0951 ]\n",
      " [ 0.       0.36518  0.44567  0.12946 -0.02889  0.27552]\n",
      " [ 0.       0.       0.       0.03681 -0.59382 -0.00353]\n",
      " [ 0.       0.      -0.       0.41147  0.11228  0.40018]\n",
      " [ 0.       0.       0.       0.       0.      -0.11832]]\n",
      "\n",
      "\n",
      "[[ 2.78023  0.13875 -0.51017  0.18902  0.021    1.15184]\n",
      " [ 0.       0.41457 -0.65588  0.11658 -0.0508   0.14078]\n",
      " [ 0.       0.33074  0.12366  0.00017  0.09391 -0.25522]\n",
      " [ 0.      -0.      -0.      -0.02358 -0.4923   0.2367 ]\n",
      " [ 0.      -0.       0.       0.51299  0.17267  0.32269]\n",
      " [ 0.       0.       0.       0.       0.      -0.11832]]\n",
      "\n",
      "\n",
      "[[ 2.78023 -0.51325 -0.12689 -0.14578  0.12213  1.15184]\n",
      " [ 0.       0.13134 -0.32418 -0.06697 -0.06751 -0.25841]\n",
      " [ 0.       0.66245  0.40688  0.04539 -0.11784 -0.13483]\n",
      " [ 0.      -0.      -0.       0.08931 -0.40509 -0.39683]\n",
      " [ 0.      -0.       0.       0.60021  0.05977 -0.05184]\n",
      " [ 0.       0.       0.       0.       0.      -0.11832]]\n",
      "\n",
      "\n",
      "[[ 2.78023  0.09017  0.52095  0.01719 -0.1894   1.15184]\n",
      " [ 0.       0.23781 -0.7092   0.00841  0.10555 -0.01955]\n",
      " [ 0.       0.27742  0.30042 -0.10755 -0.04702  0.29082]\n",
      " [ 0.      -0.      -0.       0.17218 -0.51693  0.31786]\n",
      " [ 0.      -0.       0.       0.48836 -0.02309 -0.24315]\n",
      " [ 0.       0.       0.       0.       0.      -0.11832]]\n",
      "\n",
      "\n",
      "[[ 2.78023  0.38392 -0.3635   0.09583  0.16427  1.15184]\n",
      " [ 0.       0.48029 -0.43862  0.13335  0.02486  0.25301]\n",
      " [ 0.       0.548    0.05794 -0.00692  0.08087 -0.14472]\n",
      " [ 0.      -0.       0.       0.09301 -0.59957 -0.11794]\n",
      " [ 0.      -0.       0.       0.40572  0.05608  0.38242]\n",
      " [ 0.       0.       0.       0.       0.      -0.11832]]\n",
      "\n",
      "\n",
      "[[ 2.78023 -0.32103 -0.42007  0.17097  0.08331  1.15184]\n",
      " [ 0.       0.07408 -0.59104  0.05211  0.06505 -0.11726]\n",
      " [ 0.       0.39559  0.46415 -0.11986  0.06063 -0.26685]\n",
      " [ 0.       0.       0.      -0.00797 -0.55676  0.11449]\n",
      " [ 0.       0.      -0.       0.44853  0.15705  0.38347]\n",
      " [ 0.       0.       0.       0.       0.      -0.11832]]\n",
      "\n",
      "\n",
      "[[ 2.78023 -0.10324  0.51852  0.18319 -0.05108  1.15184]\n",
      " [ 0.       0.39082 -0.67435 -0.0914   0.08443 -0.12285]\n",
      " [ 0.       0.31227  0.14741 -0.02899 -0.0931   0.26432]\n",
      " [ 0.      -0.      -0.       0.01093 -0.42721  0.34006]\n",
      " [ 0.      -0.       0.       0.57808  0.13815  0.21099]\n",
      " [ 0.       0.       0.       0.       0.      -0.11832]]\n",
      "\n",
      "\n",
      "[[ 2.78023  0.52625  0.05082 -0.08532  0.16997  1.15184]\n",
      " [ 0.       0.18591 -0.29166  0.08808  0.05336  0.27529]\n",
      " [ 0.       0.69497  0.35232 -0.00778  0.11968  0.09577]\n",
      " [ 0.      -0.      -0.       0.15575 -0.4466  -0.3848 ]\n",
      " [ 0.      -0.       0.       0.55869 -0.00667  0.10996]\n",
      " [ 0.       0.       0.       0.       0.      -0.11832]]\n",
      "\n",
      "\n",
      "[[ 2.78023 -0.12132 -0.51459  0.04338  0.18517  1.15184]\n",
      " [ 0.       0.21214 -0.70388  0.03415  0.0967   0.00204]\n",
      " [ 0.       0.28274  0.32609 -0.11915 -0.01656 -0.29147]\n",
      " [ 0.       0.       0.       0.14423 -0.5725  -0.22502]\n",
      " [ 0.       0.      -0.       0.43279  0.00486  0.33095]\n",
      " [ 0.       0.       0.       0.       0.      -0.11832]]\n",
      "\n",
      "\n",
      "[[ 2.78023 -0.34068  0.4043  -0.13799 -0.13088  1.15184]\n",
      " [ 0.       0.48717 -0.48711  0.13592 -0.00445 -0.23517]\n",
      " [ 0.       0.49951  0.05106  0.00074  0.08058  0.1722 ]\n",
      " [ 0.       0.       0.       0.03801 -0.59431  0.00617]\n",
      " [ 0.       0.      -0.       0.41098  0.11107 -0.40015]\n",
      " [ 0.       0.       0.       0.       0.      -0.11832]]\n",
      "\n",
      "\n",
      "[[ 2.78023  0.35701  0.38996 -0.18884 -0.02255  1.15184]\n",
      " [ 0.       0.05989 -0.55505  0.06203  0.05273  0.14045]\n",
      " [ 0.       0.43157  0.47834 -0.09919  0.09232  0.2554 ]\n",
      " [ 0.      -0.      -0.      -0.02374 -0.49391 -0.23405]\n",
      " [ 0.      -0.       0.       0.51138  0.17283 -0.32462]\n",
      " [ 0.       0.       0.       0.       0.      -0.11832]]\n",
      "\n",
      "\n",
      "[[ 2.78023  0.06908 -0.52417  0.14695 -0.12073  1.15184]\n",
      " [ 0.       0.36613 -0.6887   0.0536  -0.1091   0.10529]\n",
      " [ 0.       0.29793  0.1721   0.06074  0.08077 -0.27179]\n",
      " [ 0.      -0.      -0.       0.08744 -0.40482  0.39631]\n",
      " [ 0.      -0.       0.       0.60047  0.06165  0.05565]\n",
      " [ 0.       0.       0.       0.       0.      -0.11832]]\n",
      "\n",
      "\n",
      "[[ 2.78023 -0.5279   0.02911 -0.01868  0.18926  1.15184]\n",
      " [ 0.       0.24981 -0.27602 -0.10557 -0.03528 -0.28658]\n",
      " [ 0.       0.7106   0.28842 -0.01997 -0.11045 -0.05317]\n",
      " [ 0.      -0.      -0.       0.17239 -0.5154  -0.31976]\n",
      " [ 0.      -0.       0.       0.48989 -0.0233   0.24066]\n",
      " [ 0.       0.       0.       0.       0.      -0.11832]]\n",
      "\n",
      "\n",
      "[[ 2.78023  0.15278  0.50615 -0.09476 -0.16489  1.15184]\n",
      " [ 0.       0.18668 -0.69528  0.05306  0.08378  0.01591]\n",
      " [ 0.       0.29134  0.35154 -0.12239  0.01324  0.29104]\n",
      " [ 0.      -0.      -0.       0.09427 -0.59933  0.12043]\n",
      " [ 0.      -0.       0.       0.40597  0.05482 -0.38165]\n",
      " [ 0.       0.       0.       0.       0.      -0.11832]]\n",
      "\n",
      "\n",
      "[[ 2.78023  0.29754 -0.43703 -0.17036 -0.08453  1.15184]\n",
      " [ 0.       0.48387 -0.53162 -0.13043  0.03612  0.21632]\n",
      " [ 0.       0.455    0.05436 -0.01111 -0.08092 -0.19536]\n",
      " [ 0.       0.       0.      -0.00718 -0.55794 -0.11174]\n",
      " [ 0.       0.      -0.       0.44735  0.15627 -0.38428]\n",
      " [ 0.       0.       0.       0.       0.      -0.11832]]\n",
      "\n",
      "\n",
      "[[ 2.78023 -0.39314 -0.35351 -0.18366  0.04939  1.15184]\n",
      " [ 0.       0.05191 -0.51351 -0.07124 -0.0376  -0.16455]\n",
      " [ 0.       0.47311  0.48632  0.0649  -0.11953 -0.24058]\n",
      " [ 0.      -0.      -0.       0.00955 -0.4284  -0.3381 ]\n",
      " [ 0.      -0.       0.       0.57689  0.13954 -0.21412]\n",
      " [ 0.       0.       0.       0.       0.      -0.11832]]\n",
      "\n",
      "\n",
      "[[ 2.78023 -0.03604  0.52747  0.08683 -0.1692   1.15184]\n",
      " [ 0.       0.34089 -0.69931 -0.01131  0.11804 -0.08802]\n",
      " [ 0.       0.28731  0.19734 -0.08731 -0.05748  0.27787]\n",
      " [ 0.      -0.      -0.       0.15474 -0.44516  0.38577]\n",
      " [ 0.      -0.       0.       0.56014 -0.00565 -0.10651]\n",
      " [ 0.       0.       0.       0.       0.      -0.11832]]\n",
      "\n",
      "\n",
      "[[ 2.78023  0.51734 -0.10903 -0.04209 -0.18547  1.15184]\n",
      " [ 0.       0.316   -0.28026 -0.11821 -0.01508  0.29134]\n",
      " [ 0.       0.70636  0.22223 -0.03631 -0.09732  0.00898]\n",
      " [ 0.       0.       0.       0.14519 -0.57153  0.22731]\n",
      " [ 0.       0.      -0.       0.43376  0.00389 -0.32938]\n",
      " [ 0.       0.       0.       0.       0.      -0.11832]]\n",
      "\n",
      "\n",
      "[[ 2.78023 -0.18476 -0.49537  0.13712  0.13178  1.15184]\n",
      " [ 0.       0.16164 -0.68314  0.06698  0.06844 -0.03445]\n",
      " [ 0.       0.30348  0.37659 -0.11831  0.04269 -0.28943]\n",
      " [ 0.       0.       0.       0.03922 -0.59478 -0.0088 ]\n",
      " [ 0.       0.      -0.       0.41051  0.10986  0.4001 ]\n",
      " [ 0.       0.       0.       0.       0.      -0.11832]]\n",
      "\n",
      "\n"
     ]
    },
    {
     "name": "stdout",
     "output_type": "stream",
     "text": [
      "[[ 2.78023 -0.25545  0.46289 -0.18865 -0.0241   1.15184]\n",
      " [ 0.       0.47301 -0.57086  0.11438 -0.0697  -0.19714]\n",
      " [ 0.       0.41576  0.06522  0.02643  0.07968  0.21469]\n",
      " [ 0.       0.       0.      -0.02387 -0.49552 -0.23139]\n",
      " [ 0.       0.      -0.       0.50977  0.17296 -0.32652]\n",
      " [ 0.       0.       0.       0.       0.      -0.11832]]\n",
      "\n",
      "\n",
      "[[ 2.78023  0.42851  0.30968  0.1481  -0.11931  1.15184]\n",
      " [ 0.       0.05255 -0.46711 -0.07872 -0.02004  0.18921]\n",
      " [ 0.       0.51952  0.48568  0.01962 -0.13418  0.22171]\n",
      " [ 0.       0.       0.       0.08555 -0.40459  0.39576]\n",
      " [ 0.       0.      -0.       0.6007   0.06353  0.05946]\n",
      " [ 0.       0.       0.       0.       0.      -0.11832]]\n",
      "\n",
      "\n",
      "[[ 2.78023  0.00387 -0.52869 -0.02016  0.18911  1.15184]\n",
      " [ 0.       0.31532 -0.70651  0.02563  0.11264  0.07094]\n",
      " [ 0.       0.28012  0.22291 -0.1039  -0.02914 -0.28271]\n",
      " [ 0.       0.       0.       0.17258 -0.51386 -0.32164]\n",
      " [ 0.       0.      -0.       0.49143 -0.02349  0.23814]\n",
      " [ 0.       0.       0.       0.       0.      -0.11832]]\n",
      "\n",
      "\n",
      "[[ 2.78023 -0.49531  0.18491 -0.09369 -0.1655   1.15184]\n",
      " [ 0.       0.37671 -0.30355  0.12559 -0.00703 -0.28942]\n",
      " [ 0.       0.68307  0.16152  0.04456  0.08475  0.03454]\n",
      " [ 0.       0.       0.       0.09552 -0.59906  0.1229 ]\n",
      " [ 0.       0.      -0.       0.40623  0.05356 -0.38086]\n",
      " [ 0.       0.       0.       0.       0.      -0.11832]]\n",
      "\n",
      "\n",
      "[[ 2.78023  0.21744  0.48192 -0.16976 -0.08575  1.15184]\n",
      " [ 0.       0.13729 -0.66712  0.0772   0.05072  0.05371]\n",
      " [ 0.       0.31951  0.40094 -0.10597  0.07229  0.28648]\n",
      " [ 0.      -0.      -0.      -0.00638 -0.5591  -0.10898]\n",
      " [ 0.      -0.       0.       0.44619  0.15547 -0.38507]\n",
      " [ 0.       0.       0.       0.       0.      -0.11832]]\n",
      "\n",
      "\n",
      "[[ 2.78023  0.21493 -0.48304  0.18411 -0.04769  1.15184]\n",
      " [ 0.       0.45681 -0.60448  0.08465 -0.10131  0.17806]\n",
      " [ 0.       0.38215  0.08142  0.04707  0.07309 -0.23077]\n",
      " [ 0.      -0.      -0.       0.00819 -0.42961  0.33611]\n",
      " [ 0.      -0.       0.       0.57568  0.1409   0.21723]\n",
      " [ 0.       0.       0.       0.       0.      -0.11832]]\n",
      "\n",
      "\n",
      "[[ 2.78023 -0.46171 -0.25757  0.08835 -0.16841  1.15184]\n",
      " [ 0.       0.06452 -0.41764  0.08378  0.0024  -0.21379]\n",
      " [ 0.       0.56899  0.47371  0.02583  0.13152 -0.19812]\n",
      " [ 0.       0.       0.       0.15369 -0.44373  0.38671]\n",
      " [ 0.       0.      -0.       0.56157 -0.00461 -0.10304]\n",
      " [ 0.       0.       0.       0.       0.      -0.11832]]\n",
      "\n",
      "\n",
      "[[ 2.78023  0.02769  0.52798 -0.0408  -0.18575  1.15184]\n",
      " [ 0.       0.28959 -0.71049  0.05347  0.09885 -0.05394]\n",
      " [ 0.       0.27613  0.24864 -0.11116 -0.00061  0.28644]\n",
      " [ 0.      -0.      -0.       0.14614 -0.57054  0.2296 ]\n",
      " [ 0.      -0.       0.       0.43475  0.00294 -0.32779]\n",
      " [ 0.       0.       0.       0.       0.      -0.11832]]\n",
      "\n",
      "\n",
      "[[ 2.78023  0.46392 -0.25357  0.13626  0.13268  1.15184]\n",
      " [ 0.       0.42585 -0.34158  0.12687 -0.03165  0.28155]\n",
      " [ 0.       0.64504  0.11238  0.04892  0.07416 -0.07541]\n",
      " [ 0.      -0.      -0.       0.04044 -0.59524 -0.01143]\n",
      " [ 0.      -0.       0.       0.41006  0.10865  0.40004]\n",
      " [ 0.       0.       0.       0.       0.      -0.11832]]\n",
      "\n",
      "\n",
      "[[ 2.78023 -0.25097 -0.46534  0.18845  0.02563  1.15184]\n",
      " [ 0.       0.11409 -0.64678  0.0839   0.02996 -0.07383]\n",
      " [ 0.       0.33984  0.42414 -0.0827   0.10106 -0.28197]\n",
      " [ 0.       0.       0.      -0.02397 -0.49713  0.22872]\n",
      " [ 0.       0.      -0.       0.50817  0.17306  0.3284 ]\n",
      " [ 0.       0.       0.       0.       0.      -0.11832]]\n",
      "\n",
      "\n",
      "[[ 2.78023 -0.17613  0.4985  -0.14925  0.11788  1.15184]\n",
      " [ 0.       0.43698 -0.63263  0.04223 -0.12267 -0.15929]\n",
      " [ 0.       0.354    0.10125  0.06943  0.05777  0.2441 ]\n",
      " [ 0.       0.       0.       0.08366 -0.4044  -0.39517]\n",
      " [ 0.       0.      -0.       0.6009   0.06542 -0.06326]\n",
      " [ 0.       0.       0.       0.       0.      -0.11832]]\n",
      "\n",
      "\n",
      "[[ 2.78023  0.49074  0.19672 -0.02165  0.18895  1.15184]\n",
      " [ 0.       0.09025 -0.36844  0.08746 -0.01333  0.23726]\n",
      " [ 0.       0.61819  0.44798  0.0609   0.11599  0.16931]\n",
      " [ 0.      -0.      -0.       0.17274 -0.51232 -0.3235 ]\n",
      " [ 0.      -0.       0.       0.49298 -0.02365  0.2356 ]\n",
      " [ 0.       0.       0.       0.       0.      -0.11832]]\n",
      "\n",
      "\n",
      "[[ 2.78023 -0.05887 -0.52541  0.09261  0.16611  1.15184]\n",
      " [ 0.       0.2638  -0.71139  0.07324  0.08097  0.0369 ]\n",
      " [ 0.       0.27523  0.27443 -0.11115  0.02671 -0.28913]\n",
      " [ 0.       0.       0.       0.09677 -0.59878 -0.12538]\n",
      " [ 0.       0.      -0.       0.40651  0.05231  0.38005]\n",
      " [ 0.       0.       0.       0.       0.      -0.11832]]\n",
      "\n",
      "\n",
      "[[ 2.78023 -0.42598  0.31315  0.16914  0.08696  1.15184]\n",
      " [ 0.       0.46037 -0.38839 -0.12016  0.05927 -0.26899]\n",
      " [ 0.       0.59824  0.07786 -0.05295 -0.06506  0.11226]\n",
      " [ 0.      -0.      -0.      -0.00557 -0.56025  0.10623]\n",
      " [ 0.      -0.       0.       0.44504  0.15466  0.38584]\n",
      " [ 0.       0.       0.       0.       0.      -0.11832]]\n",
      "\n",
      "\n",
      "[[ 2.78023  0.28542  0.44504 -0.18454  0.04599  1.15184]\n",
      " [ 0.       0.09273 -0.62167  0.08579  0.00617  0.09493]\n",
      " [ 0.       0.36495  0.4455  -0.046    0.1244   0.27558]\n",
      " [ 0.      -0.      -0.       0.00686 -0.43085 -0.33409]\n",
      " [ 0.      -0.       0.       0.57444  0.14223 -0.22032]\n",
      " [ 0.       0.       0.       0.       0.      -0.11832]]\n",
      "\n",
      "\n",
      "[[ 2.78023  0.13905 -0.51009 -0.08986  0.16761  1.15184]\n",
      " [ 0.       0.41476 -0.65571  0.0038   0.12713  0.14093]\n",
      " [ 0.       0.33091  0.12347 -0.08722 -0.03472 -0.25514]\n",
      " [ 0.       0.       0.       0.15262 -0.44231 -0.38762]\n",
      " [ 0.       0.      -0.       0.56298 -0.00353  0.09956]\n",
      " [ 0.       0.       0.       0.       0.      -0.11832]]\n",
      "\n",
      "\n",
      "[[ 2.78023 -0.5131  -0.12749  0.03951  0.18603  1.15184]\n",
      " [ 0.       0.13095 -0.3245  -0.09093  0.02761 -0.25826]\n",
      " [ 0.       0.66212  0.40728 -0.0829  -0.09532 -0.13514]\n",
      " [ 0.      -0.      -0.       0.14708 -0.56953 -0.23187]\n",
      " [ 0.      -0.       0.       0.43576  0.002    0.32618]\n",
      " [ 0.       0.       0.       0.       0.      -0.11832]]\n",
      "\n",
      "\n",
      "[[ 2.78023  0.08992  0.521   -0.13538 -0.13357  1.15184]\n",
      " [ 0.       0.23803 -0.70923  0.08692  0.06051 -0.0197 ]\n",
      " [ 0.       0.27739  0.3002  -0.10458  0.05324  0.29081]\n",
      " [ 0.      -0.      -0.       0.04165 -0.59567  0.01405]\n",
      " [ 0.      -0.       0.       0.40962  0.10743 -0.39995]\n",
      " [ 0.       0.       0.       0.       0.      -0.11832]]\n",
      "\n",
      "\n",
      "[[ 2.78023  0.38427 -0.36313 -0.18823 -0.02716  1.15184]\n",
      " [ 0.       0.48019 -0.43821 -0.10237  0.089    0.25315]\n",
      " [ 0.       0.54841  0.05804 -0.05911 -0.05564 -0.14447]\n",
      " [ 0.       0.       0.      -0.02405 -0.49873 -0.22605]\n",
      " [ 0.       0.      -0.       0.50656  0.17314 -0.33025]\n",
      " [ 0.       0.       0.       0.       0.      -0.11832]]\n",
      "\n",
      "\n",
      "[[ 2.78023 -0.32074 -0.4203  -0.15037  0.11644  1.15184]\n",
      " [ 0.       0.07422 -0.59131 -0.08139  0.01803 -0.11707]\n",
      " [ 0.       0.39531  0.46401 -0.00138 -0.1343  -0.26693]\n",
      " [ 0.      -0.      -0.       0.08177 -0.40424 -0.39454]\n",
      " [ 0.      -0.       0.       0.60105  0.06732 -0.06706]\n",
      " [ 0.       0.       0.       0.       0.      -0.11832]]\n",
      "\n",
      "\n",
      "[[ 2.78023 -0.10353  0.51847 -0.02314  0.18877  1.15184]\n",
      " [ 0.       0.39102 -0.67421 -0.04293 -0.11681 -0.123  ]\n",
      " [ 0.       0.31241  0.14721  0.09707  0.0089   0.26425]\n",
      " [ 0.       0.       0.       0.17288 -0.51076 -0.32535]\n",
      " [ 0.       0.      -0.       0.49453 -0.02379  0.23303]\n",
      " [ 0.       0.       0.       0.       0.      -0.11832]]\n",
      "\n",
      "\n",
      "[[ 2.78023  0.52619  0.05147  0.09153  0.16671  1.15184]\n",
      " [ 0.       0.18541 -0.29186  0.09381 -0.04232  0.27517]\n",
      " [ 0.       0.69476  0.35282  0.09424  0.07428  0.09611]\n",
      " [ 0.      -0.      -0.       0.09802 -0.59848 -0.12785]\n",
      " [ 0.      -0.       0.       0.40681  0.05106  0.37923]\n",
      " [ 0.       0.       0.       0.       0.      -0.11832]]\n",
      "\n",
      "\n",
      "[[ 2.78023 -0.12106 -0.51465  0.16852  0.08816  1.15184]\n",
      " [ 0.       0.21235 -0.70394  0.09556  0.03729  0.00219]\n",
      " [ 0.       0.28268  0.32588 -0.09035  0.07939 -0.29147]\n",
      " [ 0.       0.       0.      -0.00474 -0.56138  0.10349]\n",
      " [ 0.       0.      -0.       0.44391  0.15383  0.38659]\n",
      " [ 0.       0.       0.       0.       0.      -0.11832]]\n",
      "\n",
      "\n",
      "[[ 2.78023 -0.34104  0.404    0.18495 -0.0443   1.15184]\n",
      " [ 0.       0.48716 -0.48673 -0.07033  0.1164  -0.23532]\n",
      " [ 0.       0.4999   0.05107 -0.06801 -0.04322  0.172  ]\n",
      " [ 0.      -0.      -0.       0.00555 -0.4321   0.33206]\n",
      " [ 0.      -0.       0.       0.57319  0.14354  0.22338]\n",
      " [ 0.       0.       0.       0.       0.      -0.11832]]\n",
      "\n",
      "\n",
      "[[ 2.78023  0.35671  0.39023 -0.09137  0.1668   1.15184]\n",
      " [ 0.       0.05998 -0.55537  0.07202 -0.03798  0.14026]\n",
      " [ 0.       0.43125  0.47825  0.0487   0.12644  0.25551]\n",
      " [ 0.      -0.      -0.       0.15152 -0.44091 -0.3885 ]\n",
      " [ 0.      -0.       0.       0.56438 -0.00243  0.09605]\n",
      " [ 0.       0.       0.       0.       0.      -0.11832]]\n",
      "\n",
      "\n",
      "[[ 2.78023  0.06936 -0.52413 -0.03821 -0.1863   1.15184]\n",
      " [ 0.       0.36634 -0.68859 -0.07154 -0.09831  0.10543]\n",
      " [ 0.       0.29803  0.17189  0.09974 -0.01609 -0.27174]\n",
      " [ 0.      -0.      -0.       0.14801 -0.56851  0.23415]\n",
      " [ 0.      -0.       0.       0.43678  0.00108 -0.32455]\n",
      " [ 0.       0.       0.       0.       0.      -0.11832]]\n",
      "\n",
      "\n",
      "[[ 2.78023 -0.52793  0.02845  0.1345   0.13445  1.15184]\n",
      " [ 0.       0.24926 -0.27607 -0.0941   0.05933 -0.28652]\n",
      " [ 0.       0.71055  0.28897 -0.09819 -0.05452 -0.05353]\n",
      " [ 0.      -0.      -0.       0.04288 -0.5961  -0.01667]\n",
      " [ 0.      -0.       0.       0.40919  0.10621  0.39985]\n",
      " [ 0.       0.       0.       0.       0.      -0.11832]]\n",
      "\n",
      "\n",
      "[[ 2.78023  0.15252  0.50622  0.18801  0.02868  1.15184]\n",
      " [ 0.       0.18689 -0.69537 -0.09862 -0.01068  0.01576]\n",
      " [ 0.       0.29125  0.35134  0.06588 -0.10396  0.29105]\n",
      " [ 0.       0.       0.      -0.0241  -0.50032  0.22337]\n",
      " [ 0.       0.      -0.       0.50497  0.17319  0.33207]\n",
      " [ 0.       0.       0.       0.       0.      -0.11832]]\n",
      "\n",
      "\n",
      "[[ 2.78023  0.29789 -0.43679  0.15149 -0.11498  1.15184]\n",
      " [ 0.       0.48393 -0.53127  0.02561 -0.1329   0.21648]\n",
      " [ 0.       0.45535  0.0543   0.07744  0.02593 -0.19518]\n",
      " [ 0.      -0.      -0.       0.07988 -0.40412  0.39388]\n",
      " [ 0.      -0.       0.       0.60117  0.06921  0.07086]\n",
      " [ 0.       0.       0.       0.       0.      -0.11832]]\n",
      "\n",
      "\n",
      "[[ 2.78023 -0.39284 -0.35383 -0.02464  0.18858  1.15184]\n",
      " [ 0.       0.05194 -0.51388 -0.06193  0.05152 -0.16435]\n",
      " [ 0.       0.47275  0.48629 -0.08566 -0.10565 -0.24072]\n",
      " [ 0.      -0.      -0.       0.173   -0.5092  -0.32719]\n",
      " [ 0.      -0.       0.       0.49609 -0.02391  0.23045]\n",
      " [ 0.       0.       0.       0.       0.      -0.11832]]\n",
      "\n",
      "\n",
      "[[ 2.78023 -0.03631  0.52745 -0.09044 -0.1673   1.15184]\n",
      " [ 0.       0.3411  -0.69924  0.09101  0.07606 -0.08816]\n",
      " [ 0.       0.28738  0.19713 -0.09674  0.03954  0.27782]\n",
      " [ 0.      -0.      -0.       0.09927 -0.59817  0.13032]\n",
      " [ 0.      -0.       0.       0.40712  0.04982 -0.37839]\n",
      " [ 0.       0.       0.       0.       0.      -0.11832]]\n",
      "\n",
      "\n",
      "[[ 2.78023  0.51747 -0.10838  0.16789  0.08935  1.15184]\n",
      " [ 0.       0.31546 -0.28015  0.08854 -0.07966  0.29133]\n",
      " [ 0.       0.70648  0.22277  0.0975   0.03602  0.00935]\n",
      " [ 0.      -0.      -0.      -0.0039  -0.5625   0.10074]\n",
      " [ 0.      -0.       0.       0.44279  0.15299  0.38731]\n",
      " [ 0.       0.       0.       0.       0.      -0.11832]]\n",
      "\n",
      "\n",
      "[[ 2.78023 -0.18449 -0.49547 -0.18535  0.0426   1.15184]\n",
      " [ 0.       0.16184 -0.68326 -0.09396  0.01864 -0.03429]\n",
      " [ 0.       0.30337  0.37639  0.029   -0.12236 -0.28945]\n",
      " [ 0.      -0.      -0.       0.00427 -0.43338 -0.33   ]\n",
      " [ 0.      -0.       0.       0.57191  0.14482 -0.22641]\n",
      " [ 0.       0.       0.       0.       0.      -0.11832]]\n",
      "\n",
      "\n",
      "[[ 2.78023 -0.25579  0.4627   0.09288 -0.16596  1.15184]\n",
      " [ 0.       0.47312 -0.57056  0.02194  0.13215 -0.1973 ]\n",
      " [ 0.       0.41606  0.06511 -0.08377 -0.00517  0.21455]\n",
      " [ 0.      -0.       0.       0.15039 -0.43953  0.38935]\n",
      " [ 0.      -0.       0.       0.56576 -0.0013  -0.09254]\n",
      " [ 0.       0.       0.       0.       0.      -0.11832]]\n",
      "\n",
      "\n",
      "[[ 2.78023  0.42823  0.31007  0.0369   0.18657  1.15184]\n",
      " [ 0.       0.0525  -0.4675   0.0542  -0.06049  0.18901]\n",
      " [ 0.       0.51912  0.48573  0.10978  0.07962  0.22189]\n",
      " [ 0.      -0.      -0.       0.14893 -0.56748 -0.23641]\n",
      " [ 0.      -0.       0.       0.43781  0.00016  0.32291]\n",
      " [ 0.       0.       0.       0.       0.      -0.11832]]\n",
      "\n",
      "\n",
      "[[ 2.78023  0.00413 -0.52868 -0.13362 -0.13533  1.15184]\n",
      " [ 0.       0.31553 -0.70646 -0.10347 -0.05144  0.07108]\n",
      " [ 0.       0.28016  0.2227   0.08828 -0.062   -0.28268]\n",
      " [ 0.      -0.      -0.       0.0441  -0.5965   0.01929]\n",
      " [ 0.      -0.       0.       0.40879  0.10498 -0.39973]\n",
      " [ 0.       0.       0.       0.       0.      -0.11832]]\n",
      "\n",
      "\n",
      "[[ 2.78023 -0.49553  0.18431  0.18777  0.0302   1.15184]\n",
      " [ 0.       0.37625 -0.30329 -0.07284  0.10249 -0.28946]\n",
      " [ 0.       0.68334  0.16198 -0.0941  -0.01801  0.03419]\n",
      " [ 0.      -0.      -0.      -0.02413 -0.50192  0.22068]\n",
      " [ 0.      -0.       0.       0.50338  0.17321  0.33386]\n",
      " [ 0.       0.       0.       0.       0.      -0.11832]]\n",
      "\n",
      "\n",
      "[[ 2.78023  0.21717  0.48204 -0.15259  0.11352  1.15184]\n",
      " [ 0.       0.13748 -0.66727  0.07987 -0.04646  0.05355]\n",
      " [ 0.       0.31936  0.40075  0.01734  0.12708  0.28651]\n",
      " [ 0.      -0.      -0.       0.07798 -0.40403 -0.39318]\n",
      " [ 0.      -0.       0.       0.60126  0.07111 -0.07464]\n",
      " [ 0.       0.       0.       0.       0.      -0.11832]]\n",
      "\n",
      "\n",
      "[[ 2.78023  0.21525 -0.4829  -0.02614  0.18838  1.15184]\n",
      " [ 0.       0.45696 -0.60422  0.06142  0.11689  0.17821]\n",
      " [ 0.       0.3824   0.08127 -0.08548  0.01571 -0.23065]\n",
      " [ 0.       0.      -0.       0.17309 -0.50763 -0.32901]\n",
      " [ 0.       0.      -0.       0.49766 -0.024    0.22784]\n",
      " [ 0.       0.       0.       0.       0.      -0.11832]]\n",
      "\n",
      "\n"
     ]
    },
    {
     "name": "stdout",
     "output_type": "stream",
     "text": [
      "[[ 2.78023 -0.46145 -0.25804 -0.08935 -0.16789  1.15184]\n",
      " [ 0.       0.06436 -0.41805  0.04906 -0.06791 -0.21359]\n",
      " [ 0.       0.56857  0.47387  0.12326  0.0527  -0.19834]\n",
      " [ 0.       0.       0.       0.10051 -0.59784  0.13278]\n",
      " [ 0.       0.      -0.       0.40745  0.04857 -0.37753]\n",
      " [ 0.       0.       0.       0.       0.      -0.11832]]\n",
      "\n",
      "\n",
      "[[ 2.78023  0.02743  0.52799  0.16725  0.09054  1.15184]\n",
      " [ 0.       0.28981 -0.71047 -0.1098  -0.02411 -0.05408]\n",
      " [ 0.       0.27615  0.24842  0.07307 -0.08374  0.28641]\n",
      " [ 0.       0.       0.      -0.00304 -0.56361  0.098  ]\n",
      " [ 0.       0.      -0.       0.44168  0.15213  0.38802]\n",
      " [ 0.       0.       0.       0.       0.      -0.11832]]\n",
      "\n",
      "\n",
      "[[ 2.78023  0.46421 -0.25304 -0.18573  0.0409   1.15184]\n",
      " [ 0.       0.4255  -0.34123 -0.04319  0.12338  0.28164]\n",
      " [ 0.       0.6454   0.11273 -0.08889  0.00025 -0.07508]\n",
      " [ 0.       0.       0.       0.00301 -0.43468 -0.32791]\n",
      " [ 0.       0.      -0.       0.57061  0.14607 -0.22942]\n",
      " [ 0.       0.       0.       0.       0.      -0.11832]]\n",
      "\n",
      "\n",
      "[[ 2.78023 -0.25069 -0.46549 -0.09438  0.16511  1.15184]\n",
      " [ 0.       0.11427 -0.64697 -0.05918  0.06663 -0.07366]\n",
      " [ 0.       0.33965  0.42396 -0.06274 -0.1145  -0.28201]\n",
      " [ 0.      -0.      -0.       0.14923 -0.43816 -0.39018]\n",
      " [ 0.      -0.       0.       0.56713 -0.00014  0.089  ]\n",
      " [ 0.       0.       0.       0.       0.      -0.11832]]\n",
      "\n",
      "\n",
      "[[ 2.78023 -0.17645  0.49839  0.03559  0.18682  1.15184]\n",
      " [ 0.       0.43716 -0.63241 -0.08934 -0.0941  -0.15944]\n",
      " [ 0.       0.35421  0.10107  0.08325 -0.03494  0.244  ]\n",
      " [ 0.       0.      -0.       0.14983 -0.56643 -0.23867]\n",
      " [ 0.       0.      -0.       0.43886 -0.00074  0.32124]\n",
      " [ 0.       0.       0.       0.       0.      -0.11832]]\n",
      "\n",
      "\n",
      "[[ 2.78023  0.49052  0.19726  0.13273  0.1362   1.15184]\n",
      " [ 0.       0.08997 -0.36883  0.04481 -0.07623  0.23707]\n",
      " [ 0.       0.61779  0.44826  0.12842  0.02603  0.16957]\n",
      " [ 0.      -0.      -0.       0.04533 -0.59689 -0.0219 ]\n",
      " [ 0.      -0.       0.       0.4084   0.10375  0.3996 ]\n",
      " [ 0.       0.       0.       0.       0.      -0.11832]]\n",
      "\n",
      "\n",
      "[[ 2.78023 -0.05861 -0.52544 -0.18752 -0.03171  1.15184]\n",
      " [ 0.       0.26401 -0.7114  -0.10901  0.00651  0.03705]\n",
      " [ 0.       0.27523  0.27422  0.04867 -0.10341 -0.28911]\n",
      " [ 0.      -0.      -0.      -0.02412 -0.5035  -0.21798]\n",
      " [ 0.      -0.       0.       0.50179  0.17321 -0.33562]\n",
      " [ 0.       0.       0.       0.       0.      -0.11832]]\n",
      "\n",
      "\n",
      "[[ 2.78023 -0.42632  0.3127   0.15367 -0.11205  1.15184]\n",
      " [ 0.       0.46015 -0.38798 -0.00094  0.13396 -0.26911]\n",
      " [ 0.       0.59864  0.07808 -0.08191  0.01822  0.11198]\n",
      " [ 0.      -0.      -0.       0.07608 -0.40399  0.39244]\n",
      " [ 0.      -0.       0.       0.60131  0.07301  0.07843]\n",
      " [ 0.       0.       0.       0.       0.      -0.11832]]\n",
      "\n",
      "\n",
      "[[ 2.78023  0.28513  0.44522  0.02764 -0.18816  1.15184]\n",
      " [ 0.       0.0929  -0.6219  -0.03827  0.07706  0.09475]\n",
      " [ 0.       0.36473  0.44533 -0.09758 -0.0898   0.27565]\n",
      " [ 0.       0.       0.       0.17316 -0.50606  0.33082]\n",
      " [ 0.       0.      -0.       0.49923 -0.02407 -0.2252 ]\n",
      " [ 0.       0.       0.       0.       0.      -0.11832]]\n",
      "\n",
      "\n",
      "[[ 2.78023  0.13935 -0.51001  0.08825  0.16847  1.15184]\n",
      " [ 0.       0.41495 -0.65554  0.10738  0.0682   0.14108]\n",
      " [ 0.       0.33108  0.12328 -0.07764  0.05272 -0.25506]\n",
      " [ 0.       0.       0.       0.10175 -0.59749 -0.13524]\n",
      " [ 0.       0.      -0.       0.4078   0.04733  0.37665]\n",
      " [ 0.       0.       0.       0.       0.      -0.11832]]\n",
      "\n",
      "\n",
      "[[ 2.78023 -0.51295 -0.1281   0.16661  0.09172  1.15184]\n",
      " [ 0.       0.13055 -0.32482 -0.0384   0.08686 -0.2581 ]\n",
      " [ 0.       0.6618   0.40768 -0.12637  0.00053 -0.13544]\n",
      " [ 0.      -0.      -0.      -0.00218 -0.5647   0.09525]\n",
      " [ 0.      -0.       0.       0.44059  0.15126  0.3887 ]\n",
      " [ 0.       0.       0.       0.       0.      -0.11832]]\n",
      "\n",
      "\n",
      "[[ 2.78023  0.08966  0.52104  0.1861  -0.03921  1.15184]\n",
      " [ 0.       0.23824 -0.70926 -0.09843  0.03916 -0.01984]\n",
      " [ 0.       0.27736  0.29999  0.01325 -0.11658  0.2908 ]\n",
      " [ 0.       0.       0.       0.00179 -0.43599  0.3258 ]\n",
      " [ 0.       0.      -0.       0.5693   0.1473   0.2324 ]\n",
      " [ 0.       0.       0.       0.       0.      -0.11832]]\n",
      "\n",
      "\n",
      "[[ 2.78023  0.38462 -0.36275 -0.09587  0.16425  1.15184]\n",
      " [ 0.       0.48008 -0.4378   0.0441   0.12826  0.25329]\n",
      " [ 0.       0.54882  0.05815 -0.07373  0.03401 -0.14422]\n",
      " [ 0.       0.      -0.       0.14805 -0.43682 -0.39097]\n",
      " [ 0.       0.      -0.       0.56847  0.00104  0.08545]\n",
      " [ 0.       0.       0.       0.       0.      -0.11832]]\n",
      "\n",
      "\n",
      "[[ 2.78023 -0.32045 -0.42052  0.03428  0.18707  1.15184]\n",
      " [ 0.       0.07436 -0.59158 -0.02132  0.08061 -0.11688]\n",
      " [ 0.       0.39504  0.46387 -0.11992 -0.06046 -0.26701]\n",
      " [ 0.      -0.      -0.       0.15072 -0.56536 -0.24093]\n",
      " [ 0.      -0.       0.       0.43993 -0.00163  0.31955]\n",
      " [ 0.       0.       0.       0.       0.      -0.11832]]\n",
      "\n",
      "\n",
      "[[ 2.78023 -0.10382  0.51841  0.13184  0.13707  1.15184]\n",
      " [ 0.       0.39122 -0.67408 -0.11775 -0.04036 -0.12314]\n",
      " [ 0.       0.31254  0.14701  0.06809 -0.06971  0.26418]\n",
      " [ 0.       0.       0.       0.04657 -0.59727 -0.02451]\n",
      " [ 0.       0.      -0.       0.40802  0.10252  0.39945]\n",
      " [ 0.       0.       0.       0.       0.      -0.11832]]\n",
      "\n",
      "\n",
      "[[ 2.78023  0.52613  0.05211 -0.18726 -0.03321  1.15184]\n",
      " [ 0.       0.18492 -0.29207 -0.02569  0.09958  0.27505]\n",
      " [ 0.       0.69455  0.35331 -0.11698  0.02697  0.09645]\n",
      " [ 0.       0.       0.      -0.0241  -0.50509 -0.21529]\n",
      " [ 0.       0.      -0.       0.50021  0.17319 -0.33736]\n",
      " [ 0.       0.       0.       0.       0.      -0.11832]]\n",
      "\n",
      "\n",
      "[[ 2.78023 -0.1208  -0.51471 -0.15474  0.11056  1.15184]\n",
      " [ 0.       0.21256 -0.704   -0.0764   0.06849  0.00234]\n",
      " [ 0.       0.28262  0.32567 -0.03009 -0.11643 -0.29147]\n",
      " [ 0.      -0.      -0.       0.07418 -0.40397 -0.39167]\n",
      " [ 0.      -0.       0.       0.60132  0.07491 -0.0822 ]\n",
      " [ 0.       0.       0.       0.       0.      -0.11832]]\n",
      "\n",
      "\n",
      "[[ 2.78023 -0.3414   0.4037   0.02915 -0.18794  1.15184]\n",
      " [ 0.       0.48715 -0.48634  0.08109  0.10918 -0.23547]\n",
      " [ 0.       0.50028  0.05108 -0.06571  0.04664  0.17179]\n",
      " [ 0.      -0.       0.       0.1732  -0.50448  0.33261]\n",
      " [ 0.      -0.       0.       0.50081 -0.02411 -0.22255]\n",
      " [ 0.       0.       0.       0.       0.      -0.11832]]\n",
      "\n",
      "\n",
      "[[ 2.78023  0.35642  0.3905   0.08715  0.16904  1.15184]\n",
      " [ 0.       0.06008 -0.55569  0.00871 -0.08097  0.14006]\n",
      " [ 0.       0.43093  0.47815  0.13206  0.0303   0.25562]\n",
      " [ 0.      -0.      -0.       0.10299 -0.59713 -0.1377 ]\n",
      " [ 0.      -0.       0.       0.40816  0.0461   0.37576]\n",
      " [ 0.       0.       0.       0.       0.      -0.11832]]\n",
      "\n",
      "\n",
      "[[ 2.78023  0.06964 -0.52409  0.16596  0.09289  1.15184]\n",
      " [ 0.       0.36655 -0.68849  0.12118  0.01009  0.10557]\n",
      " [ 0.       0.29813  0.17168 -0.05297  0.086   -0.27168]\n",
      " [ 0.       0.       0.      -0.00129 -0.56577  0.09251]\n",
      " [ 0.       0.      -0.       0.43952  0.15038  0.38936]\n",
      " [ 0.       0.       0.       0.       0.      -0.11832]]\n",
      "\n",
      "\n",
      "[[ 2.78023 -0.52797  0.02778  0.18645 -0.03751  1.15184]\n",
      " [ 0.       0.24872 -0.27612 -0.0026   0.11115 -0.28645]\n",
      " [ 0.       0.7105   0.28951 -0.09978  0.05169 -0.05389]\n",
      " [ 0.      -0.      -0.       0.00058 -0.43733  0.32367]\n",
      " [ 0.      -0.       0.       0.56796  0.1485   0.23536]\n",
      " [ 0.       0.       0.       0.       0.      -0.11832]]\n",
      "\n",
      "\n",
      "[[ 2.78023  0.15225  0.5063  -0.09737  0.16337  1.15184]\n",
      " [ 0.       0.1871  -0.69545  0.04699 -0.08739  0.01561]\n",
      " [ 0.       0.29117  0.35113  0.07153  0.10014  0.29106]\n",
      " [ 0.      -0.      -0.       0.14683 -0.43549 -0.39173]\n",
      " [ 0.      -0.       0.       0.5698   0.00225  0.08189]\n",
      " [ 0.       0.       0.       0.       0.      -0.11832]]\n",
      "\n",
      "\n",
      "[[ 2.78023  0.29824 -0.43655 -0.03296 -0.1873   1.15184]\n",
      " [ 0.       0.48399 -0.53093 -0.10652 -0.08352  0.21663]\n",
      " [ 0.       0.4557   0.05424  0.0584  -0.05707 -0.19501]\n",
      " [ 0.      -0.       0.       0.1516  -0.56428  0.24317]\n",
      " [ 0.      -0.       0.       0.44101 -0.00251 -0.31785]\n",
      " [ 0.       0.       0.       0.       0.      -0.11832]]\n",
      "\n",
      "\n",
      "[[ 2.78023 -0.39255 -0.35416 -0.13094 -0.13793  1.15184]\n",
      " [ 0.       0.05198 -0.51424 -0.00112 -0.08055 -0.16415]\n",
      " [ 0.       0.47238  0.48625  0.13601 -0.00004 -0.24086]\n",
      " [ 0.       0.       0.       0.04781 -0.59763  0.02712]\n",
      " [ 0.       0.      -0.       0.40767  0.10128 -0.39928]\n",
      " [ 0.       0.       0.       0.       0.      -0.11832]]\n",
      "\n",
      "\n",
      "[[ 2.78023 -0.03658  0.52743  0.18699  0.03471  1.15184]\n",
      " [ 0.       0.34131 -0.69917 -0.11636  0.02309 -0.0883 ]\n",
      " [ 0.       0.28746  0.19692  0.02993 -0.1001   0.27778]\n",
      " [ 0.       0.       0.      -0.02405 -0.50666  0.21258]\n",
      " [ 0.       0.      -0.       0.49863  0.17313  0.33907]\n",
      " [ 0.       0.       0.       0.       0.      -0.11832]]\n",
      "\n",
      "\n",
      "[[ 2.78023  0.51761 -0.10773  0.1558  -0.10907  1.15184]\n",
      " [ 0.       0.31493 -0.28003 -0.03091 -0.11496  0.29131]\n",
      " [ 0.       0.70659  0.2233   0.0763  -0.07068  0.00971]\n",
      " [ 0.      -0.      -0.       0.07228 -0.404    0.39086]\n",
      " [ 0.      -0.       0.       0.60129  0.07681  0.08597]\n",
      " [ 0.       0.       0.       0.       0.      -0.11832]]\n",
      "\n",
      "\n",
      "[[ 2.78023 -0.18423 -0.49557 -0.03066  0.1877   1.15184]\n",
      " [ 0.       0.16204 -0.68337 -0.01822  0.09407 -0.03414]\n",
      " [ 0.       0.30325  0.37618 -0.10232 -0.07307 -0.28947]\n",
      " [ 0.      -0.      -0.       0.17321 -0.5029  -0.33439]\n",
      " [ 0.      -0.       0.       0.50239 -0.02413  0.21987]\n",
      " [ 0.       0.       0.       0.       0.      -0.11832]]\n",
      "\n",
      "\n",
      "[[ 2.78023 -0.25613  0.46251 -0.08604 -0.16961  1.15184]\n",
      " [ 0.       0.47324 -0.57026  0.12199  0.05538 -0.19746]\n",
      " [ 0.       0.41636  0.06499 -0.05089  0.06671  0.2144 ]\n",
      " [ 0.      -0.       0.       0.10422 -0.59675  0.14015]\n",
      " [ 0.      -0.       0.       0.40854  0.04486 -0.37485]\n",
      " [ 0.       0.       0.       0.       0.      -0.11832]]\n",
      "\n",
      "\n",
      "[[ 2.78023  0.42794  0.31047 -0.1653  -0.09405  1.15184]\n",
      " [ 0.       0.05245 -0.4679   0.01046  0.08053  0.1888 ]\n",
      " [ 0.       0.51872  0.48578 -0.13202  0.03109  0.22206]\n",
      " [ 0.       0.       0.      -0.0004  -0.56683 -0.08977]\n",
      " [ 0.       0.      -0.       0.43846  0.14949 -0.39   ]\n",
      " [ 0.       0.       0.       0.       0.      -0.11832]]\n",
      "\n",
      "\n",
      "[[ 2.78023  0.00439 -0.52868 -0.18678  0.03582  1.15184]\n",
      " [ 0.       0.31575 -0.70641 -0.10028  0.05745  0.07122]\n",
      " [ 0.       0.28021  0.22248 -0.0025  -0.10782 -0.28264]\n",
      " [ 0.      -0.      -0.      -0.00059 -0.43868 -0.32152]\n",
      " [ 0.      -0.       0.       0.56661  0.14968 -0.23829]\n",
      " [ 0.       0.       0.       0.       0.      -0.11832]]\n",
      "\n",
      "\n",
      "[[ 2.78023 -0.49576  0.18371  0.09886 -0.16247  1.15184]\n",
      " [ 0.       0.37579 -0.30303  0.06747  0.10604 -0.2895 ]\n",
      " [ 0.       0.68359  0.16244 -0.05212  0.08047  0.03384]\n",
      " [ 0.      -0.      -0.       0.1456  -0.43418  0.39246]\n",
      " [ 0.      -0.       0.       0.57111  0.00349 -0.07831]\n",
      " [ 0.       0.       0.       0.       0.      -0.11832]]\n",
      "\n",
      "\n",
      "[[ 2.78023  0.2169   0.48216  0.03163  0.18753  1.15184]\n",
      " [ 0.       0.13768 -0.66742 -0.00508 -0.09229  0.05338]\n",
      " [ 0.       0.31921  0.40055  0.12105  0.04234  0.28654]\n",
      " [ 0.      -0.      -0.       0.15246 -0.56319 -0.24541]\n",
      " [ 0.      -0.       0.       0.4421  -0.00337  0.31612]\n",
      " [ 0.       0.       0.       0.       0.      -0.11832]]\n",
      "\n",
      "\n",
      "[[ 2.78023  0.21558 -0.48275 -0.13004 -0.13878  1.15184]\n",
      " [ 0.       0.45711 -0.60397 -0.12954 -0.02569  0.17837]\n",
      " [ 0.       0.38266  0.08112  0.04145 -0.07636 -0.23053]\n",
      " [ 0.      -0.      -0.       0.04905 -0.59797  0.02973]\n",
      " [ 0.      -0.       0.       0.40733  0.10004 -0.39909]\n",
      " [ 0.       0.       0.       0.       0.      -0.11832]]\n",
      "\n",
      "\n",
      "[[ 2.78023 -0.46119 -0.2585   0.18671  0.0362   1.15184]\n",
      " [ 0.       0.06421 -0.41846  0.02203  0.0808  -0.21339]\n",
      " [ 0.       0.56816  0.47402 -0.11849  0.06272 -0.19856]\n",
      " [ 0.      -0.      -0.      -0.02397 -0.50823  0.20987]\n",
      " [ 0.      -0.       0.       0.49706  0.17306  0.34075]\n",
      " [ 0.       0.       0.       0.       0.      -0.11832]]\n",
      "\n",
      "\n",
      "[[ 2.78023  0.02717  0.528    0.15684 -0.10756  1.15184]\n",
      " [ 0.       0.29002 -0.71045 -0.07151  0.08677 -0.05422]\n",
      " [ 0.       0.27617  0.24821 -0.04124 -0.10318  0.28639]\n",
      " [ 0.       0.       0.       0.07038 -0.40406  0.39001]\n",
      " [ 0.       0.      -0.       0.60123  0.0787   0.08972]\n",
      " [ 0.       0.       0.       0.       0.      -0.11832]]\n",
      "\n",
      "\n",
      "[[ 2.78023  0.4645  -0.25251  0.03217 -0.18744  1.15184]\n",
      " [ 0.       0.42516 -0.34087 -0.09802 -0.08644  0.28172]\n",
      " [ 0.       0.64575  0.11307  0.03318 -0.08252 -0.07476]\n",
      " [ 0.      -0.       0.       0.17321 -0.50131  0.33615]\n",
      " [ 0.      -0.       0.       0.50398 -0.02412 -0.21717]\n",
      " [ 0.       0.       0.       0.       0.      -0.11832]]\n",
      "\n",
      "\n",
      "[[ 2.78023 -0.25041 -0.46564  0.08493  0.17017  1.15184]\n",
      " [ 0.       0.11446 -0.64716  0.02264  0.08622 -0.07349]\n",
      " [ 0.       0.33947  0.42377 -0.13006 -0.01134 -0.28206]\n",
      " [ 0.      -0.      -0.       0.10545 -0.59635 -0.1426 ]\n",
      " [ 0.      -0.       0.       0.40894  0.04363  0.37393]\n",
      " [ 0.       0.       0.       0.       0.      -0.11832]]\n",
      "\n",
      "\n",
      "[[ 2.78023 -0.17676  0.49828 -0.16464 -0.09521  1.15184]\n",
      " [ 0.       0.43733 -0.6322   0.12963 -0.00613 -0.1596 ]\n",
      " [ 0.       0.35442  0.1009  -0.02791  0.08584  0.2439 ]\n",
      " [ 0.      -0.      -0.       0.00051 -0.56788 -0.08704]\n",
      " [ 0.      -0.       0.       0.43742  0.14858 -0.39062]\n",
      " [ 0.       0.       0.       0.       0.      -0.11832]]\n",
      "\n"
     ]
    },
    {
     "name": "stdout",
     "output_type": "stream",
     "text": [
      "\n",
      "[[ 2.78023  0.49031  0.1978   0.1871  -0.03412  1.15184]\n",
      " [ 0.       0.0897  -0.36922 -0.03835 -0.07962  0.23689]\n",
      " [ 0.       0.6174   0.44853  0.09323 -0.09212  0.16983]\n",
      " [ 0.      -0.      -0.      -0.00174 -0.44006  0.31935]\n",
      " [ 0.      -0.       0.       0.56524  0.15082  0.24119]\n",
      " [ 0.       0.       0.       0.       0.      -0.11832]]\n",
      "\n",
      "\n",
      "[[ 2.78023 -0.05836 -0.52547 -0.10034  0.16156  1.15184]\n",
      " [ 0.       0.26423 -0.7114  -0.0352   0.10341  0.03719]\n",
      " [ 0.       0.27522  0.274   -0.07731 -0.08414 -0.28909]\n",
      " [ 0.      -0.      -0.       0.14433 -0.43289 -0.39316]\n",
      " [ 0.      -0.       0.       0.5724   0.00476  0.07471]\n",
      " [ 0.       0.       0.       0.       0.      -0.11832]]\n",
      "\n",
      "\n",
      "[[ 2.78023 -0.42665  0.31224 -0.0303  -0.18775  1.15184]\n",
      " [ 0.       0.45992 -0.38757  0.11903  0.06142 -0.26923]\n",
      " [ 0.       0.59905  0.07831 -0.02073  0.08135  0.11169]\n",
      " [ 0.      -0.       0.       0.15331 -0.56208  0.24765]\n",
      " [ 0.      -0.       0.       0.44321 -0.00422 -0.31437]\n",
      " [ 0.       0.       0.       0.       0.      -0.11832]]\n",
      "\n",
      "\n",
      "[[ 2.78023  0.28484  0.44541 -0.12913 -0.13962  1.15184]\n",
      " [ 0.       0.09306 -0.62213  0.03605  0.07815  0.09457]\n",
      " [ 0.       0.3645   0.44517 -0.13113  0.01965  0.27571]\n",
      " [ 0.       0.       0.       0.05029 -0.59829  0.03233]\n",
      " [ 0.       0.      -0.       0.407    0.0988  -0.39889]\n",
      " [ 0.       0.       0.       0.       0.      -0.11832]]\n",
      "\n",
      "\n",
      "[[ 2.78023  0.13965 -0.50992  0.18641  0.03768  1.15184]\n",
      " [ 0.       0.41514 -0.65537  0.12063 -0.04042  0.14123]\n",
      " [ 0.       0.33125  0.12308 -0.00794  0.09348 -0.25497]\n",
      " [ 0.       0.       0.      -0.02387 -0.5098   0.20716]\n",
      " [ 0.       0.      -0.       0.49549  0.17296  0.34241]\n",
      " [ 0.       0.       0.       0.       0.      -0.11832]]\n",
      "\n",
      "\n",
      "[[ 2.78023 -0.5128  -0.1287   0.15787 -0.10605  1.15184]\n",
      " [ 0.       0.13016 -0.32515  0.05967  0.07381 -0.25794]\n",
      " [ 0.       0.66147  0.40807 -0.05737  0.11265 -0.13574]\n",
      " [ 0.      -0.      -0.       0.06849 -0.40416  0.38913]\n",
      " [ 0.      -0.       0.       0.60113  0.0806   0.09347]\n",
      " [ 0.       0.       0.       0.       0.      -0.11832]]\n",
      "\n",
      "\n",
      "[[ 2.78023  0.08941  0.52109  0.03368 -0.18718  1.15184]\n",
      " [ 0.       0.23845 -0.70929 -0.00069  0.10596 -0.01998]\n",
      " [ 0.       0.27733  0.29978 -0.10303 -0.05608  0.29079]\n",
      " [ 0.       0.       0.       0.17317 -0.49971  0.33789]\n",
      " [ 0.       0.      -0.       0.50558 -0.02408 -0.21445]\n",
      " [ 0.       0.       0.       0.       0.      -0.11832]]\n",
      "\n",
      "\n",
      "[[ 2.78023  0.38497 -0.36238 -0.08381 -0.17072  1.15184]\n",
      " [ 0.       0.47997 -0.43739 -0.13126 -0.03412  0.25343]\n",
      " [ 0.       0.54923  0.05826  0.01232 -0.08027 -0.14398]\n",
      " [ 0.      -0.       0.       0.10668 -0.59594  0.14505]\n",
      " [ 0.      -0.       0.       0.40935  0.04241 -0.37299]\n",
      " [ 0.       0.       0.       0.       0.      -0.11832]]\n",
      "\n",
      "\n",
      "[[ 2.78023 -0.32015 -0.42075  0.16397  0.09636  1.15184]\n",
      " [ 0.       0.0745  -0.59185  0.04715  0.0688  -0.1167 ]\n",
      " [ 0.       0.39477  0.46373 -0.12411  0.05127 -0.2671 ]\n",
      " [ 0.      -0.      -0.       0.00143 -0.56891  0.0843 ]\n",
      " [ 0.      -0.       0.       0.43639  0.14766  0.39122]\n",
      " [ 0.       0.       0.       0.       0.      -0.11832]]\n",
      "\n",
      "\n",
      "[[ 2.78023 -0.1041   0.51835 -0.1874   0.03243  1.15184]\n",
      " [ 0.       0.39142 -0.67394  0.09938 -0.07498 -0.12329]\n",
      " [ 0.       0.31268  0.14681  0.01966  0.09541  0.26412]\n",
      " [ 0.      -0.      -0.      -0.00285 -0.44144 -0.31716]\n",
      " [ 0.      -0.       0.       0.56385  0.15194 -0.24407]\n",
      " [ 0.       0.       0.       0.       0.      -0.11832]]\n",
      "\n",
      "\n",
      "[[ 2.78023  0.52606  0.05276  0.10182 -0.16063  1.15184]\n",
      " [ 0.       0.18442 -0.29228 -0.0824  -0.06143  0.27494]\n",
      " [ 0.       0.69434  0.35381  0.01936 -0.11854  0.09679]\n",
      " [ 0.      -0.      -0.       0.14304 -0.43162  0.39383]\n",
      " [ 0.      -0.       0.       0.57367  0.00605 -0.0711 ]\n",
      " [ 0.       0.       0.       0.       0.      -0.11832]]\n",
      "\n",
      "\n",
      "[[ 2.78023 -0.12054 -0.51478  0.02897  0.18796  1.15184]\n",
      " [ 0.       0.21277 -0.70406  0.02677  0.09908  0.00248]\n",
      " [ 0.       0.28257  0.32546 -0.11748 -0.02556 -0.29146]\n",
      " [ 0.      -0.      -0.       0.15415 -0.56095 -0.24988]\n",
      " [ 0.      -0.       0.       0.44434 -0.00506  0.31261]\n",
      " [ 0.       0.       0.       0.       0.      -0.11832]]\n",
      "\n",
      "\n",
      "[[ 2.78023 -0.34176  0.4034   0.12822  0.14046  1.15184]\n",
      " [ 0.       0.48714 -0.48595 -0.1359  -0.00512 -0.23562]\n",
      " [ 0.       0.50067  0.05109  0.00469 -0.08044  0.17158]\n",
      " [ 0.       0.       0.       0.05154 -0.5986  -0.03492]\n",
      " [ 0.       0.      -0.       0.40669  0.09755  0.39867]\n",
      " [ 0.       0.       0.       0.       0.      -0.11832]]\n",
      "\n",
      "\n",
      "[[ 2.78023  0.35612  0.39077  0.18611  0.03916  1.15184]\n",
      " [ 0.       0.06017 -0.55601 -0.05737 -0.05781  0.13987]\n",
      " [ 0.       0.43061  0.47805  0.10683 -0.08332  0.25572]\n",
      " [ 0.      -0.      -0.      -0.02374 -0.51136  0.20444]\n",
      " [ 0.      -0.       0.       0.49393  0.17283  0.34404]\n",
      " [ 0.       0.       0.       0.       0.      -0.11832]]\n",
      "\n",
      "\n",
      "[[ 2.78023  0.06991 -0.52406  0.15888 -0.10452  1.15184]\n",
      " [ 0.       0.36675 -0.68839  0.06474 -0.10296  0.10572]\n",
      " [ 0.       0.29824  0.17148  0.05197  0.08657 -0.27163]\n",
      " [ 0.       0.       0.       0.06659 -0.40429  0.38821]\n",
      " [ 0.       0.      -0.       0.601    0.08249  0.09721]\n",
      " [ 0.       0.       0.       0.       0.      -0.11832]]\n",
      "\n",
      "\n",
      "[[ 2.78023 -0.528    0.02712  0.0352  -0.1869   1.15184]\n",
      " [ 0.       0.24817 -0.27617  0.10203  0.04398 -0.28638]\n",
      " [ 0.       0.71045  0.29006  0.0106   0.11194 -0.05425]\n",
      " [ 0.      -0.      -0.       0.17311 -0.49812  0.33962]\n",
      " [ 0.      -0.       0.       0.50718 -0.02402 -0.2117 ]\n",
      " [ 0.       0.       0.       0.       0.      -0.11832]]\n",
      "\n",
      "\n",
      "[[ 2.78023  0.15199  0.50638 -0.08269 -0.17127  1.15184]\n",
      " [ 0.       0.18731 -0.69554  0.04711  0.08736  0.01546]\n",
      " [ 0.       0.29109  0.35092 -0.12295  0.00456  0.29106]\n",
      " [ 0.       0.       0.       0.1079  -0.59551  0.14749]\n",
      " [ 0.       0.      -0.       0.40978  0.04119 -0.37203]\n",
      " [ 0.       0.       0.       0.       0.      -0.11832]]\n",
      "\n",
      "\n",
      "[[ 2.78023  0.29859 -0.43631 -0.16329 -0.0975   1.15184]\n",
      " [ 0.       0.48405 -0.53058 -0.13283  0.02608  0.21679]\n",
      " [ 0.       0.45604  0.05418 -0.00512 -0.08148 -0.19483]\n",
      " [ 0.      -0.      -0.       0.00236 -0.56992 -0.08157]\n",
      " [ 0.      -0.       0.       0.43537  0.14673 -0.3918 ]\n",
      " [ 0.       0.       0.       0.       0.      -0.11832]]\n",
      "\n",
      "\n",
      "[[ 2.78023 -0.39225 -0.35449 -0.18768  0.03074  1.15184]\n",
      " [ 0.       0.05201 -0.5146  -0.06731 -0.04427 -0.16395]\n",
      " [ 0.       0.47202  0.48622  0.07638 -0.11254 -0.24099]\n",
      " [ 0.       0.       0.      -0.00395 -0.44285 -0.31495]\n",
      " [ 0.       0.      -0.       0.56244  0.15303 -0.24692]\n",
      " [ 0.       0.       0.       0.       0.      -0.11832]]\n",
      "\n",
      "\n",
      "[[ 2.78023 -0.03685  0.52741 -0.10329  0.15969  1.15184]\n",
      " [ 0.       0.34152 -0.69909  0.02291 -0.11642 -0.08844]\n",
      " [ 0.       0.28753  0.19671  0.08117  0.06573  0.27773]\n",
      " [ 0.      -0.      -0.       0.14172 -0.43037 -0.39447]\n",
      " [ 0.      -0.       0.       0.57492  0.00736  0.06748]\n",
      " [ 0.       0.       0.       0.       0.      -0.11832]]\n",
      "\n",
      "\n",
      "[[ 2.78023  0.51774 -0.10708 -0.02763 -0.18816  1.15184]\n",
      " [ 0.       0.3144  -0.27992 -0.11658 -0.02379  0.2913 ]\n",
      " [ 0.       0.70671  0.22383 -0.02911 -0.09992  0.01008]\n",
      " [ 0.      -0.      -0.       0.15497 -0.55981  0.2521 ]\n",
      " [ 0.      -0.       0.       0.44548 -0.00588 -0.31082]\n",
      " [ 0.       0.       0.       0.       0.      -0.11832]]\n",
      "\n",
      "\n",
      "[[ 2.78023 -0.18396 -0.49566 -0.1273  -0.14129  1.15184]\n",
      " [ 0.       0.16225 -0.68349 -0.06208 -0.07302 -0.03398]\n",
      " [ 0.       0.30313  0.37598  0.12097 -0.0342  -0.28949]\n",
      " [ 0.       0.       0.       0.05279 -0.59889  0.03752]\n",
      " [ 0.       0.      -0.       0.4064   0.0963  -0.39844]\n",
      " [ 0.       0.       0.       0.       0.      -0.11832]]\n",
      "\n",
      "\n",
      "[[ 2.78023 -0.25648  0.46232 -0.18579 -0.04062  1.15184]\n",
      " [ 0.       0.47335 -0.56996  0.12004 -0.05953 -0.19762]\n",
      " [ 0.       0.41666  0.06488  0.01958  0.08156  0.21426]\n",
      " [ 0.      -0.      -0.      -0.02359 -0.51291 -0.20172]\n",
      " [ 0.      -0.       0.       0.49238  0.17268 -0.34564]\n",
      " [ 0.       0.       0.       0.       0.      -0.11832]]\n",
      "\n",
      "\n",
      "[[ 2.78023  0.42766  0.31086 -0.15988  0.10299  1.15184]\n",
      " [ 0.       0.05241 -0.4683   0.07625  0.02788  0.1886 ]\n",
      " [ 0.       0.51832  0.48582 -0.03348  0.13144  0.22223]\n",
      " [ 0.       0.       0.       0.0647  -0.40447 -0.38726]\n",
      " [ 0.       0.      -0.       0.60083  0.08439 -0.10094]\n",
      " [ 0.       0.       0.       0.       0.      -0.11832]]\n",
      "\n",
      "\n",
      "[[ 2.78023  0.00466 -0.52868  0.03671 -0.1866   1.15184]\n",
      " [ 0.       0.31596 -0.70637 -0.01578 -0.11452  0.07136]\n",
      " [ 0.       0.28025  0.22227  0.10091  0.03799 -0.2826 ]\n",
      " [ 0.       0.       0.       0.17302 -0.49651  0.34133]\n",
      " [ 0.       0.      -0.       0.50878 -0.02394 -0.20893]\n",
      " [ 0.       0.       0.       0.       0.      -0.11832]]\n",
      "\n",
      "\n",
      "[[ 2.78023 -0.49598  0.18311  0.08156  0.1718   1.15184]\n",
      " [ 0.       0.37533 -0.30277 -0.12563 -0.00169 -0.28955]\n",
      " [ 0.       0.68385  0.1629  -0.03881 -0.08773  0.03348]\n",
      " [ 0.       0.       0.       0.10911 -0.59506 -0.14993]\n",
      " [ 0.       0.      -0.       0.41023  0.03997  0.37105]\n",
      " [ 0.       0.       0.       0.       0.      -0.11832]]\n",
      "\n",
      "\n",
      "[[ 2.78023  0.21663  0.48228 -0.16261 -0.09863  1.15184]\n",
      " [ 0.       0.13788 -0.66756  0.07323  0.05644  0.05322]\n",
      " [ 0.       0.31906  0.40035 -0.11112  0.06397  0.28657]\n",
      " [ 0.       0.       0.       0.0033  -0.57092 -0.07884]\n",
      " [ 0.       0.      -0.       0.43437  0.14578 -0.39236]\n",
      " [ 0.       0.       0.       0.       0.      -0.11832]]\n",
      "\n",
      "\n",
      "[[ 2.78023  0.21591 -0.48261 -0.18795  0.02905  1.15184]\n",
      " [ 0.       0.45726 -0.60371 -0.09428  0.0925   0.17853]\n",
      " [ 0.       0.38291  0.08097 -0.03972 -0.07724 -0.2304 ]\n",
      " [ 0.      -0.      -0.      -0.00501 -0.44427 -0.31271]\n",
      " [ 0.      -0.       0.       0.56102  0.1541  -0.24974]\n",
      " [ 0.       0.       0.       0.       0.      -0.11832]]\n",
      "\n",
      "\n",
      "[[ 2.78023 -0.46093 -0.25897 -0.10476  0.15873  1.15184]\n",
      " [ 0.       0.06406 -0.41887 -0.08308 -0.01036 -0.21319]\n",
      " [ 0.       0.56775  0.47417 -0.0128  -0.13348 -0.19877]\n",
      " [ 0.       0.       0.       0.14038 -0.42915 -0.39507]\n",
      " [ 0.       0.      -0.       0.57614  0.00871  0.06384]\n",
      " [ 0.       0.       0.       0.       0.      -0.11832]]\n",
      "\n",
      "\n",
      "[[ 2.78023  0.02691  0.52802 -0.02629 -0.18836  1.15184]\n",
      " [ 0.       0.29023 -0.71043  0.04581  0.10271 -0.05436]\n",
      " [ 0.       0.27619  0.248   -0.11072 -0.00908  0.28636]\n",
      " [ 0.       0.       0.       0.15578 -0.55866  0.25431]\n",
      " [ 0.       0.      -0.       0.44663 -0.00669 -0.30901]\n",
      " [ 0.       0.       0.       0.       0.      -0.11832]]\n",
      "\n",
      "\n",
      "[[ 2.78023  0.46479 -0.25198 -0.12638 -0.14212  1.15184]\n",
      " [ 0.       0.42481 -0.34051 -0.12866  0.02273  0.28181]\n",
      " [ 0.       0.64611  0.11342 -0.04391 -0.0774  -0.07444]\n",
      " [ 0.      -0.      -0.       0.05404 -0.59916  0.04011]\n",
      " [ 0.      -0.       0.       0.40613  0.09504 -0.39818]\n",
      " [ 0.       0.       0.       0.       0.      -0.11832]]\n",
      "\n",
      "\n",
      "[[ 2.78023 -0.25013 -0.46579  0.18547  0.04209  1.15184]\n",
      " [ 0.       0.11464 -0.64734  0.0811   0.03704 -0.07332]\n",
      " [ 0.       0.33928  0.42359 -0.09111  0.09347 -0.2821 ]\n",
      " [ 0.      -0.      -0.      -0.02342 -0.51445  0.19899]\n",
      " [ 0.      -0.       0.       0.49084  0.17251  0.34722]\n",
      " [ 0.       0.       0.       0.       0.      -0.11832]]\n",
      "\n",
      "\n",
      "[[ 2.78023 -0.17707  0.49817 -0.16086  0.10145  1.15184]\n",
      " [ 0.       0.43751 -0.63199  0.05483 -0.11765 -0.15975]\n",
      " [ 0.       0.35463  0.10072  0.06304  0.06456  0.2438 ]\n",
      " [ 0.      -0.      -0.       0.06281 -0.40467 -0.38627]\n",
      " [ 0.      -0.       0.       0.60062  0.08627 -0.10466]\n",
      " [ 0.       0.       0.       0.       0.      -0.11832]]\n",
      "\n",
      "\n",
      "[[ 2.78023  0.49009  0.19833  0.03824 -0.1863   1.15184]\n",
      " [ 0.       0.08943 -0.36962 -0.08813  0.00596  0.2367 ]\n",
      " [ 0.       0.61701  0.4488  -0.05072 -0.12089  0.17009]\n",
      " [ 0.      -0.      -0.       0.17291 -0.49491  0.34302]\n",
      " [ 0.      -0.       0.       0.51038 -0.02382 -0.20614]\n",
      " [ 0.       0.       0.       0.       0.      -0.11832]]\n",
      "\n",
      "\n",
      "[[ 2.78023 -0.0581  -0.5255   0.08043  0.17234  1.15184]\n",
      " [ 0.       0.26444 -0.71141  0.0674   0.086    0.03733]\n",
      " [ 0.       0.27522  0.27379 -0.11269  0.01878 -0.28908]\n",
      " [ 0.      -0.      -0.       0.11033 -0.5946  -0.15237]\n",
      " [ 0.      -0.       0.       0.41069  0.03876  0.37006]\n",
      " [ 0.       0.       0.       0.       0.      -0.11832]]\n",
      "\n",
      "\n",
      "[[ 2.78023 -0.42698  0.31179 -0.16192 -0.09976  1.15184]\n",
      " [ 0.       0.4597  -0.38717  0.12423 -0.05003 -0.26935]\n",
      " [ 0.       0.59945  0.07853  0.04816  0.0688   0.1114 ]\n",
      " [ 0.      -0.      -0.       0.00426 -0.5719  -0.07611]\n",
      " [ 0.      -0.       0.       0.43339  0.14483 -0.39289]\n",
      " [ 0.       0.       0.       0.       0.      -0.11832]]\n",
      "\n",
      "\n",
      "[[ 2.78023  0.28455  0.44559  0.1882  -0.02736  1.15184]\n",
      " [ 0.       0.09323 -0.62235 -0.08486 -0.01446  0.09439]\n",
      " [ 0.       0.36427  0.445    0.05801 -0.11922  0.27577]\n",
      " [ 0.      -0.      -0.      -0.00604 -0.44571  0.31046]\n",
      " [ 0.      -0.       0.       0.55958  0.15513  0.25253]\n",
      " [ 0.       0.       0.       0.       0.      -0.11832]]\n",
      "\n",
      "\n"
     ]
    },
    {
     "name": "stdout",
     "output_type": "stream",
     "text": [
      "[[ 2.78023  0.13995 -0.50984 -0.10622  0.15776  1.15184]\n",
      " [ 0.       0.41534 -0.6552  -0.00882  0.12694  0.14138]\n",
      " [ 0.       0.33143  0.12289 -0.08331 -0.04307 -0.25489]\n",
      " [ 0.      -0.      -0.       0.13901 -0.42795 -0.39565]\n",
      " [ 0.      -0.       0.       0.57735  0.01008  0.06019]\n",
      " [ 0.       0.       0.       0.       0.      -0.11832]]\n",
      "\n",
      "\n",
      "[[ 2.78023 -0.51265 -0.1293   0.02494  0.18854  1.15184]\n",
      " [ 0.       0.12976 -0.32548 -0.09254  0.02082 -0.25778]\n",
      " [ 0.       0.66115  0.40847 -0.07557 -0.1014  -0.13604]\n",
      " [ 0.       0.       0.       0.15657 -0.55749 -0.25651]\n",
      " [ 0.       0.      -0.       0.4478  -0.00748  0.30718]\n",
      " [ 0.       0.       0.       0.       0.      -0.11832]]\n",
      "\n",
      "\n",
      "[[ 2.78023  0.08915  0.52113  0.12546  0.14293  1.15184]\n",
      " [ 0.       0.23866 -0.70932 -0.08252 -0.06652 -0.02013]\n",
      " [ 0.       0.2773   0.29957  0.10801 -0.04571  0.29078]\n",
      " [ 0.      -0.       0.       0.0553  -0.59942 -0.0427 ]\n",
      " [ 0.       0.       0.       0.40587  0.09379  0.39792]\n",
      " [ 0.       0.       0.       0.       0.      -0.11832]]\n",
      "\n",
      "\n",
      "[[ 2.78023  0.38533 -0.362   -0.18513 -0.04354  1.15184]\n",
      " [ 0.       0.47986 -0.43698 -0.10961  0.07987  0.25357]\n",
      " [ 0.       0.54965  0.05837 -0.05433 -0.06037 -0.14373]\n",
      " [ 0.       0.       0.      -0.02322 -0.51599 -0.19626]\n",
      " [ 0.       0.       0.       0.48931  0.17231 -0.34877]\n",
      " [ 0.       0.       0.       0.       0.      -0.11832]]\n",
      "\n",
      "\n",
      "[[ 2.78023 -0.31986 -0.42097  0.16183 -0.0999   1.15184]\n",
      " [ 0.       0.07463 -0.59213  0.08287 -0.00961 -0.11651]\n",
      " [ 0.       0.3945   0.4636  -0.01264  0.13368 -0.26718]\n",
      " [ 0.       0.       0.       0.06093 -0.40492  0.38525]\n",
      " [ 0.       0.       0.       0.60037  0.08815  0.10837]\n",
      " [ 0.       0.       0.       0.       0.      -0.11832]]\n",
      "\n",
      "\n",
      "[[ 2.78023 -0.10439  0.51829 -0.03976  0.18598  1.15184]\n",
      " [ 0.       0.39162 -0.67381 -0.03259 -0.12018 -0.12344]\n",
      " [ 0.       0.31282  0.14661  0.09585  0.01726  0.26405]\n",
      " [ 0.       0.       0.       0.17277 -0.4933  -0.3447 ]\n",
      " [ 0.       0.       0.       0.51199 -0.02368  0.20333]\n",
      " [ 0.       0.       0.       0.       0.      -0.11832]]\n",
      "\n",
      "\n",
      "[[ 2.78023  0.526    0.05341  0.0793   0.17286  1.15184]\n",
      " [ 0.       0.18393 -0.29249  0.09628 -0.03577  0.27482]\n",
      " [ 0.       0.69414  0.3543   0.08901  0.08073  0.09713]\n",
      " [ 0.       0.      -0.       0.11153 -0.59412 -0.1548 ]\n",
      " [ 0.       0.      -0.       0.41117  0.03755  0.36905]\n",
      " [ 0.       0.       0.       0.       0.      -0.11832]]\n",
      "\n",
      "\n",
      "[[ 2.78023 -0.12029 -0.51484  0.16122  0.10088  1.15184]\n",
      " [ 0.       0.21298 -0.70411  0.09255  0.04444  0.00263]\n",
      " [ 0.       0.28251  0.32525 -0.09606  0.07226 -0.29146]\n",
      " [ 0.       0.       0.       0.00523 -0.57287  0.07339]\n",
      " [ 0.       0.       0.       0.43242  0.14386  0.39341]\n",
      " [ 0.       0.       0.       0.       0.      -0.11832]]\n",
      "\n",
      "\n",
      "[[ 2.78023 -0.34211  0.40309  0.18844 -0.02568  1.15184]\n",
      " [ 0.       0.48712 -0.48557 -0.08139  0.10896 -0.23578]\n",
      " [ 0.       0.50106  0.05111 -0.06359 -0.04948  0.17137]\n",
      " [ 0.       0.      -0.      -0.00705 -0.44716  0.30819]\n",
      " [ 0.       0.      -0.       0.55813  0.15614  0.2553 ]\n",
      " [ 0.       0.       0.       0.       0.      -0.11832]]\n",
      "\n",
      "\n",
      "[[ 2.78023  0.35582  0.39105 -0.10767  0.15677  1.15184]\n",
      " [ 0.       0.06027 -0.55633  0.07539 -0.03085  0.13967]\n",
      " [ 0.       0.43029  0.47796  0.03592  0.13063  0.25583]\n",
      " [ 0.       0.      -0.       0.13762 -0.42677 -0.39619]\n",
      " [ 0.       0.      -0.       0.57853  0.01147  0.05653]\n",
      " [ 0.       0.       0.       0.       0.      -0.11832]]\n",
      "\n",
      "\n",
      "[[ 2.78023  0.07019 -0.52402  0.02358  0.18871  1.15184]\n",
      " [ 0.       0.36696 -0.68828  0.06382  0.10357  0.10586]\n",
      " [ 0.       0.29834  0.17127 -0.10059  0.00844 -0.27157]\n",
      " [ 0.       0.       0.       0.15735 -0.55631 -0.25871]\n",
      " [ 0.       0.       0.       0.44899 -0.00826  0.30533]\n",
      " [ 0.       0.       0.       0.       0.      -0.11832]]\n",
      "\n",
      "\n",
      "[[ 2.78023 -0.52804  0.02645  0.12452  0.14375  1.15184]\n",
      " [ 0.       0.24762 -0.27623 -0.09775  0.05267 -0.28631]\n",
      " [ 0.       0.7104   0.29061 -0.0944  -0.06122 -0.05461]\n",
      " [ 0.       0.      -0.       0.05656 -0.59966 -0.04528]\n",
      " [ 0.       0.      -0.       0.40563  0.09253  0.39763]\n",
      " [ 0.       0.       0.       0.       0.      -0.11832]]\n",
      "\n",
      "\n",
      "[[ 2.78023  0.15173  0.50646  0.18479  0.04499  1.15184]\n",
      " [ 0.       0.18752 -0.69562 -0.09743 -0.01909  0.01531]\n",
      " [ 0.       0.291    0.35071  0.07456 -0.09784  0.29107]\n",
      " [ 0.       0.       0.      -0.023   -0.51751  0.19353]\n",
      " [ 0.       0.       0.       0.48778  0.17209  0.35029]\n",
      " [ 0.       0.       0.       0.       0.      -0.11832]]\n",
      "\n",
      "\n",
      "[[ 2.78023  0.29895 -0.43607 -0.16278  0.09834  1.15184]\n",
      " [ 0.       0.48411 -0.53023 -0.03932  0.12954  0.21695]\n",
      " [ 0.       0.45639  0.05412 -0.07436 -0.03366 -0.19466]\n",
      " [ 0.       0.       0.       0.05906 -0.4052  -0.38419]\n",
      " [ 0.       0.       0.       0.60009  0.09003 -0.11207]\n",
      " [ 0.       0.       0.       0.       0.      -0.11832]]\n",
      "\n",
      "\n",
      "[[ 2.78023 -0.39195 -0.35482  0.04128 -0.18565  1.15184]\n",
      " [ 0.       0.05205 -0.51497  0.06607 -0.04611 -0.16375]\n",
      " [ 0.       0.47166  0.48618  0.07611  0.11272 -0.24113]\n",
      " [ 0.       0.       0.       0.1726  -0.49169  0.34636]\n",
      " [ 0.       0.       0.       0.5136  -0.02352 -0.20049]\n",
      " [ 0.       0.       0.       0.       0.      -0.11832]]\n",
      "\n",
      "\n",
      "[[ 2.78023 -0.03712  0.5274  -0.07816 -0.17338  1.15184]\n",
      " [ 0.       0.34173 -0.69902  0.08545  0.08236 -0.08858]\n",
      " [ 0.       0.28761  0.1965  -0.0992   0.0326   0.27769]\n",
      " [ 0.       0.      -0.       0.11273 -0.59363  0.15722]\n",
      " [ 0.       0.      -0.       0.41166  0.03635 -0.36802]\n",
      " [ 0.       0.       0.       0.       0.      -0.11832]]\n",
      "\n",
      "\n",
      "[[ 2.78023  0.51788 -0.10643 -0.16052 -0.10199  1.15184]\n",
      " [ 0.       0.31386 -0.2798  -0.09405  0.07278  0.29129]\n",
      " [ 0.       0.70682  0.22437 -0.09479 -0.04314  0.01044]\n",
      " [ 0.       0.       0.       0.0062  -0.57382 -0.07067]\n",
      " [ 0.       0.       0.       0.43147  0.14288 -0.39391]\n",
      " [ 0.       0.       0.       0.       0.      -0.11832]]\n",
      "\n",
      "\n",
      "[[ 2.78023 -0.18369 -0.49576 -0.18866  0.024    1.15184]\n",
      " [ 0.       0.16245 -0.6836  -0.09541  0.00942 -0.03382]\n",
      " [ 0.       0.30302  0.37578  0.04084 -0.11886 -0.28951]\n",
      " [ 0.       0.      -0.      -0.00803 -0.44862 -0.3059 ]\n",
      " [ 0.       0.      -0.       0.55667  0.15711 -0.25804]\n",
      " [ 0.       0.       0.       0.       0.      -0.11832]]\n",
      "\n",
      "\n",
      "[[ 2.78023 -0.25682  0.46214 -0.10912  0.15576  1.15184]\n",
      " [ 0.       0.47346 -0.56966 -0.0087  -0.13372 -0.19777]\n",
      " [ 0.       0.41697  0.06476  0.0828   0.01329  0.21411]\n",
      " [ 0.       0.       0.       0.1362  -0.42561 -0.39669]\n",
      " [ 0.       0.       0.       0.57968  0.01289  0.05285]\n",
      " [ 0.       0.       0.       0.       0.      -0.11832]]\n",
      "\n",
      "\n",
      "[[ 2.78023  0.42737  0.31125 -0.02222 -0.18888  1.15184]\n",
      " [ 0.       0.05236 -0.4687  -0.05847  0.05632  0.1884 ]\n",
      " [ 0.       0.51792  0.48587 -0.10339 -0.0878   0.22241]\n",
      " [ 0.       0.       0.       0.15811 -0.55511  0.2609 ]\n",
      " [ 0.       0.       0.       0.45018 -0.00903 -0.30346]\n",
      " [ 0.       0.       0.       0.       0.      -0.11832]]\n",
      "\n",
      "\n",
      "[[ 2.78023  0.00492 -0.52868  0.12359  0.14455  1.15184]\n",
      " [ 0.       0.31617 -0.70632  0.09965  0.05863  0.0715 ]\n",
      " [ 0.       0.2803   0.22206 -0.09235  0.05561 -0.28257]\n",
      " [ 0.       0.       0.       0.05782 -0.59989 -0.04786]\n",
      " [ 0.       0.       0.       0.4054   0.09127  0.39733]\n",
      " [ 0.       0.       0.       0.       0.      -0.11832]]\n",
      "\n",
      "\n",
      "[[ 2.78023 -0.4962   0.18251  0.18443  0.04642  1.15184]\n",
      " [ 0.       0.37487 -0.30251 -0.08114  0.09586 -0.28959]\n",
      " [ 0.       0.68411  0.16336 -0.09247 -0.02578  0.03313]\n",
      " [ 0.       0.      -0.      -0.02276 -0.51903  0.19079]\n",
      " [ 0.       0.      -0.       0.48626  0.17184  0.35179]\n",
      " [ 0.       0.       0.       0.       0.      -0.11832]]\n",
      "\n",
      "\n",
      "[[ 2.78023  0.21635  0.48241  0.16372 -0.09677  1.15184]\n",
      " [ 0.       0.13807 -0.66771 -0.08433  0.03798  0.05306]\n",
      " [ 0.       0.31891  0.40016 -0.00397 -0.12814  0.28661]\n",
      " [ 0.       0.       0.       0.05719 -0.40551  0.38309]\n",
      " [ 0.       0.       0.       0.59978  0.0919   0.11575]\n",
      " [ 0.       0.       0.       0.       0.      -0.11832]]\n",
      "\n",
      "\n",
      "[[ 2.78023  0.21624 -0.48246 -0.04281  0.1853   1.15184]\n",
      " [ 0.       0.45741 -0.60346  0.05095  0.12188  0.17868]\n",
      " [ 0.       0.38317  0.08082 -0.08643  0.00828 -0.23028]\n",
      " [ 0.       0.       0.       0.17241 -0.49007 -0.348  ]\n",
      " [ 0.       0.       0.       0.51522 -0.02332  0.19763]\n",
      " [ 0.       0.       0.       0.       0.      -0.11832]]\n",
      "\n",
      "\n",
      "[[ 2.78023 -0.46067 -0.25943  0.07701  0.17389  1.15184]\n",
      " [ 0.       0.06391 -0.41929 -0.05347  0.06438 -0.21299]\n",
      " [ 0.       0.56734  0.47432 -0.1193  -0.06125 -0.19898]\n",
      " [ 0.       0.      -0.       0.11393 -0.59312 -0.15965]\n",
      " [ 0.       0.      -0.       0.41218  0.03516  0.36698]\n",
      " [ 0.       0.       0.       0.       0.      -0.11832]]\n",
      "\n",
      "\n",
      "[[ 2.78023  0.02665  0.52803 -0.15981 -0.1031   1.15184]\n",
      " [ 0.       0.29044 -0.71041  0.10774  0.03235 -0.0545 ]\n",
      " [ 0.       0.27621  0.24779 -0.07912  0.07794  0.28633]\n",
      " [ 0.       0.      -0.       0.00719 -0.57476 -0.06795]\n",
      " [ 0.       0.      -0.       0.43054  0.14189 -0.39439]\n",
      " [ 0.       0.       0.       0.       0.      -0.11832]]\n",
      "\n",
      "\n",
      "[[ 2.78023  0.46508 -0.25145  0.18887 -0.02232  1.15184]\n",
      " [ 0.       0.42445 -0.34016  0.05489 -0.11853  0.28189]\n",
      " [ 0.       0.64647  0.11377  0.08867  0.00814 -0.07412]\n",
      " [ 0.       0.      -0.      -0.00897 -0.4501   0.30359]\n",
      " [ 0.       0.      -0.       0.55519  0.15806  0.26075]\n",
      " [ 0.       0.       0.       0.       0.      -0.11832]]\n",
      "\n",
      "\n",
      "[[ 2.78023 -0.24985 -0.46594 -0.11056  0.15474  1.15184]\n",
      " [ 0.       0.11483 -0.64753 -0.06551  0.06053 -0.07315]\n",
      " [ 0.       0.33909  0.4234  -0.05098 -0.12014 -0.28215]\n",
      " [ 0.       0.      -0.       0.13476 -0.42448 -0.39717]\n",
      " [ 0.       0.      -0.       0.58081  0.01433  0.04916]\n",
      " [ 0.       0.       0.       0.       0.      -0.11832]]\n",
      "\n",
      "\n",
      "[[ 2.78023 -0.17739  0.49805 -0.02086 -0.18903  1.15184]\n",
      " [ 0.       0.43768 -0.63178  0.08186  0.10075 -0.1599 ]\n",
      " [ 0.       0.35484  0.10055 -0.08558  0.02851  0.2437 ]\n",
      " [ 0.       0.      -0.       0.15886 -0.5539   0.26309]\n",
      " [ 0.       0.      -0.       0.45139 -0.00977 -0.30157]\n",
      " [ 0.       0.       0.       0.       0.      -0.11832]]\n",
      "\n",
      "\n",
      "[[ 2.78023  0.48987  0.19887  0.12265  0.14535  1.15184]\n",
      " [ 0.       0.08916 -0.37001  0.04973 -0.07295  0.23652]\n",
      " [ 0.       0.61661  0.44907  0.12639  0.03491  0.17035]\n",
      " [ 0.       0.      -0.       0.05908 -0.6001  -0.05044]\n",
      " [ 0.       0.      -0.       0.40519  0.09     0.39701]\n",
      " [ 0.       0.       0.       0.       0.      -0.11832]]\n",
      "\n",
      "\n",
      "[[ 2.78023 -0.05785 -0.52553  0.18406  0.04786  1.15184]\n",
      " [ 0.       0.26465 -0.71141  0.10925  0.00282  0.03747]\n",
      " [ 0.       0.27521  0.27358 -0.0573   0.0988  -0.28906]\n",
      " [ 0.       0.       0.      -0.02249 -0.52054  0.18805]\n",
      " [ 0.       0.       0.       0.48475  0.17158  0.35327]\n",
      " [ 0.       0.       0.       0.       0.      -0.11832]]\n",
      "\n",
      "\n",
      "[[ 2.78023 -0.42731  0.31134 -0.16464  0.09519  1.15184]\n",
      " [ 0.       0.45947 -0.38676  0.01482 -0.13308 -0.26946]\n",
      " [ 0.       0.59986  0.07876  0.08343 -0.00989  0.11112]\n",
      " [ 0.       0.       0.       0.05533 -0.40586 -0.38197]\n",
      " [ 0.       0.       0.       0.59943  0.09376 -0.11942]\n",
      " [ 0.       0.       0.       0.       0.      -0.11832]]\n",
      "\n",
      "\n",
      "[[ 2.78023  0.28427  0.44578  0.04434 -0.18494  1.15184]\n",
      " [ 0.       0.0934  -0.62258 -0.04483  0.07352  0.09421]\n",
      " [ 0.       0.36404  0.44483 -0.08925 -0.09802  0.27583]\n",
      " [ 0.       0.       0.       0.17219 -0.48846  0.34962]\n",
      " [ 0.       0.       0.       0.51683 -0.0231  -0.19475]\n",
      " [ 0.       0.       0.       0.       0.      -0.11832]]\n",
      "\n",
      "\n",
      "[[ 2.78023  0.14025 -0.50976 -0.07586 -0.1744   1.15184]\n",
      " [ 0.       0.41553 -0.65503 -0.10232 -0.07569  0.14153]\n",
      " [ 0.       0.3316   0.1227   0.08106 -0.04711 -0.25481]\n",
      " [ 0.       0.      -0.       0.11512 -0.59259  0.16207]\n",
      " [ 0.       0.      -0.       0.4127   0.03396 -0.36591]\n",
      " [ 0.       0.       0.       0.       0.      -0.11832]]\n",
      "\n",
      "\n",
      "[[ 2.78023 -0.51249 -0.1299   0.1591   0.1042   1.15184]\n",
      " [ 0.       0.12937 -0.3258  -0.04449  0.0837  -0.25762]\n",
      " [ 0.       0.66082  0.40886 -0.1262  -0.00885 -0.13635]\n",
      " [ 0.       0.      -0.       0.00819 -0.57568  0.06523]\n",
      " [ 0.       0.      -0.       0.42961  0.1409   0.39485]\n",
      " [ 0.       0.       0.       0.       0.      -0.11832]]\n",
      "\n",
      "\n",
      "[[ 2.78023  0.08889  0.52117 -0.18906  0.02064  1.15184]\n",
      " [ 0.       0.23887 -0.70935  0.10186 -0.02942 -0.02027]\n",
      " [ 0.       0.27727  0.29935 -0.02455  0.11466  0.29077]\n",
      " [ 0.       0.      -0.      -0.00989 -0.45159 -0.30126]\n",
      " [ 0.       0.      -0.       0.5537   0.15898 -0.26344]\n",
      " [ 0.       0.       0.       0.       0.      -0.11832]]\n",
      "\n",
      "\n",
      "[[ 2.78023  0.38568 -0.36163  0.112   -0.15371  1.15184]\n",
      " [ 0.       0.47975 -0.43657 -0.03113 -0.13199  0.25371]\n",
      " [ 0.       0.55006  0.05848  0.0767  -0.02676 -0.14348]\n",
      " [ 0.       0.      -0.       0.13329 -0.42337  0.39761]\n",
      " [ 0.       0.      -0.       0.58192  0.01579 -0.04547]\n",
      " [ 0.       0.       0.       0.       0.      -0.11832]]\n",
      "\n",
      "\n"
     ]
    },
    {
     "name": "stdout",
     "output_type": "stream",
     "text": [
      "[[ 2.78023 -0.31956 -0.42119  0.01949  0.18918  1.15184]\n",
      " [ 0.       0.07477 -0.5924  -0.02734  0.07884 -0.11632]\n",
      " [ 0.       0.39422  0.46346 -0.11486 -0.06952 -0.26726]\n",
      " [ 0.       0.      -0.       0.15959 -0.55267 -0.26526]\n",
      " [ 0.       0.      -0.       0.45262 -0.01051  0.29966]\n",
      " [ 0.       0.       0.       0.       0.      -0.11832]]\n",
      "\n",
      "\n",
      "[[ 2.78023 -0.10468  0.51823 -0.1217  -0.14614  1.15184]\n",
      " [ 0.       0.39182 -0.67367  0.11468  0.04857 -0.12358]\n",
      " [ 0.       0.31295  0.14641 -0.07271  0.06474  0.26398]\n",
      " [ 0.       0.      -0.       0.06035 -0.60029  0.05301]\n",
      " [ 0.       0.      -0.       0.405    0.08874 -0.39667]\n",
      " [ 0.       0.       0.       0.       0.      -0.11832]]\n",
      "\n",
      "\n",
      "[[ 2.78023  0.52593  0.05406 -0.18369 -0.04928  1.15184]\n",
      " [ 0.       0.18343 -0.2927  -0.03377  0.09692  0.2747 ]\n",
      " [ 0.       0.69393  0.3548  -0.119    0.01711  0.09747]\n",
      " [ 0.       0.       0.      -0.0222  -0.52205 -0.18531]\n",
      " [ 0.       0.       0.       0.48325  0.17129 -0.35471]\n",
      " [ 0.       0.       0.       0.       0.      -0.11832]]\n",
      "\n",
      "\n",
      "[[ 2.78023 -0.12003 -0.5149   0.16555 -0.09361  1.15184]\n",
      " [ 0.       0.21319 -0.70417  0.08318 -0.06022  0.00277]\n",
      " [ 0.       0.28246  0.32504  0.01776  0.11886 -0.29146]\n",
      " [ 0.       0.       0.       0.05347 -0.40625  0.3808 ]\n",
      " [ 0.       0.       0.       0.59904  0.09561  0.12308]\n",
      " [ 0.       0.       0.       0.       0.      -0.11832]]\n",
      "\n",
      "\n",
      "[[ 2.78023 -0.34247  0.40279  0.04587 -0.18457  1.15184]\n",
      " [ 0.       0.48711 -0.48518  0.07117  0.1159  -0.23593]\n",
      " [ 0.       0.50144  0.05112 -0.06944  0.04087  0.17116]\n",
      " [ 0.       0.      -0.       0.17194 -0.48684  0.35122]\n",
      " [ 0.       0.      -0.       0.51845 -0.02285 -0.19184]\n",
      " [ 0.       0.       0.       0.       0.      -0.11832]]\n",
      "\n",
      "\n",
      "[[ 2.78023  0.35552  0.39132 -0.07471 -0.17489  1.15184]\n",
      " [ 0.       0.06037 -0.55665 -0.01424  0.08022  0.13948]\n",
      " [ 0.       0.42997  0.47786 -0.12956 -0.03957  0.25594]\n",
      " [ 0.       0.       0.       0.11631 -0.59204  0.16448]\n",
      " [ 0.       0.       0.       0.41325  0.03278 -0.36484]\n",
      " [ 0.       0.       0.       0.       0.      -0.11832]]\n",
      "\n",
      "\n",
      "[[ 2.78023  0.07047 -0.52398  0.15838  0.10529  1.15184]\n",
      " [ 0.       0.36717 -0.68818  0.12015  0.01918  0.10601]\n",
      " [ 0.       0.29844  0.17106 -0.05919  0.08173 -0.27152]\n",
      " [ 0.       0.       0.       0.0092  -0.57658  0.06252]\n",
      " [ 0.       0.       0.       0.42871  0.13989  0.39529]\n",
      " [ 0.       0.       0.       0.       0.      -0.11832]]\n",
      "\n",
      "\n",
      "[[ 2.78023 -0.52807  0.02579  0.18923 -0.01897  1.15184]\n",
      " [ 0.       0.24707 -0.27628 -0.01314  0.11019 -0.28624]\n",
      " [ 0.       0.71034  0.29116 -0.10444  0.04203 -0.05497]\n",
      " [ 0.       0.      -0.      -0.01078 -0.45309  0.29892]\n",
      " [ 0.       0.      -0.       0.5522   0.15987  0.26609]\n",
      " [ 0.       0.       0.       0.       0.      -0.11832]]\n",
      "\n",
      "\n",
      "[[ 2.78023  0.15147  0.50654 -0.11343  0.15266  1.15184]\n",
      " [ 0.       0.18773 -0.69571  0.05551 -0.08235  0.01516]\n",
      " [ 0.       0.29092  0.3505   0.06109  0.10674  0.29108]\n",
      " [ 0.       0.      -0.       0.1318  -0.42229 -0.39801]\n",
      " [ 0.       0.      -0.       0.583    0.01728  0.04176]\n",
      " [ 0.       0.       0.       0.       0.      -0.11832]]\n",
      "\n",
      "\n",
      "[[ 2.78023  0.2993  -0.43583  0.01812  0.18932  1.15184]\n",
      " [ 0.       0.48417 -0.52988  0.09977  0.09151  0.21711]\n",
      " [ 0.       0.45674  0.05406 -0.06247  0.05252 -0.19448]\n",
      " [ 0.       0.       0.       0.16031 -0.55143 -0.26743]\n",
      " [ 0.       0.       0.       0.45386 -0.01122  0.29773]\n",
      " [ 0.       0.       0.       0.       0.      -0.11832]]\n",
      "\n",
      "\n",
      "[[ 2.78023 -0.39166 -0.35515  0.12075  0.14693  1.15184]\n",
      " [ 0.       0.05208 -0.51533 -0.0043   0.08045 -0.16355]\n",
      " [ 0.       0.47129  0.48615 -0.13568 -0.00947 -0.24127]\n",
      " [ 0.       0.      -0.       0.06162 -0.60047 -0.05558]\n",
      " [ 0.       0.      -0.       0.40482  0.08747  0.39632]\n",
      " [ 0.       0.       0.       0.       0.      -0.11832]]\n",
      "\n",
      "\n",
      "[[ 2.78023 -0.03739  0.52738  0.1833   0.0507   1.15184]\n",
      " [ 0.       0.34194 -0.69894 -0.11798  0.01313 -0.08873]\n",
      " [ 0.       0.28768  0.19629  0.03827 -0.09713  0.27764]\n",
      " [ 0.       0.       0.      -0.02189 -0.52354  0.18256]\n",
      " [ 0.       0.       0.       0.48175  0.17098  0.35613]\n",
      " [ 0.       0.       0.       0.       0.      -0.11832]]\n",
      "\n",
      "\n",
      "[[ 2.78023  0.51801 -0.10578 -0.16644  0.09202  1.15184]\n",
      " [ 0.       0.31332 -0.27969  0.01892  0.11734  0.29127]\n",
      " [ 0.       0.70693  0.2249  -0.08326  0.06268  0.01081]\n",
      " [ 0.       0.       0.       0.05163 -0.40667 -0.3796 ]\n",
      " [ 0.       0.       0.       0.59862  0.09746 -0.12673]\n",
      " [ 0.       0.       0.       0.       0.      -0.11832]]\n",
      "\n",
      "\n",
      "[[ 2.78023 -0.18343 -0.49586  0.0474  -0.18418  1.15184]\n",
      " [ 0.       0.16266 -0.68372  0.02645 -0.09218 -0.03367]\n",
      " [ 0.       0.30291  0.37557  0.09538  0.08182 -0.28952]\n",
      " [ 0.       0.       0.       0.17167 -0.48523  0.3528 ]\n",
      " [ 0.       0.       0.       0.52007 -0.02258 -0.18892]\n",
      " [ 0.       0.       0.       0.       0.      -0.11832]]\n",
      "\n",
      "\n",
      "[[ 2.78023 -0.25716  0.46194 -0.07355 -0.17539  1.15184]\n",
      " [ 0.       0.47358 -0.56935  0.11779  0.06392 -0.19793]\n",
      " [ 0.       0.41727  0.06465 -0.05532  0.063    0.21396]\n",
      " [ 0.       0.      -0.       0.11749 -0.59148  0.16689]\n",
      " [ 0.       0.      -0.       0.41381  0.0316  -0.36374]\n",
      " [ 0.       0.       0.       0.       0.      -0.11832]]\n",
      "\n",
      "\n",
      "[[ 2.78023  0.42709  0.31164  0.15765  0.10637  1.15184]\n",
      " [ 0.       0.05232 -0.4691  -0.00466 -0.08103  0.18819]\n",
      " [ 0.       0.51752  0.48591  0.13399 -0.02116  0.22258]\n",
      " [ 0.       0.      -0.       0.01022 -0.57747  0.05981]\n",
      " [ 0.       0.      -0.       0.42782  0.13887  0.39571]\n",
      " [ 0.       0.       0.       0.       0.      -0.11832]]\n",
      "\n",
      "\n",
      "[[ 2.78023  0.00518 -0.52868  0.18939 -0.01729  1.15184]\n",
      " [ 0.       0.31638 -0.70627  0.10545 -0.04748  0.07164]\n",
      " [ 0.       0.28035  0.22185 -0.00795  0.10748 -0.28253]\n",
      " [ 0.       0.       0.      -0.01165 -0.45461  0.29656]\n",
      " [ 0.       0.       0.       0.55068  0.16073  0.26872]\n",
      " [ 0.       0.       0.       0.       0.      -0.11832]]\n",
      "\n",
      "\n",
      "[[ 2.78023 -0.49642  0.18191  0.11485 -0.15159  1.15184]\n",
      " [ 0.       0.3744  -0.30226  0.05657  0.11207 -0.28963]\n",
      " [ 0.       0.68437  0.16383 -0.05982  0.07517  0.03278]\n",
      " [ 0.       0.      -0.       0.13029 -0.42123  0.39839]\n",
      " [ 0.       0.      -0.       0.58406  0.01879 -0.03804]\n",
      " [ 0.       0.       0.       0.       0.      -0.11832]]\n",
      "\n",
      "\n",
      "[[ 2.78023  0.21608  0.48253 -0.01674 -0.18944  1.15184]\n",
      " [ 0.       0.13827 -0.66786 -0.00201  0.09249  0.0529 ]\n",
      " [ 0.       0.31876  0.39996 -0.11733 -0.0516   0.28663]\n",
      " [ 0.       0.       0.       0.16101 -0.55018  0.26959]\n",
      " [ 0.       0.       0.       0.45511 -0.01192 -0.29577]\n",
      " [ 0.       0.       0.       0.       0.      -0.11832]]\n",
      "\n",
      "\n",
      "[[ 2.78023  0.21656 -0.48231 -0.1198  -0.14771  1.15184]\n",
      " [ 0.       0.45756 -0.6032  -0.12747 -0.03472  0.17884]\n",
      " [ 0.       0.38342  0.08067  0.04653 -0.07328 -0.23016]\n",
      " [ 0.       0.      -0.       0.06288 -0.60063  0.05815]\n",
      " [ 0.       0.      -0.       0.40467  0.0862  -0.39595]\n",
      " [ 0.       0.       0.       0.       0.      -0.11832]]\n",
      "\n",
      "\n",
      "[[ 2.78023 -0.46041 -0.2599  -0.1829  -0.05211  1.15184]\n",
      " [ 0.       0.06376 -0.4197  -0.01538 -0.08224 -0.21279]\n",
      " [ 0.       0.56692  0.47447  0.1234  -0.05255 -0.1992 ]\n",
      " [ 0.       0.       0.      -0.02156 -0.52502 -0.17982]\n",
      " [ 0.       0.       0.       0.48027  0.17065 -0.35753]\n",
      " [ 0.       0.       0.       0.       0.      -0.11832]]\n",
      "\n",
      "\n",
      "[[ 2.78023  0.0264   0.52804  0.16731 -0.09042  1.15184]\n",
      " [ 0.       0.29066 -0.71039 -0.08021  0.07891 -0.05464]\n",
      " [ 0.       0.27623  0.24757 -0.03025 -0.10684  0.28631]\n",
      " [ 0.       0.       0.       0.0498  -0.40713  0.37837]\n",
      " [ 0.       0.       0.       0.59816  0.09929  0.13036]\n",
      " [ 0.       0.       0.       0.       0.      -0.11832]]\n",
      "\n",
      "\n",
      "[[ 2.78023  0.46537 -0.25091 -0.04894  0.18378  1.15184]\n",
      " [ 0.       0.4241  -0.3398   0.08996  0.09465  0.28198]\n",
      " [ 0.       0.64682  0.11413 -0.04018  0.07952 -0.07379]\n",
      " [ 0.       0.       0.       0.17136 -0.48361 -0.35437]\n",
      " [ 0.       0.       0.       0.52168 -0.02227  0.18597]\n",
      " [ 0.       0.       0.       0.       0.      -0.11832]]\n",
      "\n",
      "\n",
      "[[ 2.78023 -0.24957 -0.46609 -0.07238 -0.17587  1.15184]\n",
      " [ 0.       0.11501 -0.64771 -0.01657 -0.08766 -0.07298]\n",
      " [ 0.       0.33891  0.42322  0.12887  0.02057 -0.28219]\n",
      " [ 0.       0.       0.       0.11866 -0.59091  0.1693 ]\n",
      " [ 0.       0.       0.       0.41439  0.03042 -0.36262]\n",
      " [ 0.       0.       0.       0.       0.      -0.11832]]\n",
      "\n",
      "\n",
      "[[ 2.78023 -0.1777   0.49794  0.15692  0.10745  1.15184]\n",
      " [ 0.       0.43785 -0.63157 -0.12979 -0.00358 -0.16006]\n",
      " [ 0.       0.35506  0.10038  0.03411 -0.08348  0.2436 ]\n",
      " [ 0.       0.       0.       0.01125 -0.57834  0.0571 ]\n",
      " [ 0.       0.       0.       0.42695  0.13784  0.39611]\n",
      " [ 0.       0.       0.       0.       0.      -0.11832]]\n",
      "\n",
      "\n",
      "[[ 2.78023  0.48965  0.19941  0.18954 -0.01563  1.15184]\n",
      " [ 0.       0.08889 -0.3704  -0.0307  -0.08273  0.23633]\n",
      " [ 0.       0.61622  0.44934  0.10171 -0.08281  0.1706 ]\n",
      " [ 0.       0.      -0.      -0.01248 -0.45613  0.29418]\n",
      " [ 0.       0.      -0.       0.54916  0.16156  0.27132]\n",
      " [ 0.       0.       0.       0.       0.      -0.11832]]\n",
      "\n",
      "\n",
      "[[ 2.78023 -0.05759 -0.52555  0.11626 -0.15051  1.15184]\n",
      " [ 0.       0.26487 -0.71142  0.04544 -0.09942  0.03761]\n",
      " [ 0.       0.27521  0.27336  0.06841  0.09143 -0.28904]\n",
      " [ 0.       0.       0.       0.12876 -0.4202   0.39873]\n",
      " [ 0.       0.       0.       0.58509  0.02033 -0.03431]\n",
      " [ 0.       0.       0.       0.       0.      -0.11832]]\n",
      "\n",
      "\n",
      "[[ 2.78023 -0.42764  0.31088  0.01536  0.18956  1.15184]\n",
      " [ 0.       0.45924 -0.38636 -0.11389 -0.07039 -0.26958]\n",
      " [ 0.       0.60026  0.07899  0.02673 -0.07968  0.11083]\n",
      " [ 0.       0.       0.       0.1617  -0.54891 -0.27174]\n",
      " [ 0.       0.       0.       0.45638 -0.01261  0.2938 ]\n",
      " [ 0.       0.       0.       0.       0.      -0.11832]]\n",
      "\n",
      "\n",
      "[[ 2.78023  0.28398  0.44596 -0.11884 -0.14848  1.15184]\n",
      " [ 0.       0.09356 -0.62281  0.03064  0.0805   0.09403]\n",
      " [ 0.       0.36382  0.44467 -0.13214  0.0104   0.27589]\n",
      " [ 0.       0.       0.       0.06415 -0.60077  0.06071]\n",
      " [ 0.       0.       0.       0.40452  0.08493 -0.39557]\n",
      " [ 0.       0.       0.       0.       0.      -0.11832]]\n",
      "\n",
      "\n",
      "[[ 2.78023  0.14055 -0.50968  0.1825   0.05351  1.15184]\n",
      " [ 0.       0.41572 -0.65485  0.12368 -0.0301   0.14168]\n",
      " [ 0.       0.33177  0.12251 -0.0157   0.09241 -0.25472]\n",
      " [ 0.       0.       0.      -0.0212  -0.52649  0.17707]\n",
      " [ 0.       0.       0.       0.4788   0.17029  0.3589 ]\n",
      " [ 0.       0.       0.       0.       0.      -0.11832]]\n",
      "\n",
      "\n",
      "[[ 2.78023 -0.51234 -0.1305  -0.16817  0.08882  1.15184]\n",
      " [ 0.       0.12898 -0.32613 -0.0518  -0.07931 -0.25746]\n",
      " [ 0.       0.66049  0.40925  0.06875 -0.10625 -0.13665]\n",
      " [ 0.       0.       0.       0.04797 -0.40762 -0.37711]\n",
      " [ 0.       0.       0.       0.59767  0.10111 -0.13397]\n",
      " [ 0.       0.       0.       0.       0.      -0.11832]]\n",
      "\n",
      "\n",
      "[[ 2.78023  0.08864  0.52122  0.05047 -0.18336  1.15184]\n",
      " [ 0.       0.23909 -0.70938 -0.01013  0.10556 -0.02041]\n",
      " [ 0.       0.27724  0.29914 -0.09755 -0.06501  0.29076]\n",
      " [ 0.       0.       0.       0.17103 -0.48199  0.35591]\n",
      " [ 0.       0.       0.       0.5233  -0.02194 -0.183  ]\n",
      " [ 0.       0.       0.       0.       0.      -0.11832]]\n",
      "\n",
      "\n",
      "[[ 2.78023  0.38603 -0.36125  0.07122  0.17635  1.15184]\n",
      " [ 0.       0.47964 -0.43616  0.1285   0.04332  0.25385]\n",
      " [ 0.       0.55047  0.05859 -0.01773  0.07929 -0.14324]\n",
      " [ 0.       0.       0.       0.11983 -0.59031 -0.17171]\n",
      " [ 0.       0.       0.       0.41498  0.02926  0.36149]\n",
      " [ 0.       0.       0.       0.       0.      -0.11832]]\n",
      "\n",
      "\n",
      "[[ 2.78023 -0.31927 -0.42142 -0.15619 -0.10851  1.15184]\n",
      " [ 0.       0.07491 -0.59267 -0.04206 -0.07209 -0.11613]\n",
      " [ 0.       0.39395  0.46332  0.12755 -0.04186 -0.26734]\n",
      " [ 0.       0.       0.       0.01229 -0.5792  -0.05439]\n",
      " [ 0.       0.       0.       0.42609  0.1368  -0.39649]\n",
      " [ 0.       0.       0.       0.       0.      -0.11832]]\n",
      "\n",
      "\n",
      "[[ 2.78023 -0.10497  0.51818  0.18967 -0.01396  1.15184]\n",
      " [ 0.       0.39202 -0.67354 -0.10622  0.06507 -0.12373]\n",
      " [ 0.       0.31309  0.14621 -0.01042 -0.09677  0.26391]\n",
      " [ 0.       0.       0.      -0.01328 -0.45767  0.29179]\n",
      " [ 0.       0.       0.       0.54762  0.16237  0.2739 ]\n",
      " [ 0.       0.       0.       0.       0.      -0.11832]]\n",
      "\n",
      "\n",
      "[[ 2.78023  0.52586  0.0547  -0.11767  0.14941  1.15184]\n",
      " [ 0.       0.18294 -0.29291  0.07582  0.06908  0.27458]\n",
      " [ 0.       0.69371  0.35529 -0.03106  0.1162   0.0978 ]\n",
      " [ 0.       0.       0.       0.1272  -0.4192  -0.39903]\n",
      " [ 0.       0.       0.       0.58609  0.02188  0.03057]\n",
      " [ 0.       0.       0.       0.       0.      -0.11832]]\n",
      "\n",
      "\n",
      "[[ 2.78023 -0.11977 -0.51496  0.01397  0.18967  1.15184]\n",
      " [ 0.       0.21341 -0.70422  0.019    0.10095  0.00292]\n",
      " [ 0.       0.2824   0.32482 -0.11506 -0.03464 -0.29146]\n",
      " [ 0.       0.      -0.       0.16236 -0.54763 -0.27388]\n",
      " [ 0.       0.      -0.       0.45766 -0.01328  0.2918 ]\n",
      " [ 0.       0.       0.       0.       0.      -0.11832]]\n",
      "\n",
      "\n",
      "[[ 2.78023 -0.34283  0.40248 -0.11788 -0.14925  1.15184]\n",
      " [ 0.       0.48709 -0.48479  0.13522  0.01459 -0.23608]\n",
      " [ 0.       0.50183  0.05114 -0.01006  0.07994  0.17095]\n",
      " [ 0.       0.      -0.       0.06543 -0.6009   0.06327]\n",
      " [ 0.       0.      -0.       0.4044   0.08366 -0.39517]\n",
      " [ 0.       0.       0.       0.       0.      -0.11832]]\n",
      "\n",
      "\n",
      "[[ 2.78023  0.35522  0.39159  0.18208  0.05491  1.15184]\n",
      " [ 0.       0.06046 -0.55697 -0.05248 -0.06233  0.13928]\n",
      " [ 0.       0.42965  0.47777  0.11344 -0.07403  0.25604]\n",
      " [ 0.       0.      -0.      -0.02083 -0.52796  0.17431]\n",
      " [ 0.       0.      -0.       0.47734  0.16991  0.36024]\n",
      " [ 0.       0.       0.       0.       0.      -0.11832]]\n",
      "\n",
      "\n",
      "[[ 2.78023  0.07075 -0.52395 -0.16901  0.0872   1.15184]\n",
      " [ 0.       0.36737 -0.68808 -0.07516  0.09571  0.10615]\n",
      " [ 0.       0.29855  0.17086 -0.04268 -0.09141 -0.27146]\n",
      " [ 0.       0.      -0.       0.04616 -0.40814 -0.37581]\n",
      " [ 0.       0.      -0.       0.59715  0.10293 -0.13757]\n",
      " [ 0.       0.       0.       0.       0.      -0.11832]]\n",
      "\n",
      "\n",
      "[[ 2.78023 -0.5281   0.02512  0.05201 -0.18293  1.15184]\n",
      " [ 0.       0.24653 -0.27634  0.09762  0.05263 -0.28617]\n",
      " [ 0.       0.71028  0.2917   0.00076  0.11264 -0.05533]\n",
      " [ 0.       0.      -0.       0.17067 -0.48037  0.35743]\n",
      " [ 0.       0.      -0.       0.52492 -0.02158 -0.18001]\n",
      " [ 0.       0.       0.       0.       0.      -0.11832]]\n",
      "\n",
      "\n",
      "[[ 2.78023  0.15121  0.50662 -0.07004 -0.17682  1.15184]\n",
      " [ 0.       0.18794 -0.69579  0.04083  0.09056  0.01501]\n",
      " [ 0.       0.29083  0.35029 -0.12289 -0.00423  0.29109]\n",
      " [ 0.       0.       0.       0.12099 -0.5897   0.17411]\n",
      " [ 0.       0.       0.       0.41559  0.0281  -0.36034]\n",
      " [ 0.       0.       0.       0.       0.      -0.11832]]\n",
      "\n",
      "\n",
      "[[ 2.78023  0.29965 -0.43558 -0.15544 -0.10958  1.15184]\n",
      " [ 0.       0.48423 -0.52953 -0.13442  0.01615  0.21726]\n",
      " [ 0.       0.45709  0.054    0.00073 -0.08159 -0.19431]\n",
      " [ 0.       0.      -0.       0.01334 -0.58004 -0.05169]\n",
      " [ 0.       0.      -0.       0.42525  0.13575 -0.39685]\n",
      " [ 0.       0.       0.       0.       0.      -0.11832]]\n",
      "\n",
      "\n",
      "[[ 2.78023 -0.39136 -0.35547  0.18978 -0.0123   1.15184]\n",
      " [ 0.       0.05212 -0.51569  0.06289  0.05036 -0.16334]\n",
      " [ 0.       0.47093  0.48611 -0.08682  0.10469 -0.24141]\n",
      " [ 0.       0.      -0.      -0.01406 -0.45921  0.28938]\n",
      " [ 0.       0.      -0.       0.54608  0.16314  0.27644]\n",
      " [ 0.       0.       0.       0.       0.      -0.11832]]\n",
      "\n",
      "\n",
      "[[ 2.78023 -0.03766  0.52736 -0.11906  0.1483   1.15184]\n",
      " [ 0.       0.34215 -0.69887  0.03457 -0.11359 -0.08887]\n",
      " [ 0.       0.28775  0.19608  0.07409  0.07351  0.2776 ]\n",
      " [ 0.       0.      -0.       0.12563 -0.41823 -0.3993 ]\n",
      " [ 0.       0.      -0.       0.58706  0.02346  0.02682]\n",
      " [ 0.       0.       0.       0.       0.      -0.11832]]\n",
      "\n",
      "\n"
     ]
    },
    {
     "name": "stdout",
     "output_type": "stream",
     "text": [
      "[[ 2.78023  0.51814 -0.10513  0.01258  0.18977  1.15184]\n",
      " [ 0.       0.31279 -0.27958  0.11424  0.03261  0.29126]\n",
      " [ 0.       0.70704  0.22544  0.0215   0.10205  0.01117]\n",
      " [ 0.       0.       0.       0.16301 -0.54634 -0.27601]\n",
      " [ 0.       0.       0.       0.45895 -0.01393  0.28979]\n",
      " [ 0.       0.       0.       0.       0.      -0.11832]]\n",
      "\n",
      "\n",
      "[[ 2.78023 -0.18316 -0.49596  0.11691  0.15001  1.15184]\n",
      " [ 0.       0.16286 -0.68383  0.05692  0.07722 -0.03351]\n",
      " [ 0.       0.30279  0.37537 -0.123    0.02561 -0.28954]\n",
      " [ 0.       0.      -0.       0.0667  -0.60101 -0.06583]\n",
      " [ 0.       0.      -0.       0.40429  0.08239  0.39475]\n",
      " [ 0.       0.       0.       0.       0.      -0.11832]]\n",
      "\n",
      "\n",
      "[[ 2.78023 -0.2575   0.46175  0.18166  0.05629  1.15184]\n",
      " [ 0.       0.47369 -0.56905 -0.12464  0.04928 -0.19809]\n",
      " [ 0.       0.41757  0.06454 -0.01284 -0.08283  0.21382]\n",
      " [ 0.       0.       0.      -0.02043 -0.52941  0.17156]\n",
      " [ 0.       0.       0.       0.47588  0.16952  0.36156]\n",
      " [ 0.       0.       0.       0.       0.      -0.11832]]\n",
      "\n",
      "\n",
      "[[ 2.78023  0.4268   0.31204  0.16984 -0.08558  1.15184]\n",
      " [ 0.       0.05227 -0.4695  -0.07302 -0.03541  0.18799]\n",
      " [ 0.       0.51713  0.48596  0.04693 -0.12728  0.22275]\n",
      " [ 0.       0.      -0.       0.04436 -0.4087   0.37448]\n",
      " [ 0.       0.      -0.       0.59659  0.10473  0.14116]\n",
      " [ 0.       0.       0.       0.       0.      -0.11832]]\n",
      "\n",
      "\n",
      "[[ 2.78023  0.00544 -0.52867 -0.05355  0.18249  1.15184]\n",
      " [ 0.       0.31659 -0.70623  0.00543  0.11555  0.07178]\n",
      " [ 0.       0.2804   0.22164 -0.09702 -0.04685 -0.2825 ]\n",
      " [ 0.       0.      -0.       0.17028 -0.47876 -0.35893]\n",
      " [ 0.       0.      -0.       0.52653 -0.02119  0.17699]\n",
      " [ 0.       0.       0.       0.       0.      -0.11832]]\n",
      "\n",
      "\n",
      "[[ 2.78023 -0.49664  0.18131  0.06886  0.17728  1.15184]\n",
      " [ 0.       0.37394 -0.302   -0.12505 -0.01049 -0.28967]\n",
      " [ 0.       0.68462  0.16429 -0.03279 -0.09036  0.03243]\n",
      " [ 0.       0.       0.       0.12215 -0.58908 -0.1765 ]\n",
      " [ 0.       0.       0.       0.41622  0.02694  0.35918]\n",
      " [ 0.       0.       0.       0.       0.      -0.11832]]\n",
      "\n",
      "\n",
      "[[ 2.78023  0.21581  0.48265  0.15469  0.11063  1.15184]\n",
      " [ 0.       0.13847 -0.66801 -0.06896 -0.06171  0.05274]\n",
      " [ 0.       0.31861  0.39976  0.11552 -0.0555   0.28666]\n",
      " [ 0.       0.      -0.       0.0144  -0.58087  0.04899]\n",
      " [ 0.       0.      -0.       0.42442  0.13469  0.39719]\n",
      " [ 0.       0.       0.       0.       0.      -0.11832]]\n",
      "\n",
      "\n",
      "[[ 2.78023  0.21689 -0.48216 -0.18988  0.01064  1.15184]\n",
      " [ 0.       0.45771 -0.60294 -0.10276  0.08307  0.179  ]\n",
      " [ 0.       0.38368  0.08052 -0.03223 -0.08057 -0.23004]\n",
      " [ 0.       0.      -0.      -0.0148  -0.46077 -0.28696]\n",
      " [ 0.       0.      -0.       0.54453  0.16389 -0.27896]\n",
      " [ 0.       0.       0.       0.       0.      -0.11832]]\n",
      "\n",
      "\n",
      "[[ 2.78023 -0.46015 -0.26036 -0.12045  0.14717  1.15184]\n",
      " [ 0.       0.06362 -0.42011 -0.08158 -0.01841 -0.21258]\n",
      " [ 0.       0.56651  0.47461  0.00069 -0.13414 -0.19941]\n",
      " [ 0.       0.       0.       0.12403 -0.41728 -0.39953]\n",
      " [ 0.       0.       0.       0.58801  0.02506  0.02306]\n",
      " [ 0.       0.       0.       0.       0.      -0.11832]]\n",
      "\n",
      "\n",
      "[[ 2.78023  0.02614  0.52805 -0.01118 -0.18985  1.15184]\n",
      " [ 0.       0.29087 -0.71037  0.03763  0.10607 -0.05478]\n",
      " [ 0.       0.27625  0.24736 -0.10958 -0.01772  0.28628]\n",
      " [ 0.       0.       0.       0.16365 -0.54503  0.27814]\n",
      " [ 0.       0.       0.       0.46026 -0.01456 -0.28775]\n",
      " [ 0.       0.       0.       0.       0.      -0.11832]]\n",
      "\n",
      "\n",
      "[[ 2.78023  0.46565 -0.25038  0.11593  0.15076  1.15184]\n",
      " [ 0.       0.42375 -0.33944  0.12982 -0.01378  0.28206]\n",
      " [ 0.       0.64718  0.11448  0.03873  0.08029 -0.07347]\n",
      " [ 0.       0.       0.       0.06797 -0.6011  -0.06838]\n",
      " [ 0.       0.       0.       0.40419  0.08111  0.39431]\n",
      " [ 0.       0.       0.       0.       0.      -0.11832]]\n",
      "\n",
      "\n",
      "[[ 2.78023 -0.24929 -0.46624  0.18123  0.05767  1.15184]\n",
      " [ 0.       0.1152  -0.6479   0.07785  0.04364 -0.07281]\n",
      " [ 0.       0.33872  0.42303 -0.09858  0.08548 -0.28223]\n",
      " [ 0.       0.      -0.      -0.02001 -0.53085  0.1688 ]\n",
      " [ 0.       0.      -0.       0.47444  0.1691   0.36286]\n",
      " [ 0.       0.       0.       0.       0.      -0.11832]]\n",
      "\n",
      "\n",
      "[[ 2.78023 -0.17801  0.49783  0.17065 -0.08396  1.15184]\n",
      " [ 0.       0.43803 -0.63135 -0.0668   0.11136 -0.16021]\n",
      " [ 0.       0.35527  0.1002  -0.05602 -0.07063  0.2435 ]\n",
      " [ 0.       0.       0.       0.04257 -0.4093   0.37311]\n",
      " [ 0.       0.       0.       0.59599  0.10652  0.14473]\n",
      " [ 0.       0.       0.       0.       0.      -0.11832]]\n",
      "\n",
      "\n",
      "[[ 2.78023  0.48944  0.19994 -0.05509  0.18203  1.15184]\n",
      " [ 0.       0.08862 -0.3708   0.08818  0.0017   0.23614]\n",
      " [ 0.       0.61583  0.44961  0.03976  0.12502  0.17086]\n",
      " [ 0.       0.       0.       0.16986 -0.47715 -0.36041]\n",
      " [ 0.       0.       0.       0.52814 -0.02078  0.17396]\n",
      " [ 0.       0.       0.       0.       0.      -0.11832]]\n",
      "\n",
      "\n",
      "[[ 2.78023 -0.05733 -0.52558 -0.06768 -0.17773  1.15184]\n",
      " [ 0.       0.26508 -0.71142 -0.06113 -0.09066  0.03775]\n",
      " [ 0.       0.2752   0.27315  0.11366 -0.01066 -0.28902]\n",
      " [ 0.       0.       0.       0.12329 -0.58843  0.17889]\n",
      " [ 0.       0.       0.       0.41686  0.02579 -0.35799]\n",
      " [ 0.       0.       0.       0.       0.      -0.11832]]\n",
      "\n",
      "\n",
      "[[ 2.78023 -0.42797  0.31043 -0.15394 -0.11168  1.15184]\n",
      " [ 0.       0.45901 -0.38595  0.12751 -0.04076 -0.2697 ]\n",
      " [ 0.       0.60067  0.07922  0.04325  0.0721   0.11054]\n",
      " [ 0.       0.      -0.       0.01547 -0.58168 -0.04629]\n",
      " [ 0.       0.      -0.       0.42361  0.13362 -0.39751]\n",
      " [ 0.       0.       0.       0.       0.      -0.11832]]\n",
      "\n",
      "\n",
      "[[ 2.78023  0.28369  0.44614  0.18997 -0.00899  1.15184]\n",
      " [ 0.       0.09373 -0.62303 -0.0832  -0.0224   0.09386]\n",
      " [ 0.       0.36359  0.4445   0.06913 -0.11307  0.27595]\n",
      " [ 0.       0.      -0.      -0.01552 -0.46233  0.28452]\n",
      " [ 0.       0.      -0.       0.54296  0.1646   0.28144]\n",
      " [ 0.       0.       0.       0.       0.      -0.11832]]\n",
      "\n",
      "\n",
      "[[ 2.78023  0.14085 -0.50959  0.12183 -0.14603  1.15184]\n",
      " [ 0.       0.41591 -0.65468  0.02166 -0.12546  0.14183]\n",
      " [ 0.       0.33194  0.12232  0.0785   0.05117 -0.25464]\n",
      " [ 0.       0.       0.       0.12241 -0.41636  0.39973]\n",
      " [ 0.       0.       0.       0.58893  0.02667 -0.0193 ]\n",
      " [ 0.       0.       0.       0.       0.      -0.11832]]\n",
      "\n",
      "\n",
      "[[ 2.78023 -0.51219 -0.1311   0.00978  0.18993  1.15184]\n",
      " [ 0.       0.12859 -0.32646 -0.09367  0.01373 -0.2573 ]\n",
      " [ 0.       0.66016  0.40964 -0.06755 -0.10707 -0.13695]\n",
      " [ 0.       0.       0.       0.16426 -0.54371 -0.28025]\n",
      " [ 0.       0.       0.       0.46158 -0.01518  0.28569]\n",
      " [ 0.       0.       0.       0.       0.      -0.11832]]\n",
      "\n",
      "\n",
      "[[ 2.78023  0.08838  0.52126 -0.11496 -0.15151  1.15184]\n",
      " [ 0.       0.2393  -0.70941  0.07774  0.07217 -0.02056]\n",
      " [ 0.       0.27721  0.29893 -0.11087  0.038    0.29075]\n",
      " [ 0.       0.       0.       0.06925 -0.60118  0.07093]\n",
      " [ 0.       0.       0.       0.40412  0.07984 -0.39386]\n",
      " [ 0.       0.       0.       0.       0.      -0.11832]]\n",
      "\n",
      "\n",
      "[[ 2.78023  0.38638 -0.36088  0.18078  0.05905  1.15184]\n",
      " [ 0.       0.47953 -0.43575  0.11583 -0.0705   0.25399]\n",
      " [ 0.       0.55088  0.0587   0.04937  0.06454 -0.14299]\n",
      " [ 0.       0.       0.      -0.01957 -0.53228  0.16605]\n",
      " [ 0.       0.       0.       0.47301  0.16866  0.36413]\n",
      " [ 0.       0.       0.       0.       0.      -0.11832]]\n",
      "\n",
      "\n",
      "[[ 2.78023 -0.31897 -0.42164 -0.17144  0.08233  1.15184]\n",
      " [ 0.       0.07505 -0.59294 -0.08348  0.00112 -0.11595]\n",
      " [ 0.       0.39368  0.46318  0.02645 -0.1316  -0.26742]\n",
      " [ 0.       0.       0.       0.0408  -0.40992 -0.37172]\n",
      " [ 0.       0.       0.       0.59537  0.10829 -0.14828]\n",
      " [ 0.       0.       0.       0.       0.      -0.11832]]\n",
      "\n",
      "\n",
      "[[ 2.78023 -0.10525  0.51812 -0.05663  0.18156  1.15184]\n",
      " [ 0.       0.39222 -0.6734  -0.0216  -0.1227  -0.12387]\n",
      " [ 0.       0.31322  0.14601  0.09383  0.02576  0.26384]\n",
      " [ 0.       0.      -0.       0.16942 -0.47554 -0.36187]\n",
      " [ 0.       0.      -0.       0.52976 -0.02033  0.1709 ]\n",
      " [ 0.       0.       0.       0.       0.      -0.11832]]\n",
      "\n",
      "\n",
      "[[ 2.78023  0.5258   0.05535 -0.06649 -0.17818  1.15184]\n",
      " [ 0.       0.18245 -0.29312 -0.09832  0.02898  0.27446]\n",
      " [ 0.       0.6935   0.35578 -0.08325 -0.0869   0.09814]\n",
      " [ 0.       0.      -0.       0.12444 -0.58777  0.18128]\n",
      " [ 0.       0.      -0.       0.41752  0.02465 -0.35679]\n",
      " [ 0.       0.       0.       0.       0.      -0.11832]]\n",
      "\n",
      "\n",
      "[[ 2.78023 -0.11951 -0.51502  0.15318  0.11272  1.15184]\n",
      " [ 0.       0.21362 -0.70428  0.0891   0.05117  0.00307]\n",
      " [ 0.       0.28234  0.32461 -0.10109  0.06491 -0.29146]\n",
      " [ 0.       0.      -0.       0.01654 -0.58247  0.0436 ]\n",
      " [ 0.       0.      -0.       0.42282  0.13254  0.39782]\n",
      " [ 0.       0.       0.       0.       0.      -0.11832]]\n",
      "\n",
      "\n",
      "[[ 2.78023 -0.34319  0.40218 -0.19004  0.00734  1.15184]\n",
      " [ 0.       0.48708 -0.4844   0.09139 -0.10072 -0.23623]\n",
      " [ 0.       0.50222  0.05115  0.05876  0.05513  0.17074]\n",
      " [ 0.       0.      -0.      -0.0162  -0.4639  -0.28206]\n",
      " [ 0.       0.      -0.       0.54139  0.16529 -0.2839 ]\n",
      " [ 0.       0.       0.       0.       0.      -0.11832]]\n",
      "\n",
      "\n",
      "[[ 2.78023  0.35492  0.39186 -0.12321  0.14488  1.15184]\n",
      " [ 0.       0.06056 -0.55729  0.07811 -0.02324  0.13909]\n",
      " [ 0.       0.42934  0.47767  0.02249  0.13357  0.25615]\n",
      " [ 0.       0.       0.       0.12078 -0.41548 -0.3999 ]\n",
      " [ 0.       0.       0.       0.58982  0.02831  0.01552]\n",
      " [ 0.       0.       0.       0.       0.      -0.11832]]\n",
      "\n",
      "\n",
      "[[ 2.78023  0.07102 -0.52391  0.00838  0.19     1.15184]\n",
      " [ 0.       0.36758 -0.68797  0.05547  0.10835  0.10629]\n",
      " [ 0.       0.29865  0.17065 -0.10086  0.00052 -0.2714 ]\n",
      " [ 0.       0.      -0.       0.16486 -0.54238 -0.28236]\n",
      " [ 0.       0.      -0.       0.46291 -0.01577  0.28361]\n",
      " [ 0.       0.       0.       0.       0.      -0.11832]]\n",
      "\n",
      "\n",
      "[[ 2.78023 -0.52813  0.02446  0.11397  0.15225  1.15184]\n",
      " [ 0.       0.24598 -0.2764  -0.10092  0.04583 -0.2861 ]\n",
      " [ 0.       0.71023  0.29225 -0.09018 -0.06761 -0.05569]\n",
      " [ 0.       0.       0.       0.07052 -0.60124 -0.07348]\n",
      " [ 0.       0.       0.       0.40406  0.07856  0.3934 ]\n",
      " [ 0.       0.       0.       0.       0.      -0.11832]]\n",
      "\n",
      "\n",
      "[[ 2.78023  0.15095  0.50669  0.18033  0.06041  1.15184]\n",
      " [ 0.       0.18815 -0.69587 -0.0956  -0.0271   0.01486]\n",
      " [ 0.       0.29075  0.35008  0.0824  -0.09125  0.2911 ]\n",
      " [ 0.       0.      -0.      -0.01911 -0.5337   0.16329]\n",
      " [ 0.       0.      -0.       0.47159  0.1682   0.36537]\n",
      " [ 0.       0.       0.       0.       0.      -0.11832]]\n",
      "\n",
      "\n",
      "[[ 2.78023  0.30001 -0.43534 -0.17222  0.08069  1.15184]\n",
      " [ 0.       0.48429 -0.52919 -0.05254  0.12479  0.21742]\n",
      " [ 0.       0.45744  0.05394 -0.07054 -0.04098 -0.19413]\n",
      " [ 0.       0.      -0.       0.03904 -0.41058 -0.37029]\n",
      " [ 0.       0.      -0.       0.59471  0.11005 -0.15181]\n",
      " [ 0.       0.       0.       0.       0.      -0.11832]]\n",
      "\n",
      "\n",
      "[[ 2.78023 -0.39106 -0.3558  -0.05817  0.18107  1.15184]\n",
      " [ 0.       0.05216 -0.51606 -0.06986  0.04014 -0.16314]\n",
      " [ 0.       0.47057  0.48607 -0.0656  -0.11914 -0.24154]\n",
      " [ 0.       0.       0.       0.16894 -0.47393 -0.36331]\n",
      " [ 0.       0.       0.       0.53136 -0.01986  0.16782]\n",
      " [ 0.       0.       0.       0.       0.      -0.11832]]\n",
      "\n",
      "\n",
      "[[ 2.78023 -0.03792  0.52734 -0.0653  -0.17862  1.15184]\n",
      " [ 0.       0.34236 -0.69879  0.07936  0.08834 -0.08901]\n",
      " [ 0.       0.28783  0.19587 -0.1012   0.02541  0.27755]\n",
      " [ 0.       0.       0.       0.12557 -0.5871   0.18366]\n",
      " [ 0.       0.       0.       0.41819  0.02352 -0.35557]\n",
      " [ 0.       0.       0.       0.       0.      -0.11832]]\n",
      "\n",
      "\n",
      "[[ 2.78023  0.51827 -0.10448 -0.15241 -0.11375  1.15184]\n",
      " [ 0.       0.31225 -0.27947 -0.0989   0.0657   0.29125]\n",
      " [ 0.       0.70715  0.22598 -0.09166 -0.04988  0.01154]\n",
      " [ 0.       0.      -0.       0.01763 -0.58325 -0.04091]\n",
      " [ 0.       0.      -0.       0.42204  0.13146 -0.3981 ]\n",
      " [ 0.       0.       0.       0.       0.      -0.11832]]\n",
      "\n",
      "\n",
      "[[ 2.78023 -0.18289 -0.49606  0.1901  -0.0057   1.15184]\n",
      " [ 0.       0.16307 -0.68395  0.09596 -0.00036 -0.03336]\n",
      " [ 0.       0.30268  0.37516 -0.05196  0.11437 -0.28956]\n",
      " [ 0.       0.      -0.      -0.01686 -0.46547  0.2796 ]\n",
      " [ 0.       0.      -0.       0.53982  0.16595  0.28633]\n",
      " [ 0.       0.       0.       0.       0.      -0.11832]]\n",
      "\n",
      "\n",
      "[[ 2.78023 -0.25784  0.46156  0.12457 -0.14371  1.15184]\n",
      " [ 0.       0.4738  -0.56875 -0.00492  0.13395 -0.19825]\n",
      " [ 0.       0.41787  0.06443 -0.081   -0.02144  0.21367]\n",
      " [ 0.       0.       0.       0.11912 -0.41462  0.40003]\n",
      " [ 0.       0.       0.       0.59067  0.02996 -0.01175]\n",
      " [ 0.       0.       0.       0.       0.      -0.11832]]\n",
      "\n",
      "\n",
      "[[ 2.78023  0.42651  0.31243 -0.00697 -0.19005  1.15184]\n",
      " [ 0.       0.05223 -0.46989 -0.06254  0.0517   0.18778]\n",
      " [ 0.       0.51673  0.486   -0.09617 -0.09569  0.22292]\n",
      " [ 0.       0.      -0.       0.16544 -0.54104  0.28446]\n",
      " [ 0.       0.      -0.       0.46426 -0.01635 -0.2815 ]\n",
      " [ 0.       0.       0.       0.       0.      -0.11832]]\n",
      "\n",
      "\n",
      "[[ 2.78023  0.00571 -0.52867 -0.11299 -0.15298  1.15184]\n",
      " [ 0.       0.3168  -0.70618 -0.09537 -0.06551  0.07192]\n",
      " [ 0.       0.28044  0.22143  0.09593 -0.04899 -0.28246]\n",
      " [ 0.       0.       0.       0.0718  -0.60128  0.07602]\n",
      " [ 0.       0.       0.       0.40401  0.07729 -0.39291]\n",
      " [ 0.       0.       0.       0.       0.      -0.11832]]\n",
      "\n",
      "\n",
      "[[ 2.78023 -0.49686  0.1807  -0.17987 -0.06177  1.15184]\n",
      " [ 0.       0.37348 -0.30175  0.08859 -0.08882 -0.2897 ]\n",
      " [ 0.       0.68487  0.16475  0.0903   0.03314  0.03208]\n",
      " [ 0.       0.      -0.      -0.01864 -0.53511 -0.16053]\n",
      " [ 0.       0.      -0.       0.47018  0.16772 -0.36659]\n",
      " [ 0.       0.       0.       0.       0.      -0.11832]]\n",
      "\n",
      "\n",
      "[[ 2.78023  0.21553  0.48277  0.17298 -0.07905  1.15184]\n",
      " [ 0.       0.13867 -0.66816 -0.08786  0.02914  0.05257]\n",
      " [ 0.       0.31847  0.39956  0.00936 -0.1278   0.28669]\n",
      " [ 0.       0.      -0.       0.03729 -0.41128  0.36883]\n",
      " [ 0.       0.      -0.       0.59402  0.1118   0.15533]\n",
      " [ 0.       0.       0.       0.       0.      -0.11832]]\n",
      "\n",
      "\n",
      "[[ 2.78023  0.21722 -0.48202  0.05971 -0.18057  1.15184]\n",
      " [ 0.       0.45786 -0.60269 -0.03967 -0.12605  0.17915]\n",
      " [ 0.       0.38394  0.08037  0.08675 -0.00054 -0.22992]\n",
      " [ 0.       0.       0.       0.16844 -0.47232  0.36473]\n",
      " [ 0.       0.       0.       0.53297 -0.01935 -0.16472]\n",
      " [ 0.       0.       0.       0.       0.      -0.11832]]\n",
      "\n",
      "\n",
      "[[ 2.78023 -0.45989 -0.26082  0.0641   0.17906  1.15184]\n",
      " [ 0.       0.06347 -0.42053 -0.05769  0.06051 -0.21238]\n",
      " [ 0.       0.5661   0.47476 -0.11468 -0.06963 -0.19963]\n",
      " [ 0.       0.       0.       0.1267  -0.58641 -0.18604]\n",
      " [ 0.       0.       0.       0.41888  0.02239  0.35433]\n",
      " [ 0.       0.       0.       0.       0.      -0.11832]]\n",
      "\n",
      "\n",
      "[[ 2.78023  0.02588  0.52807  0.15164  0.11478  1.15184]\n",
      " [ 0.       0.29108 -0.71035 -0.10514 -0.04022 -0.05492]\n",
      " [ 0.       0.27628  0.24715  0.08458 -0.07185  0.28625]\n",
      " [ 0.       0.      -0.       0.01872 -0.58401  0.03822]\n",
      " [ 0.       0.      -0.       0.42128  0.13037  0.39837]\n",
      " [ 0.       0.       0.       0.       0.      -0.11832]]\n",
      "\n",
      "\n"
     ]
    },
    {
     "name": "stdout",
     "output_type": "stream",
     "text": [
      "[[ 2.78023  0.46594 -0.24985  0.19014 -0.00406  1.15184]\n",
      " [ 0.       0.4234  -0.33909  0.06573 -0.11276  0.28215]\n",
      " [ 0.       0.64753  0.11483  0.0877   0.01624 -0.07315]\n",
      " [ 0.       0.       0.      -0.01749 -0.46706  0.27711]\n",
      " [ 0.       0.       0.       0.53823  0.16657  0.28873]\n",
      " [ 0.       0.       0.       0.       0.      -0.11832]]\n",
      "\n",
      "\n",
      "[[ 2.78023 -0.24901 -0.46639  0.12592 -0.14252  1.15184]\n",
      " [ 0.       0.11539 -0.64808  0.07133 -0.05368 -0.07264]\n",
      " [ 0.       0.33854  0.42284  0.03846  0.12466 -0.28228]\n",
      " [ 0.       0.      -0.       0.11745 -0.41379  0.40012]\n",
      " [ 0.       0.      -0.       0.5915   0.03164 -0.00796]\n",
      " [ 0.       0.       0.       0.       0.      -0.11832]]\n",
      "\n",
      "\n",
      "[[ 2.78023 -0.17833  0.49772 -0.00555 -0.1901   1.15184]\n",
      " [ 0.       0.4382  -0.63114  0.07364  0.10698 -0.16036]\n",
      " [ 0.       0.35548  0.10003 -0.08746  0.02172  0.2434 ]\n",
      " [ 0.       0.       0.       0.166   -0.53968  0.28655]\n",
      " [ 0.       0.       0.       0.46561 -0.01692 -0.27938]\n",
      " [ 0.       0.       0.       0.       0.      -0.11832]]\n",
      "\n",
      "\n",
      "[[ 2.78023  0.48922  0.20047  0.11199  0.15371  1.15184]\n",
      " [ 0.       0.08836 -0.37119  0.05439 -0.06936  0.23596]\n",
      " [ 0.       0.61543  0.44987  0.12377  0.04359  0.17112]\n",
      " [ 0.       0.       0.       0.07307 -0.60131 -0.07856]\n",
      " [ 0.       0.       0.       0.40398  0.07601  0.39241]\n",
      " [ 0.       0.       0.       0.       0.      -0.11832]]\n",
      "\n",
      "\n",
      "[[ 2.78023 -0.05708 -0.52561 -0.1794  -0.06312  1.15184]\n",
      " [ 0.       0.26529 -0.71142 -0.10873 -0.01184  0.03789]\n",
      " [ 0.       0.2752   0.27294  0.06522 -0.09367 -0.289  ]\n",
      " [ 0.       0.       0.      -0.01814 -0.53651 -0.15777]\n",
      " [ 0.       0.       0.       0.46879  0.16722 -0.36779]\n",
      " [ 0.       0.       0.       0.       0.      -0.11832]]\n",
      "\n",
      "\n",
      "[[ 2.78023 -0.4283   0.30997 -0.17372  0.0774   1.15184]\n",
      " [ 0.       0.45879 -0.38555  0.02842 -0.13079 -0.26982]\n",
      " [ 0.       0.60107  0.07944  0.0841  -0.00151  0.11026]\n",
      " [ 0.       0.      -0.       0.03556 -0.412   -0.36733]\n",
      " [ 0.       0.      -0.       0.59329  0.11353 -0.15883]\n",
      " [ 0.       0.       0.       0.       0.      -0.11832]]\n",
      "\n",
      "\n",
      "[[ 2.78023  0.2834   0.44633  0.06125 -0.18005  1.15184]\n",
      " [ 0.       0.0939  -0.62326 -0.05128  0.06927  0.09368]\n",
      " [ 0.       0.36336  0.44433 -0.07991 -0.10571  0.27601]\n",
      " [ 0.       0.      -0.       0.16791 -0.47072  0.36612]\n",
      " [ 0.       0.      -0.       0.53457 -0.01882 -0.16159]\n",
      " [ 0.       0.       0.       0.       0.      -0.11832]]\n",
      "\n",
      "\n",
      "[[ 2.78023  0.14115 -0.50951  0.0629   0.17948  1.15184]\n",
      " [ 0.       0.4161  -0.65451  0.09665  0.0829   0.14198]\n",
      " [ 0.       0.33212  0.12213 -0.08412  0.0412  -0.25456]\n",
      " [ 0.       0.      -0.       0.12782 -0.5857  -0.18841]\n",
      " [ 0.       0.      -0.       0.41959  0.02127  0.35307]\n",
      " [ 0.       0.       0.       0.       0.      -0.11832]]\n",
      "\n",
      "\n",
      "[[ 2.78023 -0.51203 -0.1317   0.15087  0.1158   1.15184]\n",
      " [ 0.       0.1282  -0.32679 -0.05019  0.0802  -0.25714]\n",
      " [ 0.       0.65983  0.41003 -0.12536 -0.01798 -0.13725]\n",
      " [ 0.       0.       0.       0.01982 -0.58475  0.03553]\n",
      " [ 0.       0.       0.       0.42054  0.12927  0.39862]\n",
      " [ 0.       0.       0.       0.       0.      -0.11832]]\n",
      "\n",
      "\n",
      "[[ 2.78023  0.08812  0.5213  -0.19017  0.00242  1.15184]\n",
      " [ 0.       0.23951 -0.70944  0.10426 -0.01969 -0.0207 ]\n",
      " [ 0.       0.27718  0.29872 -0.03527  0.11175  0.29074]\n",
      " [ 0.       0.       0.      -0.01809 -0.46865 -0.27462]\n",
      " [ 0.       0.       0.       0.53665  0.16717 -0.29111]\n",
      " [ 0.       0.       0.       0.       0.      -0.11832]]\n",
      "\n",
      "\n",
      "[[ 2.78023  0.38674 -0.3605  -0.12727  0.14132  1.15184]\n",
      " [ 0.       0.47941 -0.43533  0.01756  0.13444  0.25413]\n",
      " [ 0.       0.55129  0.05882 -0.079    0.01909 -0.14274]\n",
      " [ 0.       0.      -0.       0.11576 -0.41299 -0.40018]\n",
      " [ 0.       0.      -0.       0.5923   0.03333  0.00417]\n",
      " [ 0.       0.       0.       0.       0.      -0.11832]]\n",
      "\n",
      "\n",
      "[[ 2.78023 -0.31868 -0.42186  0.00413  0.19014  1.15184]\n",
      " [ 0.       0.07519 -0.59321 -0.0334   0.07653 -0.11576]\n",
      " [ 0.       0.39341  0.46304 -0.10894 -0.07841 -0.2675 ]\n",
      " [ 0.       0.       0.       0.16655 -0.53831 -0.28862]\n",
      " [ 0.       0.       0.       0.46698 -0.01746  0.27723]\n",
      " [ 0.       0.       0.       0.       0.      -0.11832]]\n",
      "\n",
      "\n",
      "[[ 2.78023 -0.10554  0.51806 -0.111   -0.15443  1.15184]\n",
      " [ 0.       0.39242 -0.67326  0.11106  0.0565  -0.12402]\n",
      " [ 0.       0.31336  0.14581 -0.07694  0.0595   0.26377]\n",
      " [ 0.       0.       0.       0.07435 -0.60132  0.08109]\n",
      " [ 0.       0.       0.       0.40397  0.07474 -0.3919 ]\n",
      " [ 0.       0.       0.       0.       0.      -0.11832]]\n",
      "\n",
      "\n",
      "[[ 2.78023  0.52573  0.056    0.17892  0.06446  1.15184]\n",
      " [ 0.       0.18195 -0.29334  0.04131 -0.09374  0.27433]\n",
      " [ 0.       0.69329  0.35628  0.12017 -0.00745  0.09848]\n",
      " [ 0.       0.       0.      -0.01762 -0.53789  0.15501]\n",
      " [ 0.       0.       0.       0.4674   0.16671  0.36896]\n",
      " [ 0.       0.       0.       0.       0.      -0.11832]]\n",
      "\n",
      "\n",
      "[[ 2.78023 -0.11925 -0.51508  0.17445 -0.07575  1.15184]\n",
      " [ 0.       0.21383 -0.70433  0.08902 -0.05135  0.00321]\n",
      " [ 0.       0.28229  0.3244   0.00534  0.11999 -0.29146]\n",
      " [ 0.       0.      -0.       0.03385 -0.41276  0.36581]\n",
      " [ 0.       0.      -0.       0.59253  0.11524  0.16231]\n",
      " [ 0.       0.       0.       0.       0.      -0.11832]]\n",
      "\n",
      "\n",
      "[[ 2.78023 -0.34355  0.40187 -0.06279  0.17952  1.15184]\n",
      " [ 0.       0.48706 -0.48401 -0.06031 -0.12191 -0.23638]\n",
      " [ 0.       0.50261  0.05117  0.07277 -0.03459  0.17053]\n",
      " [ 0.       0.      -0.       0.16735 -0.46913 -0.3675 ]\n",
      " [ 0.       0.      -0.       0.53616 -0.01826  0.15845]\n",
      " [ 0.       0.       0.       0.       0.      -0.11832]]\n",
      "\n",
      "\n",
      "[[ 2.78023  0.35463  0.39213 -0.06169 -0.1799   1.15184]\n",
      " [ 0.       0.06066 -0.5576  -0.01979  0.07907  0.13889]\n",
      " [ 0.       0.42902  0.47757 -0.12635 -0.04878  0.25626]\n",
      " [ 0.       0.      -0.       0.12893 -0.58498  0.19078]\n",
      " [ 0.       0.      -0.       0.42032  0.02016 -0.3518 ]\n",
      " [ 0.       0.       0.       0.       0.      -0.11832]]\n",
      "\n",
      "\n",
      "[[ 2.78023  0.0713  -0.52387 -0.15008 -0.11681  1.15184]\n",
      " [ 0.       0.36778 -0.68787 -0.11849 -0.02797  0.10644]\n",
      " [ 0.       0.29876  0.17045  0.06493 -0.07714 -0.27135]\n",
      " [ 0.       0.       0.       0.02093 -0.58548 -0.03285]\n",
      " [ 0.       0.       0.       0.41981  0.12816 -0.39885]\n",
      " [ 0.       0.       0.       0.       0.      -0.11832]]\n",
      "\n",
      "\n",
      "[[ 2.78023 -0.52816  0.02379  0.19018 -0.00079  1.15184]\n",
      " [ 0.       0.24544 -0.27646 -0.0232   0.10831 -0.28603]\n",
      " [ 0.       0.71017  0.29279 -0.10807  0.03226 -0.05605]\n",
      " [ 0.       0.       0.      -0.01866 -0.47024  0.27211]\n",
      " [ 0.       0.       0.       0.53505  0.16774  0.29345]\n",
      " [ 0.       0.       0.       0.       0.      -0.11832]]\n",
      "\n",
      "\n",
      "[[ 2.78023  0.15069  0.50677 -0.1286   0.14011  1.15184]\n",
      " [ 0.       0.18835 -0.69596  0.06365 -0.07634  0.01471]\n",
      " [ 0.       0.29067  0.34987  0.04982  0.11237  0.2911 ]\n",
      " [ 0.       0.       0.       0.11405 -0.41223 -0.4002 ]\n",
      " [ 0.       0.       0.       0.59306  0.03504  0.00037]\n",
      " [ 0.       0.       0.       0.       0.      -0.11832]]\n",
      "\n",
      "\n",
      "[[ 2.78023  0.30036 -0.4351   0.00271  0.19016  1.15184]\n",
      " [ 0.       0.48435 -0.52884  0.09218  0.09918  0.21758]\n",
      " [ 0.       0.45779  0.05388 -0.06629  0.04752 -0.19395]\n",
      " [ 0.       0.      -0.       0.16707 -0.53693 -0.29069]\n",
      " [ 0.       0.      -0.       0.46836 -0.01798  0.27506]\n",
      " [ 0.       0.       0.       0.       0.      -0.11832]]\n",
      "\n",
      "\n",
      "[[ 2.78023 -0.39077 -0.35613 -0.11    -0.15514  1.15184]\n",
      " [ 0.       0.0522  -0.51642  0.00967 -0.07999 -0.16294]\n",
      " [ 0.       0.47021  0.48603  0.13468  0.0189  -0.24168]\n",
      " [ 0.       0.      -0.       0.07563 -0.60131  0.08363]\n",
      " [ 0.       0.      -0.       0.40398  0.07346 -0.39136]\n",
      " [ 0.       0.       0.       0.       0.      -0.11832]]\n",
      "\n",
      "\n",
      "[[ 2.78023 -0.03819  0.52732  0.17844  0.0658   1.15184]\n",
      " [ 0.       0.34256 -0.69872 -0.11873  0.00339 -0.08915]\n",
      " [ 0.       0.2879   0.19566  0.04605 -0.09359  0.27751]\n",
      " [ 0.       0.      -0.      -0.01708 -0.53926  0.15225]\n",
      " [ 0.       0.      -0.       0.46603  0.16617  0.37011]\n",
      " [ 0.       0.       0.       0.       0.      -0.11832]]\n",
      "\n",
      "\n",
      "[[ 2.78023  0.5184  -0.10383 -0.17516  0.07409  1.15184]\n",
      " [ 0.       0.31172 -0.27937  0.00687  0.11848  0.29123]\n",
      " [ 0.       0.70726  0.22651 -0.08934  0.05406  0.01191]\n",
      " [ 0.       0.      -0.       0.03215 -0.41354 -0.36425]\n",
      " [ 0.       0.      -0.       0.59175  0.11694 -0.16577]\n",
      " [ 0.       0.       0.       0.       0.      -0.11832]]\n",
      "\n",
      "\n",
      "[[ 2.78023 -0.18263 -0.49616 -0.06433  0.17897  1.15184]\n",
      " [ 0.       0.16327 -0.68406 -0.03477  0.08947 -0.0332 ]\n",
      " [ 0.       0.30256  0.37496 -0.08741 -0.09019 -0.28958]\n",
      " [ 0.       0.       0.       0.16676 -0.46754 -0.36884]\n",
      " [ 0.       0.       0.       0.53775 -0.01767  0.15529]\n",
      " [ 0.       0.       0.       0.       0.      -0.11832]]\n",
      "\n",
      "\n",
      "[[ 2.78023 -0.25819  0.46137  0.06047  0.18031  1.15184]\n",
      " [ 0.       0.47391 -0.56844 -0.11291 -0.07226 -0.19841]\n",
      " [ 0.       0.41818  0.06432  0.05954 -0.05893  0.21352]\n",
      " [ 0.       0.      -0.       0.13003 -0.58424 -0.19315]\n",
      " [ 0.       0.      -0.       0.42106  0.01905  0.3505 ]\n",
      " [ 0.       0.       0.       0.       0.      -0.11832]]\n",
      "\n",
      "\n",
      "[[ 2.78023  0.42623  0.31282  0.1493   0.11781  1.15184]\n",
      " [ 0.       0.05219 -0.47029  0.00101 -0.08113  0.18758]\n",
      " [ 0.       0.51633  0.48604  0.1352  -0.01135  0.2231 ]\n",
      " [ 0.       0.       0.       0.02205 -0.58619  0.03017]\n",
      " [ 0.       0.       0.       0.4191   0.12704  0.39906]\n",
      " [ 0.       0.       0.       0.       0.      -0.11832]]\n",
      "\n",
      "\n",
      "[[ 2.78023  0.00597 -0.52867 -0.19018 -0.00084  1.15184]\n",
      " [ 0.       0.31702 -0.70613 -0.10953  0.03737  0.07206]\n",
      " [ 0.       0.28049  0.22121  0.01799 -0.10617 -0.28243]\n",
      " [ 0.       0.       0.      -0.0192  -0.47184 -0.26959]\n",
      " [ 0.       0.       0.       0.53345  0.16828 -0.29577]\n",
      " [ 0.       0.       0.       0.       0.      -0.11832]]\n",
      "\n",
      "\n",
      "[[ 2.78023 -0.49708  0.1801  -0.12993  0.13888  1.15184]\n",
      " [ 0.       0.37301 -0.3015  -0.0449  -0.11708 -0.28974]\n",
      " [ 0.       0.68513  0.16522  0.06712 -0.06899  0.03173]\n",
      " [ 0.       0.      -0.       0.11232 -0.41149 -0.40018]\n",
      " [ 0.       0.      -0.       0.5938   0.03676 -0.00343]\n",
      " [ 0.       0.       0.       0.       0.      -0.11832]]\n",
      "\n",
      "\n",
      "[[ 2.78023  0.21526  0.48289  0.00128  0.19018  1.15184]\n",
      " [ 0.       0.13886 -0.6683   0.00934 -0.09213  0.05241]\n",
      " [ 0.       0.31832  0.39937  0.11276  0.06082  0.28672]\n",
      " [ 0.       0.       0.       0.16757 -0.53553 -0.29275]\n",
      " [ 0.       0.       0.       0.46976 -0.01849  0.27287]\n",
      " [ 0.       0.       0.       0.       0.      -0.11832]]\n",
      "\n",
      "\n",
      "[[ 2.78023  0.21755 -0.48187  0.10899  0.15585  1.15184]\n",
      " [ 0.       0.45801 -0.60243  0.12478  0.04356  0.17931]\n",
      " [ 0.       0.38419  0.08022 -0.05137  0.06987 -0.2298 ]\n",
      " [ 0.       0.      -0.       0.0769  -0.60129 -0.08616]\n",
      " [ 0.       0.      -0.       0.404    0.07218  0.39082]\n",
      " [ 0.       0.       0.       0.       0.      -0.11832]]\n",
      "\n",
      "\n",
      "[[ 2.78023 -0.45963 -0.26128  0.17794  0.06713  1.15184]\n",
      " [ 0.       0.06332 -0.42094  0.00888  0.0831  -0.21218]\n",
      " [ 0.       0.56568  0.4749  -0.12731  0.04237 -0.19984]\n",
      " [ 0.       0.       0.      -0.01653 -0.54062  0.14949]\n",
      " [ 0.       0.       0.       0.46467  0.16561  0.37123]\n",
      " [ 0.       0.       0.       0.       0.      -0.11832]]\n",
      "\n",
      "\n",
      "[[ 2.78023  0.02562  0.52808  0.17585 -0.07243  1.15184]\n",
      " [ 0.       0.29129 -0.71033 -0.088    0.07025 -0.05506]\n",
      " [ 0.       0.2763   0.24694 -0.01904 -0.10931  0.28623]\n",
      " [ 0.       0.      -0.       0.03047 -0.41436  0.36267]\n",
      " [ 0.       0.      -0.       0.59093  0.11862  0.16921]\n",
      " [ 0.       0.       0.       0.       0.      -0.11832]]\n",
      "\n",
      "\n",
      "[[ 2.78023  0.46623 -0.24931  0.06587 -0.17841  1.15184]\n",
      " [ 0.       0.42304 -0.33874 -0.0809  -0.10237  0.28223]\n",
      " [ 0.       0.64789  0.11519  0.04714 -0.07577 -0.07282]\n",
      " [ 0.       0.       0.       0.16614 -0.46595  0.37017]\n",
      " [ 0.       0.       0.       0.53934 -0.01705 -0.1521 ]\n",
      " [ 0.       0.       0.       0.       0.      -0.11832]]\n",
      "\n",
      "\n",
      "[[ 2.78023 -0.24873 -0.46654 -0.05926 -0.18072  1.15184]\n",
      " [ 0.       0.11557 -0.64827 -0.01031 -0.0887  -0.07247]\n",
      " [ 0.       0.33835  0.42266  0.12699  0.02983 -0.28232]\n",
      " [ 0.       0.      -0.       0.13113 -0.58348  0.19551]\n",
      " [ 0.       0.      -0.       0.42181  0.01796 -0.34919]\n",
      " [ 0.       0.       0.       0.       0.      -0.11832]]\n",
      "\n",
      "\n",
      "[[ 2.78023 -0.17864  0.49761 -0.1485  -0.11881  1.15184]\n",
      " [ 0.       0.43838 -0.63093  0.12924  0.01306 -0.16052]\n",
      " [ 0.       0.35569  0.09985 -0.03997  0.08074  0.24329]\n",
      " [ 0.       0.       0.       0.02317 -0.58689 -0.0275 ]\n",
      " [ 0.       0.       0.       0.4184   0.12591 -0.39925]\n",
      " [ 0.       0.       0.       0.       0.      -0.11832]]\n",
      "\n",
      "\n",
      "[[ 2.78023  0.489    0.20101  0.19017  0.00246  1.15184]\n",
      " [ 0.       0.08809 -0.37159 -0.02305 -0.08503  0.23577]\n",
      " [ 0.       0.61504  0.45014  0.10905 -0.07305  0.17138]\n",
      " [ 0.       0.       0.      -0.01971 -0.47344  0.26706]\n",
      " [ 0.       0.       0.       0.53185  0.16879  0.29806]\n",
      " [ 0.       0.       0.       0.       0.      -0.11832]]\n",
      "\n",
      "\n",
      "[[ 2.78023 -0.05682 -0.52564  0.13124 -0.13764  1.15184]\n",
      " [ 0.       0.2655  -0.71143  0.05543 -0.09432  0.03803]\n",
      " [ 0.       0.2752   0.27273  0.05864  0.09789 -0.28898]\n",
      " [ 0.       0.      -0.       0.11058 -0.41079  0.40013]\n",
      " [ 0.       0.      -0.       0.5945   0.0385   0.00724]\n",
      " [ 0.       0.       0.       0.       0.      -0.11832]]\n",
      "\n",
      "\n",
      "[[ 2.78023 -0.42863  0.30951 -0.00015  0.19018  1.15184]\n",
      " [ 0.       0.45856 -0.38515 -0.10787 -0.0792  -0.26993]\n",
      " [ 0.       0.60148  0.07967  0.0328  -0.07749  0.10997]\n",
      " [ 0.       0.      -0.       0.16806 -0.53413 -0.29479]\n",
      " [ 0.       0.      -0.       0.47116 -0.01897  0.27066]\n",
      " [ 0.       0.       0.       0.       0.      -0.11832]]\n",
      "\n",
      "\n"
     ]
    },
    {
     "name": "stdout",
     "output_type": "stream",
     "text": [
      "[[ 2.78023  0.28312  0.44651  0.10798  0.15655  1.15184]\n",
      " [ 0.       0.09406 -0.62348 -0.0251  -0.08247  0.0935 ]\n",
      " [ 0.       0.36314  0.44416  0.1325  -0.00113  0.27607]\n",
      " [ 0.       0.       0.       0.07818 -0.60125 -0.08868]\n",
      " [ 0.       0.       0.       0.40404  0.07091  0.39025]\n",
      " [ 0.       0.       0.       0.       0.      -0.11832]]\n",
      "\n",
      "\n",
      "[[ 2.78023  0.14145 -0.50943  0.17744  0.06844  1.15184]\n",
      " [ 0.       0.41629 -0.65433  0.12579 -0.01992  0.14213]\n",
      " [ 0.       0.33229  0.12194 -0.02308  0.09075 -0.25447]\n",
      " [ 0.       0.      -0.      -0.01595 -0.54197  0.14673]\n",
      " [ 0.       0.      -0.       0.46332  0.16504  0.37233]\n",
      " [ 0.       0.       0.       0.       0.      -0.11832]]\n",
      "\n",
      "\n",
      "[[ 2.78023 -0.51188 -0.1323   0.17653 -0.07077  1.15184]\n",
      " [ 0.       0.12781 -0.32712  0.04351  0.08394 -0.25698]\n",
      " [ 0.       0.6595   0.41042 -0.07932  0.09878 -0.13755]\n",
      " [ 0.       0.       0.       0.02881 -0.41521  0.36105]\n",
      " [ 0.       0.       0.       0.59008  0.12028  0.17263]\n",
      " [ 0.       0.       0.       0.       0.      -0.11832]]\n",
      "\n",
      "\n",
      "[[ 2.78023  0.08787  0.52135 -0.06741  0.17783  1.15184]\n",
      " [ 0.       0.23972 -0.70947  0.01983 -0.10426 -0.02084]\n",
      " [ 0.       0.27716  0.2985   0.09107  0.0737   0.29073]\n",
      " [ 0.       0.       0.       0.16549 -0.46438 -0.37147]\n",
      " [ 0.       0.       0.       0.54092 -0.0164   0.14889]\n",
      " [ 0.       0.       0.       0.       0.      -0.11832]]\n",
      "\n",
      "\n",
      "[[ 2.78023  0.38709 -0.36012 -0.05803 -0.18111  1.15184]\n",
      " [ 0.       0.4793  -0.43492 -0.12503 -0.05243  0.25427]\n",
      " [ 0.       0.5517   0.05893  0.02315 -0.07792 -0.14249]\n",
      " [ 0.       0.       0.       0.13222 -0.58271  0.19786]\n",
      " [ 0.       0.       0.       0.42258  0.01687 -0.34786]\n",
      " [ 0.       0.       0.       0.       0.      -0.11832]]\n",
      "\n",
      "\n",
      "[[ 2.78023 -0.31838 -0.42208  0.1477   0.1198   1.15184]\n",
      " [ 0.       0.07533 -0.59348  0.03687  0.07494 -0.11558]\n",
      " [ 0.       0.39314  0.4629  -0.13023  0.03244 -0.26758]\n",
      " [ 0.       0.       0.       0.02431 -0.58757  0.02482]\n",
      " [ 0.       0.       0.       0.41772  0.12478  0.39943]\n",
      " [ 0.       0.       0.       0.       0.      -0.11832]]\n",
      "\n",
      "\n",
      "[[ 2.78023 -0.10583  0.518   -0.19014 -0.00408  1.15184]\n",
      " [ 0.       0.39262 -0.67312  0.1119  -0.05487 -0.12417]\n",
      " [ 0.       0.3135   0.14561  0.00139  0.09723  0.2637 ]\n",
      " [ 0.       0.       0.      -0.02019 -0.47505 -0.26452]\n",
      " [ 0.       0.       0.       0.53024  0.16928 -0.30032]\n",
      " [ 0.       0.       0.       0.       0.      -0.11832]]\n",
      "\n",
      "\n",
      "[[ 2.78023  0.52566  0.05664 -0.13255  0.13638  1.15184]\n",
      " [ 0.       0.18146 -0.29355  0.06839  0.07617  0.27421]\n",
      " [ 0.       0.69307  0.35677 -0.04271  0.11263  0.09882]\n",
      " [ 0.       0.      -0.       0.10883 -0.41012 -0.40005]\n",
      " [ 0.       0.      -0.       0.59517  0.04026 -0.01105]\n",
      " [ 0.       0.       0.       0.       0.      -0.11832]]\n",
      "\n",
      "\n",
      "[[ 2.78023 -0.119   -0.51514  0.00159 -0.19018  1.15184]\n",
      " [ 0.       0.21404 -0.70439 -0.01085 -0.10223  0.00336]\n",
      " [ 0.       0.28223  0.32419  0.11182  0.04378 -0.29146]\n",
      " [ 0.       0.      -0.       0.16852 -0.53271  0.29683]\n",
      " [ 0.       0.      -0.       0.47258 -0.01944 -0.26842]\n",
      " [ 0.       0.       0.       0.       0.      -0.11832]]\n",
      "\n",
      "\n",
      "[[ 2.78023 -0.3439   0.40156 -0.10697 -0.15725  1.15184]\n",
      " [ 0.       0.48705 -0.48363  0.13388  0.02396 -0.23654]\n",
      " [ 0.       0.503    0.05118 -0.01536  0.07909  0.17032]\n",
      " [ 0.       0.       0.       0.07945 -0.6012   0.0912 ]\n",
      " [ 0.       0.       0.       0.4041   0.06963 -0.38967]\n",
      " [ 0.       0.       0.       0.       0.      -0.11832]]\n",
      "\n",
      "\n",
      "[[ 2.78023  0.35433  0.3924   0.17693  0.06976  1.15184]\n",
      " [ 0.       0.06076 -0.55792 -0.04743 -0.06631  0.1387 ]\n",
      " [ 0.       0.4287   0.47747  0.11906 -0.06456  0.25636]\n",
      " [ 0.       0.       0.      -0.01536 -0.54331  0.14397]\n",
      " [ 0.       0.       0.       0.46198  0.16445  0.37341]\n",
      " [ 0.       0.       0.       0.       0.      -0.11832]]\n",
      "\n",
      "\n",
      "[[ 2.78023  0.07158 -0.52383 -0.17719  0.0691   1.15184]\n",
      " [ 0.       0.36799 -0.68776 -0.08469  0.0875   0.10658]\n",
      " [ 0.       0.29886  0.17024 -0.03305 -0.09523 -0.27129]\n",
      " [ 0.       0.       0.       0.02717 -0.41609 -0.35941]\n",
      " [ 0.       0.       0.       0.5892   0.12192 -0.17603]\n",
      " [ 0.       0.       0.       0.       0.      -0.11832]]\n",
      "\n",
      "\n",
      "[[ 2.78023 -0.52819  0.02313 -0.06895  0.17724  1.15184]\n",
      " [ 0.       0.24489 -0.27652 -0.09229 -0.06113 -0.28596]\n",
      " [ 0.       0.71011  0.29334  0.00946 -0.11245 -0.05641]\n",
      " [ 0.       0.      -0.       0.16481 -0.4628  -0.37275]\n",
      " [ 0.       0.      -0.       0.54249 -0.01573  0.14567]\n",
      " [ 0.       0.       0.       0.       0.      -0.11832]]\n",
      "\n",
      "\n",
      "[[ 2.78023  0.15043  0.50685 -0.05681 -0.1815   1.15184]\n",
      " [ 0.       0.18856 -0.69604  0.03423  0.09334  0.01456]\n",
      " [ 0.       0.29058  0.34967 -0.12219 -0.01314  0.29111]\n",
      " [ 0.       0.      -0.       0.1333  -0.58192  0.20021]\n",
      " [ 0.       0.      -0.       0.42337  0.01579 -0.34652]\n",
      " [ 0.       0.       0.       0.       0.      -0.11832]]\n",
      "\n",
      "\n",
      "[[ 2.78023  0.30071 -0.43485  0.1469   0.12079  1.15184]\n",
      " [ 0.       0.48441 -0.52849  0.13527 -0.00635  0.21774]\n",
      " [ 0.       0.45814  0.05382 -0.00645  0.0813  -0.19378]\n",
      " [ 0.       0.      -0.       0.02544 -0.58823  0.02215]\n",
      " [ 0.       0.      -0.       0.41706  0.12364  0.39959]\n",
      " [ 0.       0.       0.       0.       0.      -0.11832]]\n",
      "\n",
      "\n",
      "[[ 2.78023 -0.39047 -0.35645 -0.1901  -0.00569  1.15184]\n",
      " [ 0.       0.05224 -0.51678 -0.05809 -0.05583 -0.16274]\n",
      " [ 0.       0.46984  0.48599  0.09618 -0.09615 -0.24181]\n",
      " [ 0.       0.      -0.      -0.02064 -0.47666 -0.26196]\n",
      " [ 0.       0.      -0.       0.52863  0.16973 -0.30255]\n",
      " [ 0.       0.       0.       0.       0.      -0.11832]]\n",
      "\n",
      "\n",
      "[[ 2.78023 -0.03846  0.5273   0.13384 -0.13511  1.15184]\n",
      " [ 0.       0.34277 -0.69864 -0.04609  0.1095  -0.08929]\n",
      " [ 0.       0.28798  0.19546 -0.06611 -0.08065  0.27746]\n",
      " [ 0.       0.      -0.       0.10706 -0.40948  0.39992]\n",
      " [ 0.       0.      -0.       0.59581  0.04203  0.01486]\n",
      " [ 0.       0.       0.       0.       0.      -0.11832]]\n",
      "\n",
      "\n",
      "[[ 2.78023  0.51853 -0.10318  0.00303 -0.19016  1.15184]\n",
      " [ 0.       0.31118 -0.27926 -0.11113 -0.04148  0.29122]\n",
      " [ 0.       0.70736  0.22705 -0.01348 -0.10362  0.01227]\n",
      " [ 0.       0.       0.       0.16897 -0.53128  0.29886]\n",
      " [ 0.       0.       0.       0.47401 -0.01988 -0.26617]\n",
      " [ 0.       0.       0.       0.       0.      -0.11832]]\n",
      "\n",
      "\n",
      "[[ 2.78023 -0.18236 -0.49625 -0.10595 -0.15794  1.15184]\n",
      " [ 0.       0.16348 -0.68417 -0.05149 -0.08105 -0.03305]\n",
      " [ 0.       0.30245  0.37475  0.12443 -0.01693 -0.2896 ]\n",
      " [ 0.       0.      -0.       0.08073 -0.60112  0.09372]\n",
      " [ 0.       0.      -0.       0.40417  0.06836 -0.38907]\n",
      " [ 0.       0.       0.       0.       0.      -0.11832]]\n",
      "\n",
      "\n",
      "[[ 2.78023 -0.25853  0.46118  0.17641  0.07106  1.15184]\n",
      " [ 0.       0.47402 -0.56814 -0.12826  0.03903 -0.19857]\n",
      " [ 0.       0.41848  0.06421 -0.00626 -0.08351  0.21338]\n",
      " [ 0.       0.      -0.      -0.01475 -0.54463  0.1412 ]\n",
      " [ 0.       0.      -0.       0.46066  0.16384  0.37446]\n",
      " [ 0.       0.       0.       0.       0.      -0.11832]]\n",
      "\n",
      "\n",
      "[[ 2.78023  0.42594  0.31321 -0.17783  0.06742  1.15184]\n",
      " [ 0.       0.05215 -0.47069  0.0691   0.04249  0.18737]\n",
      " [ 0.       0.51594  0.48608 -0.05975  0.12181  0.22327]\n",
      " [ 0.       0.      -0.       0.02554 -0.417   -0.35773]\n",
      " [ 0.       0.      -0.       0.58829  0.12354 -0.17941]\n",
      " [ 0.       0.       0.       0.       0.      -0.11832]]\n",
      "\n",
      "\n",
      "[[ 2.78023  0.00623 -0.52866 -0.07049  0.17664  1.15184]\n",
      " [ 0.       0.31723 -0.70609 -0.00533  0.11563  0.0722 ]\n",
      " [ 0.       0.28054  0.221   -0.09219 -0.0556  -0.28239]\n",
      " [ 0.       0.       0.       0.16411 -0.46124 -0.374  ]\n",
      " [ 0.       0.       0.       0.54405 -0.01502  0.14242]\n",
      " [ 0.       0.       0.       0.       0.      -0.11832]]\n",
      "\n",
      "\n",
      "[[ 2.78023 -0.4973   0.1795   0.05557  0.18188  1.15184]\n",
      " [ 0.       0.37254 -0.30124 -0.12384 -0.01936 -0.28978]\n",
      " [ 0.       0.68538  0.16569 -0.02648 -0.09261  0.03138]\n",
      " [ 0.       0.      -0.       0.13437 -0.58112 -0.20256]\n",
      " [ 0.       0.      -0.       0.42418  0.01472  0.34515]\n",
      " [ 0.       0.       0.       0.       0.      -0.11832]]\n",
      "\n",
      "\n",
      "[[ 2.78023  0.21499  0.48302  0.14609  0.12177  1.15184]\n",
      " [ 0.       0.13906 -0.66845 -0.06441 -0.06656  0.05225]\n",
      " [ 0.       0.31817  0.39917  0.1192  -0.04692  0.28675]\n",
      " [ 0.       0.       0.       0.02659 -0.58888  0.01949]\n",
      " [ 0.       0.       0.       0.41641  0.1225   0.39972]\n",
      " [ 0.       0.       0.       0.       0.      -0.11832]]\n",
      "\n",
      "\n",
      "[[ 2.78023  0.21788 -0.48172  0.19004  0.00729  1.15184]\n",
      " [ 0.       0.45816 -0.60217  0.11007 -0.07319  0.17947]\n",
      " [ 0.       0.38445  0.08007  0.02472  0.0831  -0.22967]\n",
      " [ 0.       0.      -0.      -0.02107 -0.47827  0.2594 ]\n",
      " [ 0.       0.      -0.       0.52702  0.17016  0.30475]\n",
      " [ 0.       0.       0.       0.       0.      -0.11832]]\n",
      "\n",
      "\n",
      "[[ 2.78023 -0.45936 -0.26174 -0.13513  0.13383  1.15184]\n",
      " [ 0.       0.06318 -0.42135 -0.07927 -0.0264  -0.21198]\n",
      " [ 0.       0.56527  0.47505  0.01441 -0.13342 -0.20005]\n",
      " [ 0.       0.      -0.       0.10527 -0.40888 -0.39976]\n",
      " [ 0.       0.      -0.       0.59641  0.04381 -0.01868]\n",
      " [ 0.       0.       0.       0.       0.      -0.11832]]\n",
      "\n",
      "\n",
      "[[ 2.78023  0.02536  0.52809 -0.00448  0.19013  1.15184]\n",
      " [ 0.       0.29151 -0.7103  -0.02894 -0.10884 -0.0552 ]\n",
      " [ 0.       0.27632  0.24672  0.10771  0.02652  0.2862 ]\n",
      " [ 0.       0.       0.       0.16939 -0.52985 -0.30087]\n",
      " [ 0.       0.       0.       0.47545 -0.02031  0.26389]\n",
      " [ 0.       0.       0.       0.       0.      -0.11832]]\n",
      "\n",
      "\n",
      "[[ 2.78023  0.46651 -0.24877  0.10492  0.15862  1.15184]\n",
      " [ 0.       0.42269 -0.33838  0.13036 -0.0048   0.28232]\n",
      " [ 0.       0.64824  0.11554  0.03338  0.08282 -0.0725 ]\n",
      " [ 0.       0.      -0.       0.082   -0.60104 -0.09624]\n",
      " [ 0.       0.      -0.       0.40426  0.06709  0.38846]\n",
      " [ 0.       0.       0.       0.       0.      -0.11832]]\n",
      "\n",
      "\n",
      "[[ 2.78023 -0.24845 -0.46669 -0.17588 -0.07236  1.15184]\n",
      " [ 0.       0.11576 -0.64845 -0.07419 -0.04974 -0.0723 ]\n",
      " [ 0.       0.33817  0.42247  0.10513 -0.07719 -0.28237]\n",
      " [ 0.       0.      -0.      -0.01412 -0.54594 -0.13844]\n",
      " [ 0.       0.      -0.       0.45935  0.16321 -0.37549]\n",
      " [ 0.       0.       0.       0.       0.      -0.11832]]\n",
      "\n",
      "\n",
      "[[ 2.78023 -0.17896  0.49749 -0.17846  0.06575  1.15184]\n",
      " [ 0.       0.43855 -0.63071  0.07793 -0.10394 -0.16067]\n",
      " [ 0.       0.35591  0.09968  0.04852  0.07588  0.24319]\n",
      " [ 0.       0.       0.       0.02394 -0.41794 -0.35603]\n",
      " [ 0.       0.       0.       0.58735  0.12515 -0.18277]\n",
      " [ 0.       0.       0.       0.       0.      -0.11832]]\n",
      "\n",
      "\n",
      "[[ 2.78023  0.48878  0.20154  0.07203 -0.17602  1.15184]\n",
      " [ 0.       0.08782 -0.37198 -0.08753 -0.0096   0.23558]\n",
      " [ 0.       0.61464  0.4504  -0.02807 -0.12825  0.17163]\n",
      " [ 0.       0.       0.       0.16337 -0.45968  0.37523]\n",
      " [ 0.       0.       0.       0.54561 -0.01428 -0.13915]\n",
      " [ 0.       0.       0.       0.       0.      -0.11832]]\n",
      "\n",
      "\n",
      "[[ 2.78023 -0.05656 -0.52567  0.05434  0.18226  1.15184]\n",
      " [ 0.       0.26572 -0.71143  0.05442  0.09493  0.03817]\n",
      " [ 0.       0.27519  0.27251 -0.11406  0.00236 -0.28896]\n",
      " [ 0.       0.       0.       0.13543 -0.58029 -0.2049 ]\n",
      " [ 0.       0.       0.       0.425    0.01366  0.34377]\n",
      " [ 0.       0.       0.       0.       0.      -0.11832]]\n",
      "\n",
      "\n",
      "[[ 2.78023 -0.42896  0.30905  0.14528  0.12274  1.15184]\n",
      " [ 0.       0.45832 -0.38474 -0.13005  0.03148 -0.27005]\n",
      " [ 0.       0.60188  0.07991 -0.03822 -0.075    0.10968]\n",
      " [ 0.       0.      -0.       0.02774 -0.58951  0.01682]\n",
      " [ 0.       0.      -0.       0.41578  0.12134  0.39985]\n",
      " [ 0.       0.       0.       0.       0.      -0.11832]]\n",
      "\n",
      "\n",
      "[[ 2.78023  0.28283  0.44669  0.18997  0.00889  1.15184]\n",
      " [ 0.       0.09423 -0.62371 -0.08088 -0.02991  0.09332]\n",
      " [ 0.       0.36291  0.444    0.07929 -0.10614  0.27613]\n",
      " [ 0.       0.       0.      -0.02147 -0.47988  0.25682]\n",
      " [ 0.       0.       0.       0.52541  0.17055  0.30692]\n",
      " [ 0.       0.       0.       0.       0.      -0.11832]]\n",
      "\n",
      "\n",
      "[[ 2.78023  0.14175 -0.50934 -0.1364   0.13253  1.15184]\n",
      " [ 0.       0.41647 -0.65416 -0.03449  0.12262  0.14228]\n",
      " [ 0.       0.33246  0.12175 -0.07279 -0.05886 -0.25439]\n",
      " [ 0.       0.       0.       0.10348 -0.40831 -0.39957]\n",
      " [ 0.       0.       0.       0.59698  0.04561 -0.02249]\n",
      " [ 0.       0.       0.       0.       0.      -0.11832]]\n",
      "\n",
      "\n",
      "[[ 2.78023 -0.51173 -0.1329   0.00592 -0.19009  1.15184]\n",
      " [ 0.       0.12742 -0.32745  0.09428 -0.00635 -0.25682]\n",
      " [ 0.       0.65917  0.41081  0.05882  0.11225 -0.13785]\n",
      " [ 0.       0.       0.       0.1698  -0.5284   0.30287]\n",
      " [ 0.       0.       0.       0.47689 -0.02071 -0.26159]\n",
      " [ 0.       0.       0.       0.       0.      -0.11832]]\n",
      "\n",
      "\n",
      "[[ 2.78023  0.08761  0.52139 -0.10389 -0.1593   1.15184]\n",
      " [ 0.       0.23994 -0.7095   0.07258  0.07747 -0.02098]\n",
      " [ 0.       0.27713  0.29829 -0.11319  0.03014  0.29072]\n",
      " [ 0.       0.      -0.       0.08327 -0.60093  0.09875]\n",
      " [ 0.       0.      -0.       0.40436  0.06581 -0.38782]\n",
      " [ 0.       0.       0.       0.       0.      -0.11832]]\n",
      "\n",
      "\n",
      "[[ 2.78023  0.38744 -0.35974  0.17534  0.07365  1.15184]\n",
      " [ 0.       0.47919 -0.43451  0.12108 -0.06098  0.25441]\n",
      " [ 0.       0.55211  0.05904  0.04428  0.06819 -0.14224]\n",
      " [ 0.       0.      -0.      -0.01348 -0.54724  0.13568]\n",
      " [ 0.       0.      -0.       0.45805  0.16256  0.3765 ]\n",
      " [ 0.       0.       0.       0.       0.      -0.11832]]\n",
      "\n",
      "\n",
      "[[ 2.78023 -0.31809 -0.42231  0.17907 -0.06407  1.15184]\n",
      " [ 0.       0.07547 -0.59375  0.08322  0.00729 -0.11539]\n",
      " [ 0.       0.39287  0.46276 -0.03981  0.12816 -0.26766]\n",
      " [ 0.       0.       0.       0.02236 -0.4189   0.3543 ]\n",
      " [ 0.       0.       0.       0.58639  0.12673  0.1861 ]\n",
      " [ 0.       0.       0.       0.       0.      -0.11832]]\n",
      "\n",
      "\n"
     ]
    },
    {
     "name": "stdout",
     "output_type": "stream",
     "text": [
      "[[ 2.78023 -0.10612  0.51794 -0.07356  0.17538  1.15184]\n",
      " [ 0.       0.39282 -0.67299 -0.01003 -0.12425 -0.12431]\n",
      " [ 0.       0.31364  0.14541  0.09095  0.03432  0.26364]\n",
      " [ 0.       0.       0.       0.16261 -0.45814 -0.37643]\n",
      " [ 0.       0.       0.       0.54716 -0.01352  0.13587]\n",
      " [ 0.       0.       0.       0.       0.      -0.11832]]\n",
      "\n",
      "\n",
      "[[ 2.78023  0.52559  0.05729 -0.05309 -0.18262  1.15184]\n",
      " [ 0.       0.18097 -0.29377 -0.09992  0.02195  0.27409]\n",
      " [ 0.       0.69286  0.35726 -0.07695 -0.09275  0.09915]\n",
      " [ 0.       0.       0.       0.13648 -0.57946  0.20724]\n",
      " [ 0.       0.       0.       0.42583  0.01261 -0.34236]\n",
      " [ 0.       0.       0.       0.       0.      -0.11832]]\n",
      "\n",
      "\n",
      "[[ 2.78023 -0.11874 -0.51519  0.14446  0.1237   1.15184]\n",
      " [ 0.       0.21425 -0.70445  0.08524  0.05751  0.0035 ]\n",
      " [ 0.       0.28218  0.32398 -0.10547  0.05737 -0.29145]\n",
      " [ 0.       0.       0.       0.0289  -0.59013  0.01416]\n",
      " [ 0.       0.       0.       0.41516  0.12018  0.39995]\n",
      " [ 0.       0.       0.       0.       0.      -0.11832]]\n",
      "\n",
      "\n",
      "[[ 2.78023 -0.34426  0.40126  0.18989  0.01049  1.15184]\n",
      " [ 0.       0.48703 -0.48324 -0.10028  0.09188 -0.23669]\n",
      " [ 0.       0.50339  0.0512  -0.0536  -0.06014  0.17011]\n",
      " [ 0.       0.      -0.      -0.02184 -0.4815   0.25423]\n",
      " [ 0.       0.      -0.       0.52379  0.17092  0.30907]\n",
      " [ 0.       0.       0.       0.       0.      -0.11832]]\n",
      "\n",
      "\n",
      "[[ 2.78023  0.35403  0.39267 -0.13766  0.13122  1.15184]\n",
      " [ 0.       0.06086 -0.55824  0.08009 -0.01527  0.1385 ]\n",
      " [ 0.       0.42839  0.47737  0.00861  0.13516  0.25647]\n",
      " [ 0.       0.      -0.       0.10167 -0.40777 -0.39933]\n",
      " [ 0.       0.      -0.       0.59752  0.04742 -0.02631]\n",
      " [ 0.       0.       0.       0.       0.      -0.11832]]\n",
      "\n",
      "\n",
      "[[ 2.78023  0.07186 -0.52379  0.00738 -0.19004  1.15184]\n",
      " [ 0.       0.3682  -0.68766 -0.04648 -0.11258  0.10672]\n",
      " [ 0.       0.29897  0.17003  0.10048  0.00765 -0.27123]\n",
      " [ 0.       0.      -0.       0.17018 -0.52694  0.30486]\n",
      " [ 0.       0.      -0.       0.47835 -0.02109 -0.25926]\n",
      " [ 0.       0.       0.       0.       0.      -0.11832]]\n",
      "\n",
      "\n",
      "[[ 2.78023 -0.52822  0.02246  0.10286  0.15997  1.15184]\n",
      " [ 0.       0.24434 -0.27658 -0.1036   0.03882 -0.28589]\n",
      " [ 0.       0.71005  0.29389 -0.08554 -0.07371 -0.05677]\n",
      " [ 0.       0.      -0.       0.08455 -0.60081 -0.10126]\n",
      " [ 0.       0.      -0.       0.40448  0.06454  0.38718]\n",
      " [ 0.       0.       0.       0.       0.      -0.11832]]\n",
      "\n",
      "\n",
      "[[ 2.78023  0.15016  0.50693 -0.1748  -0.07493  1.15184]\n",
      " [ 0.       0.18877 -0.69612  0.09321  0.03468  0.01441]\n",
      " [ 0.       0.2905   0.34946 -0.08943  0.08427  0.29112]\n",
      " [ 0.       0.      -0.      -0.01281 -0.54852 -0.13292]\n",
      " [ 0.       0.      -0.       0.45677  0.1619  -0.37748]\n",
      " [ 0.       0.       0.       0.       0.      -0.11832]]\n",
      "\n",
      "\n",
      "[[ 2.78023  0.30107 -0.43461 -0.17966  0.06238  1.15184]\n",
      " [ 0.       0.48446 -0.52814 -0.06505  0.11878  0.21789]\n",
      " [ 0.       0.45849  0.05377 -0.06607 -0.04779 -0.1936 ]\n",
      " [ 0.       0.       0.       0.0208  -0.4199  -0.35253]\n",
      " [ 0.       0.       0.       0.5854   0.12829 -0.18942]\n",
      " [ 0.       0.       0.       0.       0.      -0.11832]]\n",
      "\n",
      "\n",
      "[[ 2.78023 -0.39017 -0.35678 -0.0751   0.17473  1.15184]\n",
      " [ 0.       0.05227 -0.51714 -0.07322  0.03364 -0.16254]\n",
      " [ 0.       0.46948  0.48595 -0.05418 -0.12474 -0.24195]\n",
      " [ 0.       0.      -0.       0.16181 -0.4566  -0.37761]\n",
      " [ 0.       0.      -0.       0.54869 -0.01273  0.13256]\n",
      " [ 0.       0.       0.       0.       0.      -0.11832]]\n",
      "\n",
      "\n",
      "[[ 2.78023 -0.03873  0.52728  0.05185  0.18298  1.15184]\n",
      " [ 0.       0.34298 -0.69857 -0.07274 -0.09397 -0.08943]\n",
      " [ 0.       0.28805  0.19525  0.10269 -0.01796  0.27742]\n",
      " [ 0.       0.       0.       0.13752 -0.57861 -0.20957]\n",
      " [ 0.       0.       0.       0.42669  0.01157  0.34094]\n",
      " [ 0.       0.       0.       0.       0.      -0.11832]]\n",
      "\n",
      "\n",
      "[[ 2.78023  0.51866 -0.10253 -0.14363 -0.12466  1.15184]\n",
      " [ 0.       0.31064 -0.27916 -0.10314  0.05846  0.2912 ]\n",
      " [ 0.       0.70747  0.22759 -0.08813 -0.05627  0.01264]\n",
      " [ 0.       0.       0.       0.03007 -0.59073 -0.01151]\n",
      " [ 0.       0.       0.       0.41457  0.11902 -0.40003]\n",
      " [ 0.       0.       0.       0.       0.      -0.11832]]\n",
      "\n",
      "\n",
      "[[ 2.78023 -0.1821  -0.49635  0.1898   0.01208  1.15184]\n",
      " [ 0.       0.16368 -0.68429  0.09567  0.00843 -0.03289]\n",
      " [ 0.       0.30234  0.37455 -0.06226  0.10903 -0.28961]\n",
      " [ 0.       0.       0.      -0.02218 -0.48312  0.25164]\n",
      " [ 0.       0.       0.       0.52217  0.17126  0.31119]\n",
      " [ 0.       0.       0.       0.       0.      -0.11832]]\n",
      "\n",
      "\n",
      "[[ 2.78023 -0.25887  0.46099 -0.13891  0.1299   1.15184]\n",
      " [ 0.       0.47414 -0.56784  0.01872 -0.13277 -0.19872]\n",
      " [ 0.       0.41879  0.06409  0.07836  0.02949  0.21323]\n",
      " [ 0.       0.       0.       0.09985 -0.40727 -0.39906]\n",
      " [ 0.       0.       0.       0.59802  0.04924 -0.03013]\n",
      " [ 0.       0.       0.       0.       0.      -0.11832]]\n",
      "\n",
      "\n",
      "[[ 2.78023  0.42565  0.3136   0.00883 -0.18998  1.15184]\n",
      " [ 0.       0.0521  -0.47108 -0.06638  0.04661  0.18717]\n",
      " [ 0.       0.51554  0.48612 -0.08808 -0.10321  0.22344]\n",
      " [ 0.       0.       0.       0.17054 -0.52547  0.30684]\n",
      " [ 0.       0.       0.       0.47982 -0.02145 -0.25692]\n",
      " [ 0.       0.       0.       0.       0.      -0.11832]]\n",
      "\n",
      "\n",
      "[[ 2.78023  0.0065  -0.52866 -0.10182 -0.16063  1.15184]\n",
      " [ 0.       0.31744 -0.70604 -0.09062 -0.07206  0.07234]\n",
      " [ 0.       0.28059  0.22079  0.09903 -0.04216 -0.28235]\n",
      " [ 0.       0.      -0.       0.08582 -0.60067  0.10377]\n",
      " [ 0.       0.      -0.       0.40462  0.06327 -0.38651]\n",
      " [ 0.       0.       0.       0.       0.      -0.11832]]\n",
      "\n",
      "\n",
      "[[ 2.78023 -0.49752  0.17889  0.17425  0.0762   1.15184]\n",
      " [ 0.       0.37208 -0.30099 -0.0952   0.08146 -0.28982]\n",
      " [ 0.       0.68563  0.16615 -0.08765 -0.04008  0.03102]\n",
      " [ 0.       0.      -0.      -0.01213 -0.5498   0.13016]\n",
      " [ 0.       0.      -0.       0.4555   0.16122  0.37844]\n",
      " [ 0.       0.       0.       0.       0.      -0.11832]]\n",
      "\n",
      "\n",
      "[[ 2.78023  0.21472  0.48314  0.18024 -0.0607   1.15184]\n",
      " [ 0.       0.13926 -0.6686  -0.09045  0.02009  0.05209]\n",
      " [ 0.       0.31803  0.39897  0.0224  -0.12611  0.28678]\n",
      " [ 0.       0.       0.       0.01926 -0.42092  0.35075]\n",
      " [ 0.       0.       0.       0.58437  0.12983  0.19271]\n",
      " [ 0.       0.       0.       0.       0.      -0.11832]]\n",
      "\n",
      "\n",
      "[[ 2.78023  0.21821 -0.48157  0.07663 -0.17406  1.15184]\n",
      " [ 0.       0.4583  -0.60191 -0.02766 -0.12927  0.17962]\n",
      " [ 0.       0.38471  0.07993  0.08635  0.00746 -0.22955]\n",
      " [ 0.       0.      -0.       0.16099 -0.45507  0.37876]\n",
      " [ 0.       0.      -0.       0.55022 -0.0119  -0.12923]\n",
      " [ 0.       0.       0.       0.       0.      -0.11832]]\n",
      "\n",
      "\n",
      "[[ 2.78023 -0.4591  -0.2622  -0.05059 -0.18333  1.15184]\n",
      " [ 0.       0.06304 -0.42176  0.0617  -0.05629 -0.21178]\n",
      " [ 0.       0.56486  0.47519  0.10937  0.0778  -0.20026]\n",
      " [ 0.       0.       0.       0.13855 -0.57774  0.2119 ]\n",
      " [ 0.       0.       0.       0.42755  0.01053 -0.3395 ]\n",
      " [ 0.       0.       0.       0.       0.      -0.11832]]\n",
      "\n",
      "\n",
      "[[ 2.78023  0.0251   0.5281   0.1428   0.12561  1.15184]\n",
      " [ 0.       0.29172 -0.71028 -0.10203 -0.04774 -0.05534]\n",
      " [ 0.       0.27634  0.24651  0.08948 -0.06551  0.28617]\n",
      " [ 0.       0.       0.       0.03124 -0.59131  0.00885]\n",
      " [ 0.       0.       0.       0.41398  0.11784  0.4001 ]\n",
      " [ 0.       0.       0.       0.       0.      -0.11832]]\n",
      "\n",
      "\n",
      "[[ 2.78023  0.4668  -0.24824 -0.18969 -0.01366  1.15184]\n",
      " [ 0.       0.42233 -0.33803 -0.07564  0.10623  0.2824 ]\n",
      " [ 0.       0.64859  0.1159  -0.08607 -0.02397 -0.07217]\n",
      " [ 0.       0.       0.      -0.02249 -0.48473 -0.24903]\n",
      " [ 0.       0.       0.       0.52056  0.17158 -0.31328]\n",
      " [ 0.       0.       0.       0.       0.      -0.11832]]\n",
      "\n",
      "\n",
      "[[ 2.78023 -0.24817 -0.46683  0.14015 -0.12856  1.15184]\n",
      " [ 0.       0.11594 -0.64864  0.07651 -0.04615 -0.07213]\n",
      " [ 0.       0.33799  0.42229  0.02534  0.12792 -0.28241]\n",
      " [ 0.       0.       0.       0.09801 -0.40681  0.39876]\n",
      " [ 0.       0.       0.       0.59849  0.05107  0.03395]\n",
      " [ 0.       0.       0.       0.       0.      -0.11832]]\n",
      "\n",
      "\n",
      "[[ 2.78023 -0.17927  0.49738 -0.0103   0.1899   1.15184]\n",
      " [ 0.       0.43872 -0.6305  -0.06464 -0.11271 -0.16082]\n",
      " [ 0.       0.35612  0.09951  0.08884 -0.01458  0.24309]\n",
      " [ 0.       0.       0.       0.17088 -0.52399 -0.30881]\n",
      " [ 0.       0.       0.       0.4813  -0.02179  0.25455]\n",
      " [ 0.       0.       0.       0.       0.      -0.11832]]\n",
      "\n",
      "\n",
      "[[ 2.78023  0.48856  0.20207  0.10078  0.16129  1.15184]\n",
      " [ 0.       0.08756 -0.37238  0.05879 -0.06549  0.2354 ]\n",
      " [ 0.       0.61425  0.45067  0.12055  0.05207  0.17189]\n",
      " [ 0.       0.      -0.       0.08709 -0.60052 -0.10627]\n",
      " [ 0.       0.      -0.       0.40477  0.062    0.38583]\n",
      " [ 0.       0.       0.       0.       0.      -0.11832]]\n",
      "\n",
      "\n",
      "[[ 2.78023 -0.05631 -0.52569  0.17369  0.07747  1.15184]\n",
      " [ 0.       0.26593 -0.71143  0.10751  0.02049  0.03831]\n",
      " [ 0.       0.27519  0.2723  -0.07245  0.0881  -0.28895]\n",
      " [ 0.       0.       0.      -0.01144 -0.55105  0.1274 ]\n",
      " [ 0.       0.       0.       0.45424  0.16053  0.37938]\n",
      " [ 0.       0.       0.       0.       0.      -0.11832]]\n",
      "\n",
      "\n",
      "[[ 2.78023 -0.42929  0.3086   0.1808  -0.05901  1.15184]\n",
      " [ 0.       0.45809 -0.38434 -0.04153  0.12717 -0.27017]\n",
      " [ 0.       0.60228  0.08014 -0.08393 -0.00679  0.10939]\n",
      " [ 0.       0.      -0.       0.01774 -0.42196  0.34893]\n",
      " [ 0.       0.      -0.       0.58333  0.13135  0.19598]\n",
      " [ 0.       0.       0.       0.       0.      -0.11832]]\n",
      "\n",
      "\n",
      "[[ 2.78023  0.28254  0.44687  0.07817 -0.17338  1.15184]\n",
      " [ 0.       0.0944  -0.62393 -0.05753  0.06427  0.09315]\n",
      " [ 0.       0.36269  0.44383 -0.06956 -0.11274  0.27619]\n",
      " [ 0.       0.       0.       0.16014 -0.45355  0.37988]\n",
      " [ 0.       0.       0.       0.55174 -0.01105 -0.12589]\n",
      " [ 0.       0.       0.       0.       0.      -0.11832]]\n",
      "\n",
      "\n",
      "[[ 2.78023  0.14205 -0.50926 -0.04934 -0.18367  1.15184]\n",
      " [ 0.       0.41666 -0.65399 -0.09036 -0.08982  0.14243]\n",
      " [ 0.       0.33264  0.12157  0.0868  -0.03497 -0.2543 ]\n",
      " [ 0.       0.      -0.       0.13958 -0.57685  0.21422]\n",
      " [ 0.       0.      -0.       0.42844  0.00951 -0.33804]\n",
      " [ 0.       0.       0.       0.       0.      -0.11832]]\n",
      "\n",
      "\n",
      "[[ 2.78023 -0.51157 -0.13349 -0.14197 -0.12655  1.15184]\n",
      " [ 0.       0.12703 -0.32778  0.0555  -0.0764  -0.25666]\n",
      " [ 0.       0.65884  0.4112   0.1239   0.02685 -0.13815]\n",
      " [ 0.       0.       0.       0.03242 -0.59187 -0.0062 ]\n",
      " [ 0.       0.       0.       0.41342  0.11667 -0.40015]\n",
      " [ 0.       0.       0.       0.       0.      -0.11832]]\n",
      "\n",
      "\n",
      "[[ 2.78023  0.08736  0.52143 -0.18957 -0.01524  1.15184]\n",
      " [ 0.       0.24015 -0.70953  0.1057  -0.01008 -0.02113]\n",
      " [ 0.       0.2771   0.29808 -0.04534  0.10798  0.29071]\n",
      " [ 0.       0.      -0.      -0.02277 -0.48635 -0.24642]\n",
      " [ 0.       0.      -0.       0.51894  0.17186 -0.31534]\n",
      " [ 0.       0.       0.       0.       0.      -0.11832]]\n",
      "\n",
      "\n",
      "[[ 2.78023  0.38779 -0.35936 -0.14137  0.12721  1.15184]\n",
      " [ 0.       0.47907 -0.4341   0.00362  0.13551  0.25455]\n",
      " [ 0.       0.55252  0.05916 -0.08055  0.01111 -0.14199]\n",
      " [ 0.       0.       0.       0.09617 -0.40637 -0.39841]\n",
      " [ 0.       0.       0.       0.59892  0.05291 -0.03777]\n",
      " [ 0.       0.       0.       0.       0.      -0.11832]]\n",
      "\n",
      "\n",
      "[[ 2.78023 -0.3178  -0.42253  0.01176 -0.18982  1.15184]\n",
      " [ 0.       0.07561 -0.59402  0.03946 -0.07366 -0.1152 ]\n",
      " [ 0.       0.3926   0.46262  0.10209  0.08708 -0.26774]\n",
      " [ 0.       0.       0.       0.1712  -0.5225   0.31077]\n",
      " [ 0.       0.       0.       0.48279 -0.02211 -0.25216]\n",
      " [ 0.       0.       0.       0.       0.      -0.11832]]\n",
      "\n",
      "\n",
      "[[ 2.78023 -0.1064   0.51788 -0.09973 -0.16193  1.15184]\n",
      " [ 0.       0.39302 -0.67285  0.1069   0.06417 -0.12446]\n",
      " [ 0.       0.31377  0.14521 -0.0808   0.05399  0.26357]\n",
      " [ 0.       0.      -0.       0.08835 -0.60035  0.10877]\n",
      " [ 0.       0.      -0.       0.40495  0.06073 -0.38514]\n",
      " [ 0.       0.       0.       0.       0.      -0.11832]]\n",
      "\n",
      "\n",
      "[[ 2.78023  0.52552  0.05793  0.17312  0.07873  1.15184]\n",
      " [ 0.       0.18048 -0.29398  0.04832 -0.09009  0.27397]\n",
      " [ 0.       0.69264  0.35775  0.12056  0.00196  0.09949]\n",
      " [ 0.       0.      -0.      -0.01073 -0.5523   0.12464]\n",
      " [ 0.       0.      -0.       0.453    0.15981  0.38029]\n",
      " [ 0.       0.       0.       0.       0.      -0.11832]]\n",
      "\n",
      "\n",
      "[[ 2.78023 -0.11848 -0.51525  0.18134 -0.05732  1.15184]\n",
      " [ 0.       0.21446 -0.7045   0.09386 -0.04206  0.00365]\n",
      " [ 0.       0.28212  0.32377 -0.00695  0.11984 -0.29145]\n",
      " [ 0.       0.       0.       0.01624 -0.42304  0.34709]\n",
      " [ 0.       0.       0.       0.58225  0.13284  0.19923]\n",
      " [ 0.       0.       0.       0.       0.      -0.11832]]\n",
      "\n",
      "\n",
      "[[ 2.78023 -0.34462  0.40095 -0.0797   0.17268  1.15184]\n",
      " [ 0.       0.48701 -0.48285 -0.04856 -0.12705 -0.23684]\n",
      " [ 0.       0.50378  0.05122  0.07561 -0.0278   0.1699 ]\n",
      " [ 0.       0.       0.       0.15925 -0.45205 -0.38098]\n",
      " [ 0.       0.       0.       0.55324 -0.01017  0.12252]\n",
      " [ 0.       0.       0.       0.       0.      -0.11832]]\n",
      "\n",
      "\n",
      "[[ 2.78023  0.35373  0.39294 -0.04807 -0.18401  1.15184]\n",
      " [ 0.       0.06095 -0.55855 -0.02536  0.0775   0.13831]\n",
      " [ 0.       0.42807  0.47728 -0.12241 -0.05791  0.25657]\n",
      " [ 0.       0.       0.       0.14059 -0.57595  0.21653]\n",
      " [ 0.       0.       0.       0.42934  0.0085  -0.33656]\n"
     ]
    },
    {
     "name": "stdout",
     "output_type": "stream",
     "text": [
      " [ 0.       0.       0.       0.       0.      -0.11832]]\n",
      "\n",
      "\n",
      "[[ 2.78023  0.07213 -0.52376  0.14113  0.12748  1.15184]\n",
      " [ 0.       0.3684  -0.68755  0.11624  0.03646  0.10687]\n",
      " [ 0.       0.29907  0.16983 -0.07022  0.07223 -0.27118]\n",
      " [ 0.       0.       0.       0.0336  -0.59242  0.00356]\n",
      " [ 0.       0.       0.       0.41287  0.11548  0.40018]\n",
      " [ 0.       0.       0.       0.       0.      -0.11832]]\n",
      "\n",
      "\n",
      "[[ 2.78023 -0.52825  0.0218   0.18944  0.01681  1.15184]\n",
      " [ 0.       0.2438  -0.27664 -0.03271  0.10561 -0.28582]\n",
      " [ 0.       0.70998  0.29443 -0.11071  0.02252 -0.05713]\n",
      " [ 0.       0.      -0.      -0.02303 -0.48797  0.24379]\n",
      " [ 0.       0.      -0.       0.51732  0.17212  0.31737]\n",
      " [ 0.       0.       0.       0.       0.      -0.11832]]\n",
      "\n",
      "\n",
      "[[ 2.78023  0.1499   0.507    0.14259 -0.12585  1.15184]\n",
      " [ 0.       0.18898 -0.69621 -0.07125  0.06942  0.01426]\n",
      " [ 0.       0.29042  0.34925 -0.03788 -0.11687  0.29113]\n",
      " [ 0.       0.       0.       0.09432 -0.40598  0.39803]\n",
      " [ 0.       0.       0.       0.59931  0.05476  0.04159]\n",
      " [ 0.       0.       0.       0.       0.      -0.11832]]\n",
      "\n",
      "\n",
      "[[ 2.78023  0.30142 -0.43436 -0.01323  0.18972  1.15184]\n",
      " [ 0.       0.48452 -0.52779  0.08372  0.10646  0.21805]\n",
      " [ 0.       0.45884  0.05371 -0.06984  0.04206 -0.19342]\n",
      " [ 0.       0.       0.       0.17149 -0.521   -0.31271]\n",
      " [ 0.       0.       0.       0.48429 -0.02241  0.24975]\n",
      " [ 0.       0.       0.       0.       0.      -0.11832]]\n",
      "\n",
      "\n",
      "[[ 2.78023 -0.38987 -0.3571   0.09868  0.16258  1.15184]\n",
      " [ 0.       0.05231 -0.5175  -0.01501  0.07917 -0.16234]\n",
      " [ 0.       0.46912  0.48591 -0.13304 -0.02823 -0.24208]\n",
      " [ 0.       0.      -0.       0.08962 -0.60016 -0.11126]\n",
      " [ 0.       0.      -0.       0.40513  0.05947  0.38442]\n",
      " [ 0.       0.       0.       0.       0.      -0.11832]]\n",
      "\n",
      "\n",
      "[[ 2.78023 -0.039    0.52726 -0.17255 -0.07998  1.15184]\n",
      " [ 0.       0.34319 -0.69849  0.1187   0.00606 -0.08958]\n",
      " [ 0.       0.28813  0.19504 -0.05327  0.08958  0.27737]\n",
      " [ 0.       0.      -0.      -0.01    -0.55353 -0.12189]\n",
      " [ 0.       0.      -0.       0.45177  0.15909 -0.38119]\n",
      " [ 0.       0.       0.       0.       0.      -0.11832]]\n",
      "\n",
      "\n",
      "[[ 2.78023  0.51879 -0.10188  0.18186 -0.05563  1.15184]\n",
      " [ 0.       0.31011 -0.27905  0.00503 -0.11839  0.29118]\n",
      " [ 0.       0.70757  0.22812  0.09446 -0.04501  0.013  ]\n",
      " [ 0.       0.      -0.       0.01477 -0.42414  0.34521]\n",
      " [ 0.       0.      -0.       0.58115  0.13432  0.20245]\n",
      " [ 0.       0.       0.       0.       0.      -0.11832]]\n",
      "\n",
      "\n",
      "[[ 2.78023 -0.18183 -0.49645 -0.08122  0.17197  1.15184]\n",
      " [ 0.       0.16389 -0.6844  -0.04307  0.08588 -0.03274]\n",
      " [ 0.       0.30222  0.37434 -0.07841 -0.09803 -0.28963]\n",
      " [ 0.       0.      -0.       0.15834 -0.45055 -0.38205]\n",
      " [ 0.       0.      -0.       0.55474 -0.00926  0.11914]\n",
      " [ 0.       0.       0.       0.       0.      -0.11832]]\n",
      "\n",
      "\n",
      "[[ 2.78023 -0.25921  0.4608  -0.04681 -0.18433  1.15184]\n",
      " [ 0.       0.47425 -0.56753  0.10733  0.08039 -0.19888]\n",
      " [ 0.       0.41909  0.06398 -0.06355  0.05448  0.21308]\n",
      " [ 0.       0.      -0.       0.14159 -0.57504  0.21884]\n",
      " [ 0.       0.      -0.       0.43025  0.00749 -0.33506]\n",
      " [ 0.       0.       0.       0.       0.      -0.11832]]\n",
      "\n",
      "\n",
      "[[ 2.78023  0.42537  0.31399  0.14028  0.12841  1.15184]\n",
      " [ 0.       0.05206 -0.47148  0.00657 -0.08083  0.18697]\n",
      " [ 0.       0.51514  0.48617  0.13568 -0.00166  0.22361]\n",
      " [ 0.       0.      -0.       0.03479 -0.59296  0.00091]\n",
      " [ 0.       0.      -0.       0.41233  0.11429  0.4002 ]\n",
      " [ 0.       0.       0.       0.       0.      -0.11832]]\n",
      "\n",
      "\n",
      "[[ 2.78023  0.00676 -0.52866 -0.18929 -0.01838  1.15184]\n",
      " [ 0.       0.31765 -0.70599 -0.11255  0.02726  0.07248]\n",
      " [ 0.       0.28063  0.22058  0.02754 -0.10402 -0.28232]\n",
      " [ 0.       0.      -0.      -0.02326 -0.48958 -0.24116]\n",
      " [ 0.       0.      -0.       0.51571  0.17235 -0.31938]\n",
      " [ 0.       0.       0.       0.       0.      -0.11832]]\n",
      "\n",
      "\n",
      "[[ 2.78023 -0.49773  0.17829  0.14379 -0.12448  1.15184]\n",
      " [ 0.       0.37161 -0.30074  0.03264  0.12092 -0.28986]\n",
      " [ 0.       0.68588  0.16662 -0.07387  0.06201  0.03067]\n",
      " [ 0.       0.      -0.       0.09246 -0.40561  0.39761]\n",
      " [ 0.       0.      -0.       0.59968  0.05662  0.04541]\n",
      " [ 0.       0.       0.       0.       0.      -0.11832]]\n",
      "\n",
      "\n",
      "[[ 2.78023  0.21444  0.48326  0.0147  -0.18961  1.15184]\n",
      " [ 0.       0.13946 -0.66874 -0.01686  0.09113  0.05193]\n",
      " [ 0.       0.31788  0.39877 -0.10728 -0.06992  0.28681]\n",
      " [ 0.       0.       0.       0.17177 -0.51949  0.31464]\n",
      " [ 0.       0.       0.       0.4858  -0.02268 -0.24731]\n",
      " [ 0.       0.       0.       0.       0.      -0.11832]]\n",
      "\n",
      "\n",
      "[[ 2.78023  0.21853 -0.48142 -0.09762 -0.16321  1.15184]\n",
      " [ 0.       0.45845 -0.60166 -0.12148 -0.05219  0.17978]\n",
      " [ 0.       0.38497  0.07978  0.05597 -0.06614 -0.22943]\n",
      " [ 0.       0.      -0.       0.09088 -0.59996  0.11375]\n",
      " [ 0.       0.      -0.       0.40534  0.0582  -0.38369]\n",
      " [ 0.       0.       0.       0.       0.      -0.11832]]\n",
      "\n",
      "\n",
      "[[ 2.78023 -0.45884 -0.26266  0.17196  0.08123  1.15184]\n",
      " [ 0.       0.06289 -0.42218  0.00255  0.08345 -0.21158]\n",
      " [ 0.       0.56445  0.47534 -0.1303   0.03224 -0.20048]\n",
      " [ 0.       0.      -0.      -0.00925 -0.55474  0.11913]\n",
      " [ 0.       0.      -0.       0.45055  0.15834  0.38206]\n",
      " [ 0.       0.       0.       0.       0.      -0.11832]]\n",
      "\n",
      "\n",
      "[[ 2.78023  0.02484  0.52812 -0.18237  0.05394  1.15184]\n",
      " [ 0.       0.29193 -0.71026  0.09475 -0.06097 -0.05549]\n",
      " [ 0.       0.27636  0.2463   0.00782  0.1106   0.28615]\n",
      " [ 0.       0.      -0.       0.01332 -0.42526 -0.34332]\n",
      " [ 0.       0.      -0.       0.58003  0.13576 -0.20565]\n",
      " [ 0.       0.       0.       0.       0.      -0.11832]]\n",
      "\n",
      "\n",
      "[[ 2.78023  0.46709 -0.2477  -0.08275  0.17124  1.15184]\n",
      " [ 0.       0.42197 -0.33768  0.07085  0.10944  0.28248]\n",
      " [ 0.       0.64895  0.11626 -0.05398  0.07126 -0.07185]\n",
      " [ 0.       0.       0.       0.1574  -0.44907 -0.3831 ]\n",
      " [ 0.       0.       0.       0.55622 -0.00832  0.11574]\n",
      " [ 0.       0.       0.       0.       0.      -0.11832]]\n",
      "\n",
      "\n",
      "[[ 2.78023 -0.24789 -0.46698  0.04554  0.18465  1.15184]\n",
      " [ 0.       0.11613 -0.64882  0.00385  0.08929 -0.07196]\n",
      " [ 0.       0.3378   0.4221  -0.12438 -0.03911 -0.28245]\n",
      " [ 0.       0.      -0.       0.14258 -0.57411 -0.22115]\n",
      " [ 0.       0.      -0.       0.43119  0.0065   0.33355]\n",
      " [ 0.       0.       0.       0.       0.      -0.11832]]\n",
      "\n",
      "\n",
      "[[ 2.78023 -0.17958  0.49727  0.13943  0.12934  1.15184]\n",
      " [ 0.       0.4389  -0.63029 -0.12802 -0.02232 -0.16098]\n",
      " [ 0.       0.35634  0.09933  0.04552 -0.07764  0.24299]\n",
      " [ 0.       0.       0.       0.03599 -0.59347 -0.00173]\n",
      " [ 0.       0.       0.       0.41182  0.1131   0.4002 ]\n",
      " [ 0.       0.       0.       0.       0.      -0.11832]]\n",
      "\n",
      "\n",
      "[[ 2.78023  0.48834  0.20261  0.18913  0.01994  1.15184]\n",
      " [ 0.       0.0873  -0.37277 -0.01551 -0.08659  0.23521]\n",
      " [ 0.       0.61385  0.45093  0.11525 -0.063    0.17215]\n",
      " [ 0.       0.      -0.      -0.02346 -0.4912   0.23852]\n",
      " [ 0.       0.      -0.       0.51409  0.17255  0.32135]\n",
      " [ 0.       0.       0.       0.       0.      -0.11832]]\n",
      "\n",
      "\n",
      "[[ 2.78023 -0.05605 -0.52572 -0.14498  0.12309  1.15184]\n",
      " [ 0.       0.26614 -0.71144 -0.06496  0.08812  0.03846]\n",
      " [ 0.       0.27519  0.27209 -0.04812 -0.10338 -0.28893]\n",
      " [ 0.       0.      -0.       0.0906  -0.40529 -0.39716]\n",
      " [ 0.       0.      -0.       0.6      0.05849 -0.04923]\n",
      " [ 0.       0.       0.       0.       0.      -0.11832]]\n",
      "\n",
      "\n",
      "[[ 2.78023 -0.42962  0.30814 -0.01618  0.18949  1.15184]\n",
      " [ 0.       0.45786 -0.38393 -0.10094 -0.08777 -0.27029]\n",
      " [ 0.       0.60269  0.08037  0.03889 -0.07473  0.1091 ]\n",
      " [ 0.       0.       0.       0.17202 -0.51798 -0.31655]\n",
      " [ 0.       0.       0.       0.48732 -0.02293  0.24485]\n",
      " [ 0.       0.       0.       0.       0.      -0.11832]]\n",
      "\n",
      "\n",
      "[[ 2.78023  0.28225  0.44705  0.09656  0.16385  1.15184]\n",
      " [ 0.       0.09457 -0.62416 -0.01942 -0.08407  0.09297]\n",
      " [ 0.       0.36246  0.44366  0.13221  0.00814  0.27625]\n",
      " [ 0.       0.      -0.       0.09215 -0.59974 -0.11624]\n",
      " [ 0.       0.      -0.       0.40556  0.05694  0.38295]\n",
      " [ 0.       0.       0.       0.       0.      -0.11832]]\n",
      "\n",
      "\n",
      "[[ 2.78023  0.14235 -0.50918  0.17137  0.08246  1.15184]\n",
      " [ 0.       0.41685 -0.65381  0.12704 -0.00991  0.14258]\n",
      " [ 0.       0.33281  0.12138 -0.03006  0.08859 -0.25422]\n",
      " [ 0.       0.       0.      -0.0085  -0.55594  0.11638]\n",
      " [ 0.       0.       0.       0.44935  0.15758  0.3829 ]\n",
      " [ 0.       0.       0.       0.       0.      -0.11832]]\n",
      "\n",
      "\n",
      "[[ 2.78023 -0.51141 -0.13409  0.18287 -0.05225  1.15184]\n",
      " [ 0.       0.12665 -0.32811  0.03496  0.08766 -0.25649]\n",
      " [ 0.       0.65851  0.41158 -0.08893  0.09041 -0.13845]\n",
      " [ 0.       0.      -0.       0.0119  -0.42641  0.3414 ]\n",
      " [ 0.       0.      -0.       0.57888  0.13719  0.20883]\n",
      " [ 0.       0.       0.       0.       0.      -0.11832]]\n",
      "\n",
      "\n",
      "[[ 2.78023  0.0871   0.52148 -0.08427  0.17049  1.15184]\n",
      " [ 0.       0.24036 -0.70955  0.02969 -0.10198 -0.02127]\n",
      " [ 0.       0.27707  0.29787  0.08357  0.08201  0.2907 ]\n",
      " [ 0.       0.      -0.       0.15643 -0.4476  -0.38412]\n",
      " [ 0.       0.      -0.       0.55769 -0.00735  0.11232]\n",
      " [ 0.       0.       0.       0.       0.      -0.11832]]\n",
      "\n",
      "\n",
      "[[ 2.78023  0.38815 -0.35898  0.04426  0.18496  1.15184]\n",
      " [ 0.       0.47895 -0.43369  0.12082  0.06146  0.25469]\n",
      " [ 0.       0.55293  0.05928 -0.02859  0.07614 -0.14174]\n",
      " [ 0.       0.       0.       0.14357 -0.57316 -0.22345]\n",
      " [ 0.       0.       0.       0.43213  0.00552  0.33201]\n",
      " [ 0.       0.       0.       0.       0.      -0.11832]]\n",
      "\n",
      "\n",
      "[[ 2.78023 -0.3175  -0.42275  0.13858  0.13025  1.15184]\n",
      " [ 0.       0.07575 -0.59429  0.03159  0.07739 -0.11502]\n",
      " [ 0.       0.39233  0.46248 -0.13218  0.02302 -0.26782]\n",
      " [ 0.       0.      -0.       0.03719 -0.59397 -0.00436]\n",
      " [ 0.       0.      -0.       0.41132  0.1119   0.40018]\n",
      " [ 0.       0.       0.       0.       0.      -0.11832]]\n",
      "\n",
      "\n",
      "[[ 2.78023 -0.10669  0.51782  0.18896  0.02149  1.15184]\n",
      " [ 0.       0.39322 -0.67271 -0.11648  0.04455 -0.12461]\n",
      " [ 0.       0.31391  0.14501  0.00734 -0.09687  0.2635 ]\n",
      " [ 0.       0.       0.      -0.02364 -0.49281  0.23587]\n",
      " [ 0.       0.       0.       0.51248  0.17272  0.3233 ]\n",
      " [ 0.       0.       0.       0.       0.      -0.11832]]\n",
      "\n",
      "\n",
      "[[ 2.78023  0.52545  0.05858  0.14615 -0.12169  1.15184]\n",
      " [ 0.       0.17999 -0.2942  -0.0602  -0.08254  0.27385]\n",
      " [ 0.       0.69242  0.35824  0.0541  -0.10782  0.09983]\n",
      " [ 0.       0.      -0.       0.08872 -0.405    0.39667]\n",
      " [ 0.       0.      -0.       0.60029  0.06036  0.05304]\n",
      " [ 0.       0.       0.       0.       0.      -0.11832]]\n",
      "\n",
      "\n",
      "[[ 2.78023 -0.11822 -0.51531 -0.01766  0.18936  1.15184]\n",
      " [ 0.       0.21467 -0.70455  0.00233  0.10286  0.00379]\n",
      " [ 0.       0.28207  0.32356 -0.10772 -0.05292 -0.29145]\n",
      " [ 0.       0.      -0.       0.17224 -0.51645 -0.31846]\n",
      " [ 0.       0.      -0.       0.48884 -0.02316  0.24237]\n",
      " [ 0.       0.       0.       0.       0.      -0.11832]]\n",
      "\n",
      "\n",
      "[[ 2.78023 -0.34498  0.40064 -0.0955  -0.16447  1.15184]\n",
      " [ 0.       0.48699 -0.48246  0.13189  0.03322 -0.23699]\n",
      " [ 0.       0.50416  0.05124 -0.0206   0.07788  0.16968]\n",
      " [ 0.       0.      -0.       0.0934  -0.5995   0.11872]\n",
      " [ 0.       0.      -0.       0.40579  0.05568 -0.38218]\n",
      " [ 0.       0.       0.       0.       0.      -0.11832]]\n",
      "\n",
      "\n",
      "[[ 2.78023  0.35343  0.3932  -0.17078 -0.08369  1.15184]\n",
      " [ 0.       0.06105 -0.55887  0.04225  0.06976  0.13811]\n",
      " [ 0.       0.42775  0.47718 -0.12375  0.05499  0.25668]\n",
      " [ 0.       0.       0.      -0.00772 -0.55713 -0.11362]\n",
      " [ 0.       0.       0.       0.44816  0.15681 -0.38373]\n",
      " [ 0.       0.       0.       0.       0.      -0.11832]]\n",
      "\n",
      "\n",
      "[[ 2.78023  0.07241 -0.52372 -0.18334  0.05055  1.15184]\n",
      " [ 0.       0.36861 -0.68745 -0.09318  0.07851  0.10701]\n",
      " [ 0.       0.29918  0.16962 -0.02325 -0.09799 -0.27112]\n",
      " [ 0.       0.      -0.       0.0105  -0.42758 -0.33945]\n",
      " [ 0.       0.      -0.       0.57771  0.13859 -0.21198]\n",
      " [ 0.       0.       0.       0.       0.      -0.11832]]\n",
      "\n",
      "\n",
      "[[ 2.78023 -0.52828  0.02113  0.08579 -0.16973  1.15184]\n",
      " [ 0.       0.24325 -0.2767   0.08601  0.06937 -0.28575]\n",
      " [ 0.       0.70992  0.29498 -0.01999  0.11127 -0.05749]\n",
      " [ 0.       0.      -0.       0.15544 -0.44615  0.3851 ]\n",
      " [ 0.       0.      -0.       0.55915 -0.00635 -0.10888]\n",
      " [ 0.       0.       0.       0.       0.      -0.11832]]\n",
      "\n",
      "\n",
      "[[ 2.78023  0.14964  0.50708 -0.04298 -0.18526  1.15184]\n",
      " [ 0.       0.18919 -0.69629  0.02729  0.09569  0.01411]\n",
      " [ 0.       0.29033  0.34904 -0.12082 -0.02216  0.29113]\n",
      " [ 0.       0.       0.       0.14454 -0.5722   0.22574]\n",
      " [ 0.       0.       0.       0.4331   0.00455 -0.33045]\n",
      " [ 0.       0.       0.       0.       0.      -0.11832]]\n",
      "\n",
      "\n",
      "[[ 2.78023  0.30177 -0.43412  0.13772  0.13116  1.15184]\n",
      " [ 0.       0.48457 -0.52744  0.1354   0.00332  0.21821]\n",
      " [ 0.       0.45919  0.05366 -0.01202  0.08062 -0.19324]\n",
      " [ 0.       0.       0.       0.03839 -0.59446 -0.007  ]\n",
      " [ 0.       0.       0.       0.41083  0.11069  0.40014]\n",
      " [ 0.       0.       0.       0.       0.      -0.11832]]\n",
      "\n",
      "\n",
      "[[ 2.78023 -0.38958 -0.35743 -0.18878 -0.02304  1.15184]\n",
      " [ 0.       0.05236 -0.51786 -0.05301 -0.06069 -0.16214]\n",
      " [ 0.       0.46876  0.48587  0.10444 -0.08711 -0.24222]\n",
      " [ 0.       0.       0.      -0.02378 -0.49442 -0.23321]\n",
      " [ 0.       0.       0.       0.51087  0.17287 -0.32522]\n",
      " [ 0.       0.       0.       0.       0.      -0.11832]]\n",
      "\n",
      "\n",
      "[[ 2.78023 -0.03927  0.52724  0.14732 -0.12028  1.15184]\n",
      " [ 0.       0.3434  -0.69842 -0.05727  0.10417 -0.08972]\n",
      " [ 0.       0.28821  0.19483 -0.05735 -0.08699  0.27732]\n",
      " [ 0.       0.       0.       0.08684 -0.40474  0.39614]\n",
      " [ 0.       0.       0.       0.60055  0.06224  0.05685]\n",
      " [ 0.       0.       0.       0.       0.      -0.11832]]\n",
      "\n",
      "\n"
     ]
    },
    {
     "name": "stdout",
     "output_type": "stream",
     "text": [
      "[[ 2.78023  0.51892 -0.10123 -0.01914  0.18922  1.15184]\n",
      " [ 0.       0.30957 -0.27895  0.10719  0.05036  0.29117]\n",
      " [ 0.       0.70767  0.22866  0.00505  0.10458  0.01337]\n",
      " [ 0.       0.       0.       0.17245 -0.51492 -0.32035]\n",
      " [ 0.       0.       0.       0.49037 -0.02336  0.23987]\n",
      " [ 0.       0.       0.       0.       0.      -0.11832]]\n",
      "\n",
      "\n",
      "[[ 2.78023 -0.18156 -0.49655 -0.09442 -0.16509  1.15184]\n",
      " [ 0.       0.16409 -0.68451 -0.04578 -0.08449 -0.03258]\n",
      " [ 0.       0.30211  0.37414  0.12525 -0.00816 -0.28965]\n",
      " [ 0.       0.       0.       0.09466 -0.59924  0.12121]\n",
      " [ 0.       0.       0.       0.40605  0.05442 -0.3814 ]\n",
      " [ 0.       0.       0.       0.       0.      -0.11832]]\n",
      "\n",
      "\n",
      "[[ 2.78023 -0.25955  0.4606  -0.17017 -0.08491  1.15184]\n",
      " [ 0.       0.47436 -0.56723  0.13097 -0.02886 -0.19904]\n",
      " [ 0.       0.4194   0.06387 -0.00013  0.08368  0.21293]\n",
      " [ 0.       0.      -0.      -0.00693 -0.5583  -0.11087]\n",
      " [ 0.       0.      -0.       0.44699  0.15602 -0.38454]\n",
      " [ 0.       0.       0.       0.       0.      -0.11832]]\n",
      "\n",
      "\n",
      "[[ 2.78023  0.42508  0.31437  0.1838  -0.04885  1.15184]\n",
      " [ 0.       0.05202 -0.47188 -0.06458 -0.04903  0.18676]\n",
      " [ 0.       0.51475  0.4862   0.07173 -0.11519  0.22378]\n",
      " [ 0.       0.      -0.       0.00912 -0.42878  0.33748]\n",
      " [ 0.       0.      -0.       0.57651  0.13997  0.2151 ]\n",
      " [ 0.       0.       0.       0.       0.      -0.11832]]\n",
      "\n",
      "\n",
      "[[ 2.78023  0.00702 -0.52865 -0.08731  0.16896  1.15184]\n",
      " [ 0.       0.31786 -0.70594 -0.01641  0.11466  0.07263]\n",
      " [ 0.       0.28068  0.22037 -0.08638 -0.06412 -0.28228]\n",
      " [ 0.       0.      -0.       0.15441 -0.44471 -0.38606]\n",
      " [ 0.       0.      -0.       0.56059 -0.00533  0.10542]\n",
      " [ 0.       0.       0.       0.       0.      -0.11832]]\n",
      "\n",
      "\n",
      "[[ 2.78023 -0.49795  0.17768  0.04169  0.18556  1.15184]\n",
      " [ 0.       0.37114 -0.30049 -0.12196 -0.02831 -0.28989]\n",
      " [ 0.       0.68613  0.16709 -0.01986 -0.09445  0.03032]\n",
      " [ 0.       0.       0.       0.14549 -0.57122 -0.22803]\n",
      " [ 0.       0.       0.       0.43407  0.00359  0.32888]\n",
      " [ 0.       0.       0.       0.       0.      -0.11832]]\n",
      "\n",
      "\n",
      "[[ 2.78023  0.21417  0.48338 -0.13685 -0.13206  1.15184]\n",
      " [ 0.       0.13965 -0.66889  0.05961  0.07101  0.05176]\n",
      " [ 0.       0.31773  0.39858 -0.12219  0.03825  0.28684]\n",
      " [ 0.       0.       0.       0.0396  -0.59492  0.00963]\n",
      " [ 0.       0.       0.       0.41037  0.10948 -0.40008]\n",
      " [ 0.       0.       0.       0.       0.      -0.11832]]\n",
      "\n",
      "\n",
      "[[ 2.78023  0.21886 -0.48127  0.18859  0.02458  1.15184]\n",
      " [ 0.       0.4586  -0.6014   0.11625 -0.06303  0.17994]\n",
      " [ 0.       0.38523  0.07963  0.01729  0.08488 -0.22931]\n",
      " [ 0.       0.       0.      -0.02391 -0.49603  0.23055]\n",
      " [ 0.       0.       0.       0.50927  0.17299  0.32712]\n",
      " [ 0.       0.       0.       0.       0.      -0.11832]]\n",
      "\n",
      "\n",
      "[[ 2.78023 -0.45858 -0.26312 -0.14846  0.11886  1.15184]\n",
      " [ 0.       0.06275 -0.42259 -0.07613 -0.03421 -0.21138]\n",
      " [ 0.       0.56403  0.47548  0.02815 -0.13126 -0.20069]\n",
      " [ 0.       0.       0.       0.08496 -0.40453 -0.39558]\n",
      " [ 0.       0.       0.       0.60077  0.06413 -0.06066]\n",
      " [ 0.       0.       0.       0.       0.      -0.11832]]\n",
      "\n",
      "\n",
      "[[ 2.78023  0.02458  0.52813 -0.02063  0.18906  1.15184]\n",
      " [ 0.       0.29215 -0.71024 -0.01973 -0.11096 -0.05563]\n",
      " [ 0.       0.27639  0.24608  0.10504  0.03542  0.28612]\n",
      " [ 0.       0.      -0.       0.17263 -0.51338 -0.32222]\n",
      " [ 0.       0.      -0.       0.49191 -0.02354  0.23734]\n",
      " [ 0.       0.       0.       0.       0.      -0.11832]]\n",
      "\n",
      "\n",
      "[[ 2.78023  0.46737 -0.24716 -0.09335 -0.1657   1.15184]\n",
      " [ 0.       0.42161 -0.33733 -0.13027 -0.00421  0.28256]\n",
      " [ 0.       0.6493   0.11662 -0.02784 -0.085   -0.07152]\n",
      " [ 0.       0.      -0.       0.09592 -0.59898  0.12368]\n",
      " [ 0.       0.      -0.       0.40632  0.05317 -0.38061]\n",
      " [ 0.       0.       0.       0.       0.      -0.11832]]\n",
      "\n",
      "\n",
      "[[ 2.78023 -0.24761 -0.46713 -0.16956 -0.08613  1.15184]\n",
      " [ 0.       0.11632 -0.649   -0.07019 -0.05537 -0.0718 ]\n",
      " [ 0.       0.33762  0.42191  0.11081 -0.06868 -0.28249]\n",
      " [ 0.       0.       0.      -0.00613 -0.55946 -0.10812]\n",
      " [ 0.       0.       0.       0.44583  0.15521 -0.38532]\n",
      " [ 0.       0.       0.       0.       0.      -0.11832]]\n",
      "\n",
      "\n",
      "[[ 2.78023 -0.1799   0.49715  0.18424 -0.04716  1.15184]\n",
      " [ 0.       0.43907 -0.63007 -0.08807  0.09558 -0.16113]\n",
      " [ 0.       0.35655  0.09916 -0.04067 -0.08026  0.24289]\n",
      " [ 0.       0.       0.       0.00777 -0.43     0.33548]\n",
      " [ 0.       0.       0.       0.57529  0.14132  0.21821]\n",
      " [ 0.       0.       0.       0.       0.      -0.11832]]\n",
      "\n",
      "\n",
      "[[ 2.78023  0.48812  0.20314  0.08883 -0.16816  1.15184]\n",
      " [ 0.       0.08704 -0.37317 -0.08613 -0.01765  0.23502]\n",
      " [ 0.       0.61346  0.45119 -0.01572 -0.13043  0.1724 ]\n",
      " [ 0.       0.      -0.       0.15336 -0.44328  0.387  ]\n",
      " [ 0.       0.      -0.       0.56201 -0.00427 -0.10195]\n",
      " [ 0.       0.       0.       0.       0.      -0.11832]]\n",
      "\n",
      "\n",
      "[[ 2.78023 -0.05579 -0.52575 -0.0404  -0.18584  1.15184]\n",
      " [ 0.       0.26636 -0.71144 -0.04725 -0.09878  0.0386 ]\n",
      " [ 0.       0.27518  0.27187  0.11384  0.00613 -0.28891]\n",
      " [ 0.       0.       0.       0.14644 -0.57022  0.23031]\n",
      " [ 0.       0.       0.       0.43507  0.00265 -0.32729]\n",
      " [ 0.       0.       0.       0.       0.      -0.11832]]\n",
      "\n",
      "\n",
      "[[ 2.78023 -0.42995  0.30768  0.13598  0.13296  1.15184]\n",
      " [ 0.       0.45762 -0.38353 -0.13189  0.0222  -0.2704 ]\n",
      " [ 0.       0.60309  0.08061 -0.0331  -0.0775   0.10882]\n",
      " [ 0.       0.       0.       0.04082 -0.59538 -0.01225]\n",
      " [ 0.       0.       0.       0.40992  0.10827  0.40001]\n",
      " [ 0.       0.       0.       0.       0.      -0.11832]]\n",
      "\n",
      "\n",
      "[[ 2.78023  0.28197  0.44723  0.18838  0.02611  1.15184]\n",
      " [ 0.       0.09474 -0.62438 -0.078   -0.03695  0.09279]\n",
      " [ 0.       0.36224  0.44349  0.08846 -0.09857  0.27631]\n",
      " [ 0.       0.      -0.      -0.024   -0.49763  0.22788]\n",
      " [ 0.       0.      -0.       0.50766  0.17309  0.32898]\n",
      " [ 0.       0.       0.       0.       0.      -0.11832]]\n",
      "\n",
      "\n",
      "[[ 2.78023  0.14265 -0.50909  0.1496  -0.11743  1.15184]\n",
      " [ 0.       0.41704 -0.65364  0.0471  -0.11842  0.14273]\n",
      " [ 0.       0.33298  0.12119  0.06627  0.06599 -0.25414]\n",
      " [ 0.       0.       0.       0.08307 -0.40434  0.39497]\n",
      " [ 0.       0.       0.       0.60095  0.06602  0.06446]\n",
      " [ 0.       0.       0.       0.       0.      -0.11832]]\n",
      "\n",
      "\n",
      "[[ 2.78023 -0.51126 -0.13469  0.02212 -0.18889  1.15184]\n",
      " [ 0.       0.12626 -0.32845  0.0943   0.00131 -0.25633]\n",
      " [ 0.       0.65818  0.41197  0.04936  0.11687 -0.13875]\n",
      " [ 0.       0.      -0.       0.17279 -0.51183  0.32409]\n",
      " [ 0.       0.      -0.       0.49346 -0.0237  -0.23479]\n",
      " [ 0.       0.       0.       0.       0.      -0.11832]]\n",
      "\n",
      "\n",
      "[[ 2.78023  0.08684  0.52152 -0.09227 -0.1663   1.15184]\n",
      " [ 0.       0.24057 -0.70958  0.06704  0.08242 -0.02141]\n",
      " [ 0.       0.27704  0.29766 -0.11495  0.02211  0.29069]\n",
      " [ 0.       0.       0.       0.09717 -0.59869  0.12616]\n",
      " [ 0.       0.       0.       0.4066   0.05192 -0.37979]\n",
      " [ 0.       0.       0.       0.       0.      -0.11832]]\n",
      "\n",
      "\n",
      "[[ 2.78023  0.3885  -0.3586  -0.16894 -0.08733  1.15184]\n",
      " [ 0.       0.47884 -0.43328 -0.12542  0.05138  0.25483]\n",
      " [ 0.       0.55335  0.05939 -0.03909 -0.07134 -0.14149]\n",
      " [ 0.       0.      -0.      -0.00531 -0.56061 -0.10537]\n",
      " [ 0.       0.      -0.       0.44468  0.1544  -0.38608]\n",
      " [ 0.       0.       0.       0.       0.      -0.11832]]\n",
      "\n",
      "\n",
      "[[ 2.78023 -0.31721 -0.42297  0.18467 -0.04546  1.15184]\n",
      " [ 0.       0.07589 -0.59456  0.08216  0.01549 -0.11483]\n",
      " [ 0.       0.39206  0.46234 -0.05251  0.12346 -0.2679 ]\n",
      " [ 0.       0.      -0.       0.00644 -0.43124  0.33346]\n",
      " [ 0.       0.      -0.       0.57405  0.14264  0.22128]\n",
      " [ 0.       0.       0.       0.       0.      -0.11832]]\n",
      "\n",
      "\n",
      "[[ 2.78023 -0.10698  0.51776 -0.09034  0.16736  1.15184]\n",
      " [ 0.       0.39342 -0.67257  0.002   -0.12471 -0.12475]\n",
      " [ 0.       0.31405  0.14481  0.08717  0.04283  0.26343]\n",
      " [ 0.       0.      -0.       0.15228 -0.44187 -0.3879 ]\n",
      " [ 0.       0.      -0.       0.56342 -0.00319  0.09846]\n",
      " [ 0.       0.       0.       0.       0.      -0.11832]]\n",
      "\n",
      "\n",
      "[[ 2.78023  0.52537  0.05922  0.0391   0.18612  1.15184]\n",
      " [ 0.       0.1795  -0.29442  0.10104 -0.01467  0.27372]\n",
      " [ 0.       0.6922   0.35873  0.07007  0.09826  0.10016]\n",
      " [ 0.       0.       0.       0.14738 -0.56921 -0.23259]\n",
      " [ 0.       0.       0.       0.43608  0.00171  0.32567]\n",
      " [ 0.       0.       0.       0.       0.      -0.11832]]\n",
      "\n",
      "\n",
      "[[ 2.78023 -0.11797 -0.51537 -0.13511 -0.13385  1.15184]\n",
      " [ 0.       0.21488 -0.70461 -0.08101 -0.06347  0.00394]\n",
      " [ 0.       0.28201  0.32335  0.10923 -0.04967 -0.29145]\n",
      " [ 0.       0.       0.       0.04204 -0.59581  0.01488]\n",
      " [ 0.       0.       0.       0.40948  0.10705 -0.39992]\n",
      " [ 0.       0.       0.       0.       0.      -0.11832]]\n",
      "\n",
      "\n",
      "[[ 2.78023 -0.34534  0.40033 -0.18816 -0.02764  1.15184]\n",
      " [ 0.       0.48697 -0.48207  0.10806 -0.0826  -0.23714]\n",
      " [ 0.       0.50455  0.05126  0.04823  0.06453  0.16947]\n",
      " [ 0.       0.      -0.      -0.02407 -0.49923 -0.2252 ]\n",
      " [ 0.       0.      -0.       0.50606  0.17316 -0.33082]\n",
      " [ 0.       0.       0.       0.       0.      -0.11832]]\n",
      "\n",
      "\n",
      "[[ 2.78023  0.35313  0.39347 -0.15072  0.11598  1.15184]\n",
      " [ 0.       0.06115 -0.55918  0.08127 -0.00705  0.13792]\n",
      " [ 0.       0.42744  0.47708 -0.0055   0.13529  0.25678]\n",
      " [ 0.       0.       0.       0.08118 -0.4042  -0.39434]\n",
      " [ 0.       0.       0.       0.60109  0.06791 -0.06826]\n",
      " [ 0.       0.       0.       0.       0.      -0.11832]]\n",
      "\n",
      "\n"
     ]
    }
   ],
   "source": [
    "Ak, Q = pure_qr(A)"
   ]
  },
  {
   "cell_type": "markdown",
   "metadata": {},
   "source": [
    "Let's compare to the eigenvalues:"
   ]
  },
  {
   "cell_type": "code",
   "execution_count": 469,
   "metadata": {},
   "outputs": [
    {
     "data": {
      "text/plain": [
       "array([ 2.78023+0.j     , -0.11832+0.j     ,  0.26911+0.44246j,\n",
       "        0.26911-0.44246j,  0.07454+0.49287j,  0.07454-0.49287j])"
      ]
     },
     "execution_count": 469,
     "metadata": {},
     "output_type": "execute_result"
    }
   ],
   "source": [
    "np.linalg.eigvals(A)"
   ]
  },
  {
   "cell_type": "markdown",
   "metadata": {},
   "source": [
    "Check that Q is orthogonal:"
   ]
  },
  {
   "cell_type": "code",
   "execution_count": 476,
   "metadata": {},
   "outputs": [
    {
     "data": {
      "text/plain": [
       "(True, True)"
      ]
     },
     "execution_count": 476,
     "metadata": {},
     "output_type": "execute_result"
    }
   ],
   "source": [
    "np.allclose(np.eye(n), Q @ Q.T), np.allclose(np.eye(n), Q.T @ Q)"
   ]
  },
  {
   "cell_type": "markdown",
   "metadata": {},
   "source": [
    "This is really really slow."
   ]
  },
  {
   "cell_type": "markdown",
   "metadata": {
    "heading_collapsed": true
   },
   "source": [
    "#### Practical QR (QR with shifts)"
   ]
  },
  {
   "cell_type": "markdown",
   "metadata": {
    "hidden": true
   },
   "source": [
    "**Idea**: Instead of factoring $A_k$ as $Q_k R_k$, \n",
    "\n",
    "1. Get the QR factorization $$A_k - s_k I = Q_k R_k$$\n",
    "2. Set $$A_{k+1} = R_k Q_k + s_k I$$\n",
    "\n",
    "Choose $s_k$ to approximate an eigenvalue of $A$.  We'll use $s_k = A_k(m,m)$. \n",
    "\n",
    "The idea of adding shifts to speed up convergence shows up in many algorithms in numerical linear algebra (including the power method, inverse iteration, and Rayleigh quotient iteration).   "
   ]
  },
  {
   "cell_type": "markdown",
   "metadata": {},
   "source": [
    "#### Homework: Add shifts to the QR algorithm"
   ]
  },
  {
   "cell_type": "code",
   "execution_count": 460,
   "metadata": {
    "collapsed": true
   },
   "outputs": [],
   "source": [
    "#Exercise: Add shifts to the QR algorithm\n",
    "#Exercise: def practical_qr(A, iters=10):\n",
    "#Exercise:     return Ak, Q\n"
   ]
  },
  {
   "cell_type": "markdown",
   "metadata": {},
   "source": [
    "#### Practical QR"
   ]
  },
  {
   "cell_type": "code",
   "execution_count": 204,
   "metadata": {},
   "outputs": [
    {
     "name": "stdout",
     "output_type": "stream",
     "text": [
      "[ 5.16264  2.53603  0.31923  0.35315  0.97569  0.43615]\n",
      "[ 7.99381  0.05922  0.34478  0.29482  0.79026  0.29999]\n",
      "[ 8.00491  0.04358  0.89735  0.26386  0.26182  0.31135]\n",
      "[ 8.00493  0.13648  0.91881  0.14839  0.24313  0.33115]\n",
      "[ 8.00493  0.43377  0.62809  0.13429  0.24592  0.33589]\n",
      "[ 8.00493  0.81058  0.25128  0.13297  0.24722  0.3359 ]\n",
      "[ 8.00493  0.98945  0.07221  0.13292  0.24747  0.3359 ]\n",
      "[ 8.00493  1.0366   0.02497  0.13296  0.24751  0.3359 ]\n",
      "[ 8.00493  1.04688  0.01465  0.13299  0.24752  0.3359 ]\n",
      "[ 8.00493  1.04902  0.0125   0.13301  0.24753  0.3359 ]\n"
     ]
    }
   ],
   "source": [
    "Ak, Q = practical_qr(A, 10)"
   ]
  },
  {
   "cell_type": "markdown",
   "metadata": {},
   "source": [
    "Check that Q is orthogonal:"
   ]
  },
  {
   "cell_type": "code",
   "execution_count": 201,
   "metadata": {},
   "outputs": [
    {
     "data": {
      "text/plain": [
       "(True, True)"
      ]
     },
     "execution_count": 201,
     "metadata": {},
     "output_type": "execute_result"
    }
   ],
   "source": [
    "np.allclose(np.eye(n), Q @ Q.T), np.allclose(np.eye(n), Q.T @ Q)"
   ]
  },
  {
   "cell_type": "markdown",
   "metadata": {},
   "source": [
    "Let's compare to the eigenvalues:"
   ]
  },
  {
   "cell_type": "code",
   "execution_count": 196,
   "metadata": {},
   "outputs": [
    {
     "data": {
      "text/plain": [
       "array([ 2.68500+0.j     ,  0.19274+0.41647j,  0.19274-0.41647j,\n",
       "       -0.35988+0.43753j, -0.35988-0.43753j, -0.18346+0.j     ])"
      ]
     },
     "execution_count": 196,
     "metadata": {},
     "output_type": "execute_result"
    }
   ],
   "source": [
    "np.linalg.eigvals(A)"
   ]
  },
  {
   "cell_type": "markdown",
   "metadata": {},
   "source": [
    "**Problem**: This is better than the unshifted version (which wasn't even guaranteed to converge), but is still really slow!  In fact, it is $\\mathcal{O}(n^4)$, which is awful."
   ]
  },
  {
   "cell_type": "markdown",
   "metadata": {},
   "source": [
    "In the case of symmetric matrices, it's $\\mathcal{O}(n^3)$"
   ]
  },
  {
   "cell_type": "markdown",
   "metadata": {},
   "source": [
    "However, if you start with a **Hessenberg matrix** (zeros below the first subdiagonal), it's faster: $\\mathcal{O}(n^3)$, and $\\mathcal{O}(n^2)$ if symmetric."
   ]
  },
  {
   "cell_type": "markdown",
   "metadata": {
    "heading_collapsed": true
   },
   "source": [
    "## A Two-Phase Approach"
   ]
  },
  {
   "cell_type": "markdown",
   "metadata": {
    "hidden": true
   },
   "source": [
    "In practice, a two phase approach is used to find eigenvalues:\n",
    "\n",
    "1. Reduce the matrix to *Hessenberg* form (zeros below the first subdiagonal)\n",
    "2. Iterative process that causes Hessenberg to converge to a *triangular* matrix.  The eigenvalues of a triangular matrix are the values on the diagonal, so we are finished!\n",
    "\n",
    "<img src=\"images/nonhermitian_eigen.JPG\" alt=\"2 phase approach\" style=\"width: 80%\"/>\n",
    "(source: Trefethen, Lecture 25)\n",
    "\n",
    "In the case of a Hermitian matrix, this approach is even faster, since the intermediate step is also Hermitian (and a Hermitian Hessenberg is *tridiagonal*).\n",
    "\n",
    "<img src=\"images/hermitian_eigen.JPG\" alt=\"2 phase approach\" style=\"width: 80%\"/>\n",
    "(source: Trefethen, Lecture 25)\n",
    "\n",
    "Phase 1 reaches an exact solution in a finite number of steps, whereas Phase 2 theoretically never reaches the exact solution.\n",
    "\n",
    "We've already done step 2: the QR algorithm.  Remember that it would be possible to just use the QR algorithm, but ridiculously slow."
   ]
  },
  {
   "cell_type": "markdown",
   "metadata": {
    "heading_collapsed": true
   },
   "source": [
    "## Arnoldi Iteration"
   ]
  },
  {
   "cell_type": "markdown",
   "metadata": {
    "hidden": true
   },
   "source": [
    "We can use the Arnoldi iteration for phase 1 (and the QR algorithm for phase 2)."
   ]
  },
  {
   "cell_type": "markdown",
   "metadata": {
    "hidden": true
   },
   "source": [
    "#### Initializations"
   ]
  },
  {
   "cell_type": "code",
   "execution_count": 459,
   "metadata": {
    "collapsed": true,
    "hidden": true
   },
   "outputs": [],
   "source": [
    "import numpy as np\n",
    "n = 5\n",
    "A0 = np.random.rand(n,n)  #.astype(np.float64)\n",
    "A = A0 @ A0.T\n",
    "\n",
    "np.set_printoptions(precision=5, suppress=True)"
   ]
  },
  {
   "cell_type": "markdown",
   "metadata": {
    "hidden": true
   },
   "source": [
    "### Linear Algebra Review: Projections"
   ]
  },
  {
   "cell_type": "markdown",
   "metadata": {
    "hidden": true
   },
   "source": [
    "When vector $\\mathbf{b}$ is projected onto a line $\\mathbf{a}$, its projection $\\mathbf{p}$ is the part of $\\mathbf{b}$ along that line $\\mathbf{a}$.\n",
    "\n",
    "Let's look at interactive graphic (3.4) for [section 3.2.2: Projections](http://immersivemath.com/ila/ch03_dotproduct/ch03.html) of the [Immersive Linear Algebra online book](http://immersivemath.com/ila/index.html).\n",
    "\n",
    "<img src=\"images/projection_line.png\" alt=\"projection\" style=\"width: 70%\"/>\n",
    "(source: [Immersive Math](http://immersivemath.com/ila/ch03_dotproduct/ch03.html))\n",
    "\n",
    "And here is what it looks like to project a vector onto a plane:\n",
    "\n",
    "<img src=\"images/projection.png\" alt=\"projection\" style=\"width: 70%\"/>\n",
    "(source: [The Linear Algebra View of Least-Squares Regression](https://medium.com/@andrew.chamberlain/the-linear-algebra-view-of-least-squares-regression-f67044b7f39b))\n",
    "\n",
    "When vector $\\mathbf{b}$ is projected onto a line $\\mathbf{a}$, its projection $\\mathbf{p}$ is the part of $\\mathbf{b}$ along that line $\\mathbf{a}$.  So $\\mathbf{p}$ is some multiple of $\\mathbf{a}$. Let $\\mathbf{p} = \\hat{x}\\mathbf{a}$ where $\\hat{x}$ is a scalar."
   ]
  },
  {
   "cell_type": "markdown",
   "metadata": {
    "hidden": true
   },
   "source": [
    "#### Orthogonality"
   ]
  },
  {
   "cell_type": "markdown",
   "metadata": {
    "hidden": true
   },
   "source": [
    "**The key to projection is orthogonality:** The line *from* $\\mathbf{b}$ to $\\mathbf{p}$ (which can be written $\\mathbf{b} - \\hat{x}\\mathbf{a}$) is perpendicular to $\\mathbf{a}$.\n",
    "\n",
    "This means that $$ \\mathbf{a} \\cdot (\\mathbf{b} -  \\hat{x}\\mathbf{a}) = 0 $$\n",
    "\n",
    "and so $$\\hat{x} = \\frac{\\mathbf{a} \\cdot \\mathbf{b}}{\\mathbf{a} \\cdot \\mathbf{a}} $$"
   ]
  },
  {
   "cell_type": "markdown",
   "metadata": {
    "hidden": true
   },
   "source": [
    "### The Algorithm"
   ]
  },
  {
   "cell_type": "markdown",
   "metadata": {
    "hidden": true
   },
   "source": [
    "**Motivation**:\n",
    "\n",
    "We want orthonormal columns in $Q$ and a Hessenberg $H$ such that $A Q = Q H$.\n",
    "\n",
    "Thinking about it iteratively, $$ A Q_n = Q_{n+1} H_n $$ where $Q_{n+1}$ is $n\\times n+1$ and $H_n$ is $n+1 \\times n$.  This creates a solvable recurrence relation.\n",
    "\n",
    "<img src=\"images/arnoldi.jpg\" alt=\"arnoldi\" style=\"width: 95%\"/>\n",
    "(source: Trefethen, Lecture 33)"
   ]
  },
  {
   "cell_type": "markdown",
   "metadata": {
    "hidden": true
   },
   "source": [
    "**Pseudo-code for Arnoldi Algorithm**\n",
    "\n",
    "    Start with an arbitrary vector (normalized to have norm 1) for first col of Q\n",
    "    for n=1,2,3...\n",
    "        v = A @ nth col of Q\n",
    "        for j=1,...n\n",
    "            project v onto q_j, and subtract the projection off of v\n",
    "            want to capture part of v that isn't already spanned by prev columns of Q\n",
    "            store coefficients in H\n",
    "        normalize v, and then make it the (n+1)th column of Q"
   ]
  },
  {
   "cell_type": "markdown",
   "metadata": {
    "hidden": true
   },
   "source": [
    "Notice that we are multiplying A by the previous vector in Q and removing the components that are not orthogonal to the existing columns of Q.\n",
    "\n",
    "**Question:** Repeated multiplications of A?  Does this remind you of anything?"
   ]
  },
  {
   "cell_type": "markdown",
   "metadata": {
    "heading_collapsed": true,
    "hidden": true
   },
   "source": [
    "#### Answer:"
   ]
  },
  {
   "cell_type": "code",
   "execution_count": null,
   "metadata": {
    "collapsed": true,
    "hidden": true
   },
   "outputs": [],
   "source": [
    "#Exercise Answer\n",
    "The *Power Method* involved iterative multiplications by A as well!  "
   ]
  },
  {
   "cell_type": "markdown",
   "metadata": {
    "hidden": true
   },
   "source": [
    "### About how the Arnoldi Iteration works"
   ]
  },
  {
   "cell_type": "markdown",
   "metadata": {
    "hidden": true
   },
   "source": [
    "- With the Arnoldi Iteration, we are finding an orthonormal basis for the *Krylov subspace*. \n",
    "The Krylov matrix $$ K = \\left[b \\; Ab \\; A^2b \\; \\dots \\; A^{n-1}b \\right]$$\n",
    "has a QR factorization\n",
    "$$K = QR$$\n",
    "and that is the same $Q$ that is being found in the Arnoldi Iteration.  Note that the Arnoldi Iteration does not explicity calculate $K$ or $R$.\n",
    "\n",
    "- Intuition: K contains good information about the largest eigenvalues of A, and the QR factorization reveals this information by peeling off one approximate eigenvector at a time.\n"
   ]
  },
  {
   "cell_type": "markdown",
   "metadata": {
    "hidden": true
   },
   "source": [
    "The Arnoldi Iteration is two things:\n",
    "1. the basis of many of the iterative algorithms of numerical linear algebra\n",
    "2. a technique for finding eigenvalues of nonhermitian matrices\n",
    "(Trefethen, page 257)\n",
    "\n",
    "**How Arnoldi Locates Eigenvalues**\n",
    "\n",
    "1. Carry out Arnoldi iteration\n",
    "2. Periodically calculate the eigenvalues (called *Arnoldi estimates* or *Ritz values*) of the Hessenberg H, using the QR algorithm\n",
    "3. Check at whether these values are converging.  If they are, they're probably eigenvalues of A."
   ]
  },
  {
   "cell_type": "markdown",
   "metadata": {
    "hidden": true
   },
   "source": [
    "### Implementation"
   ]
  },
  {
   "cell_type": "code",
   "execution_count": 246,
   "metadata": {
    "collapsed": true,
    "hidden": true
   },
   "outputs": [],
   "source": [
    "# Decompose square matrix A @ Q ~= Q @ H\n",
    "def arnoldi(A):\n",
    "    m, n = A.shape\n",
    "    assert(n <= m)\n",
    "    \n",
    "    # Hessenberg matrix\n",
    "    H = np.zeros([n+1,n]) #, dtype=np.float64)\n",
    "    # Orthonormal columns\n",
    "    Q = np.zeros([m,n+1]) #, dtype=np.float64)\n",
    "    # 1st col of Q is a random column with unit norm\n",
    "    b = np.random.rand(m)\n",
    "    Q[:,0] = b / np.linalg.norm(b)\n",
    "    for j in range(n):\n",
    "        v = A @ Q[:,j]\n",
    "        for i in range(j+1):\n",
    "            #This comes from the formula for projection of v onto q.\n",
    "            #Since columns q are orthonormal, q dot q = 1\n",
    "            H[i,j] = np.dot(Q[:,i], v)\n",
    "            v = v - (H[i,j] * Q[:,i])\n",
    "        H[j+1,j] = np.linalg.norm(v)\n",
    "        Q[:,j+1] = v / H[j+1,j]\n",
    "        \n",
    "        # printing this to see convergence, would be slow to use in practice\n",
    "        print(np.linalg.norm(A @ Q[:,:-1] - Q @ H))\n",
    "    return Q[:,:-1], H[:-1,:]"
   ]
  },
  {
   "cell_type": "code",
   "execution_count": 86,
   "metadata": {
    "hidden": true
   },
   "outputs": [
    {
     "name": "stdout",
     "output_type": "stream",
     "text": [
      "8.59112969133\n",
      "4.45398729097\n",
      "0.935693639985\n",
      "3.36613943339\n",
      "0.817740180293\n"
     ]
    }
   ],
   "source": [
    "Q, H = arnoldi(A)"
   ]
  },
  {
   "cell_type": "markdown",
   "metadata": {
    "hidden": true
   },
   "source": [
    "Check that H is tri-diagonal:"
   ]
  },
  {
   "cell_type": "code",
   "execution_count": 70,
   "metadata": {
    "hidden": true
   },
   "outputs": [
    {
     "data": {
      "text/plain": [
       "array([[ 5.62746,  4.05085, -0.     ,  0.     , -0.     ],\n",
       "       [ 4.05085,  3.07109,  0.33036,  0.     , -0.     ],\n",
       "       [ 0.     ,  0.33036,  0.98297,  0.11172, -0.     ],\n",
       "       [ 0.     ,  0.     ,  0.11172,  0.29777,  0.07923],\n",
       "       [ 0.     ,  0.     ,  0.     ,  0.07923,  0.06034]])"
      ]
     },
     "execution_count": 70,
     "metadata": {},
     "output_type": "execute_result"
    }
   ],
   "source": [
    "H"
   ]
  },
  {
   "cell_type": "markdown",
   "metadata": {
    "hidden": true
   },
   "source": [
    "#### Exercise"
   ]
  },
  {
   "cell_type": "markdown",
   "metadata": {
    "hidden": true
   },
   "source": [
    "Write code to confirm that:\n",
    "1. AQ = QH\n",
    "2. Q is orthonormal"
   ]
  },
  {
   "cell_type": "markdown",
   "metadata": {
    "hidden": true
   },
   "source": [
    "#### Answer:"
   ]
  },
  {
   "cell_type": "code",
   "execution_count": 71,
   "metadata": {
    "hidden": true
   },
   "outputs": [
    {
     "data": {
      "text/plain": [
       "True"
      ]
     },
     "execution_count": 71,
     "metadata": {},
     "output_type": "execute_result"
    }
   ],
   "source": [
    "#Exercise:\n",
    "np.allclose(A @ Q, Q @ H)"
   ]
  },
  {
   "cell_type": "code",
   "execution_count": 456,
   "metadata": {
    "hidden": true
   },
   "outputs": [
    {
     "data": {
      "text/plain": [
       "True"
      ]
     },
     "execution_count": 456,
     "metadata": {},
     "output_type": "execute_result"
    }
   ],
   "source": [
    "#Exercise:\n",
    "np.allclose(np.eye(len(Q)), Q.T @ Q)"
   ]
  },
  {
   "cell_type": "markdown",
   "metadata": {
    "hidden": true
   },
   "source": [
    "#### General Case:"
   ]
  },
  {
   "cell_type": "markdown",
   "metadata": {
    "hidden": true
   },
   "source": [
    "**General Matrix**: Now we can do this on our general matrix A (not symmetric).  In this case, we are getting a Hessenberg instead of a Tri-diagonal"
   ]
  },
  {
   "cell_type": "code",
   "execution_count": 74,
   "metadata": {
    "hidden": true
   },
   "outputs": [
    {
     "name": "stdout",
     "output_type": "stream",
     "text": [
      "1.44287067354\n",
      "1.06234006889\n",
      "0.689291414367\n",
      "0.918098818651\n",
      "4.7124490411e-16\n"
     ]
    }
   ],
   "source": [
    "Q0, H0 = arnoldi(A0)"
   ]
  },
  {
   "cell_type": "markdown",
   "metadata": {
    "hidden": true
   },
   "source": [
    "Check that H is Hessenberg:"
   ]
  },
  {
   "cell_type": "code",
   "execution_count": 76,
   "metadata": {
    "hidden": true
   },
   "outputs": [
    {
     "data": {
      "text/plain": [
       "array([[ 1.67416,  0.83233, -0.39284,  0.10833,  0.63853],\n",
       "       [ 1.64571,  1.16678, -0.54779,  0.50529,  0.28515],\n",
       "       [ 0.     ,  0.16654, -0.22314,  0.08577, -0.02334],\n",
       "       [ 0.     ,  0.     ,  0.79017,  0.11732,  0.58978],\n",
       "       [ 0.     ,  0.     ,  0.     ,  0.43238, -0.07413]])"
      ]
     },
     "execution_count": 76,
     "metadata": {},
     "output_type": "execute_result"
    }
   ],
   "source": [
    "H0"
   ]
  },
  {
   "cell_type": "code",
   "execution_count": 77,
   "metadata": {
    "hidden": true
   },
   "outputs": [
    {
     "data": {
      "text/plain": [
       "True"
      ]
     },
     "execution_count": 77,
     "metadata": {},
     "output_type": "execute_result"
    }
   ],
   "source": [
    "np.allclose(A0 @ Q0, Q0 @ H0)"
   ]
  },
  {
   "cell_type": "code",
   "execution_count": 78,
   "metadata": {
    "hidden": true
   },
   "outputs": [
    {
     "data": {
      "text/plain": [
       "(True, True)"
      ]
     },
     "execution_count": 78,
     "metadata": {},
     "output_type": "execute_result"
    }
   ],
   "source": [
    "np.allclose(np.eye(len(Q0)), Q0.T @ Q0), np.allclose(np.eye(len(Q0)), Q0 @ Q0.T)"
   ]
  },
  {
   "cell_type": "markdown",
   "metadata": {
    "heading_collapsed": true
   },
   "source": [
    "## Putting it all together"
   ]
  },
  {
   "cell_type": "code",
   "execution_count": 215,
   "metadata": {
    "collapsed": true,
    "hidden": true
   },
   "outputs": [],
   "source": [
    "def eigen(A, max_iter=20):\n",
    "    Q, H = arnoldi(A)\n",
    "    Ak, QQ = practical_qr(H, max_iter)\n",
    "    U = Q @ QQ\n",
    "    D = np.diag(Ak)\n",
    "    return U, D"
   ]
  },
  {
   "cell_type": "code",
   "execution_count": 213,
   "metadata": {
    "collapsed": true,
    "hidden": true
   },
   "outputs": [],
   "source": [
    "n = 10\n",
    "A0 = np.random.rand(n,n)\n",
    "A = A0 @ A0.T"
   ]
  },
  {
   "cell_type": "code",
   "execution_count": 242,
   "metadata": {
    "hidden": true
   },
   "outputs": [
    {
     "name": "stdout",
     "output_type": "stream",
     "text": [
      "14.897422908\n",
      "1.57451192745\n",
      "1.4820012435\n",
      "0.668164424736\n",
      "0.438450319682\n",
      "0.674050723258\n",
      "1.19470880942\n",
      "0.217103444634\n",
      "0.105443975462\n",
      "3.8162597576e-15\n",
      "[ 27.34799   1.22613   1.29671   0.70253   0.49651   0.56779   0.60974\n",
      "   0.70123   0.19209   0.04905]\n",
      "[ 27.34981   1.85544   1.04793   0.49607   0.44505   0.7106    1.00724\n",
      "   0.07293   0.16058   0.04411]\n",
      "[ 27.34981   2.01074   0.96045   0.54926   0.61117   0.8972    0.53424\n",
      "   0.19564   0.03712   0.04414]\n",
      "[ 27.34981   2.04342   0.94444   0.61517   0.89717   0.80888   0.25402\n",
      "   0.19737   0.03535   0.04414]\n",
      "[ 27.34981   2.04998   0.94362   0.72142   1.04674   0.58643   0.21495\n",
      "   0.19735   0.03534   0.04414]\n",
      "[ 27.34981   2.05129   0.94496   0.90506   0.95536   0.49632   0.21015\n",
      "   0.19732   0.03534   0.04414]\n",
      "[ 27.34981   2.05156   0.94657   1.09452   0.79382   0.46723   0.20948\n",
      "   0.1973    0.03534   0.04414]\n",
      "[ 27.34981   2.05161   0.94863   1.1919    0.70539   0.45628   0.20939\n",
      "   0.19728   0.03534   0.04414]\n",
      "[ 27.34981   2.05162   0.95178   1.22253   0.67616   0.45174   0.20939\n",
      "   0.19727   0.03534   0.04414]\n",
      "[ 27.34981   2.05162   0.95697   1.22715   0.66828   0.44981   0.2094\n",
      "   0.19725   0.03534   0.04414]\n",
      "[ 27.34981   2.05162   0.96563   1.22124   0.66635   0.44899   0.20941\n",
      "   0.19724   0.03534   0.04414]\n",
      "[ 27.34981   2.05162   0.97969   1.20796   0.66592   0.44864   0.20942\n",
      "   0.19723   0.03534   0.04414]\n",
      "[ 27.34981   2.05162   1.00135   1.18652   0.66585   0.44849   0.20943\n",
      "   0.19722   0.03534   0.04414]\n",
      "[ 27.34981   2.05162   1.03207   1.15586   0.66584   0.44843   0.20943\n",
      "   0.19722   0.03534   0.04414]\n",
      "[ 27.34981   2.05162   1.07082   1.11714   0.66584   0.4484    0.20944\n",
      "   0.19721   0.03534   0.04414]\n",
      "[ 27.34981   2.05162   1.11307   1.07489   0.66585   0.44839   0.20944\n",
      "   0.1972    0.03534   0.04414]\n",
      "[ 27.34981   2.05162   1.15241   1.03556   0.66585   0.44839   0.20945\n",
      "   0.1972    0.03534   0.04414]\n",
      "[ 27.34981   2.05162   1.18401   1.00396   0.66585   0.44839   0.20945\n",
      "   0.1972    0.03534   0.04414]\n",
      "[ 27.34981   2.05162   1.20652   0.98145   0.66585   0.44839   0.20946\n",
      "   0.19719   0.03534   0.04414]\n",
      "[ 27.34981   2.05162   1.22121   0.96676   0.66585   0.44839   0.20946\n",
      "   0.19719   0.03534   0.04414]\n",
      "[ 27.34981   2.05162   1.23026   0.95771   0.66585   0.44839   0.20946\n",
      "   0.19719   0.03534   0.04414]\n",
      "[ 27.34981   2.05162   1.23563   0.95234   0.66585   0.44839   0.20946\n",
      "   0.19718   0.03534   0.04414]\n",
      "[ 27.34981   2.05162   1.23876   0.94921   0.66585   0.44839   0.20947\n",
      "   0.19718   0.03534   0.04414]\n",
      "[ 27.34981   2.05162   1.24056   0.94741   0.66585   0.44839   0.20947\n",
      "   0.19718   0.03534   0.04414]\n",
      "[ 27.34981   2.05162   1.24158   0.94639   0.66585   0.44839   0.20947\n",
      "   0.19718   0.03534   0.04414]\n",
      "[ 27.34981   2.05162   1.24216   0.94581   0.66585   0.44839   0.20947\n",
      "   0.19718   0.03534   0.04414]\n",
      "[ 27.34981   2.05162   1.24249   0.94548   0.66585   0.44839   0.20947\n",
      "   0.19718   0.03534   0.04414]\n",
      "[ 27.34981   2.05162   1.24268   0.94529   0.66585   0.44839   0.20947\n",
      "   0.19718   0.03534   0.04414]\n",
      "[ 27.34981   2.05162   1.24278   0.94519   0.66585   0.44839   0.20947\n",
      "   0.19718   0.03534   0.04414]\n",
      "[ 27.34981   2.05162   1.24284   0.94513   0.66585   0.44839   0.20947\n",
      "   0.19718   0.03534   0.04414]\n",
      "[ 27.34981   2.05162   1.24288   0.94509   0.66585   0.44839   0.20947\n",
      "   0.19718   0.03534   0.04414]\n",
      "[ 27.34981   2.05162   1.2429    0.94507   0.66585   0.44839   0.20947\n",
      "   0.19717   0.03534   0.04414]\n",
      "[ 27.34981   2.05162   1.24291   0.94506   0.66585   0.44839   0.20947\n",
      "   0.19717   0.03534   0.04414]\n",
      "[ 27.34981   2.05162   1.24291   0.94506   0.66585   0.44839   0.20947\n",
      "   0.19717   0.03534   0.04414]\n",
      "[ 27.34981   2.05162   1.24292   0.94505   0.66585   0.44839   0.20947\n",
      "   0.19717   0.03534   0.04414]\n",
      "[ 27.34981   2.05162   1.24292   0.94505   0.66585   0.44839   0.20947\n",
      "   0.19717   0.03534   0.04414]\n",
      "[ 27.34981   2.05162   1.24292   0.94505   0.66585   0.44839   0.20948\n",
      "   0.19717   0.03534   0.04414]\n",
      "[ 27.34981   2.05162   1.24292   0.94505   0.66585   0.44839   0.20948\n",
      "   0.19717   0.03534   0.04414]\n",
      "[ 27.34981   2.05162   1.24292   0.94505   0.66585   0.44839   0.20948\n",
      "   0.19717   0.03534   0.04414]\n",
      "[ 27.34981   2.05162   1.24292   0.94505   0.66585   0.44839   0.20948\n",
      "   0.19717   0.03534   0.04414]\n"
     ]
    }
   ],
   "source": [
    "U, D = eigen(A, 40)"
   ]
  },
  {
   "cell_type": "code",
   "execution_count": 240,
   "metadata": {
    "hidden": true
   },
   "outputs": [
    {
     "data": {
      "text/plain": [
       "array([ 5.10503,  0.58805,  0.49071, -0.65174, -0.60231, -0.37664,\n",
       "       -0.13165,  0.0778 , -0.10469, -0.29771])"
      ]
     },
     "execution_count": 240,
     "metadata": {},
     "output_type": "execute_result"
    }
   ],
   "source": [
    "D"
   ]
  },
  {
   "cell_type": "code",
   "execution_count": 241,
   "metadata": {
    "hidden": true
   },
   "outputs": [
    {
     "data": {
      "text/plain": [
       "array([ 27.34981,   2.05162,   1.24292,   0.94505,   0.66585,   0.44839,\n",
       "         0.20948,   0.19717,   0.04414,   0.03534])"
      ]
     },
     "execution_count": 241,
     "metadata": {},
     "output_type": "execute_result"
    }
   ],
   "source": [
    "np.linalg.eigvals(A)"
   ]
  },
  {
   "cell_type": "code",
   "execution_count": 236,
   "metadata": {
    "hidden": true
   },
   "outputs": [
    {
     "data": {
      "text/plain": [
       "0.0008321887107978883"
      ]
     },
     "execution_count": 236,
     "metadata": {},
     "output_type": "execute_result"
    }
   ],
   "source": [
    "np.linalg.norm(U @ np.diag(D) @ U.T - A)"
   ]
  },
  {
   "cell_type": "code",
   "execution_count": 237,
   "metadata": {
    "hidden": true
   },
   "outputs": [
    {
     "data": {
      "text/plain": [
       "True"
      ]
     },
     "execution_count": 237,
     "metadata": {},
     "output_type": "execute_result"
    }
   ],
   "source": [
    "np.allclose(U @ np.diag(D) @ U.T, A, atol=1e-3)"
   ]
  },
  {
   "cell_type": "markdown",
   "metadata": {
    "hidden": true
   },
   "source": [
    "### Further Reading"
   ]
  },
  {
   "cell_type": "markdown",
   "metadata": {
    "hidden": true
   },
   "source": [
    "Let's find some eigenvalues!\n",
    "\n",
    "\n",
    "from [Nonsymmetric Eigenvalue Problems](https://sites.math.washington.edu/~morrow/498_13/eigenvalues.pdf) chapter:\n",
    "\n",
    "Note that \"direct\" methods must still iterate, since finding eigenvalues is mathematically equivalent to finding zeros of polynomials, for which no noniterative methods can exist. We call a method direct if experience shows that it (nearly) never fails to converge in a\n",
    "fixed number of iterations.\n",
    "\n",
    "Iterative methods typically provide approximations only to a subset of the eigenvalues and eigenvectors and are usually run only long enough to get a few adequately accurate eigenvalues rather than a large number\n",
    "\n",
    "our ultimate algorithm: the shifted Hessenberg QR algorithm\n",
    "\n",
    "More reading:\n",
    "- [The Symmetric Eigenproblem and SVD](https://sites.math.washington.edu/~morrow/498_13/eigenvalues2.pdf)\n",
    "- [Iterative Methods for Eigenvalue Problems](https://sites.math.washington.edu/~morrow/498_13/eigenvalues3.pdf) Rayleigh-Ritz Method, Lanczos algorithm"
   ]
  },
  {
   "cell_type": "markdown",
   "metadata": {
    "hidden": true
   },
   "source": [
    "### Coming Up\n",
    "\n",
    "We will be coding our own QR decomposition (two different ways!) in the future, but first we are going to see another way that the QR decomposition can be used: to calculate linear regression."
   ]
  },
  {
   "cell_type": "markdown",
   "metadata": {},
   "source": [
    "## End"
   ]
  },
  {
   "cell_type": "markdown",
   "metadata": {},
   "source": [
    "### Miscellaneous Notes"
   ]
  },
  {
   "cell_type": "markdown",
   "metadata": {},
   "source": [
    "Symmetric matrices come up naturally:\n",
    "- distance matrices\n",
    "- relationship matrices (Facebook or LinkedIn)\n",
    "- ODEs\n",
    "\n",
    "We will look at positive definite matrices, since that guarantees that all the eigenvalues are real."
   ]
  },
  {
   "cell_type": "markdown",
   "metadata": {},
   "source": [
    "Note: in the confusing language of NLA, the QR algorithm is *direct*, because you are making progress on all columns at once.  In other math/CS language, the QR algorithm is *iterative*, because it iteratively converges and never reaches an exact solution."
   ]
  },
  {
   "cell_type": "markdown",
   "metadata": {},
   "source": [
    "structured orthogonalization.  In the language of NLA, Arnoldi iteration is considered an *iterative* algorithm, because you could stop part way and have a few columns completed.\n",
    "\n",
    "a Gram-Schmidt style iteration for transforming a matrix to Hessenberg form"
   ]
  },
  {
   "cell_type": "code",
   "execution_count": null,
   "metadata": {
    "collapsed": true
   },
   "outputs": [],
   "source": []
  }
 ],
 "metadata": {
  "kernelspec": {
   "display_name": "Python 3.7.0 64-bit",
   "language": "python",
   "name": "python3"
  },
  "language_info": {
   "codemirror_mode": {
    "name": "ipython",
    "version": 3
   },
   "file_extension": ".py",
   "mimetype": "text/x-python",
   "name": "python",
   "nbconvert_exporter": "python",
   "pygments_lexer": "ipython3",
   "version": "3.7.0"
  },
  "vscode": {
   "interpreter": {
    "hash": "c0f2ef85a013b3e049ebe5ad4c39b42bd34e85c4b0686b7bef6ce5ff62aa91e1"
   }
  },
  "widgets": {
   "state": {
    "2987aec2ec494d2b9b31bdf93ba87cb6": {
     "views": [
      {
       "cell_index": 18
      }
     ]
    },
    "84bffde89e894158860b175e986f4d61": {
     "views": [
      {
       "cell_index": 14
      }
     ]
    }
   },
   "version": "1.2.0"
  }
 },
 "nbformat": 4,
 "nbformat_minor": 2
}
