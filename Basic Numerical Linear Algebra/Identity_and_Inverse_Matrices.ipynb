{
  "cells": [
    {
      "cell_type": "markdown",
      "metadata": {
        "colab_type": "text",
        "id": "view-in-github"
      },
      "source": [
        "<a href=\"https://colab.research.google.com/github/MonitSharma/Numerical-Linear-Algebra/blob/main/Identity_and_Inverse_Matrices.ipynb\" target=\"_parent\"><img src=\"https://colab.research.google.com/assets/colab-badge.svg\" alt=\"Open In Colab\"/></a>"
      ]
    },
    {
      "attachments": {},
      "cell_type": "markdown",
      "metadata": {},
      "source": [
        "Author: [Monit Sharma](https://github.com/MonitSharma),\n",
        "        LinkedIn: [Monit Sharma](https://www.linkedin.com/in/monitsharma/),\n",
        "        Twitter: [@MonitSharma1729](https://twitter.com/MonitSharma1729)"
      ]
    },
    {
      "cell_type": "code",
      "execution_count": 1,
      "metadata": {
        "id": "Y0rgY7EhbU_Q"
      },
      "outputs": [],
      "source": [
        "# importing packages\n",
        "import numpy as np\n",
        "import matplotlib.pyplot as plt\n",
        "import seaborn as sns"
      ]
    },
    {
      "cell_type": "code",
      "execution_count": 2,
      "metadata": {
        "colab": {
          "base_uri": "https://localhost:8080/"
        },
        "id": "gCxHfYUube-V",
        "outputId": "a821d1a5-501f-4490-8bcb-fe18f7f9dc4a"
      },
      "outputs": [
        {
          "name": "stdout",
          "output_type": "stream",
          "text": [
            "Populating the interactive namespace from numpy and matplotlib\n"
          ]
        }
      ],
      "source": [
        "# plotting parameters\n",
        "sns.set()\n",
        "%pylab inline\n",
        "pylab.rcParams['figure.figsize'] = (4,4)"
      ]
    },
    {
      "cell_type": "code",
      "execution_count": 3,
      "metadata": {
        "id": "ZQIqYsMjbnjn"
      },
      "outputs": [],
      "source": [
        "# avoiding innaccurate floating points\n",
        "np.set_printoptions(suppress=True)"
      ]
    },
    {
      "cell_type": "markdown",
      "metadata": {
        "id": "s4_zb6gxbuwK"
      },
      "source": [
        "# Introdcution\n",
        "\n",
        "This chapter is light but contains some important definitions. The identity matrix or the inverse of a matrix are concepts that will be very useful in the next chapters. We will see at the end of this chapter that we can solve systems of linear equations by using the inverse matrix. "
      ]
    },
    {
      "cell_type": "markdown",
      "metadata": {
        "id": "QCono1y1bzR-"
      },
      "source": [
        "# Identity and Inverse Matrices\n",
        "\n",
        "The identity matrix $I_n$\n",
        " is a special matrix of shape ($ n \\times n$\n",
        ") that is filled with $0$ \n",
        " except the diagonal that is filled with $1$.\n",
        "\n",
        "\n",
        "----\n",
        "\n",
        "An identity matrix can be created with the `numpy` function `eye()`\n"
      ]
    },
    {
      "cell_type": "code",
      "execution_count": 4,
      "metadata": {
        "colab": {
          "base_uri": "https://localhost:8080/"
        },
        "id": "1Gxx5e_ebt29",
        "outputId": "a2c3480a-8e17-4590-9515-395a460d4e4b"
      },
      "outputs": [
        {
          "data": {
            "text/plain": [
              "array([[1., 0., 0.],\n",
              "       [0., 1., 0.],\n",
              "       [0., 0., 1.]])"
            ]
          },
          "execution_count": 4,
          "metadata": {},
          "output_type": "execute_result"
        }
      ],
      "source": [
        "np.eye(3)"
      ]
    },
    {
      "cell_type": "markdown",
      "metadata": {
        "id": "9lC2HvfecwpY"
      },
      "source": [
        "While applying the Identity matrix to a vector the result is the same vector\n",
        "\n",
        "$$ {I}_n {x} = {x}$$\n",
        "\n",
        "\n",
        "\n",
        "\n",
        "\n"
      ]
    },
    {
      "cell_type": "markdown",
      "metadata": {
        "id": "nQeJJfCpc8LH"
      },
      "source": [
        "## Example 1\n",
        "\n",
        "$$ \\begin{bmatrix}\n",
        "    1 & 0 & 0 \\\\\\\\\n",
        "    0 & 1 & 0 \\\\\\\\\n",
        "    0 & 0 & 1\n",
        "\\end{bmatrix}\n",
        "\\times\n",
        "\\begin{bmatrix}\n",
        "    x_{1} \\\\\\\\\n",
        "    x_{2} \\\\\\\\\n",
        "    x_{3}\n",
        "\\end{bmatrix}=\n",
        "\\begin{bmatrix}\n",
        "    1 \\times x_1 + 0 \\times x_2 + 0\\times x_3 \\\\\\\\\n",
        "    0 \\times x_1 + 1 \\times x_2 + 0\\times x_3 \\\\\\\\\n",
        "    0 \\times x_1 + 0 \\times x_2 + 1\\times x_3\n",
        "\\end{bmatrix}=\n",
        "\\begin{bmatrix}\n",
        "    x_{1} \\\\\\\\\n",
        "    x_{2} \\\\\\\\\n",
        "    x_{3}\n",
        "\\end{bmatrix}$$"
      ]
    },
    {
      "cell_type": "code",
      "execution_count": 5,
      "metadata": {
        "colab": {
          "base_uri": "https://localhost:8080/"
        },
        "id": "6LENmi5tcGAH",
        "outputId": "64001c20-9ebf-40ce-bcf3-046c4ff78cc3"
      },
      "outputs": [
        {
          "data": {
            "text/plain": [
              "array([[2],\n",
              "       [6],\n",
              "       [3]])"
            ]
          },
          "execution_count": 5,
          "metadata": {},
          "output_type": "execute_result"
        }
      ],
      "source": [
        "x = np.array([[2],[6],[3]])\n",
        "\n",
        "x"
      ]
    },
    {
      "cell_type": "code",
      "execution_count": 6,
      "metadata": {
        "colab": {
          "base_uri": "https://localhost:8080/"
        },
        "id": "BZK8jXjxdHfL",
        "outputId": "9a600af1-0572-4768-d56a-62b1c40564c2"
      },
      "outputs": [
        {
          "data": {
            "text/plain": [
              "array([[2.],\n",
              "       [6.],\n",
              "       [3.]])"
            ]
          },
          "execution_count": 6,
          "metadata": {},
          "output_type": "execute_result"
        }
      ],
      "source": [
        "xid = np.eye(x.shape[0]).dot(x)\n",
        "xid"
      ]
    },
    {
      "cell_type": "markdown",
      "metadata": {
        "id": "WnqfaSy9dQXq"
      },
      "source": [
        "## Intuition\n",
        "\n",
        "You can think of a matrix as a way to transform objects in a $n$\n",
        "-dimensional space. It applies a linear transformation of the space. We can say that we apply a matrix to an element: this means that we do the dot product between this matrix and the element. We will see this notion thoroughly in the next chapters but the identity matrix is a good first example. It is a particular example because the space doesn't change when we apply the identity matrix to it.\n",
        "\n",
        "-----\n",
        "\n",
        "The space doesn't change when we *apply* the identity matrix to it\n",
        "We saw that $x$\n",
        " was not altered after being multiplied by $I$\n",
        "."
      ]
    },
    {
      "cell_type": "markdown",
      "metadata": {
        "id": "ipUEHDOtdrKN"
      },
      "source": [
        "# Inverse Matrices\n",
        "\n",
        "The matrix inverse of ${A}$\n",
        " is denoted ${A}^{-1}$\n",
        ". It is the matrix that results in the identity matrix when it is multiplied by \n",
        ":\n",
        "$$ {A}^{-1}{A}={I}_n$$\n",
        "\n",
        "\n",
        "----\n",
        "\n",
        "This means that if we apply a linear transformation to the space with $A$ , it is possible to go back with $A^{-1}$. It provides a way to cancel the transformation.\n",
        "\n"
      ]
    },
    {
      "cell_type": "markdown",
      "metadata": {
        "id": "bW48vbGreQ7w"
      },
      "source": [
        "## Example 2\n",
        "\n",
        "$$ {A}=\\begin{bmatrix}\n",
        "    3 & 0 & 2 \\\\\\\\\n",
        "    2 & 0 & -2 \\\\\\\\\n",
        "    0 & 1 & 1\n",
        "\\end{bmatrix}$$\n",
        "\n",
        "For this example, we will use `numpy` function `linalg.inv()` to calculate the inverse of $A$."
      ]
    },
    {
      "cell_type": "code",
      "execution_count": 7,
      "metadata": {
        "colab": {
          "base_uri": "https://localhost:8080/"
        },
        "id": "BZXDQRkjdLwp",
        "outputId": "2aec6513-78cf-41e9-df58-95d7cb2c1ce4"
      },
      "outputs": [
        {
          "data": {
            "text/plain": [
              "array([[ 3,  0,  2],\n",
              "       [ 2,  0, -2],\n",
              "       [ 0,  1,  1]])"
            ]
          },
          "execution_count": 7,
          "metadata": {},
          "output_type": "execute_result"
        }
      ],
      "source": [
        "A = np.array([[3, 0, 2], [2, 0, -2], [0, 1, 1]])\n",
        "A"
      ]
    },
    {
      "cell_type": "markdown",
      "metadata": {
        "id": "yX2xc2tQeh6Q"
      },
      "source": [
        "Now, we calculate its inverse"
      ]
    },
    {
      "cell_type": "code",
      "execution_count": 8,
      "metadata": {
        "colab": {
          "base_uri": "https://localhost:8080/"
        },
        "id": "7rb9blcAeglE",
        "outputId": "62bd3d94-1d9d-40e5-fe33-8ec12832b20b"
      },
      "outputs": [
        {
          "data": {
            "text/plain": [
              "array([[ 0.2,  0.2,  0. ],\n",
              "       [-0.2,  0.3,  1. ],\n",
              "       [ 0.2, -0.3, -0. ]])"
            ]
          },
          "execution_count": 8,
          "metadata": {},
          "output_type": "execute_result"
        }
      ],
      "source": [
        "A_inv = np.linalg.inv(A)\n",
        "A_inv"
      ]
    },
    {
      "cell_type": "markdown",
      "metadata": {
        "id": "VRi1oE_VepHt"
      },
      "source": [
        "We can check that $A^{-1}$ is well with the inverse of $A$ with python"
      ]
    },
    {
      "cell_type": "code",
      "execution_count": 9,
      "metadata": {
        "colab": {
          "base_uri": "https://localhost:8080/"
        },
        "id": "T_beTLFhenu7",
        "outputId": "b47ab128-5747-430c-f84f-41c1fb0ddcd0"
      },
      "outputs": [
        {
          "data": {
            "text/plain": [
              "array([[ 1.,  0., -0.],\n",
              "       [ 0.,  1.,  0.],\n",
              "       [ 0.,  0.,  1.]])"
            ]
          },
          "execution_count": 9,
          "metadata": {},
          "output_type": "execute_result"
        }
      ],
      "source": [
        "A_bis = A_inv.dot(A)\n",
        "A_bis"
      ]
    },
    {
      "cell_type": "markdown",
      "metadata": {
        "id": "iJ-zzWc3e0n2"
      },
      "source": [
        "We will see that inverse of matrices can be very usefull, for instance to solve a set of linear equations. We must note however that non square matrices (matrices with more columns than rows or more rows than columns) don't have inverse."
      ]
    },
    {
      "cell_type": "markdown",
      "metadata": {
        "id": "RcQwpdoTe3LJ"
      },
      "source": [
        "# Solving a system of linear equations\n",
        "\n",
        "The inverse matrix can be used to solve the equation ${Ax}={b}$\n",
        " by adding it to each term:\n",
        "\n",
        " $$ {A}^{-1}{Ax}={A}^{-1}{b}$$\n",
        "\n",
        " ------\n",
        "\n",
        "Since we know by definition that ${A}^{-1}{A}={I}$, we have\n",
        "\n",
        "$$ {I}_n{x}={A}^{-1}{b}$$\n",
        "\n",
        "------\n",
        "\n",
        "We saw that a vector is not changed when multiplied by the identity matrix. So we can write:\n",
        "\n",
        "$${x}={A}^{-1}{b}$$\n",
        "\n",
        "This is great! We can solve a set of linear equation just by computing the inverse of $A$\n",
        " and apply this matrix to the vector of results $b$!"
      ]
    },
    {
      "cell_type": "markdown",
      "metadata": {
        "id": "UihRRN04gSRW"
      },
      "source": [
        "## Example 3\n",
        "\n",
        "We will take a simple solvable example\n",
        "\n",
        "$$ \\begin{cases}\n",
        "y = 2x \\\\\\\\\n",
        "y = -x +3\n",
        "\\end{cases}$$\n",
        "\n",
        "\n",
        "-----\n",
        "\n",
        "We will use the notation as used before\n",
        "\n",
        "$$ \\begin{cases}\n",
        "A_{1,1}x_1 + A_{1,2}x_2 = b_1 \\\\\\\\\n",
        "A_{2,1}x_1 + A_{2,2}x_2= b_2\n",
        "\\end{cases}$$\n",
        "\n",
        "\n",
        "----\n",
        "\n",
        "Here $x_1$ corresponds to $x$ and $x_2$ corresponds to $y$. So we have:\n",
        "\n",
        "$$ \\begin{cases}\n",
        "2x_1 - x_2 = 0 \\\\\\\\\n",
        "x_1 + x_2= 3\n",
        "\\end{cases}$$\n",
        "\n",
        "Our matrix $A$ of weights is:\n",
        "\n",
        "$$ {A}=\n",
        "\\begin{bmatrix}\n",
        "    2 & -1 \\\\\\\\\n",
        "    1 & 1\n",
        "\\end{bmatrix}$$\n",
        "\n",
        "And the vector $b$ containing the solutions of individual equations is:\n",
        "\n",
        "$$ {b}=\n",
        "\\begin{bmatrix}\n",
        "    0 \\\\\\\\\n",
        "    3\n",
        "\\end{bmatrix}$$\n",
        "\n",
        "-----\n",
        "\n",
        "Under the matrix form, our system becomes\n",
        "\n",
        "$$ \\begin{bmatrix}\n",
        "    2 & -1 \\\\\\\\\n",
        "    1 & 1\n",
        "\\end{bmatrix}\n",
        "\\begin{bmatrix}\n",
        "    x_1 \\\\\\\\\n",
        "    x_2\n",
        "\\end{bmatrix}=\n",
        "\\begin{bmatrix}\n",
        "    0 \\\\\\\\\n",
        "    3\n",
        "\\end{bmatrix} $$\n",
        "\n",
        "\n",
        "\n",
        "Let's find the inverse of $A$"
      ]
    },
    {
      "cell_type": "code",
      "execution_count": 10,
      "metadata": {
        "colab": {
          "base_uri": "https://localhost:8080/"
        },
        "id": "ANvD__7mexRd",
        "outputId": "d7a2d725-1427-464a-9f51-ed81f3d68307"
      },
      "outputs": [
        {
          "data": {
            "text/plain": [
              "array([[ 2, -1],\n",
              "       [ 1,  1]])"
            ]
          },
          "execution_count": 10,
          "metadata": {},
          "output_type": "execute_result"
        }
      ],
      "source": [
        "A = np.array([[2, -1], [1, 1]])\n",
        "A"
      ]
    },
    {
      "cell_type": "code",
      "execution_count": 11,
      "metadata": {
        "colab": {
          "base_uri": "https://localhost:8080/"
        },
        "id": "7DNbKGbBg_9G",
        "outputId": "df2b71a0-2dbe-41db-ac51-e10ec3f08c45"
      },
      "outputs": [
        {
          "data": {
            "text/plain": [
              "array([[ 0.33333333,  0.33333333],\n",
              "       [-0.33333333,  0.66666667]])"
            ]
          },
          "execution_count": 11,
          "metadata": {},
          "output_type": "execute_result"
        }
      ],
      "source": [
        "A_inv = np.linalg.inv(A)\n",
        "A_inv"
      ]
    },
    {
      "cell_type": "markdown",
      "metadata": {
        "id": "SAL8g2W-hNIW"
      },
      "source": [
        "We also have:"
      ]
    },
    {
      "cell_type": "code",
      "execution_count": 12,
      "metadata": {
        "id": "9SxwPA98hFOO"
      },
      "outputs": [],
      "source": [
        "b = np.array([[0], [3]])"
      ]
    },
    {
      "cell_type": "markdown",
      "metadata": {
        "id": "OU-phRb0hUvZ"
      },
      "source": [
        "We have:"
      ]
    },
    {
      "cell_type": "code",
      "execution_count": 13,
      "metadata": {
        "colab": {
          "base_uri": "https://localhost:8080/"
        },
        "id": "aMPYSQRHhQh7",
        "outputId": "1c1a09b5-8340-4c1e-fe62-9d9da16a1ebd"
      },
      "outputs": [
        {
          "data": {
            "text/plain": [
              "array([[1.],\n",
              "       [2.]])"
            ]
          },
          "execution_count": 13,
          "metadata": {},
          "output_type": "execute_result"
        }
      ],
      "source": [
        "x = A_inv.dot(b)\n",
        "x"
      ]
    },
    {
      "cell_type": "markdown",
      "metadata": {
        "id": "qMsz1Bj5hZFB"
      },
      "source": [
        "This is our solution!\n",
        "\n",
        "$$ {x}=\n",
        "\\begin{bmatrix}\n",
        "    1 \\\\\\\\\n",
        "    2\n",
        "\\end{bmatrix}$$\n",
        "\n",
        " \n",
        " \n",
        "This means that the point of coordinates (1, 2) is the solution and is at the intersection of the lines representing the equations. Let's plot them to check this solution:\n"
      ]
    },
    {
      "cell_type": "code",
      "execution_count": 14,
      "metadata": {
        "colab": {
          "base_uri": "https://localhost:8080/",
          "height": 272
        },
        "id": "TW9EXjW8hX_5",
        "outputId": "7eb185d9-08d9-4f00-d90a-4885e7a6fab7"
      },
      "outputs": [
        {
          "data": {
            "image/png": "[encoded data removed]",
            "text/plain": [
              "<Figure size 288x288 with 1 Axes>"
            ]
          },
          "metadata": {
            "needs_background": "light"
          },
          "output_type": "display_data"
        }
      ],
      "source": [
        "x = np.arange(-10, 10)\n",
        "y = 2*x\n",
        "y1 = -x + 3\n",
        "\n",
        "plt.figure()\n",
        "plt.plot(x, y)\n",
        "plt.plot(x, y1)\n",
        "plt.xlim(0, 3)\n",
        "plt.ylim(0, 3)\n",
        "# draw axes\n",
        "plt.axvline(x=0, color='grey')\n",
        "plt.axhline(y=0, color='grey')\n",
        "plt.show()\n",
        "plt.close()"
      ]
    },
    {
      "cell_type": "markdown",
      "metadata": {
        "id": "5yIfJ8C2hmhI"
      },
      "source": [
        "We can see that the solution (corresponding to the line crossing) is when $x=1$\n",
        " and $y=2$\n",
        ". It confirms what we found with the matrix inversion!"
      ]
    },
    {
      "cell_type": "markdown",
      "metadata": {
        "id": "QST6reSAhr1Q"
      },
      "source": [
        "## Draw an equation\n",
        "\n",
        "To draw the equation with Matplotlib, we first need to create a vector with all the $x$\n",
        " values. Actually, since this is a line, only two points would have been sufficient. But with more complex functions, the length of the vector $x$ \n",
        " corresponds to the sampling rate. So here we used the Numpy function `arrange()` to create a vector from $-10$\n",
        " to $10$\n",
        " (not included)."
      ]
    },
    {
      "cell_type": "code",
      "execution_count": 15,
      "metadata": {
        "colab": {
          "base_uri": "https://localhost:8080/"
        },
        "id": "u5TDKW7vhkUe",
        "outputId": "4a91cedf-147e-4a7f-81f7-b9f5271bcb23"
      },
      "outputs": [
        {
          "data": {
            "text/plain": [
              "array([-10,  -9,  -8,  -7,  -6,  -5,  -4,  -3,  -2,  -1,   0,   1,   2,\n",
              "         3,   4,   5,   6,   7,   8,   9])"
            ]
          },
          "execution_count": 15,
          "metadata": {},
          "output_type": "execute_result"
        }
      ],
      "source": [
        "np.arange(-10, 10)"
      ]
    },
    {
      "cell_type": "markdown",
      "metadata": {
        "id": "CkZYrSP0iCoe"
      },
      "source": [
        "The first argument is the starting point and the second the ending point. You can add a third argument to specify the step:"
      ]
    },
    {
      "cell_type": "code",
      "execution_count": 16,
      "metadata": {
        "colab": {
          "base_uri": "https://localhost:8080/"
        },
        "id": "0fjXY_Bsh_ck",
        "outputId": "d454aa42-f406-4d08-9dbf-d65445f1921a"
      },
      "outputs": [
        {
          "data": {
            "text/plain": [
              "array([-10,  -8,  -6,  -4,  -2,   0,   2,   4,   6,   8])"
            ]
          },
          "execution_count": 16,
          "metadata": {},
          "output_type": "execute_result"
        }
      ],
      "source": [
        "np.arange(-10, 10, 2)"
      ]
    },
    {
      "cell_type": "markdown",
      "metadata": {
        "id": "4mZMn2ntiMqk"
      },
      "source": [
        "Then we create a second vector $y$\n",
        " that depends on the $x$\n",
        " vector. Numpy will take each value of \n",
        " and apply the equation formula to it."
      ]
    },
    {
      "cell_type": "code",
      "execution_count": 17,
      "metadata": {
        "colab": {
          "base_uri": "https://localhost:8080/"
        },
        "id": "wTSc3-o7iJ0o",
        "outputId": "2d56b3d1-cbfa-4c29-cf62-4b0472672f22"
      },
      "outputs": [
        {
          "data": {
            "text/plain": [
              "array([-19, -17, -15, -13, -11,  -9,  -7,  -5,  -3,  -1,   1,   3,   5,\n",
              "         7,   9,  11,  13,  15,  17,  19])"
            ]
          },
          "execution_count": 17,
          "metadata": {},
          "output_type": "execute_result"
        }
      ],
      "source": [
        "x = np.arange(-10, 10)\n",
        "y = 2*x + 1\n",
        "y"
      ]
    },
    {
      "cell_type": "markdown",
      "metadata": {
        "id": "y1WTUnv4iWPk"
      },
      "source": [
        "## Singular Matrices\n",
        "\n",
        "Some matrices are not invertible. They are called **singular**."
      ]
    },
    {
      "cell_type": "markdown",
      "metadata": {
        "id": "eGs-lPy6icqS"
      },
      "source": [
        "## Conclusion\n",
        "\n",
        "This introduces different cases according to the linear system because ${A}^{-1}$ \n",
        " exists only if the equation ${Ax}={b}$\n",
        " has one and only one solution"
      ]
    }
  ],
  "metadata": {
    "colab": {
      "authorship_tag": "ABX9TyNMZ0cBltSj4PIT+susezD7",
      "include_colab_link": true,
      "provenance": []
    },
    "kernelspec": {
      "display_name": "Python 3",
      "name": "python3"
    },
    "language_info": {
      "name": "python"
    }
  },
  "nbformat": 4,
  "nbformat_minor": 0
}
