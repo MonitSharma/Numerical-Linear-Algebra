{
  "nbformat": 4,
  "nbformat_minor": 0,
  "metadata": {
    "colab": {
      "provenance": [],
      "authorship_tag": "ABX9TyPiT7fqYp/srP3TTDgquKfD",
      "include_colab_link": true
    },
    "kernelspec": {
      "name": "python3",
      "display_name": "Python 3"
    },
    "language_info": {
      "name": "python"
    }
  },
  "cells": [
    {
      "cell_type": "markdown",
      "metadata": {
        "id": "view-in-github",
        "colab_type": "text"
      },
      "source": [
        "<a href=\"https://colab.research.google.com/github/MonitSharma/Numerical-Linear-Algebra/blob/main/The_Trace_Operator.ipynb\" target=\"_parent\"><img src=\"https://colab.research.google.com/assets/colab-badge.svg\" alt=\"Open In Colab\"/></a>"
      ]
    },
    {
      "cell_type": "code",
      "execution_count": 1,
      "metadata": {
        "id": "H8WERUSFt2o3"
      },
      "outputs": [],
      "source": [
        "import numpy as np\n",
        "import matplotlib.pyplot as plt\n",
        "import seaborn as sns"
      ]
    },
    {
      "cell_type": "code",
      "source": [
        "# Plot style\n",
        "sns.set()\n",
        "%pylab inline\n",
        "pylab.rcParams['figure.figsize'] = (4, 4)"
      ],
      "metadata": {
        "colab": {
          "base_uri": "https://localhost:8080/"
        },
        "id": "PHz_XlZIt7ay",
        "outputId": "a45d64d9-3352-4759-fd7c-3ec45f70ca88"
      },
      "execution_count": 2,
      "outputs": [
        {
          "output_type": "stream",
          "name": "stdout",
          "text": [
            "Populating the interactive namespace from numpy and matplotlib\n"
          ]
        }
      ]
    },
    {
      "cell_type": "markdown",
      "source": [
        "# Introduction\n",
        "This chapter is very light! I can assure you that you will read it in 1 minute! It is nice after the last two chapters that were quite big! We will see what is the Trace of a matrix. It will be needed for the last chapter on the Principal Component Analysis (PCA)."
      ],
      "metadata": {
        "id": "j7GeJ3mWt_bO"
      }
    },
    {
      "cell_type": "markdown",
      "source": [
        "# The Trace operator\n",
        "\n",
        "*The Trace of matrix*\n",
        "\n",
        "The trace is the sum of all values in the diagonal of a square matrix.\n",
        "\n",
        "$$ {A}=\n",
        "\\begin{bmatrix}\n",
        "    2 & 9 & 8 \\\\\\\\\n",
        "    4 & 7 & 1 \\\\\\\\\n",
        "    8 & 2 & 5\n",
        "\\end{bmatrix}$$\n",
        "\n",
        "$$\\mathrm{Tr}({A}) = 2 + 7 + 5 = 14$$\n",
        "\n",
        "\n",
        "\n",
        "`numpy` provides the function `trace()` to calculate it:"
      ],
      "metadata": {
        "id": "bsqWfLfFuBmO"
      }
    },
    {
      "cell_type": "code",
      "source": [
        "A = np.array([[2, 9, 8], [4, 7, 1], [8, 2, 5]])\n",
        "A"
      ],
      "metadata": {
        "colab": {
          "base_uri": "https://localhost:8080/"
        },
        "id": "6I9YmUB2t9Y9",
        "outputId": "2732b67c-b24d-4ddd-d71f-8cb00e40af1f"
      },
      "execution_count": 3,
      "outputs": [
        {
          "output_type": "execute_result",
          "data": {
            "text/plain": [
              "array([[2, 9, 8],\n",
              "       [4, 7, 1],\n",
              "       [8, 2, 5]])"
            ]
          },
          "metadata": {},
          "execution_count": 3
        }
      ]
    },
    {
      "cell_type": "code",
      "source": [
        "A_tr = np.trace(A)\n",
        "A_tr"
      ],
      "metadata": {
        "colab": {
          "base_uri": "https://localhost:8080/"
        },
        "id": "aaXix1-quYYS",
        "outputId": "e14f6e8e-d4ea-447b-a6e7-32f76ce8dd6a"
      },
      "execution_count": 4,
      "outputs": [
        {
          "output_type": "execute_result",
          "data": {
            "text/plain": [
              "14"
            ]
          },
          "metadata": {},
          "execution_count": 4
        }
      ]
    },
    {
      "cell_type": "markdown",
      "source": [
        "Trace can be used to specify the Frobenius norm of a matrix. The Frobenius norm is the equivalent of the $L^2$\n",
        " norm for matrices. It is defined by:\n",
        "\n",
        " $$ ||{{A}}||_F=\\sqrt{\\sum_{i,j}A^2_{i,j}}$$\n",
        "\n",
        " Take the square of all elements and sum them. Take the square root of the result. This norm can also be calculated with:\n",
        "\n",
        " $$ ||{{A}}||_F=\\sqrt{Tr({{AA}^T})}$$\n",
        "\n",
        " We can check this by `np.linalg.norm()`"
      ],
      "metadata": {
        "id": "o0gwUduuudsN"
      }
    },
    {
      "cell_type": "code",
      "source": [
        "np.linalg.norm(A)"
      ],
      "metadata": {
        "colab": {
          "base_uri": "https://localhost:8080/"
        },
        "id": "APu01wxsua62",
        "outputId": "dafd1ff2-3849-4a5e-cbba-73ee7e1d0b19"
      },
      "execution_count": 5,
      "outputs": [
        {
          "output_type": "execute_result",
          "data": {
            "text/plain": [
              "17.549928774784245"
            ]
          },
          "metadata": {},
          "execution_count": 5
        }
      ]
    },
    {
      "cell_type": "markdown",
      "source": [
        "The Frobenius norm of $A$\n",
        " is 17.549928774784245, with the trace the result is identical."
      ],
      "metadata": {
        "id": "RsueaPsbvLS_"
      }
    },
    {
      "cell_type": "code",
      "source": [
        "np.sqrt(np.trace(A.dot(A.T)))"
      ],
      "metadata": {
        "colab": {
          "base_uri": "https://localhost:8080/"
        },
        "id": "ey6GwHCSvElw",
        "outputId": "1f14b813-d58e-490a-bb87-f8b02d85603a"
      },
      "execution_count": 6,
      "outputs": [
        {
          "output_type": "execute_result",
          "data": {
            "text/plain": [
              "17.549928774784245"
            ]
          },
          "metadata": {},
          "execution_count": 6
        }
      ]
    },
    {
      "cell_type": "code",
      "source": [
        "np.sqrt(np.trace(A.dot(A.T))) == np.linalg.norm(A)"
      ],
      "metadata": {
        "colab": {
          "base_uri": "https://localhost:8080/"
        },
        "id": "bF_J72rHvUhM",
        "outputId": "3201edea-a5fa-40e5-e1fd-efcb9e9f540d"
      },
      "execution_count": 7,
      "outputs": [
        {
          "output_type": "execute_result",
          "data": {
            "text/plain": [
              "True"
            ]
          },
          "metadata": {},
          "execution_count": 7
        }
      ]
    },
    {
      "cell_type": "markdown",
      "source": [
        "Since the transposition of a matrix doesn't change the diagonal, the trace of the matrix is equal to the trace of its transpose:\n",
        "\n",
        "$$ Tr({A})=Tr({A}^T)$$"
      ],
      "metadata": {
        "id": "c4rKF_GtvbFr"
      }
    },
    {
      "cell_type": "markdown",
      "source": [
        "## Trace of a product\n",
        "\n",
        "$$ Tr({ABC}) = Tr({CAB}) = Tr({BCA})$$\n",
        "\n",
        "\n",
        "#### Example 1\n",
        "\n",
        "Let's see an example of this property\n",
        "\n",
        "$$ {A}=\n",
        "\\begin{bmatrix}\n",
        "    4 & 12 \\\\\\\\\n",
        "    7 & 6\n",
        "\\end{bmatrix}$$\n",
        "\n",
        "$${B}=\n",
        "\\begin{bmatrix}\n",
        "    1 & -3 \\\\\\\\\n",
        "    4 & 3\n",
        "\\end{bmatrix}$$\n",
        "\n",
        "$${C}=\n",
        "\\begin{bmatrix}\n",
        "    6 & 6 \\\\\\\\\n",
        "    2 & 5\n",
        "\\end{bmatrix}$$"
      ],
      "metadata": {
        "id": "90IY_Qc1vkw2"
      }
    },
    {
      "cell_type": "code",
      "source": [
        "A = np.array([[4, 12], [7, 6]])\n",
        "B = np.array([[1, -3], [4, 3]])\n",
        "C = np.array([[6, 6], [2, 5]])\n",
        "\n",
        "np.trace(A.dot(B).dot(C))"
      ],
      "metadata": {
        "colab": {
          "base_uri": "https://localhost:8080/"
        },
        "id": "gYaN-aJhvXvb",
        "outputId": "d938c453-4236-46b8-e5e4-40c9baece6da"
      },
      "execution_count": 8,
      "outputs": [
        {
          "output_type": "execute_result",
          "data": {
            "text/plain": [
              "531"
            ]
          },
          "metadata": {},
          "execution_count": 8
        }
      ]
    },
    {
      "cell_type": "code",
      "source": [
        "np.trace(C.dot(A).dot(B))"
      ],
      "metadata": {
        "colab": {
          "base_uri": "https://localhost:8080/"
        },
        "id": "z6gI5f9swAPy",
        "outputId": "fc549f37-e30e-47ad-c1bb-91fa22b2b0de"
      },
      "execution_count": 9,
      "outputs": [
        {
          "output_type": "execute_result",
          "data": {
            "text/plain": [
              "531"
            ]
          },
          "metadata": {},
          "execution_count": 9
        }
      ]
    },
    {
      "cell_type": "code",
      "source": [
        "np.trace(B.dot(C).dot(A))"
      ],
      "metadata": {
        "colab": {
          "base_uri": "https://localhost:8080/"
        },
        "id": "AeOb-E7hwDEO",
        "outputId": "fa70b5af-f7eb-47b0-b771-b7b6152d03ec"
      },
      "execution_count": 10,
      "outputs": [
        {
          "output_type": "execute_result",
          "data": {
            "text/plain": [
              "531"
            ]
          },
          "metadata": {},
          "execution_count": 10
        }
      ]
    },
    {
      "cell_type": "markdown",
      "source": [
        "$$ {ABC}=\n",
        "\\begin{bmatrix}\n",
        "    360 & 432 \\\\\\\\\n",
        "    180 & 171\n",
        "\\end{bmatrix}$$\n",
        "\n",
        "$$ {CAB}=\n",
        "\\begin{bmatrix}\n",
        "    498 & 126 \\\\\\\\\n",
        "    259 & 33\n",
        "\\end{bmatrix}$$\n",
        "\n",
        "$${BCA}=\n",
        "\\begin{bmatrix}\n",
        "    -63 & -54 \\\\\\\\\n",
        "    393 & 594\n",
        "\\end{bmatrix}$$\n",
        "\n",
        "$$Tr({ABC}) = Tr({CAB}) = Tr({BCA}) =  531$$"
      ],
      "metadata": {
        "id": "wpxe8s4AwHQP"
      }
    }
  ]
}