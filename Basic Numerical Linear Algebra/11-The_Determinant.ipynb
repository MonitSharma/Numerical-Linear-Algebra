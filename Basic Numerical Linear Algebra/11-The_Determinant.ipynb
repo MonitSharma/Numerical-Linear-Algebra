{
  "nbformat": 4,
  "nbformat_minor": 0,
  "metadata": {
    "colab": {
      "provenance": [],
      "authorship_tag": "ABX9TyNe6GkAAWtX5qLD2t670pyx",
      "include_colab_link": true
    },
    "kernelspec": {
      "name": "python3",
      "display_name": "Python 3"
    },
    "language_info": {
      "name": "python"
    }
  },
  "cells": [
    {
      "cell_type": "markdown",
      "metadata": {
        "id": "view-in-github",
        "colab_type": "text"
      },
      "source": [
        "<a href=\"https://colab.research.google.com/github/MonitSharma/Numerical-Linear-Algebra/blob/main/The_Determinant.ipynb\" target=\"_parent\"><img src=\"https://colab.research.google.com/assets/colab-badge.svg\" alt=\"Open In Colab\"/></a>"
      ]
    },
    {
      "cell_type": "code",
      "execution_count": 1,
      "metadata": {
        "id": "KQ3k0blRyVS_"
      },
      "outputs": [],
      "source": [
        "import numpy as np\n",
        "import matplotlib.pyplot as plt\n",
        "import seaborn as sns"
      ]
    },
    {
      "cell_type": "code",
      "source": [
        "# Plot style\n",
        "sns.set()\n",
        "%pylab inline\n",
        "pylab.rcParams['figure.figsize'] = (4, 4)"
      ],
      "metadata": {
        "colab": {
          "base_uri": "https://localhost:8080/"
        },
        "id": "fbtQDH0sycfn",
        "outputId": "71f00911-5d54-4288-efe9-439c513dd3d4"
      },
      "execution_count": 2,
      "outputs": [
        {
          "output_type": "stream",
          "name": "stdout",
          "text": [
            "Populating the interactive namespace from numpy and matplotlib\n"
          ]
        }
      ]
    },
    {
      "cell_type": "code",
      "source": [
        "def plotVectors(vecs, cols, alpha=1):\n",
        "    \"\"\"\n",
        "    Plot set of vectors.\n",
        "\n",
        "    Parameters\n",
        "    ----------\n",
        "    vecs : array-like\n",
        "        Coordinates of the vectors to plot. Each vectors is in an array. For\n",
        "        instance: [[1, 3], [2, 2]] can be used to plot 2 vectors.\n",
        "    cols : array-like\n",
        "        Colors of the vectors. For instance: ['red', 'blue'] will display the\n",
        "        first vector in red and the second in blue.\n",
        "    alpha : float\n",
        "        Opacity of vectors\n",
        "\n",
        "    Returns:\n",
        "\n",
        "    fig : instance of matplotlib.figure.Figure\n",
        "        The figure of the vectors\n",
        "    \"\"\"\n",
        "    plt.axvline(x=0, color='#A9A9A9', zorder=0)\n",
        "    plt.axhline(y=0, color='#A9A9A9', zorder=0)\n",
        "\n",
        "    for i in range(len(vecs)):\n",
        "        if (isinstance(alpha, list)):\n",
        "            alpha_i = alpha[i]\n",
        "        else:\n",
        "            alpha_i = alpha\n",
        "        x = np.concatenate([[0,0],vecs[i]])\n",
        "        plt.quiver([x[0]],\n",
        "                   [x[1]],\n",
        "                   [x[2]],\n",
        "                   [x[3]],\n",
        "                   angles='xy', scale_units='xy', scale=1, color=cols[i],\n",
        "                  alpha=alpha_i)"
      ],
      "metadata": {
        "id": "3iOqi4aWyfKQ"
      },
      "execution_count": 3,
      "outputs": []
    },
    {
      "cell_type": "markdown",
      "source": [
        "#Introduction\n",
        "This chapter is also very light! We will see what is the meaning of the determinant of a matrix. This special number can tell us a lot of things about our matrix!"
      ],
      "metadata": {
        "id": "gxW7pCTBymq-"
      }
    },
    {
      "cell_type": "markdown",
      "source": [
        "# The Determinant\n",
        "We saw previously that a matrix can be seen as a linear transformation of the space. The determinant of a matrix $A$\n",
        " is a number corresponding to the multiplicative change you get when you transform your space with this matrix. \n",
        " \n",
        " -------\n",
        " \n",
        " A negative determinant means that there is a change in orientation (and not just a rescaling and/or a rotation). A change in orientation means for instance in 2D that we take a plane out of these 2 dimensions, do some transformations and get back to the initial 2D space.\n",
        "\n",
        "\n",
        " -------\n",
        "\n",
        " *The determinant of a matrix can tell you a lot of things about the transformation associated with this matrix*\n",
        "\n",
        " "
      ],
      "metadata": {
        "id": "O2rNbNNtyr5u"
      }
    },
    {
      "cell_type": "markdown",
      "source": [
        "#### Example 1.\n",
        "To calculate the area of the shapes, we will use simple squares in 2 dimensions. The unit square area can be calculated with the Pythagorean theorem taking the two unit vectors.\n",
        "\n",
        "Let's start by creating both vectors in Python:"
      ],
      "metadata": {
        "id": "PvSw2wWYzJBx"
      }
    },
    {
      "cell_type": "code",
      "source": [
        "orange = '#FF9A13'\n",
        "blue = '#1190FF'\n",
        "    \n",
        "i = [0, 1]\n",
        "j = [1, 0]\n",
        "\n",
        "plotVectors([i, j], [[blue], [orange]])\n",
        "plt.xlim(-0.5, 3)\n",
        "plt.ylim(-0.5, 3)\n",
        "plt.show()"
      ],
      "metadata": {
        "colab": {
          "base_uri": "https://localhost:8080/",
          "height": 272
        },
        "id": "yUMRHyaAykOG",
        "outputId": "bd97571b-c013-4bf7-f1da-4382afb60690"
      },
      "execution_count": 4,
      "outputs": [
        {
          "output_type": "display_data",
          "data": {
            "text/plain": [
              "<Figure size 288x288 with 1 Axes>"
            ],
            "image/png": "[encoded data removed]"
          },
          "metadata": {
            "needs_background": "light"
          }
        }
      ]
    },
    {
      "cell_type": "markdown",
      "source": [
        "We will apply\n",
        "\n",
        "$${A}=\\begin{bmatrix}\n",
        "    2 & 0\\\\\\\\\n",
        "    0 & 2\n",
        "\\end{bmatrix}$$\n",
        "\n",
        "to $i$\n",
        " and $j$\n",
        ". You can notice that this matrix is special: it is diagonal. So it will only rescale our space. No rotation here. More precisely, it will rescale each dimension the same way because the diagonal values are identical. Let's create the matrix $A$\n",
        ":"
      ],
      "metadata": {
        "id": "4DkrbZ04zTzm"
      }
    },
    {
      "cell_type": "code",
      "source": [
        "A = np.array([[2, 0], [0, 2]])\n",
        "A"
      ],
      "metadata": {
        "colab": {
          "base_uri": "https://localhost:8080/"
        },
        "id": "lnY3WnufzQxs",
        "outputId": "91624d52-61f5-4f29-c814-d953b2d4c9ca"
      },
      "execution_count": 5,
      "outputs": [
        {
          "output_type": "execute_result",
          "data": {
            "text/plain": [
              "array([[2, 0],\n",
              "       [0, 2]])"
            ]
          },
          "metadata": {},
          "execution_count": 5
        }
      ]
    },
    {
      "cell_type": "markdown",
      "source": [
        "Now we will apply $A$\n",
        " on our two unit vectors \n",
        " $i$ and $j$\n",
        " and plot the resulting new vectors:"
      ],
      "metadata": {
        "id": "AUHdGoE1zjQa"
      }
    },
    {
      "cell_type": "code",
      "source": [
        "new_i = A.dot(i)\n",
        "new_j = A.dot(j)\n",
        "plotVectors([new_i, new_j], [['#1190FF'], ['#FF9A13']])\n",
        "plt.xlim(-0.5, 3)\n",
        "plt.ylim(-0.5, 3)\n",
        "plt.show()"
      ],
      "metadata": {
        "colab": {
          "base_uri": "https://localhost:8080/",
          "height": 272
        },
        "id": "FxRsJwZUzhCU",
        "outputId": "180c5167-df18-4dcf-e02c-6cd81e376274"
      },
      "execution_count": 6,
      "outputs": [
        {
          "output_type": "display_data",
          "data": {
            "text/plain": [
              "<Figure size 288x288 with 1 Axes>"
            ],
            "image/png": "[encoded data removed]"
          },
          "metadata": {
            "needs_background": "light"
          }
        }
      ]
    },
    {
      "cell_type": "markdown",
      "source": [
        "As expected, we can see that the square corresponding to \n",
        " $i$ and $j$\n",
        " didn't rotate but the lengths of \n",
        "$i$ and $j$\n",
        " have doubled. We will now calculate the determinant of $A$\n",
        "\n",
        "\n",
        "\n",
        " -----\n",
        "\n",
        "\n",
        " *The unit square transformed by the matrix*"
      ],
      "metadata": {
        "id": "9ddtxfmkztuP"
      }
    },
    {
      "cell_type": "code",
      "source": [
        "np.linalg.det(A)"
      ],
      "metadata": {
        "colab": {
          "base_uri": "https://localhost:8080/"
        },
        "id": "OtRij2ORzp6S",
        "outputId": "9d3611cd-7d44-4c0f-d106-fc954122cdb0"
      },
      "execution_count": 7,
      "outputs": [
        {
          "output_type": "execute_result",
          "data": {
            "text/plain": [
              "4.0"
            ]
          },
          "metadata": {},
          "execution_count": 7
        }
      ]
    },
    {
      "cell_type": "markdown",
      "source": [
        "#### Example 2.\n",
        "Let's see now an example of negative determinant.\n",
        "\n",
        "We will transform the unit square with the matrix:\n",
        "\n",
        "$$ {B}=\\begin{bmatrix}\n",
        "    -2 & 0\\\\\\\\\n",
        "    0 & 2\n",
        "\\end{bmatrix}$$\n",
        "\n",
        "its determinant is $-4$"
      ],
      "metadata": {
        "id": "doUEqZtO0DNw"
      }
    },
    {
      "cell_type": "code",
      "source": [
        "B = np.array([[-2, 0], [0, 2]])\n",
        "np.linalg.det(B)"
      ],
      "metadata": {
        "colab": {
          "base_uri": "https://localhost:8080/"
        },
        "id": "VoNX8Spcz9wx",
        "outputId": "cf606c8c-1242-462c-b4f2-001883cc03ce"
      },
      "execution_count": 8,
      "outputs": [
        {
          "output_type": "execute_result",
          "data": {
            "text/plain": [
              "-4.0"
            ]
          },
          "metadata": {},
          "execution_count": 8
        }
      ]
    },
    {
      "cell_type": "code",
      "source": [
        "new_i_1 = B.dot(i)\n",
        "new_j_1 = B.dot(j)\n",
        "plotVectors([new_i_1, new_j_1], [['#1190FF'], ['#FF9A13']])\n",
        "plt.xlim(-3, 0.5)\n",
        "plt.ylim(-0.5, 3)\n",
        "plt.show()"
      ],
      "metadata": {
        "colab": {
          "base_uri": "https://localhost:8080/",
          "height": 272
        },
        "id": "5zEc5Ax50Qs8",
        "outputId": "b81a6b1c-d978-4be7-ec1c-5ea4eccf3f2c"
      },
      "execution_count": 9,
      "outputs": [
        {
          "output_type": "display_data",
          "data": {
            "text/plain": [
              "<Figure size 288x288 with 1 Axes>"
            ],
            "image/png": "[encoded data removed]"
          },
          "metadata": {
            "needs_background": "light"
          }
        }
      ]
    },
    {
      "cell_type": "markdown",
      "source": [
        "We can see that the matrices with determinant $2$\n",
        " and $-2$\n",
        " modified the area of the unit square the same way."
      ],
      "metadata": {
        "id": "Yz2kHpC00W6K"
      }
    },
    {
      "cell_type": "markdown",
      "source": [
        "The absolute value of the determinant shows that, as in the first example, the area of the new square is 4 times the area of the unit square. But this time, it was not just a rescaling but also a transformation. It is not obvious with only the unit vectors so let's transform some random points. We will use the matrix\n",
        "\n",
        "$${C}=\\begin{bmatrix}\n",
        "    -1 & 0\\\\\\\\\n",
        "    0 & 1\n",
        "\\end{bmatrix}$$\n",
        "\n",
        "that has a determinant equal to \n",
        " $-1$ for simplicity"
      ],
      "metadata": {
        "id": "T1wbaXeV0drz"
      }
    },
    {
      "cell_type": "code",
      "source": [
        "# Some random points\n",
        "points = np.array([[1, 3], [2, 2], [3, 1], [4, 7], [5, 4]])"
      ],
      "metadata": {
        "id": "HAa0EVmQ0TRG"
      },
      "execution_count": 10,
      "outputs": []
    },
    {
      "cell_type": "code",
      "source": [
        "C = np.array([[-1, 0], [0, 1]])\n",
        "np.linalg.det(C)"
      ],
      "metadata": {
        "colab": {
          "base_uri": "https://localhost:8080/"
        },
        "id": "Hc7nn8ao0sKp",
        "outputId": "1af1900a-93d3-4a7b-f06f-01a3ff97682e"
      },
      "execution_count": 11,
      "outputs": [
        {
          "output_type": "execute_result",
          "data": {
            "text/plain": [
              "-1.0"
            ]
          },
          "metadata": {},
          "execution_count": 11
        }
      ]
    },
    {
      "cell_type": "markdown",
      "source": [
        "Since the determinant is $-1$\n",
        ", the area of the space will not be changed. However, since it is negative we will observe a transformation that we can't obtain through rotation:"
      ],
      "metadata": {
        "id": "BlrYSxFt0xul"
      }
    },
    {
      "cell_type": "code",
      "source": [
        "newPoints = points.dot(C)\n",
        "\n",
        "plt.figure()\n",
        "plt.plot(points[:, 0], points[:, 1])\n",
        "plt.plot(newPoints[:, 0], newPoints[:, 1])\n",
        "plt.show()"
      ],
      "metadata": {
        "colab": {
          "base_uri": "https://localhost:8080/",
          "height": 268
        },
        "id": "oDl3BphQ0u6z",
        "outputId": "fe3253b8-fc1d-461a-a070-b744b714bad9"
      },
      "execution_count": 12,
      "outputs": [
        {
          "output_type": "display_data",
          "data": {
            "text/plain": [
              "<Figure size 288x288 with 1 Axes>"
            ],
            "image/png": "[encoded data removed]"
          },
          "metadata": {
            "needs_background": "light"
          }
        }
      ]
    },
    {
      "cell_type": "markdown",
      "source": [
        "You can see that the transformation mirrored the initial shape.\n",
        "\n",
        "## Conclusion\n",
        "We have seen that the determinant of a matrix is a special value telling us a lot of things on the transformation corresponding to this matrix. Now hang on and go to the last chapter on the Principal Component Analysis (PCA)."
      ],
      "metadata": {
        "id": "lID0vsBq1NmL"
      }
    }
  ]
}