{
  "nbformat": 4,
  "nbformat_minor": 0,
  "metadata": {
    "colab": {
      "provenance": [],
      "authorship_tag": "ABX9TyMNHmXsOVgOvgbpHS8fK7r3",
      "include_colab_link": true
    },
    "kernelspec": {
      "name": "python3",
      "display_name": "Python 3"
    },
    "language_info": {
      "name": "python"
    }
  },
  "cells": [
    {
      "cell_type": "markdown",
      "metadata": {
        "id": "view-in-github",
        "colab_type": "text"
      },
      "source": [
        "<a href=\"https://colab.research.google.com/github/MonitSharma/Numerical-Linear-Algebra/blob/main/Special_Kind_of_Matrices_and_Vectors.ipynb\" target=\"_parent\"><img src=\"https://colab.research.google.com/assets/colab-badge.svg\" alt=\"Open In Colab\"/></a>"
      ]
    },
    {
      "cell_type": "code",
      "execution_count": 1,
      "metadata": {
        "id": "VDtv-WqPO8Lj"
      },
      "outputs": [],
      "source": [
        "import numpy as np\n",
        "import matplotlib.pyplot as plt\n",
        "import seaborn as sns"
      ]
    },
    {
      "cell_type": "code",
      "source": [
        "# Plot parameters\n",
        "sns.set()\n",
        "%pylab inline\n",
        "pylab.rcParams['figure.figsize'] = (4, 4)\n",
        "plt.rcParams['xtick.major.size'] = 0\n",
        "plt.rcParams['ytick.major.size'] = 0\n",
        "# Avoid inaccurate floating values (for inverse matrices in dot product for instance)\n",
        "# See https://stackoverflow.com/questions/24537791/numpy-matrix-inversion-rounding-errors\n",
        "np.set_printoptions(suppress=True)"
      ],
      "metadata": {
        "colab": {
          "base_uri": "https://localhost:8080/"
        },
        "id": "wf4MPCq7PDYl",
        "outputId": "897131e4-18bb-4134-98ad-18112917532c"
      },
      "execution_count": 2,
      "outputs": [
        {
          "output_type": "stream",
          "name": "stdout",
          "text": [
            "Populating the interactive namespace from numpy and matplotlib\n"
          ]
        }
      ]
    },
    {
      "cell_type": "markdown",
      "source": [
        "# Introduction\n",
        "\n",
        "We will see other type of vectors and matrices in this chapter. It is not a big chapter but it is important to understand the next ones."
      ],
      "metadata": {
        "id": "z0BHqS4PPLGE"
      }
    },
    {
      "cell_type": "markdown",
      "source": [
        "# Special Kinds of Matrices and Vectors\n",
        "\n",
        "## Diagonal Matrices\n",
        "\n",
        "A matrix ${A}_{i,j}$\n",
        " is diagonal if its entries are all zeros except on the diagonal (when \n",
        "$i=j$).\n",
        "\n",
        "\n",
        "### Example 1\n",
        "\n",
        "$$ {D}=\n",
        "\\begin{bmatrix}\n",
        "    2 & 0 & 0 & 0\\\\\\\\\n",
        "    0 & 4 & 0 & 0\\\\\\\\\n",
        "    0 & 0 & 3 & 0\\\\\\\\\n",
        "    0 & 0 & 0 & 1\n",
        "\\end{bmatrix}$$\n",
        "\n",
        "In this case the matrix is also square but there can be non square diagonal matrices.\n",
        "\n",
        "\n",
        "### Example 2\n",
        "\n",
        "$$ {D}=\n",
        "\\begin{bmatrix}\n",
        "    2 & 0 & 0\\\\\\\\\n",
        "    0 & 4 & 0\\\\\\\\\n",
        "    0 & 0 & 3\\\\\\\\\n",
        "    0 & 0 & 0\n",
        "\\end{bmatrix}$$\n",
        "\n",
        "or\n",
        "\n",
        "$$ {D}=\n",
        "\\begin{bmatrix}\n",
        "    2 & 0 & 0 & 0\\\\\\\\\n",
        "    0 & 4 & 0 & 0\\\\\\\\\n",
        "    0 & 0 & 3 & 0\n",
        "\\end{bmatrix}$$\n",
        "\n",
        "The diagonal matrix can be denoted $diag({v})$\n",
        " where $v$ \n",
        " is the vector containing the diagonal values.\n",
        "\n",
        "\n",
        "\n",
        " ### Example 3\n",
        "\n",
        "$$ {D}=\n",
        "\\begin{bmatrix}\n",
        "    2 & 0 & 0 & 0\\\\\\\\\n",
        "    0 & 4 & 0 & 0\\\\\\\\\n",
        "    0 & 0 & 3 & 0\\\\\\\\\n",
        "    0 & 0 & 0 & 1\n",
        "\\end{bmatrix}$$\n",
        "\n",
        "in this matrix $v$ is the following vector\n",
        "\n",
        "$$ {v}=\n",
        "\\begin{bmatrix}\n",
        "    2\\\\\\\\\n",
        "    4\\\\\\\\\n",
        "    3\\\\\\\\\n",
        "    1\n",
        "\\end{bmatrix}$$\n",
        "\n",
        "\n",
        "The `numpy` function `diag()` can be used to create square diagonal matrices.\n"
      ],
      "metadata": {
        "id": "iDUX7zLzPNfC"
      }
    },
    {
      "cell_type": "code",
      "source": [
        "v = np.array([2, 4, 3, 1])\n",
        "np.diag(v)"
      ],
      "metadata": {
        "colab": {
          "base_uri": "https://localhost:8080/"
        },
        "id": "zXLN4ZcZPFQ2",
        "outputId": "297183bc-1f38-4fa5-ed26-db053ebf01bc"
      },
      "execution_count": 3,
      "outputs": [
        {
          "output_type": "execute_result",
          "data": {
            "text/plain": [
              "array([[2, 0, 0, 0],\n",
              "       [0, 4, 0, 0],\n",
              "       [0, 0, 3, 0],\n",
              "       [0, 0, 0, 1]])"
            ]
          },
          "metadata": {},
          "execution_count": 3
        }
      ]
    },
    {
      "cell_type": "markdown",
      "source": [
        "The mutliplication between a diagonal matrix and a vector is thus just a ponderation of each element of the vector by $v$\n",
        ":"
      ],
      "metadata": {
        "id": "L9N0I1hPQL2H"
      }
    },
    {
      "cell_type": "markdown",
      "source": [
        "### Example 4:\n",
        "\n",
        "$$ {D}=\n",
        "\\begin{bmatrix}\n",
        "    2 & 0 & 0 & 0\\\\\\\\\n",
        "    0 & 4 & 0 & 0\\\\\\\\\n",
        "    0 & 0 & 3 & 0\\\\\\\\\n",
        "    0 & 0 & 0 & 1\n",
        "\\end{bmatrix}$$\n",
        "\n",
        "and \n",
        "\n",
        "$$ {x}=\n",
        "\\begin{bmatrix}\n",
        "    3\\\\\\\\\n",
        "    2\\\\\\\\\n",
        "    2\\\\\\\\\n",
        "    7\n",
        "\\end{bmatrix}$$\n",
        "\n",
        "\n",
        "\n",
        "$$ \\begin{align*}\n",
        "&{Dx}=\n",
        "\\begin{bmatrix}\n",
        "    2 & 0 & 0 & 0\\\\\\\\\n",
        "    0 & 4 & 0 & 0\\\\\\\\\n",
        "    0 & 0 & 3 & 0\\\\\\\\\n",
        "    0 & 0 & 0 & 1\n",
        "\\end{bmatrix} \\times\n",
        "\\begin{bmatrix}\n",
        "    3\\\\\\\\\n",
        "    2\\\\\\\\\n",
        "    2\\\\\\\\\n",
        "    7\n",
        "\\end{bmatrix}\\\\\\\\\n",
        "&=\\begin{bmatrix}\n",
        "    2\\times3 + 0\\times2 + 0\\times2 + 0\\times7\\\\\\\\\n",
        "    0\\times3 + 4\\times2 + 0\\times2 + 0\\times7\\\\\\\\\n",
        "    0\\times3 + 0\\times2 + 3\\times2 + 0\\times7\\\\\\\\\n",
        "    0\\times3 + 0\\times2 + 0\\times2 + 1\\times7\n",
        "\\end{bmatrix}\\\\\\\\\n",
        "&=\n",
        "\\begin{bmatrix}\n",
        "    2\\times3\\\\\\\\\n",
        "    4\\times2\\\\\\\\\n",
        "    3\\times2\\\\\\\\\n",
        "    1\\times7\n",
        "\\end{bmatrix}\n",
        "\\end{align*}$$\n",
        "\n",
        "\n",
        "Non square matrices have the same properties:\n",
        "\n",
        "\n",
        "### Example 5\n",
        "\n",
        "$$ {D}=\n",
        "\\begin{bmatrix}\n",
        "    2 & 0 & 0\\\\\\\\\n",
        "    0 & 4 & 0\\\\\\\\\n",
        "    0 & 0 & 3\\\\\\\\\n",
        "    0 & 0 & 0\n",
        "\\end{bmatrix}$$\n",
        "\n",
        "and \n",
        "$$ {x}=\n",
        "\\begin{bmatrix}\n",
        "    3\\\\\\\\\n",
        "    2\\\\\\\\\n",
        "    2\n",
        "\\end{bmatrix}$$\n",
        "\n",
        "$$ {Dx}=\n",
        "\\begin{bmatrix}\n",
        "    2 & 0 & 0\\\\\\\\\n",
        "    0 & 4 & 0\\\\\\\\\n",
        "    0 & 0 & 3\\\\\\\\\n",
        "    0 & 0 & 0\n",
        "\\end{bmatrix}\n",
        "\\times\n",
        "\\begin{bmatrix}\n",
        "    3\\\\\\\\\n",
        "    2\\\\\\\\\n",
        "    2\n",
        "\\end{bmatrix}\n",
        "=\n",
        "\\begin{bmatrix}\n",
        "    2\\times3\\\\\\\\\n",
        "    4\\times2\\\\\\\\\n",
        "    3\\times2\\\\\\\\\n",
        "    0\n",
        "\\end{bmatrix}$$\n",
        "\n",
        "The invert of a square diagonal matrix exists if all entries of the diagonal are non-zeros. If it is the case, the invert is easy to find. Also, the inverse doen't exist if the matrix is non-square\n",
        "\n",
        "\n",
        "$$ {D}=\n",
        "\\begin{bmatrix}\n",
        "    2 & 0 & 0 & 0\\\\\\\\\n",
        "    0 & 4 & 0 & 0\\\\\\\\\n",
        "    0 & 0 & 3 & 0\\\\\\\\\n",
        "    0 & 0 & 0 & 1\n",
        "\\end{bmatrix}$$\n",
        "\n",
        "$$ {D}^{-1}=\n",
        "\\begin{bmatrix}\n",
        "    \\frac{1}{2} & 0 & 0 & 0\\\\\\\\\n",
        "    0 & \\frac{1}{4} & 0 & 0\\\\\\\\\n",
        "    0 & 0 & \\frac{1}{3} & 0\\\\\\\\\n",
        "    0 & 0 & 0 & \\frac{1}{1}\n",
        "\\end{bmatrix}$$\n",
        "\n",
        "$$ {D}=\n",
        "\\begin{bmatrix}\n",
        "    2 & 0 & 0 & 0\\\\\\\\\n",
        "    0 & 4 & 0 & 0\\\\\\\\\n",
        "    0 & 0 & 3 & 0\\\\\\\\\n",
        "    0 & 0 & 0 & 1\n",
        "\\end{bmatrix}\n",
        "\\begin{bmatrix}\n",
        "    \\frac{1}{2} & 0 & 0 & 0\\\\\\\\\n",
        "    0 & \\frac{1}{4} & 0 & 0\\\\\\\\\n",
        "    0 & 0 & \\frac{1}{3} & 0\\\\\\\\\n",
        "    0 & 0 & 0 & \\frac{1}{1}\n",
        "\\end{bmatrix}=\n",
        "\\begin{bmatrix}\n",
        "    1 & 0 & 0 & 0\\\\\\\\\n",
        "    0 & 1 & 0 & 0\\\\\\\\\n",
        "    0 & 0 & 1 & 0\\\\\\\\\n",
        "    0 & 0 & 0 & 1\n",
        "\\end{bmatrix}$$\n",
        "\n",
        "Let's check with Numpy that the multiplication of the matrix with its invert gives us the identity matrix:\n"
      ],
      "metadata": {
        "id": "CKmJ1x8vQOhd"
      }
    },
    {
      "cell_type": "code",
      "source": [
        "A = np.array([[2, 0, 0, 0], [0, 4, 0, 0], [0, 0, 3, 0], [0, 0, 0, 1]])\n",
        "A"
      ],
      "metadata": {
        "colab": {
          "base_uri": "https://localhost:8080/"
        },
        "id": "43ZiJWvfQJ8N",
        "outputId": "0d0984c5-44b9-4087-9bb4-8ca82b4ebdd5"
      },
      "execution_count": 4,
      "outputs": [
        {
          "output_type": "execute_result",
          "data": {
            "text/plain": [
              "array([[2, 0, 0, 0],\n",
              "       [0, 4, 0, 0],\n",
              "       [0, 0, 3, 0],\n",
              "       [0, 0, 0, 1]])"
            ]
          },
          "metadata": {},
          "execution_count": 4
        }
      ]
    },
    {
      "cell_type": "code",
      "source": [
        "A_inv = np.array([[1/2., 0, 0, 0], [0, 1/4., 0, 0], [0, 0, 1/3., 0], [0, 0, 0, 1/1.]])\n",
        "A_inv"
      ],
      "metadata": {
        "colab": {
          "base_uri": "https://localhost:8080/"
        },
        "id": "vpiToHOARCYR",
        "outputId": "ccb94715-d581-4534-f1f0-4635aaf9215c"
      },
      "execution_count": 5,
      "outputs": [
        {
          "output_type": "execute_result",
          "data": {
            "text/plain": [
              "array([[0.5       , 0.        , 0.        , 0.        ],\n",
              "       [0.        , 0.25      , 0.        , 0.        ],\n",
              "       [0.        , 0.        , 0.33333333, 0.        ],\n",
              "       [0.        , 0.        , 0.        , 1.        ]])"
            ]
          },
          "metadata": {},
          "execution_count": 5
        }
      ]
    },
    {
      "cell_type": "code",
      "source": [
        "A.dot(A_inv)"
      ],
      "metadata": {
        "colab": {
          "base_uri": "https://localhost:8080/"
        },
        "id": "QFxd5njyREAT",
        "outputId": "0e60a64c-f4db-481a-a858-ca80b4856419"
      },
      "execution_count": 6,
      "outputs": [
        {
          "output_type": "execute_result",
          "data": {
            "text/plain": [
              "array([[1., 0., 0., 0.],\n",
              "       [0., 1., 0., 0.],\n",
              "       [0., 0., 1., 0.],\n",
              "       [0., 0., 0., 1.]])"
            ]
          },
          "metadata": {},
          "execution_count": 6
        }
      ]
    },
    {
      "cell_type": "markdown",
      "source": [
        "## Symmetric Matrices\n",
        "\n",
        "The matrix $A$ is symmetric if it is equal to its transpose\n",
        "\n",
        "$$ A = A^{T}$$\n",
        "\n",
        "This concerns only square matrices.\n",
        "\n",
        "\n",
        "### Example 6\n",
        "\n",
        "$$ {A}=\n",
        "\\begin{bmatrix}\n",
        "    2 & 4 & -1\\\\\\\\\n",
        "    4 & -8 & 0\\\\\\\\\n",
        "    -1 & 0 & 3\n",
        "\\end{bmatrix}$$"
      ],
      "metadata": {
        "id": "aIv17TxsRHV3"
      }
    },
    {
      "cell_type": "code",
      "source": [
        "A = np.array([[2, 4, -1], [4, -8, 0], [-1, 0, 3]])\n",
        "A"
      ],
      "metadata": {
        "id": "w-FzhztDRGFf"
      },
      "execution_count": 6,
      "outputs": []
    },
    {
      "cell_type": "code",
      "source": [
        "A.T"
      ],
      "metadata": {
        "colab": {
          "base_uri": "https://localhost:8080/"
        },
        "id": "UwwB4L96Qu-F",
        "outputId": "893fd16a-77c6-4888-feb9-c4a40dc45e54"
      },
      "execution_count": 7,
      "outputs": [
        {
          "output_type": "execute_result",
          "data": {
            "text/plain": [
              "array([[2, 0, 0, 0],\n",
              "       [0, 4, 0, 0],\n",
              "       [0, 0, 3, 0],\n",
              "       [0, 0, 0, 1]])"
            ]
          },
          "metadata": {},
          "execution_count": 7
        }
      ]
    },
    {
      "cell_type": "markdown",
      "source": [
        "# Unit Vectors\n",
        "\n",
        "A unit vector is a vector of length equal to $1$. It can be denoted by a letter with a hat $ \\hat{u}$\n",
        "\n",
        "\n"
      ],
      "metadata": {
        "id": "AmrFSNiXQ03Y"
      }
    },
    {
      "cell_type": "markdown",
      "source": [
        "# Orthogonal Vectors\n",
        "\n",
        "\n",
        "Two orthogonal vectors are separated by a $90$ angle. The dot product of two orthogonal vector gives $0$."
      ],
      "metadata": {
        "id": "aJ_4RzAzRGNg"
      }
    },
    {
      "cell_type": "markdown",
      "source": [
        "### Example 7\n",
        "\n",
        "$$ {x}= \n",
        "\\begin{bmatrix}\n",
        "    2\\\\\\\\\n",
        "    2\n",
        "\\end{bmatrix}$$\n",
        "and\n",
        "$$ {y}=\n",
        "\\begin{bmatrix}\n",
        "    2\\\\\\\\\n",
        "    -2\n",
        "\\end{bmatrix}$$\n",
        "\n",
        "$$ {x^\\text{T}y}=\n",
        "\\begin{bmatrix}\n",
        "    2 & 2\n",
        "\\end{bmatrix}\n",
        "\\begin{bmatrix}\n",
        "    2\\\\\\\\\n",
        "    -2\n",
        "\\end{bmatrix}=\n",
        "\\begin{bmatrix}\n",
        "    2\\times2 + 2\\times-2\n",
        "\\end{bmatrix}=0$$"
      ],
      "metadata": {
        "id": "p88ft_aMRWCV"
      }
    },
    {
      "cell_type": "code",
      "source": [
        "x = [0,0,2,2]\n",
        "y = [0,0,2,-2]\n",
        "\n",
        "plt.quiver([x[0], y[0]],\n",
        "           [x[1], y[1]],\n",
        "           [x[2], y[2]],\n",
        "           [x[3], y[3]],\n",
        "           angles='xy', scale_units='xy', scale=1)\n",
        "\n",
        "plt.xlim(-2, 4)\n",
        "plt.ylim(-3, 3)\n",
        "plt.axvline(x=0, color='grey')\n",
        "plt.axhline(y=0, color='grey')\n",
        "\n",
        "plt.text(1, 1.5, r'$\\vec{u}$', size=18)\n",
        "plt.text(1.5, -1, r'$\\vec{v}$', size=18)\n",
        "\n",
        "plt.show()\n",
        "plt.close()"
      ],
      "metadata": {
        "colab": {
          "base_uri": "https://localhost:8080/",
          "height": 266
        },
        "id": "0r22k8nbQwOE",
        "outputId": "600d18f4-2708-4e61-d641-1eb998eb3fa5"
      },
      "execution_count": 8,
      "outputs": [
        {
          "output_type": "display_data",
          "data": {
            "text/plain": [
              "<Figure size 288x288 with 1 Axes>"
            ],
            "image/png": "[encoded data removed]"
          },
          "metadata": {
            "needs_background": "light"
          }
        }
      ]
    },
    {
      "cell_type": "markdown",
      "source": [
        "In addition, when the norm of orthogonal vectors is the unit norm they are called **orthonormal**.\n",
        "\n",
        "-----\n",
        "\n",
        "\n",
        "It is impossible to have more than \n",
        "$n$ vectors mutually orthogonal in $\\mathbb{R}^n$\n",
        ".\n",
        "It is impossible to have more than $n$ \n",
        " vectors mutually orthogonal in  $\\mathbb{R}^n$\n",
        ". For instance try to draw 3 vectors in a 2-dimensional space ($\\mathbb{R}^2$\n",
        ") that are mutually orthogonal..."
      ],
      "metadata": {
        "id": "EINLIlnxRq42"
      }
    },
    {
      "cell_type": "markdown",
      "source": [
        "# Orthogonal Matrices\n",
        "\n",
        "Orthogonal matrices are important because they have interesting properties. A matrix is orthogonal if columns are mutually orthogonal and have a unit norm (orthonormal) and rows are mutually orthonormal and have unit norm.\n",
        "\n",
        "\n",
        "-----\n",
        "\n",
        "Under the hood of an orthogonal matrix\n",
        "\n",
        "$$ {A}= \n",
        "\\begin{bmatrix}\n",
        "    A_{1,1} & A_{1,2}\\\\\\\\\n",
        "    A_{2,1} & A_{2,2}\n",
        "\\end{bmatrix}$$\n",
        "\n",
        "\n",
        "This means that\n",
        "\n",
        "$$ \\begin{bmatrix}\n",
        "    A_{1,1}\\\\\\\\\n",
        "    A_{2,1}\n",
        "\\end{bmatrix}$$\n",
        "\n",
        "and \n",
        "\n",
        "$$ \\begin{bmatrix}\n",
        "    A_{1,2}\\\\\\\\\n",
        "    A_{2,2}\n",
        "\\end{bmatrix}$$\n",
        "\n",
        "are orthogonal vectors and also that the rows\n",
        "\n",
        "$$ \\begin{bmatrix}\n",
        "    A_{1,1} & A_{1,2}\n",
        "\\end{bmatrix}$$\n",
        "\n",
        "and \n",
        "\n",
        "$$ \\begin{bmatrix}\n",
        "    A_{2,1} & A_{2,2}\n",
        "\\end{bmatrix}$$\n",
        "\n",
        "are orthogonal vectors."
      ],
      "metadata": {
        "id": "0iEPblyWR-TC"
      }
    },
    {
      "cell_type": "markdown",
      "source": [
        "## Property 1: ${A^\\text{T}A}={I}$\n",
        "\n",
        "A orthogonal matrix has this property\n",
        "\n",
        "$$ {A^\\text{T}A}={AA^\\text{T}}={I}$$\n",
        "\n",
        "We can see that this statement is true with the following reasoning.\n",
        "\n",
        "\n",
        "-----\n",
        "\n",
        "let's have the following matrix\n",
        "\n",
        "$$ {A}=\\begin{bmatrix}\n",
        "    a & b\\\\\\\\\n",
        "    c & d\n",
        "\\end{bmatrix}$$\n",
        "\n",
        "and thus\n",
        "\n",
        "$$ {A}^\\text{T}=\\begin{bmatrix}\n",
        "    a & c\\\\\\\\\n",
        "    b & d\n",
        "\\end{bmatrix}$$\n",
        "\n",
        "\n",
        "Let's do the dot product\n",
        "\n",
        "$$ \\begin{align*}\n",
        "&{A^\\text{T}A}=\\begin{bmatrix}\n",
        "    a & c\\\\\\\\\n",
        "    b & d\n",
        "\\end{bmatrix}\n",
        "\\begin{bmatrix}\n",
        "    a & b\\\\\\\\\n",
        "    c & d\n",
        "\\end{bmatrix}\n",
        "=\n",
        "\\begin{bmatrix}\n",
        "    aa + cc & ab + cd\\\\\\\\\n",
        "    ab + cd & bb + dd\n",
        "\\end{bmatrix}\\\\\\\\\n",
        "&=\n",
        "\\begin{bmatrix}\n",
        "    a^2 + c^2 & ab + cd\\\\\\\\\n",
        "    ab + cd & b^2 + d^2\n",
        "\\end{bmatrix}\n",
        "\\end{align*}$$\n",
        "\n",
        "\n",
        "-----\n",
        "\n",
        "We saw previously that the norm of the vector  $[a,c]$\n",
        " \n",
        " is equal to $a^2 + c^2$\n",
        " ($L^2$\n",
        " or squared $L^2$\n",
        "). In addtion, we saw that the rows of \n",
        "$A$ have a unit norm because $A$\n",
        " is orthogonal. This means that $b^2 + d^2 = 1$\n",
        " and $a^2 + c^2  = 1$\n",
        ". So we now have:\n",
        "\n",
        "\n",
        "$$ {A^\\text{T}A}=\n",
        "\\begin{bmatrix}\n",
        "    1 & ab + cd\\\\\\\\\n",
        "    ab + cd & 1\n",
        "\\end{bmatrix}$$\n",
        "\n",
        "\n",
        "Also, $ab+cd$ corresponds to the product of $[a c]$ and $[b d]$ \n",
        "\n",
        "\n",
        "$$ \\begin{bmatrix}\n",
        "    a & c\n",
        "\\end{bmatrix}\n",
        "\\begin{bmatrix}\n",
        "    b\\\\\\\\\n",
        "    d\n",
        "\\end{bmatrix}\n",
        "=\n",
        "ab+cd$$\n",
        "\n",
        "\n",
        "----\n",
        "\n",
        "And we know that the columns are orthogonal which means that:\n",
        "\n",
        "$$ \\begin{bmatrix}\n",
        "    a & c\n",
        "\\end{bmatrix}\n",
        "\\begin{bmatrix}\n",
        "    b\\\\\\\\\n",
        "    d\n",
        "\\end{bmatrix}=0$$\n",
        "\n",
        "\n",
        "We this have the identity matrix\n",
        "\n",
        "$$ {A^\\text{T}A}=\\begin{bmatrix}\n",
        "    1 & 0\\\\\\\\\n",
        "    0 & 1\n",
        "\\end{bmatrix}$$"
      ],
      "metadata": {
        "id": "U7-N2gQ8Sc7T"
      }
    },
    {
      "cell_type": "markdown",
      "source": [
        "## Property 2 : ${A}^\\text{T}={A}^{-1}$\n",
        "\n",
        "We can show that if $ {A^\\text{T}A}={I}$ then  $ {A}^\\text{T}={A}^{-1}$\n",
        "\n",
        "If we multiply each side of the equation ${A^\\text{T}A}={I}$ by $A^{-1}$ we have:\n",
        "\n",
        "$$ ({A^\\text{T}A}){A}^{-1}={I}{A}^{-1}$$\n",
        "\n",
        "Recall from previous that a matrix or vector doesn't change when it is multiplied by the identity matrix. So we have:\n",
        "\n",
        "$$ ({A^\\text{T}A}){A}^{-1}={A}^{-1}$$\n",
        "\n",
        "\n",
        "We also saw that matrix multiplication is associative so we can remove the parenthesis:\n",
        "\n",
        "$$ {A^\\text{T}A}{A}^{-1}={A}^{-1}$$\n",
        "\n",
        "We also know that ${A}{A}^{-1}={I}$ so we can replace\n",
        "\n",
        "$$ {A^\\text{T}}{I}={A}^{-1}$$\n",
        "\n",
        "This shows that\n",
        "\n",
        "$${A}^\\text{T}={A}^{-1}$$"
      ],
      "metadata": {
        "id": "v37yKQRzUkgm"
      }
    },
    {
      "cell_type": "markdown",
      "source": [
        "### Example 8:\n",
        "\n",
        "Sine and cosine are convenient to create orthogonal matrices. Let's take the following matrix:\n",
        "\n",
        "$$ {A}= \n",
        "\\begin{bmatrix}\n",
        "    cos(50) & -sin(50)\\\\\\\\\n",
        "    sin(50) & cos(50)\n",
        "\\end{bmatrix}$$\n"
      ],
      "metadata": {
        "id": "QTfgk-t9V3HT"
      }
    },
    {
      "cell_type": "code",
      "source": [
        "A = np.array([[np.cos(50), -np.sin(50)], [np.sin(50), np.cos(50)]])\n",
        "A"
      ],
      "metadata": {
        "colab": {
          "base_uri": "https://localhost:8080/"
        },
        "id": "ekzhtmgFRbDg",
        "outputId": "3f184db7-e3a5-4a2a-c630-0e145e0221f4"
      },
      "execution_count": 9,
      "outputs": [
        {
          "output_type": "execute_result",
          "data": {
            "text/plain": [
              "array([[ 0.96496603,  0.26237485],\n",
              "       [-0.26237485,  0.96496603]])"
            ]
          },
          "metadata": {},
          "execution_count": 9
        }
      ]
    },
    {
      "cell_type": "code",
      "source": [
        "col0 = A[:, [0]]\n",
        "col1 = A[:, [1]]\n",
        "row0 = A[0].reshape(A.shape[1], 1)\n",
        "row1 = A[1].reshape(A.shape[1], 1)"
      ],
      "metadata": {
        "id": "iIn9LYN4V-cy"
      },
      "execution_count": 10,
      "outputs": []
    },
    {
      "cell_type": "markdown",
      "source": [
        "Let's check that rows and columns are orthogonal:"
      ],
      "metadata": {
        "id": "GF8ixjzmWBco"
      }
    },
    {
      "cell_type": "code",
      "source": [
        "col0.T.dot(col1)"
      ],
      "metadata": {
        "colab": {
          "base_uri": "https://localhost:8080/"
        },
        "id": "kKyunrNOV_8r",
        "outputId": "a161ff1b-2760-4f82-f1bd-22c88c1e37e9"
      },
      "execution_count": 11,
      "outputs": [
        {
          "output_type": "execute_result",
          "data": {
            "text/plain": [
              "array([[0.]])"
            ]
          },
          "metadata": {},
          "execution_count": 11
        }
      ]
    },
    {
      "cell_type": "code",
      "source": [
        "row0.T.dot(row1)"
      ],
      "metadata": {
        "colab": {
          "base_uri": "https://localhost:8080/"
        },
        "id": "x_KXiaFUWD6G",
        "outputId": "36fe3fba-d77f-4de5-ef30-0dc78a1f826d"
      },
      "execution_count": 12,
      "outputs": [
        {
          "output_type": "execute_result",
          "data": {
            "text/plain": [
              "array([[0.]])"
            ]
          },
          "metadata": {},
          "execution_count": 12
        }
      ]
    },
    {
      "cell_type": "markdown",
      "source": [
        "Let's check that\n",
        "\n",
        "$$ {A^\\text{T}A}={AA^\\text{T}}={I}$$\n",
        "\n",
        "and thus\n",
        "\n",
        "$$ {A}^\\text{T}={A}^{-1}$$"
      ],
      "metadata": {
        "id": "rbrdQ_yOWJDE"
      }
    },
    {
      "cell_type": "code",
      "source": [
        "A.T.dot(A)"
      ],
      "metadata": {
        "colab": {
          "base_uri": "https://localhost:8080/"
        },
        "id": "P6Uvs6K5WFQp",
        "outputId": "484f88e4-2fd0-4143-b748-47daa8639ea4"
      },
      "execution_count": 13,
      "outputs": [
        {
          "output_type": "execute_result",
          "data": {
            "text/plain": [
              "array([[1., 0.],\n",
              "       [0., 1.]])"
            ]
          },
          "metadata": {},
          "execution_count": 13
        }
      ]
    },
    {
      "cell_type": "code",
      "source": [
        "A.T"
      ],
      "metadata": {
        "colab": {
          "base_uri": "https://localhost:8080/"
        },
        "id": "KBBMpcbJWUHv",
        "outputId": "0b3d5039-c5b5-40d1-fe9a-41eda6c393f8"
      },
      "execution_count": 14,
      "outputs": [
        {
          "output_type": "execute_result",
          "data": {
            "text/plain": [
              "array([[ 0.96496603, -0.26237485],\n",
              "       [ 0.26237485,  0.96496603]])"
            ]
          },
          "metadata": {},
          "execution_count": 14
        }
      ]
    },
    {
      "cell_type": "code",
      "source": [
        "numpy.linalg.inv(A)"
      ],
      "metadata": {
        "colab": {
          "base_uri": "https://localhost:8080/"
        },
        "id": "dNfIIxs7WVZA",
        "outputId": "6052861f-7d0a-4ff6-b66a-286195033579"
      },
      "execution_count": 15,
      "outputs": [
        {
          "output_type": "execute_result",
          "data": {
            "text/plain": [
              "array([[ 0.96496603, -0.26237485],\n",
              "       [ 0.26237485,  0.96496603]])"
            ]
          },
          "metadata": {},
          "execution_count": 15
        }
      ]
    },
    {
      "cell_type": "markdown",
      "source": [
        "## Conclusion\n",
        "\n",
        "In this chapter we saw different interesting type of matrices with specific properties. It is generally useful to recall them while we deal with this kind of matrices"
      ],
      "metadata": {
        "id": "t1a0RQe1WXok"
      }
    }
  ]
}