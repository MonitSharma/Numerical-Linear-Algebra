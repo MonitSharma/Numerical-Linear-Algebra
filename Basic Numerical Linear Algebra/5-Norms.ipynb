{
  "nbformat": 4,
  "nbformat_minor": 0,
  "metadata": {
    "colab": {
      "provenance": [],
      "authorship_tag": "ABX9TyPULUjYFWEp8u/9CSh9N5nu",
      "include_colab_link": true
    },
    "kernelspec": {
      "name": "python3",
      "display_name": "Python 3"
    },
    "language_info": {
      "name": "python"
    }
  },
  "cells": [
    {
      "cell_type": "markdown",
      "metadata": {
        "id": "view-in-github",
        "colab_type": "text"
      },
      "source": [
        "<a href=\"https://colab.research.google.com/github/MonitSharma/Numerical-Linear-Algebra/blob/main/Norms.ipynb\" target=\"_parent\"><img src=\"https://colab.research.google.com/assets/colab-badge.svg\" alt=\"Open In Colab\"/></a>"
      ]
    },
    {
      "cell_type": "code",
      "execution_count": 1,
      "metadata": {
        "id": "c2FkKmYDGb__"
      },
      "outputs": [],
      "source": [
        "import numpy as np\n",
        "import matplotlib.pyplot as plt\n",
        "import seaborn as sns"
      ]
    },
    {
      "cell_type": "code",
      "source": [
        "# Plot parameters\n",
        "sns.set()\n",
        "%pylab inline\n",
        "pylab.rcParams['figure.figsize'] = (4, 4)\n",
        "plt.rcParams['xtick.major.size'] = 0\n",
        "plt.rcParams['ytick.major.size'] = 0\n",
        "# Avoid inaccurate floating values (for inverse matrices in dot product for instance)\n",
        "# See https://stackoverflow.com/questions/24537791/numpy-matrix-inversion-rounding-errors\n",
        "np.set_printoptions(suppress=True)"
      ],
      "metadata": {
        "colab": {
          "base_uri": "https://localhost:8080/"
        },
        "id": "PrLpUuWzHImE",
        "outputId": "e4782150-1afd-4f87-c13a-17bab59ffa5d"
      },
      "execution_count": 2,
      "outputs": [
        {
          "output_type": "stream",
          "name": "stdout",
          "text": [
            "Populating the interactive namespace from numpy and matplotlib\n"
          ]
        }
      ]
    },
    {
      "cell_type": "markdown",
      "source": [
        "# Introduction\n",
        "\n",
        "We will however see an important concept for machine learning and deep learning. The norm is what is generally used to evaluate the error of a model. For instance it is used to calculate the error between the output of a neural network and what is expected (the actual label or value). You can think of the norm as the length of a vector. It is a function that maps a vector to a positive value. Different functions can be used and we will see few examples."
      ],
      "metadata": {
        "id": "vArOMgdaHLgy"
      }
    },
    {
      "cell_type": "markdown",
      "source": [
        "# Norms\n",
        "\n",
        "Norms are any functions that are characterized by the following properties:\n",
        "\n",
        "1. Norms are non-negative values. If you think of the norms as a length, you easily see why it can't be negative.\n",
        "\n",
        "2. Norms are $0$ \n",
        " if and only if the vector is a zero vector\n",
        "\n",
        "3. Norms respect the triangle inequality. See bellow.\n",
        "\n",
        "4. $||{{k}\\cdot {u}}||=| {k}| \\cdot |{{u}}|$ The norm of a vector multiplied by a scalar is equal to the absolute value of this scalar multiplied by the norm of the vector.\n",
        "\n",
        "5. It is usually written with two horizontal bars: $||x||$\n",
        "\n",
        "\n"
      ],
      "metadata": {
        "id": "TKMUl_VAHPWQ"
      }
    },
    {
      "cell_type": "markdown",
      "source": [
        "## The triangle inequality\n",
        "\n",
        "The norm of the sum of some vectors is less than or equal to the sum of the norms of these vectors\n",
        "\n",
        "$$ || u +v|| \\leq ||u||+||v||$$"
      ],
      "metadata": {
        "id": "PyZ6kqPbHout"
      }
    },
    {
      "cell_type": "markdown",
      "source": [
        "### Example 1\n",
        " ${u}=\n",
        "\\begin{bmatrix}\n",
        "    1 & 6\n",
        "\\end{bmatrix}$ and ${v}=\n",
        "\\begin{bmatrix}\n",
        "    4 & 2\n",
        "\\end{bmatrix}$\n",
        "\n",
        "$$ ||{{u}+{v}}|| = \\sqrt{(1+4)^2+(6+2)^2} = \\sqrt{89} \\approx 9.43$$\n",
        "\n",
        "$$ ||u||+||v|| = \\sqrt{1^2+6^2}+\\sqrt{4^2+2^2} = \\sqrt{37}+\\sqrt{20} \\approx 10.55 $$\n",
        "\n",
        "\n"
      ],
      "metadata": {
        "id": "KzEyLh1dH-dw"
      }
    },
    {
      "cell_type": "markdown",
      "source": [
        "Let's see the code results"
      ],
      "metadata": {
        "id": "hR36gmipIkpA"
      }
    },
    {
      "cell_type": "code",
      "source": [
        "u = np.array([1, 6])\n",
        "u"
      ],
      "metadata": {
        "colab": {
          "base_uri": "https://localhost:8080/"
        },
        "id": "Ychty86ZHKC_",
        "outputId": "16f269c9-385e-40c1-ef18-b12a5896c9dd"
      },
      "execution_count": 3,
      "outputs": [
        {
          "output_type": "execute_result",
          "data": {
            "text/plain": [
              "array([1, 6])"
            ]
          },
          "metadata": {},
          "execution_count": 3
        }
      ]
    },
    {
      "cell_type": "code",
      "source": [
        "v = np.array([4, 2])\n",
        "v"
      ],
      "metadata": {
        "colab": {
          "base_uri": "https://localhost:8080/"
        },
        "id": "4KBGwapqIn2O",
        "outputId": "812c1f03-eb91-4fbe-ca4f-1f1ff16dd477"
      },
      "execution_count": 4,
      "outputs": [
        {
          "output_type": "execute_result",
          "data": {
            "text/plain": [
              "array([4, 2])"
            ]
          },
          "metadata": {},
          "execution_count": 4
        }
      ]
    },
    {
      "cell_type": "code",
      "source": [
        "u+v"
      ],
      "metadata": {
        "colab": {
          "base_uri": "https://localhost:8080/"
        },
        "id": "yB0RLggJIo9R",
        "outputId": "41961909-e972-4b3b-8f0c-36870ad54189"
      },
      "execution_count": 5,
      "outputs": [
        {
          "output_type": "execute_result",
          "data": {
            "text/plain": [
              "array([5, 8])"
            ]
          },
          "metadata": {},
          "execution_count": 5
        }
      ]
    },
    {
      "cell_type": "code",
      "source": [
        "np.linalg.norm(u+v)"
      ],
      "metadata": {
        "colab": {
          "base_uri": "https://localhost:8080/"
        },
        "id": "KFd6K8HPIqO5",
        "outputId": "5e7fc6ea-0920-4059-adad-1a3c6085710b"
      },
      "execution_count": 6,
      "outputs": [
        {
          "output_type": "execute_result",
          "data": {
            "text/plain": [
              "9.433981132056603"
            ]
          },
          "metadata": {},
          "execution_count": 6
        }
      ]
    },
    {
      "cell_type": "code",
      "source": [
        "np.linalg.norm(u)+np.linalg.norm(v)"
      ],
      "metadata": {
        "colab": {
          "base_uri": "https://localhost:8080/"
        },
        "id": "0euorccnIrc7",
        "outputId": "2a702e53-a838-4413-84bc-026e6239c0ed"
      },
      "execution_count": 7,
      "outputs": [
        {
          "output_type": "execute_result",
          "data": {
            "text/plain": [
              "10.554898485297798"
            ]
          },
          "metadata": {},
          "execution_count": 7
        }
      ]
    },
    {
      "cell_type": "code",
      "source": [
        "u = [0,0,1,6]\n",
        "v = [0,0,4,2]\n",
        "u_bis = [1,6,v[2],v[3]]\n",
        "w = [0,0,5,8]\n",
        "plt.quiver([u[0], u_bis[0], w[0]],\n",
        "           [u[1], u_bis[1], w[1]],\n",
        "           [u[2], u_bis[2], w[2]],\n",
        "           [u[3], u_bis[3], w[3]],\n",
        "           angles='xy', scale_units='xy', scale=1, color=sns.color_palette())\n",
        "# plt.rc('text', usetex=True)\n",
        "plt.xlim(-2, 6)\n",
        "plt.ylim(-2, 9)\n",
        "plt.axvline(x=0, color='grey')\n",
        "plt.axhline(y=0, color='grey')\n",
        "\n",
        "plt.text(-1, 3.5, r'$||\\vec{u}||$', color=sns.color_palette()[0], size=20)\n",
        "plt.text(2.5, 7.5, r'$||\\vec{v}||$', color=sns.color_palette()[1], size=20)\n",
        "plt.text(2, 2, r'$||\\vec{u}+\\vec{v}||$', color=sns.color_palette()[2], size=20)\n",
        "\n",
        "plt.show()\n",
        "plt.close()"
      ],
      "metadata": {
        "colab": {
          "base_uri": "https://localhost:8080/",
          "height": 262
        },
        "id": "jjCWEVc9IsyW",
        "outputId": "11cca635-2ae4-4063-dce7-a775e7290e00"
      },
      "execution_count": 8,
      "outputs": [
        {
          "output_type": "display_data",
          "data": {
            "text/plain": [
              "<Figure size 288x288 with 1 Axes>"
            ],
            "image/png": "[encoded data removed]"
          },
          "metadata": {
            "needs_background": "light"
          }
        }
      ]
    },
    {
      "cell_type": "markdown",
      "source": [
        "Geometrically, this simply means that the shortest path between two points is a line"
      ],
      "metadata": {
        "id": "w-jJKB52IwqD"
      }
    },
    {
      "cell_type": "markdown",
      "source": [
        "# P-norms : General Rules\n",
        "\n",
        "Here is the recipe to get the \n",
        "$p$-norm of a vector:\n",
        "\n",
        "1. Calculate the absolute value of each element\n",
        "2. Take the power $p$ \n",
        " of these absolute values\n",
        "3. Sum all these powered absolute values\n",
        "4. Take the power $\\frac{1}{p}$ \n",
        " of this result.\n",
        "\n",
        "This is more condensly expressed with the formula:\n",
        "\n",
        "\n",
        "$$ ||{{x}}_p||=(\\sum_i|{x}_i|^p)^{1/p}$$\n",
        "\n",
        "This will be clear with examples using these widely used $p$-norms.\n"
      ],
      "metadata": {
        "id": "CYXH2xc_IyGv"
      }
    },
    {
      "cell_type": "markdown",
      "source": [
        "## The $L^1$ norm\n",
        "\n",
        "$p=1$  so this norm is simply the sum of the absolute values:\n",
        "\n",
        "$$ ||{{x}}||_1=\\sum_{i} |{x}_i|$$"
      ],
      "metadata": {
        "id": "jJxE2LWGJWiO"
      }
    },
    {
      "cell_type": "markdown",
      "source": [
        "## The Euclidean Norm ( L^2 norm)\n",
        "\n",
        "The Euclidean norm is the $p$-norm with $p=2$. This may be the more used norm with the squared $L^2$ norm.\n",
        "\n",
        "\n",
        "$$ ||{{x}}||_2=(\\sum_i {x}_i^2)^{1/2}\\Leftrightarrow \\sqrt{\\sum_i {x}_i^2}$$\n",
        "\n",
        "\n",
        "Let's see an example"
      ],
      "metadata": {
        "id": "Nk1EBLsCJh9T"
      }
    },
    {
      "cell_type": "markdown",
      "source": [
        "### Example 2\n",
        "\n",
        "Graphically, the Euclidean norm corresponds to the length of the vector from the origin to the point obtained by linear combination (like applying Pythagorean theorem).\n",
        "\n",
        "$$ {u}=\n",
        "\\begin{bmatrix}\n",
        "    3 \\\\\\\\\n",
        "    4\n",
        "\\end{bmatrix}$$\n",
        "\n",
        "$$ \\begin{align*}\n",
        "||{{u}}||_2 &=\\sqrt{|3|^2+|4|^2}\\\\\\\\\n",
        "&=\\sqrt{25}\\\\\\\\\n",
        "&=5\n",
        "\\end{align*} $$\n",
        "\n",
        "\n",
        "So the $L^2$ norm is $5$.\n",
        "\n",
        "-----\n",
        "\n",
        "The $L^2$ norm can be calculates with `linalg.norm` function from `numpy`. We can check the result\n"
      ],
      "metadata": {
        "id": "TJvySU1tJ1Zb"
      }
    },
    {
      "cell_type": "code",
      "source": [
        "np.linalg.norm([3, 4])"
      ],
      "metadata": {
        "colab": {
          "base_uri": "https://localhost:8080/"
        },
        "id": "wN031WXXIuhc",
        "outputId": "1c8734a6-bd3a-41b6-9dd4-0225be3821f0"
      },
      "execution_count": 9,
      "outputs": [
        {
          "output_type": "execute_result",
          "data": {
            "text/plain": [
              "5.0"
            ]
          },
          "metadata": {},
          "execution_count": 9
        }
      ]
    },
    {
      "cell_type": "markdown",
      "source": [
        "Here is the graphical representation of the vectors:"
      ],
      "metadata": {
        "id": "JfNYxJQxKQBm"
      }
    },
    {
      "cell_type": "code",
      "source": [
        "u = [0,0,3,4]\n",
        "\n",
        "plt.quiver([u[0]],\n",
        "           [u[1]],\n",
        "           [u[2]],\n",
        "           [u[3]],\n",
        "           angles='xy', scale_units='xy', scale=1)\n",
        "\n",
        "plt.xlim(-2, 4)\n",
        "plt.ylim(-2, 5)\n",
        "plt.axvline(x=0, color='grey')\n",
        "plt.axhline(y=0, color='grey')\n",
        "\n",
        "plt.annotate('', xy = (3.2, 0), xytext = (3.2, 4),\n",
        "             arrowprops=dict(edgecolor='black', arrowstyle = '<->'))\n",
        "plt.annotate('', xy = (0, -0.2), xytext = (3, -0.2),\n",
        "             arrowprops=dict(edgecolor='black', arrowstyle = '<->'))\n",
        "\n",
        "plt.text(1, 2.5, r'$\\vec{u}$', size=18)\n",
        "plt.text(3.3, 2, r'$\\vec{u}_y$', size=18)\n",
        "plt.text(1.5, -1, r'$\\vec{u}_x$', size=18)\n",
        "\n",
        "plt.show()\n",
        "plt.close()"
      ],
      "metadata": {
        "colab": {
          "base_uri": "https://localhost:8080/",
          "height": 266
        },
        "id": "uUr4PIhpKOSt",
        "outputId": "3635c1f3-e43a-4eff-9803-f398d8091020"
      },
      "execution_count": 10,
      "outputs": [
        {
          "output_type": "display_data",
          "data": {
            "text/plain": [
              "<Figure size 288x288 with 1 Axes>"
            ],
            "image/png": "[encoded data removed]"
          },
          "metadata": {
            "needs_background": "light"
          }
        }
      ]
    },
    {
      "cell_type": "markdown",
      "source": [
        "In this case, the vector is in a 2-dimensional space but this stands also for more dimensions.\n",
        "\n",
        "$$ u=\n",
        "\\begin{bmatrix}\n",
        "    u_1\\\\\\\\\n",
        "    u_2\\\\\\\\\n",
        "    \\cdots \\\\\\\\\n",
        "    u_n\n",
        "\\end{bmatrix}$$\n",
        "\n",
        "\n",
        "$$ ||u||_2 = \\sqrt{u_1^2+u_2^2+\\cdots+u_n^2}$$"
      ],
      "metadata": {
        "id": "vaGwiCpbKUV0"
      }
    },
    {
      "cell_type": "markdown",
      "source": [
        "## The Sqaured Euclidean Norm \n",
        "\n",
        "$$ \\sum_i|{x}_i|^2$$\n",
        "\n",
        "The squared $L^2$ norm is convenient because it removes the square root and we end up with the simple sum of every squared values of the vector.\n",
        "\n",
        "-----\n",
        "\n",
        "The squared Euclidean norm is widely used in machine learning partly because it can be calculated with the vector operation ${x}^\\text{T}{x}$. \n",
        "\n",
        "\n"
      ],
      "metadata": {
        "id": "ku0lq0cNK_mR"
      }
    },
    {
      "cell_type": "markdown",
      "source": [
        "### Example 3:\n",
        "\n",
        "$$ {x}=\n",
        "\\begin{bmatrix}\n",
        "    2 \\\\\\\\\n",
        "    5 \\\\\\\\\n",
        "    3 \\\\\\\\\n",
        "    3\n",
        "\\end{bmatrix}$$\n",
        "\n",
        "$$ {x}^\\text{T}=\n",
        "\\begin{bmatrix}\n",
        "    2 & 5 & 3 & 3\n",
        "\\end{bmatrix}$$\n",
        "\n",
        "$$ \\begin{align*}\n",
        "{x}^\\text{T}{x}&=\n",
        "\\begin{bmatrix}\n",
        "    2 & 5 & 3 & 3\n",
        "\\end{bmatrix} \\times\n",
        "\\begin{bmatrix}\n",
        "    2 \\\\\\\\\n",
        "    5 \\\\\\\\\n",
        "    3 \\\\\\\\\n",
        "    3\n",
        "\\end{bmatrix}\\\\\\\\\n",
        "&= 2\\times 2 + 5\\times 5 + 3\\times 3 + 3\\times 3= 47\n",
        "\\end{align*}$$\n",
        "\n"
      ],
      "metadata": {
        "id": "-_lrIR4zLPvX"
      }
    },
    {
      "cell_type": "code",
      "source": [
        "x = np.array([[2], [5], [3], [3]])\n",
        "x"
      ],
      "metadata": {
        "colab": {
          "base_uri": "https://localhost:8080/"
        },
        "id": "OmwVCKesKSZl",
        "outputId": "b6250f66-19c6-4b0f-f549-beb89c2e9273"
      },
      "execution_count": 11,
      "outputs": [
        {
          "output_type": "execute_result",
          "data": {
            "text/plain": [
              "array([[2],\n",
              "       [5],\n",
              "       [3],\n",
              "       [3]])"
            ]
          },
          "metadata": {},
          "execution_count": 11
        }
      ]
    },
    {
      "cell_type": "code",
      "source": [
        "euclideanNorm = x.T.dot(x)\n",
        "euclideanNorm"
      ],
      "metadata": {
        "colab": {
          "base_uri": "https://localhost:8080/"
        },
        "id": "u_HDgFAALiH1",
        "outputId": "80dc7c8d-3e17-4e6d-d19c-5d7d843315d7"
      },
      "execution_count": 12,
      "outputs": [
        {
          "output_type": "execute_result",
          "data": {
            "text/plain": [
              "array([[47]])"
            ]
          },
          "metadata": {},
          "execution_count": 12
        }
      ]
    },
    {
      "cell_type": "code",
      "source": [
        "np.linalg.norm(x)**2"
      ],
      "metadata": {
        "colab": {
          "base_uri": "https://localhost:8080/"
        },
        "id": "0xtRpIsTLjq5",
        "outputId": "5705c68f-4f6b-4ea2-c9ee-c071be591eff"
      },
      "execution_count": 13,
      "outputs": [
        {
          "output_type": "execute_result",
          "data": {
            "text/plain": [
              "47.0"
            ]
          },
          "metadata": {},
          "execution_count": 13
        }
      ]
    },
    {
      "cell_type": "markdown",
      "source": [
        "## Derivative of the Squared $L^2$ norm\n",
        "\n",
        "A||nother advantage of the squared $L^2$|| is|| that its partial derivative is easily computed.\n",
        "\n",
        "$$ u=\n",
        "\\begin{bmatrix}\n",
        "    u_1\\\\\\\\\n",
        "    u_2\\\\\\\\\n",
        "    \\cdots \\\\\\\\\n",
        "    u_n\n",
        "\\end{bmatrix}$$\n",
        "\n",
        "\n",
        "$$ ||{u}||_2 = u_1^2+u_2^2+\\cdots+u_n^2 $$\n",
        "\n",
        "$$ \\begin{cases}\n",
        "\\dfrac{d||{u}||_2}{du_1} = 2u_1\\\\\\\\\n",
        "\\dfrac{d||{u}||_2}{du_2} = 2u_2\\\\\\\\\n",
        "\\cdots\\\\\\\\\n",
        "\\dfrac{d||{u}||_2}{du_n} = 2u_n\n",
        "\\end{cases}$$"
      ],
      "metadata": {
        "id": "Gi-PK7zLLmXo"
      }
    },
    {
      "cell_type": "markdown",
      "source": [
        "## Derivative of the $L^2$||\n",
        "\n",
        "In the case of the $L^2$\n",
        "norm, the derivative is more complicated and takes every elements of the vector into account:\n",
        "\n",
        "\n",
        "\n",
        " $$ ||{u}||_2 = \\sqrt{(u_1^2+u_2^2+\\cdots+u_n^2)} = (u_1^2+u_2^2+\\cdots+u_n^2)^{\\frac{1}{2}}$$\n",
        "\n",
        "$$ \\begin{align*}\n",
        "\\dfrac{d||{u}||_2}{du_1} &=\n",
        "\\dfrac{1}{2}(u_1^2+u_2^2+\\cdots+u_n^2)^{\\frac{1}{2}-1}\\cdot\n",
        "\\dfrac{d}{du_1}(u_1^2+u_2^2+\\cdots+u_n^2)\\\\\\\\\n",
        "&=\\dfrac{1}{2}(u_1^2+u_2^2+\\cdots+u_n^2)^{-\\frac{1}{2}}\\cdot\n",
        "\\dfrac{d}{du_1}(u_1^2+u_2^2+\\cdots+u_n^2)\\\\\\\\\n",
        "&=\\dfrac{1}{2}\\cdot\\dfrac{1}{(u_1^2+u_2^2+\\cdots+u_n^2)^{\\frac{1}{2}}}\\cdot\n",
        "\\dfrac{d}{du_1}(u_1^2+u_2^2+\\cdots+u_n^2)\\\\\\\\\n",
        "&=\\dfrac{1}{2}\\cdot\\dfrac{1}{(u_1^2+u_2^2+\\cdots+u_n^2)^{\\frac{1}{2}}}\\cdot\n",
        "2\\cdot u_1\\\\\\\\\n",
        "&=\\dfrac{u_1}{\\sqrt{(u_1^2+u_2^2+\\cdots+u_n^2)}}\\\\\\\\\n",
        "\\end{align*}$$\n",
        "\n",
        "\n",
        "$$ \\begin{cases}\n",
        "\\dfrac{d||{u}||_2}{du_1} = \\dfrac{u_1}{\\sqrt{(u_1^2+u_2^2+\\cdots+u_n^2)}}\\\\\\\\\n",
        "\\dfrac{d||{u}||_2}{du_2} = \\dfrac{u_2}{\\sqrt{(u_1^2+u_2^2+\\cdots+u_n^2)}}\\\\\\\\\n",
        "\\cdots\\\\\\\\\n",
        "\\dfrac{d||{u}||_2}{du_n} = \\dfrac{u_n}{\\sqrt{(u_1^2+u_2^2+\\cdots+u_n^2)}}\\\\\\\\\n",
        "\\end{cases}$$"
      ],
      "metadata": {
        "id": "DbVIIp3WL_Eb"
      }
    },
    {
      "cell_type": "markdown",
      "source": [
        "One problem of the squared $L^2$\n",
        " norm is that it hardly discriminates between 0 and small values because the increase of the function is slow."
      ],
      "metadata": {
        "id": "gcSm74VTMZrt"
      }
    },
    {
      "cell_type": "markdown",
      "source": [
        "## The Max norm\n",
        " \n",
        " It is the $L^{\\infty}$\n",
        " norm and corresponds to the absolute value of the greatest element of the vector.\n",
        "\n",
        " $$ ||{{x}}||_\\infty = \\max\\limits_i|x_i| $$"
      ],
      "metadata": {
        "id": "x7m6PrA4M3zY"
      }
    },
    {
      "cell_type": "markdown",
      "source": [
        "## Matrix Norms: The Frobenius Norm\n",
        "\n",
        "$$ ||{{A}}||_F=\\sqrt{\\sum_{i,j}A^2_{i,j}}$$\n",
        "\n",
        "This is equivalent to take the $L^2$\n",
        " norm of the matrix after flattening.\n",
        "\n",
        "\n",
        "-----\n",
        "\n",
        "The same Numpy function can be use:"
      ],
      "metadata": {
        "id": "CVYJaPZnNJl-"
      }
    },
    {
      "cell_type": "code",
      "source": [
        "A = np.array([[1, 2], [6, 4], [3, 2]])\n",
        "A"
      ],
      "metadata": {
        "colab": {
          "base_uri": "https://localhost:8080/"
        },
        "id": "2v6yqvLmLlCT",
        "outputId": "1c3c32ea-ea8b-4685-e66d-456905563738"
      },
      "execution_count": 14,
      "outputs": [
        {
          "output_type": "execute_result",
          "data": {
            "text/plain": [
              "array([[1, 2],\n",
              "       [6, 4],\n",
              "       [3, 2]])"
            ]
          },
          "metadata": {},
          "execution_count": 14
        }
      ]
    },
    {
      "cell_type": "code",
      "source": [
        "np.linalg.norm(A)"
      ],
      "metadata": {
        "colab": {
          "base_uri": "https://localhost:8080/"
        },
        "id": "ssOx7LnPNaCb",
        "outputId": "1cee49e6-d80d-440c-9da1-e78818ba14fd"
      },
      "execution_count": 15,
      "outputs": [
        {
          "output_type": "execute_result",
          "data": {
            "text/plain": [
              "8.366600265340756"
            ]
          },
          "metadata": {},
          "execution_count": 15
        }
      ]
    },
    {
      "cell_type": "markdown",
      "source": [
        "# Expression of the dot product with norms\n",
        "\n",
        "$${x}^\\text{T}{y} = ||{{x}}||_2\\cdot||{{y}}||_2\\cos\\theta$$\n",
        "\n",
        "\n",
        "### Example 4\n",
        "\n",
        "$$ {x}=\n",
        "\\begin{bmatrix}\n",
        "    0 \\\\\\\\\n",
        "    2\n",
        "\\end{bmatrix}$$ and \n",
        "$$ {y}=\n",
        "\\begin{bmatrix}\n",
        "    2 \\\\\\\\\n",
        "    2\n",
        "\\end{bmatrix}$$"
      ],
      "metadata": {
        "id": "7ohJnb12NeOw"
      }
    },
    {
      "cell_type": "code",
      "source": [
        "x = [0,0,0,2]\n",
        "y = [0,0,2,2]\n",
        "\n",
        "plt.xlim(-2, 4)\n",
        "plt.ylim(-2, 5)\n",
        "plt.axvline(x=0, color='grey', zorder=0)\n",
        "plt.axhline(y=0, color='grey', zorder=0)\n",
        "\n",
        "plt.quiver([x[0], y[0]],\n",
        "           [x[1], y[1]],\n",
        "           [x[2], y[2]],\n",
        "           [x[3], y[3]],\n",
        "           angles='xy', scale_units='xy', scale=1)\n",
        "\n",
        "plt.text(-0.5, 1, r'$\\vec{x}$', size=18)\n",
        "plt.text(1.5, 0.5, r'$\\vec{y}$', size=18)\n",
        "\n",
        "plt.show()\n",
        "plt.close()"
      ],
      "metadata": {
        "colab": {
          "base_uri": "https://localhost:8080/",
          "height": 266
        },
        "id": "eSIYv8MkNb18",
        "outputId": "4d5a03e7-7898-4361-de81-586f574e667a"
      },
      "execution_count": 16,
      "outputs": [
        {
          "output_type": "display_data",
          "data": {
            "text/plain": [
              "<Figure size 288x288 with 1 Axes>"
            ],
            "image/png": "[encoded data removed]"
          },
          "metadata": {
            "needs_background": "light"
          }
        }
      ]
    },
    {
      "cell_type": "markdown",
      "source": [
        "We took this example for its simplicity. As we can see, the angle \n",
        "$\\theta$ is equal to 45°\n",
        "\n",
        "$$ {x^\\text{T}y}=\n",
        "\\begin{bmatrix}\n",
        "    0 & 2\n",
        "\\end{bmatrix} \\cdot\n",
        "\\begin{bmatrix}\n",
        "    2 \\\\\\\\\n",
        "    2\n",
        "\\end{bmatrix} =\n",
        "0\\times2+2\\times2 = 4$$\n",
        "\n",
        "and\n",
        "\n",
        "$$ ||{{x}}||_2=\\sqrt{0^2+2^2}=\\sqrt{4}=2$$\n",
        "\n",
        "$$ ||{{y}}||_2=\\sqrt{2^2+2^2}=\\sqrt{8}$$\n",
        "\n",
        "$$ 2\\times\\sqrt{8}\\times cos(45)=4$$ \n",
        "\n",
        "------\n",
        "\n",
        "Here are the operations using `numpy`"
      ],
      "metadata": {
        "id": "X3TzA92UN2xp"
      }
    },
    {
      "cell_type": "code",
      "source": [
        "# Note: np.cos take the angle in radian\n",
        "np.cos(np.deg2rad(45))*2*np.sqrt(8)"
      ],
      "metadata": {
        "colab": {
          "base_uri": "https://localhost:8080/"
        },
        "id": "IFuLIoduNz_2",
        "outputId": "3a99bf19-86f0-440f-8377-689356e32ae2"
      },
      "execution_count": 17,
      "outputs": [
        {
          "output_type": "execute_result",
          "data": {
            "text/plain": [
              "4.000000000000001"
            ]
          },
          "metadata": {},
          "execution_count": 17
        }
      ]
    },
    {
      "cell_type": "code",
      "source": [],
      "metadata": {
        "id": "u7Pbbqf_OpTz"
      },
      "execution_count": null,
      "outputs": []
    }
  ]
}